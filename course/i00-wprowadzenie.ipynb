{
 "cells": [
  {
   "cell_type": "markdown",
   "metadata": {},
   "source": [
    "# Case Studies - Wprowadzenie"
   ]
  },
  {
   "cell_type": "markdown",
   "metadata": {},
   "source": [
    "1. Case Studies:\n",
    "\n",
    "    - pobieranie wyników sportowych ze strony\n",
    "    - analiza i wizualizacja trendów COVID-19\n",
    "    - analiza i wizualizacja danych z sensorów\n",
    "    - analiza, wizualizacja i raportowanie danych finansowych\n",
    "    \n",
    "1. Pobieranie danych z różnych źródeł (HTML, JSON, SQL, CSV)\n",
    "1. Czyszczenie danych\n",
    "1. Analiza danych\n",
    "1. Wizualizacja"
   ]
  },
  {
   "cell_type": "markdown",
   "metadata": {},
   "source": [
    "<img src=\"img/pandas-workflow.png\" width=\"800\">"
   ]
  }
 ],
 "metadata": {
  "kernelspec": {
   "display_name": "Python 3",
   "language": "python",
   "name": "python3"
  },
  "language_info": {
   "codemirror_mode": {
    "name": "ipython",
    "version": 3
   },
   "file_extension": ".py",
   "mimetype": "text/x-python",
   "name": "python",
   "nbconvert_exporter": "python",
   "pygments_lexer": "ipython3",
   "version": "3.8.3"
  }
 },
 "nbformat": 4,
 "nbformat_minor": 4
}
