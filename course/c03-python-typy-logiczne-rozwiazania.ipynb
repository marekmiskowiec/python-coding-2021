{
 "cells": [
  {
   "cell_type": "markdown",
   "metadata": {},
   "source": [
    "# Python: Typy logiczne - zadania"
   ]
  },
  {
   "cell_type": "markdown",
   "metadata": {},
   "source": [
    "## Type Bool True or False\n",
    "\n",
    "1. Użyj danych z sekcji \"Input\" (patrz poniżej)\n",
    "1. Które zmienne są ``True``?\n",
    "1. Które zmienne są ``False``?\n",
    "\n",
    "Input:\n",
    "```\n",
    "a = bool(False)\n",
    "b = bool(True)\n",
    "\n",
    "c = bool(0)\n",
    "d = bool(0.0)\n",
    "e = bool(-0)\n",
    "f = bool(-0.0)\n",
    "\n",
    "g = bool('a')\n",
    "h = bool('.')\n",
    "i = bool('0')\n",
    "j = bool('0.0')\n",
    "k = bool('')\n",
    "l = bool(' ')\n",
    "\n",
    "m = bool(int('0'))\n",
    "n = bool(float(str(-0)))\n",
    "\n",
    "o = bool(-0.0+0.0j)\n",
    "p = bool('-0.0+0.0j')\n",
    "```"
   ]
  },
  {
   "cell_type": "code",
   "execution_count": 1,
   "metadata": {},
   "outputs": [],
   "source": [
    "a = bool(False)\n",
    "b = bool(True)\n",
    "\n",
    "c = bool(0)\n",
    "d = bool(0.0)\n",
    "e = bool(-0)\n",
    "f = bool(-0.0)\n",
    "\n",
    "g = bool('a')\n",
    "h = bool('.')\n",
    "i = bool('0')\n",
    "j = bool('0.0')\n",
    "k = bool('')\n",
    "l = bool(' ')\n",
    "\n",
    "m = bool(int('0'))\n",
    "n = bool(float(str(-0)))\n",
    "\n",
    "o = bool(-0.0+0.0j)\n",
    "p = bool('-0.0+0.0j')"
   ]
  },
  {
   "cell_type": "code",
   "execution_count": 13,
   "metadata": {},
   "outputs": [
    {
     "name": "stdout",
     "output_type": "stream",
     "text": [
      "True\n"
     ]
    }
   ],
   "source": [
    "print(p)"
   ]
  },
  {
   "cell_type": "markdown",
   "metadata": {},
   "source": [
    "### Type Bool Simple\n",
    "\n",
    "1. Użyj danych z sekcji \"Input\" (patrz poniżej)\n",
    "1. Co należy podstawić w wyrażeniach aby otrzymać wartość oczekiwaną?\n",
    "1. Wstawiaj tylko ``True`` lub ``False``\n",
    "1. Porównaj wyniki z sekcją \"Output\" (patrz poniżej)\n",
    "\n",
    "Input:\n",
    "```\n",
    "a = bool(...) == True                   # True\n",
    "b = bool(...) == False                  # True\n",
    "c = ... == True                         # True\n",
    "d = ... != False                        # True\n",
    "e = ... or ...                          # True\n",
    "f = ... and ...                         # False\n",
    "g = bool(bool(...) == False) or False   # True\n",
    "h = bool(...) is not bool(...)          # False\n",
    "```\n",
    "\n",
    "Output:\n",
    "```\n",
    "print(bool(a))                          # True\n",
    "print(bool(b))                          # True\n",
    "print(bool(c))                          # True\n",
    "print(bool(d))                          # True\n",
    "print(bool(e))                          # True\n",
    "print(bool(f))                          # False\n",
    "print(bool(g))                          # True\n",
    "print(bool(h))                          # False\n",
    "```"
   ]
  },
  {
   "cell_type": "code",
   "execution_count": 20,
   "metadata": {},
   "outputs": [
    {
     "name": "stdout",
     "output_type": "stream",
     "text": [
      "True\n",
      "True\n",
      "True\n",
      "True\n",
      "True\n",
      "False\n",
      "True\n",
      "False\n"
     ]
    }
   ],
   "source": [
    "a = bool(True) == True                   # True\n",
    "b = bool(False) == False                  # True\n",
    "c = True == True                         # True\n",
    "d = True != False                        # True\n",
    "e = True or True                          # True\n",
    "f = False and True                        # False\n",
    "g = bool(bool(False) == False) or False   # True\n",
    "h = bool(False) is not bool(False)          # False\n",
    "\n",
    "\n",
    "print(bool(a))                          # True\n",
    "print(bool(b))                          # True\n",
    "print(bool(c))                          # True\n",
    "print(bool(d))                          # True\n",
    "print(bool(e))                          # True\n",
    "print(bool(f))                          # False\n",
    "print(bool(g))                          # True\n",
    "print(bool(h))                          # False"
   ]
  },
  {
   "cell_type": "code",
   "execution_count": 15,
   "metadata": {},
   "outputs": [
    {
     "data": {
      "text/plain": [
       "True"
      ]
     },
     "execution_count": 15,
     "metadata": {},
     "output_type": "execute_result"
    }
   ],
   "source": [
    "bool(...)"
   ]
  },
  {
   "cell_type": "markdown",
   "metadata": {},
   "source": [
    "## Type None\n",
    "\n",
    "1. Użyj danych z sekcji \"Input\" (patrz poniżej)\n",
    "1. Co należy podstawić w wyrażeniach aby otrzymać wartość oczekiwaną?\n",
    "1. Porównaj wyniki z sekcją \"Output\" (patrz poniżej)\n",
    "\n",
    "Input:\n",
    "```\n",
    "a = ... is None                                                                       # True\n",
    "b = ... is not None                                                                   # False\n",
    "c = bool(bool(...) is not bool(...)) == False                                         # True\n",
    "d = (bool(bool(...) is not bool(...)) == False and bool(...))                         # False\n",
    "e = (bool(bool(...) is not bool(...)) == False and bool(...)) and (... is not None)   # False\n",
    "```\n",
    "\n",
    "Output:\n",
    "```\n",
    "print(a)    # True\n",
    "print(b)    # False\n",
    "print(c)    # True\n",
    "print(d)    # False\n",
    "print(e)    # False\n",
    "```"
   ]
  },
  {
   "cell_type": "code",
   "execution_count": 22,
   "metadata": {},
   "outputs": [
    {
     "name": "stdout",
     "output_type": "stream",
     "text": [
      "True\n",
      "False\n",
      "True\n",
      "False\n",
      "False\n"
     ]
    }
   ],
   "source": [
    "a = None is None                                                                       # True\n",
    "b = None is not None                                                                   # False\n",
    "c = bool(bool(None) is not bool(None)) == False                                         # True\n",
    "d = (bool(bool(None) is not bool(None)) == False and bool(None))                         # False\n",
    "e = (bool(bool(None) is not bool(None)) == False and bool(None)) and (None is not None)   # False\n",
    "\n",
    "print(a)    # True\n",
    "print(b)    # False\n",
    "print(c)    # True\n",
    "print(d)    # False\n",
    "print(e)    # False"
   ]
  },
  {
   "cell_type": "code",
   "execution_count": null,
   "metadata": {},
   "outputs": [],
   "source": []
  }
 ],
 "metadata": {
  "kernelspec": {
   "display_name": "Python 3",
   "language": "python",
   "name": "python3"
  },
  "language_info": {
   "codemirror_mode": {
    "name": "ipython",
    "version": 3
   },
   "file_extension": ".py",
   "mimetype": "text/x-python",
   "name": "python",
   "nbconvert_exporter": "python",
   "pygments_lexer": "ipython3",
   "version": "3.8.3"
  }
 },
 "nbformat": 4,
 "nbformat_minor": 4
}
