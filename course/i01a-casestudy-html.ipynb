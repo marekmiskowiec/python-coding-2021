{
 "cells": [
  {
   "cell_type": "markdown",
   "metadata": {},
   "source": [
    "# Case Studies - Wyniki Sportowe\n",
    "\n",
    "\n",
    "Dane:\n",
    "- https://www.livescores.com\n",
    "- https://www.espn.com/nba/standings/_/group/league\n",
    "- https://eurosport.tvn24.pl/pilka-nozna,105/ekstraklasa,106\n",
    "- https://www.flashscore.pl/koszykowka/usa/nba/tabela/\n",
    "- https://www.wynikinazywo.pl/pko-bp-ekstraklasa/\n",
    "- https://www.sts.pl/pl/wyniki/"
   ]
  }
 ],
 "metadata": {
  "kernelspec": {
   "display_name": "Python 3",
   "language": "python",
   "name": "python3"
  },
  "language_info": {
   "codemirror_mode": {
    "name": "ipython",
    "version": 3
   },
   "file_extension": ".py",
   "mimetype": "text/x-python",
   "name": "python",
   "nbconvert_exporter": "python",
   "pygments_lexer": "ipython3",
   "version": "3.8.3"
  }
 },
 "nbformat": 4,
 "nbformat_minor": 4
}
