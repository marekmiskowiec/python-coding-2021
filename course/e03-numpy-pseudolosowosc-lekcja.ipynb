{
 "cells": [
  {
   "cell_type": "markdown",
   "metadata": {},
   "source": [
    "# NumPy - Pseudolosowość - lekcja"
   ]
  },
  {
   "cell_type": "code",
   "execution_count": 40,
   "metadata": {},
   "outputs": [],
   "source": [
    "import numpy as np"
   ]
  },
  {
   "cell_type": "markdown",
   "metadata": {},
   "source": [
    "## Liczby pseudolosowe"
   ]
  },
  {
   "cell_type": "code",
   "execution_count": 31,
   "metadata": {},
   "outputs": [
    {
     "data": {
      "text/plain": [
       "5"
      ]
     },
     "execution_count": 31,
     "metadata": {},
     "output_type": "execute_result"
    }
   ],
   "source": [
    "from datetime import datetime\n",
    "\n",
    "cpu_temperature = 54.7\n",
    "ram_voltage = 1.37\n",
    "fan_speed = 1500\n",
    "crc_network = ...\n",
    "pointer_x = ...\n",
    "pointer_y = ...\n",
    "\n",
    "\n",
    "seed = int(datetime.now().timestamp() * cpu_temperature / ram_voltage + fan_speed)\n",
    "\n",
    "\n",
    "seed % 10"
   ]
  },
  {
   "cell_type": "markdown",
   "metadata": {},
   "source": [
    "## Ziarno losowości"
   ]
  },
  {
   "cell_type": "code",
   "execution_count": 38,
   "metadata": {},
   "outputs": [
    {
     "data": {
      "text/plain": [
       "3"
      ]
     },
     "execution_count": 38,
     "metadata": {},
     "output_type": "execute_result"
    }
   ],
   "source": [
    "seed = 3\n",
    "\n",
    "seed % 10"
   ]
  },
  {
   "cell_type": "code",
   "execution_count": 63,
   "metadata": {},
   "outputs": [],
   "source": [
    "np.random.seed(0)"
   ]
  },
  {
   "cell_type": "markdown",
   "metadata": {},
   "source": [
    "## Generowanie\n",
    "\n",
    "- pseudolosowe `int`\n",
    "- pseudolosowe `float`"
   ]
  },
  {
   "cell_type": "code",
   "execution_count": 72,
   "metadata": {},
   "outputs": [
    {
     "data": {
      "text/plain": [
       "array([[5, 0, 3],\n",
       "       [3, 7, 9]])"
      ]
     },
     "execution_count": 72,
     "metadata": {},
     "output_type": "execute_result"
    }
   ],
   "source": [
    "np.random.seed(0)\n",
    "np.random.randint(0, 10, size=(2,3))"
   ]
  },
  {
   "cell_type": "code",
   "execution_count": 76,
   "metadata": {},
   "outputs": [
    {
     "data": {
      "text/plain": [
       "array([[0.5488135 , 0.71518937, 0.60276338],\n",
       "       [0.54488318, 0.4236548 , 0.64589411]])"
      ]
     },
     "execution_count": 76,
     "metadata": {},
     "output_type": "execute_result"
    }
   ],
   "source": [
    "np.random.seed(0)\n",
    "np.random.random(size=(2,3))"
   ]
  },
  {
   "cell_type": "markdown",
   "metadata": {},
   "source": [
    "## Losowanie\n",
    "\n",
    "- `np.random.choice()`, `replace=True`, `replace=False`\n",
    "- `np.random.sample()`\n",
    "- `np.random.shuffle()`"
   ]
  },
  {
   "cell_type": "code",
   "execution_count": 85,
   "metadata": {},
   "outputs": [
    {
     "data": {
      "text/plain": [
       "array([[0.4236548 , 0.64589411, 0.71518937],\n",
       "       [0.5488135 , 0.54488318, 0.60276338]])"
      ]
     },
     "execution_count": 85,
     "metadata": {},
     "output_type": "execute_result"
    }
   ],
   "source": [
    "data = np.array([[0.5488135 , 0.71518937, 0.60276338],\n",
    "                 [0.54488318, 0.4236548 , 0.64589411]])\n",
    "\n",
    "\n",
    "np.random.choice(data.ravel(), size=(2,3), replace=False)"
   ]
  },
  {
   "cell_type": "code",
   "execution_count": 96,
   "metadata": {},
   "outputs": [
    {
     "data": {
      "text/plain": [
       "array([[0.5488135 , 0.71518937, 0.60276338],\n",
       "       [0.54488318, 0.4236548 , 0.64589411]])"
      ]
     },
     "execution_count": 96,
     "metadata": {},
     "output_type": "execute_result"
    }
   ],
   "source": [
    "np.random.seed(0)\n",
    "np.random.sample(size=(2,3))"
   ]
  },
  {
   "cell_type": "code",
   "execution_count": 106,
   "metadata": {},
   "outputs": [
    {
     "data": {
      "text/plain": [
       "array([[1, 2, 3],\n",
       "       [4, 5, 6]])"
      ]
     },
     "execution_count": 106,
     "metadata": {},
     "output_type": "execute_result"
    }
   ],
   "source": [
    "a = np.array([[1,2,3], [4,5,6]])\n",
    "\n",
    "np.random.shuffle?\n",
    "\n",
    "a"
   ]
  },
  {
   "cell_type": "markdown",
   "metadata": {},
   "source": [
    "## Rozkłady\n",
    "\n",
    "- Rozkład jednostajny ciągły\n",
    "- Rozkład normalny (Gaussa)\n",
    "- Rozkład Poissona\n",
    "\n",
    "![Rozkład jednostajny ciągły](img/distribution-uniform.png)\n",
    "![Rozkład normalny (Gaussa)](img/distribution-normal.png)\n",
    "![Rozkład Poissona](img/distribution-poisson.png)\n",
    "\n",
    "Źródła: wikipedia.org"
   ]
  },
  {
   "cell_type": "code",
   "execution_count": 115,
   "metadata": {},
   "outputs": [
    {
     "data": {
      "text/plain": [
       "array([[ 1.31152655, -0.23564945],\n",
       "       [-1.48017978, -0.02148475],\n",
       "       [ 1.05279068, -0.11740222],\n",
       "       [ 1.82850826, -0.01667713],\n",
       "       [ 1.87011107, -0.38030715],\n",
       "       [ 0.42869794,  0.36189589],\n",
       "       [ 0.46756761, -1.5180287 ],\n",
       "       [-1.89304483, -0.78508653],\n",
       "       [-1.60529407,  1.43184023],\n",
       "       [-1.94219012,  1.13995339],\n",
       "       [-0.61716593, -1.77555859],\n",
       "       [-1.11820547, -1.60638701],\n",
       "       [-0.81467608,  0.3212809 ],\n",
       "       [-0.12393044,  0.02212126],\n",
       "       [-0.32128651,  0.69261805],\n",
       "       [-0.35352352,  0.81228996],\n",
       "       [-1.14178779, -0.28754879],\n",
       "       [ 1.31554171,  0.68578051],\n",
       "       [ 0.52459879, -0.7933874 ],\n",
       "       [-0.23788075,  0.56949752],\n",
       "       [-1.51060714, -1.5650543 ],\n",
       "       [-3.05123442,  1.55966482],\n",
       "       [-2.63100846,  1.14366776],\n",
       "       [-0.18805628,  1.24678097],\n",
       "       [-0.25388358, -0.87017597],\n",
       "       [ 0.01965374, -1.11437255],\n",
       "       [ 0.60784169,  0.45723671],\n",
       "       [ 0.87553919,  0.3464808 ],\n",
       "       [-0.45487435,  0.19809488],\n",
       "       [ 0.39140807, -3.17786023],\n",
       "       [-0.95657514, -0.03127493],\n",
       "       [ 1.03272369, -1.21561912],\n",
       "       [-0.31867814,  1.49512875],\n",
       "       [-0.13025112, -1.2028948 ],\n",
       "       [ 0.19956511,  0.39316617],\n",
       "       [-0.93691559, -1.97934857],\n",
       "       [ 0.44538374, -0.19533331],\n",
       "       [-0.20271649,  0.2193885 ],\n",
       "       [-1.03015981, -0.92974401],\n",
       "       [-2.55856575,  1.64949685],\n",
       "       [ 0.61173844, -1.05194397],\n",
       "       [-0.75494625,  0.62318767],\n",
       "       [ 0.00470758, -0.89989113],\n",
       "       [ 0.12924181,  0.97969276],\n",
       "       [ 0.32837496,  0.48707415],\n",
       "       [ 0.14484156, -0.0856099 ],\n",
       "       [ 0.7105399 ,  0.93095988],\n",
       "       [ 0.87507402, -0.71156531],\n",
       "       [-0.36120904, -2.10924743],\n",
       "       [-1.09376775,  1.2045055 ]])"
      ]
     },
     "execution_count": 115,
     "metadata": {},
     "output_type": "execute_result"
    }
   ],
   "source": [
    "np.random.randn(100).reshape(50, 2)"
   ]
  },
  {
   "cell_type": "code",
   "execution_count": 121,
   "metadata": {},
   "outputs": [
    {
     "data": {
      "text/plain": [
       "array([[-1.78588943, -2.08537671, -3.17738864],\n",
       "       [-2.23390323, -2.06470086, -1.54997423]])"
      ]
     },
     "execution_count": 121,
     "metadata": {},
     "output_type": "execute_result"
    }
   ],
   "source": [
    "np.random.normal(-2, 0.5, size=(2,3))"
   ]
  },
  {
   "cell_type": "code",
   "execution_count": 126,
   "metadata": {},
   "outputs": [
    {
     "data": {
      "text/plain": [
       "array([[7, 7, 8],\n",
       "       [6, 4, 3]])"
      ]
     },
     "execution_count": 126,
     "metadata": {},
     "output_type": "execute_result"
    }
   ],
   "source": [
    "np.random.poisson(6, size=(2,3))"
   ]
  }
 ],
 "metadata": {
  "kernelspec": {
   "display_name": "Python 3",
   "language": "python",
   "name": "python3"
  },
  "language_info": {
   "codemirror_mode": {
    "name": "ipython",
    "version": 3
   },
   "file_extension": ".py",
   "mimetype": "text/x-python",
   "name": "python",
   "nbconvert_exporter": "python",
   "pygments_lexer": "ipython3",
   "version": "3.8.3"
  }
 },
 "nbformat": 4,
 "nbformat_minor": 4
}
