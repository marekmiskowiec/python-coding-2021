{
 "cells": [
  {
   "cell_type": "markdown",
   "metadata": {},
   "source": [
    "# NumPy - Matematyka - zadania"
   ]
  },
  {
   "cell_type": "code",
   "execution_count": 1,
   "metadata": {},
   "outputs": [],
   "source": [
    "import numpy as np"
   ]
  },
  {
   "cell_type": "markdown",
   "metadata": {},
   "source": [
    "## Numpy Broadcasting Arithmetic\n",
    "\n",
    "1. Użyj danych z sekcji \"Input\" (patrz poniżej)\n",
    "1. Dla danych: ``a: ndarray``, ``b: ndarray``, ``c: ndarray``\n",
    "1. Oblicz pierwiastek kwadratowy każdego z elementu w ``a`` i ``b``\n",
    "1. Oblicz drugą potęgę (kwadrat) każdego z elementu w ``c``\n",
    "1. Dodaj elementy z ``a`` do ``b``\n",
    "1. Przemnóż wynik przez ``c``\n",
    "1. Porównaj wyniki z sekcją \"Output\" (patrz poniżej)\n",
    "\n",
    "Output:\n",
    "```python\n",
    "array([[ 1.41421356,  2.73205081],\n",
    "       [45.254834  ,  0.        ]])\n",
    "```"
   ]
  },
  {
   "cell_type": "code",
   "execution_count": null,
   "metadata": {},
   "outputs": [],
   "source": [
    "a = np.array([[0, 1], [2, 3]], float)\n",
    "b = np.array([2, 3], float)\n",
    "c = np.array([[1, 1], [4, 0]], float)"
   ]
  },
  {
   "cell_type": "markdown",
   "metadata": {},
   "source": [
    "## Numpy Broadcasting Type Cast\n",
    "1. Dla danych: ``a: ndarray``, ``b: ndarray`` (patrz sekcja input)\n",
    "1. Dodaj ``a`` i ``b``\n",
    "1. Dodaj ``b`` i ``a``\n",
    "1. Co się stało?"
   ]
  },
  {
   "cell_type": "code",
   "execution_count": null,
   "metadata": {},
   "outputs": [],
   "source": [
    "a = np.array([[1, 0], [0, 1]])\n",
    "b = [[4, 1], [2, 2]]"
   ]
  },
  {
   "cell_type": "markdown",
   "metadata": {},
   "source": [
    "## Numpy Broadcasting Matmul\n",
    "\n",
    "1. Dla danych: ``a: ndarray``, ``b: ndarray`` (patrz sekcja input)\n",
    "1. Przemnóż ``a`` i ``b`` używając mnożenia skalarnego\n",
    "1. Przemnóż ``a`` i ``b`` używając mnożenia macierzowego\n",
    "1. Przemnóż ``b`` i ``a`` używając mnożenia skalarnego\n",
    "1. Przemnóż ``b`` i ``a`` używając mnożenia macierzowego\n",
    "1. Omów wyniki"
   ]
  },
  {
   "cell_type": "code",
   "execution_count": null,
   "metadata": {},
   "outputs": [],
   "source": [
    "a = np.array([[1,0,1,0],\n",
    "              [0,1,1,0],\n",
    "              [3,2,1,0],\n",
    "              [4,1,2,0]])\n",
    "\n",
    "b = np.array([[4,1],\n",
    "              [2,2],\n",
    "              [5,1],\n",
    "              [2,3]])"
   ]
  }
 ],
 "metadata": {
  "kernelspec": {
   "display_name": "Python 3",
   "language": "python",
   "name": "python3"
  },
  "language_info": {
   "codemirror_mode": {
    "name": "ipython",
    "version": 3
   },
   "file_extension": ".py",
   "mimetype": "text/x-python",
   "name": "python",
   "nbconvert_exporter": "python",
   "pygments_lexer": "ipython3",
   "version": "3.8.3"
  }
 },
 "nbformat": 4,
 "nbformat_minor": 4
}
