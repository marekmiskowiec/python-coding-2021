{
 "cells": [
  {
   "cell_type": "markdown",
   "metadata": {},
   "source": [
    "# Python Biblioteka Standardowa - daty i czas - rozwiązania"
   ]
  },
  {
   "cell_type": "code",
   "execution_count": 1,
   "metadata": {},
   "outputs": [],
   "source": [
    "from datetime import date, time, datetime, timezone, timedelta"
   ]
  },
  {
   "cell_type": "markdown",
   "metadata": {},
   "source": [
    "## Datetime Create Custom\n",
    "\n",
    "1. Stwórz obiekt ``date`` z datą Twojego urodzenia\n",
    "1. Stwórz obiekt ``time`` z czasem Twojego urodzenia\n",
    "1. Stwórz obiekt ``datetime`` z datą i czasem Twojego urodzenia"
   ]
  },
  {
   "cell_type": "code",
   "execution_count": 3,
   "metadata": {},
   "outputs": [
    {
     "data": {
      "text/plain": [
       "datetime.datetime(1969, 7, 21, 2, 57)"
      ]
     },
     "execution_count": 3,
     "metadata": {},
     "output_type": "execute_result"
    }
   ],
   "source": [
    "d = date(1969, 7, 21)\n",
    "t = time(2, 57, 0)\n",
    "dt = datetime.combine(d, t)\n",
    "\n",
    "dt"
   ]
  },
  {
   "cell_type": "markdown",
   "metadata": {},
   "source": [
    "## Datetime Create Current\n",
    "\n",
    "1. Stwórz obiekt ``date`` z obecną datą\n",
    "1. Stwórz obiekt ``datetime`` z obecną datą i czasem\n",
    "1. Stwórz obiekt ``time`` z obecnym czasem\n",
    "1. Data i czas ma być pobierana z systemu, nie zapisana w kodzie"
   ]
  },
  {
   "cell_type": "code",
   "execution_count": 4,
   "metadata": {},
   "outputs": [],
   "source": [
    "dt = datetime.now()\n",
    "d = dt.date()\n",
    "t = dt.time()"
   ]
  },
  {
   "cell_type": "markdown",
   "metadata": {},
   "source": [
    "## Datetime Parse ISO\n",
    "\n",
    "1. Użyj danych z sekcji \"Input\" (patrz poniżej)\n",
    "1. Dana jest data w formacie ISO\n",
    "1. Przedstaw datę jako obiekt ``datetime``"
   ]
  },
  {
   "cell_type": "code",
   "execution_count": 13,
   "metadata": {},
   "outputs": [
    {
     "name": "stdout",
     "output_type": "stream",
     "text": [
      "1969-07-21 02:56:15.123000\n"
     ]
    }
   ],
   "source": [
    "DATA = '1969-07-21T02:56:15.123Z'\n",
    "\n",
    "dt = datetime.strptime(DATA, '%Y-%m-%dT%H:%M:%S.%fZ')\n",
    "print(dt)"
   ]
  },
  {
   "cell_type": "markdown",
   "metadata": {},
   "source": [
    "## Datetime Parse Local\n",
    "\n",
    "1. Użyj danych z sekcji \"Input\" (patrz poniżej)\n",
    "1. Podaną datę przekonwertuj do obiektu ``datetime``\n",
    "1. Używając parametrów formatujących wyświetl datę i czas w formacie ISO\n",
    "1. Porównaj wyniki z sekcją \"Output\" (patrz poniżej)\n",
    "\n",
    "Output:\n",
    "```python\n",
    "data: datetime\n",
    "# datetime.datetime(1961, 4, 12, 6, 7)\n",
    "```\n",
    "\n",
    "Hint:\n",
    "* Dodaj ``local time`` do ciągu formatowania"
   ]
  },
  {
   "cell_type": "code",
   "execution_count": 22,
   "metadata": {},
   "outputs": [
    {
     "data": {
      "text/plain": [
       "'04/12/61'"
      ]
     },
     "execution_count": 22,
     "metadata": {},
     "output_type": "execute_result"
    }
   ],
   "source": [
    "DATA = 'April 12, 1961 6:07 local time'\n",
    "\n",
    "data = datetime.strptime(DATA, '%B %d, %Y %I:%M local time')\n",
    "\n",
    "data"
   ]
  },
  {
   "cell_type": "markdown",
   "metadata": {},
   "source": [
    "## Datetime Parse US\n",
    "\n",
    "1. Użyj danych z sekcji \"Input\" (patrz poniżej)\n",
    "1. Używając podaną poniżej datę i czas (skopiuj z cudzysłowami)\n",
    "1. Parsując stwórz obiekt ``datetime``\n",
    "1. Używając parametrów formatowania wyświetl datę w formacie amerykańskim krótkim\n",
    "1. Upewnij się, że godzina jest bez wiodącego zera\n",
    "1. Porównaj wyniki z sekcją \"Output\" (patrz poniżej)\n",
    "\n",
    "Output:\n",
    "```python\n",
    "data: datetime\n",
    "# datetime.datetime(1969, 7, 21, 2, 56)\n",
    "\n",
    "print(result)\n",
    "# 7/21/69 2:56 AM\n",
    "```\n",
    "\n",
    "Hint:\n",
    "* Dodaj znak ``\"`` do ciągu formatowania w ``.strptime()``\n",
    "* Użyj ``%-I`` lub ``%_I`` na \\*nix (macOS, BSD, Linux) do usunięcia wiodącego zera\n",
    "* Użyj ``%#I`` na Windows do usunięcia wiodącego zera"
   ]
  },
  {
   "cell_type": "code",
   "execution_count": 25,
   "metadata": {},
   "outputs": [
    {
     "data": {
      "text/plain": [
       "datetime.datetime(1969, 7, 21, 2, 56, 15)"
      ]
     },
     "execution_count": 25,
     "metadata": {},
     "output_type": "execute_result"
    }
   ],
   "source": [
    "DATA = '\"July 21st, 1969 2:56:15 AM UTC\"'\n",
    "\n",
    "data = datetime.strptime(DATA, '\"%B %dst, %Y %I:%M:%S %p UTC\"')\n",
    "data"
   ]
  },
  {
   "cell_type": "markdown",
   "metadata": {},
   "source": [
    "## Datetime Parse Logs\n",
    "\n",
    "1. Użyj danych z sekcji \"Input\" (patrz poniżej)\n",
    "1. Zapisz dane wejściowe do pliku ``apollo11-timeline.log``\n",
    "1. Wyciągnij obiekt ``datetime``, poziom logowania oraz wiadomość z każdej linii\n",
    "1. Zbierz dane do ``result: List[dict]``\n",
    "1. Wyświetl ``result``\n",
    "1. Porównaj wyniki z sekcją \"Output\" (patrz poniżej)\n",
    "\n",
    "Źródło:\n",
    "* Apollo 11 timeline https://history.nasa.gov/SP-4029/Apollo_11i_Timeline.htm\n",
    "\n",
    "Output:\n",
    "```python\n",
    "result: List[dict] = [\n",
    "\n",
    "     {'date': datetime.datetime(1969, 7, 14, 21, 0),\n",
    "      'level': 'INFO',\n",
    "      'message': 'Terminal countdown started'},\n",
    "\n",
    "     {'date': datetime.datetime(1969, 7, 16, 13, 31, 53),\n",
    "      'level': 'WARNING',\n",
    "      'message': 'S-IC engine ignition (#5)'},\n",
    "\n",
    "     {'date': datetime.datetime(1969, 7, 16, 13, 33, 23),\n",
    "      'level': 'DEBUG',\n",
    "      'message': 'Maximum dynamic pressure (735.17 lb/ft^2)'},\n",
    "\n",
    "...]\n",
    "```"
   ]
  },
  {
   "cell_type": "code",
   "execution_count": 26,
   "metadata": {},
   "outputs": [],
   "source": [
    "DATA = \"\"\"\n",
    "    1969-07-14, 21:00:00, INFO, Terminal countdown started\n",
    "    1969-07-16, 13:31:53, WARNING, S-IC engine ignition (#5)\n",
    "    1969-07-16, 13:33:23, DEBUG, Maximum dynamic pressure (735.17 lb/ft^2)\n",
    "    1969-07-16, 13:34:44, WARNING, S-II ignition\n",
    "    1969-07-16, 13:35:17, DEBUG, Launch escape tower jettisoned\n",
    "    1969-07-16, 13:39:40, DEBUG, S-II center engine cutoff\n",
    "    1969-07-16, 16:22:13, INFO, Translunar injection\n",
    "    1969-07-16, 16:56:03, INFO, CSM docked with LM/S-IVB\n",
    "    1969-07-16, 17:21:50, INFO, Lunar orbit insertion ignition\n",
    "    1969-07-16, 21:43:36, INFO, Lunar orbit circularization ignition\n",
    "    1969-07-20, 17:44:00, INFO, CSM/LM undocked\n",
    "    1969-07-20, 20:05:05, WARNING, LM powered descent engine ignition\n",
    "    1969-07-20, 20:10:22, ERROR, LM 1202 alarm\n",
    "    1969-07-20, 20:14:18, ERROR, LM 1201 alarm\n",
    "    1969-07-20, 20:17:39, WARNING, LM lunar landing\n",
    "    1969-07-21, 02:39:33, DEBUG, EVA started (hatch open)\n",
    "    1969-07-21, 02:56:15, WARNING, 1st step taken lunar surface (CDR)\n",
    "    1969-07-21, 02:56:15, WARNING, That's one small step for [a] man... one giant leap for mankind\n",
    "    1969-07-21, 03:05:58, DEBUG, Contingency sample collection started (CDR)\n",
    "    1969-07-21, 03:15:16, INFO, LMP on lunar surface\n",
    "    1969-07-21, 05:11:13, DEBUG, EVA ended (hatch closed)\n",
    "    1969-07-21, 17:54:00, WARNING, LM lunar liftoff ignition (LM APS)\n",
    "    1969-07-21, 21:35:00, INFO, CSM/LM docked\n",
    "    1969-07-22, 04:55:42, WARNING, Transearth injection ignition (SPS)\n",
    "    1969-07-24, 16:21:12, INFO, CM/SM separation\n",
    "    1969-07-24, 16:35:05, WARNING, Entry\n",
    "    1969-07-24, 16:50:35, WARNING, Splashdown (went to apex-down)\n",
    "    1969-07-24, 17:29, INFO, Crew egress\n",
    "\"\"\""
   ]
  },
  {
   "cell_type": "code",
   "execution_count": 40,
   "metadata": {},
   "outputs": [
    {
     "data": {
      "text/plain": [
       "[{'datetime': datetime.datetime(1969, 7, 14, 21, 0),\n",
       "  'level': 'INFO',\n",
       "  'message': 'Terminal countdown started'},\n",
       " {'datetime': datetime.datetime(1969, 7, 16, 13, 31, 53),\n",
       "  'level': 'WARNING',\n",
       "  'message': 'S-IC engine ignition (#5)'},\n",
       " {'datetime': datetime.datetime(1969, 7, 16, 13, 33, 23),\n",
       "  'level': 'DEBUG',\n",
       "  'message': 'Maximum dynamic pressure (735.17 lb/ft^2)'},\n",
       " {'datetime': datetime.datetime(1969, 7, 16, 13, 34, 44),\n",
       "  'level': 'WARNING',\n",
       "  'message': 'S-II ignition'},\n",
       " {'datetime': datetime.datetime(1969, 7, 16, 13, 35, 17),\n",
       "  'level': 'DEBUG',\n",
       "  'message': 'Launch escape tower jettisoned'},\n",
       " {'datetime': datetime.datetime(1969, 7, 16, 13, 39, 40),\n",
       "  'level': 'DEBUG',\n",
       "  'message': 'S-II center engine cutoff'},\n",
       " {'datetime': datetime.datetime(1969, 7, 16, 16, 22, 13),\n",
       "  'level': 'INFO',\n",
       "  'message': 'Translunar injection'},\n",
       " {'datetime': datetime.datetime(1969, 7, 16, 16, 56, 3),\n",
       "  'level': 'INFO',\n",
       "  'message': 'CSM docked with LM/S-IVB'},\n",
       " {'datetime': datetime.datetime(1969, 7, 16, 17, 21, 50),\n",
       "  'level': 'INFO',\n",
       "  'message': 'Lunar orbit insertion ignition'},\n",
       " {'datetime': datetime.datetime(1969, 7, 16, 21, 43, 36),\n",
       "  'level': 'INFO',\n",
       "  'message': 'Lunar orbit circularization ignition'},\n",
       " {'datetime': datetime.datetime(1969, 7, 20, 17, 44),\n",
       "  'level': 'INFO',\n",
       "  'message': 'CSM/LM undocked'},\n",
       " {'datetime': datetime.datetime(1969, 7, 20, 20, 5, 5),\n",
       "  'level': 'WARNING',\n",
       "  'message': 'LM powered descent engine ignition'},\n",
       " {'datetime': datetime.datetime(1969, 7, 20, 20, 10, 22),\n",
       "  'level': 'ERROR',\n",
       "  'message': 'LM 1202 alarm'},\n",
       " {'datetime': datetime.datetime(1969, 7, 20, 20, 14, 18),\n",
       "  'level': 'ERROR',\n",
       "  'message': 'LM 1201 alarm'},\n",
       " {'datetime': datetime.datetime(1969, 7, 20, 20, 17, 39),\n",
       "  'level': 'WARNING',\n",
       "  'message': 'LM lunar landing'},\n",
       " {'datetime': datetime.datetime(1969, 7, 21, 2, 39, 33),\n",
       "  'level': 'DEBUG',\n",
       "  'message': 'EVA started (hatch open)'},\n",
       " {'datetime': datetime.datetime(1969, 7, 21, 2, 56, 15),\n",
       "  'level': 'WARNING',\n",
       "  'message': '1st step taken lunar surface (CDR)'},\n",
       " {'datetime': datetime.datetime(1969, 7, 21, 2, 56, 15),\n",
       "  'level': 'WARNING',\n",
       "  'message': \"That's one small step for [a] man... one giant leap for mankind\"},\n",
       " {'datetime': datetime.datetime(1969, 7, 21, 3, 5, 58),\n",
       "  'level': 'DEBUG',\n",
       "  'message': 'Contingency sample collection started (CDR)'},\n",
       " {'datetime': datetime.datetime(1969, 7, 21, 3, 15, 16),\n",
       "  'level': 'INFO',\n",
       "  'message': 'LMP on lunar surface'},\n",
       " {'datetime': datetime.datetime(1969, 7, 21, 5, 11, 13),\n",
       "  'level': 'DEBUG',\n",
       "  'message': 'EVA ended (hatch closed)'},\n",
       " {'datetime': datetime.datetime(1969, 7, 21, 17, 54),\n",
       "  'level': 'WARNING',\n",
       "  'message': 'LM lunar liftoff ignition (LM APS)'},\n",
       " {'datetime': datetime.datetime(1969, 7, 21, 21, 35),\n",
       "  'level': 'INFO',\n",
       "  'message': 'CSM/LM docked'},\n",
       " {'datetime': datetime.datetime(1969, 7, 22, 4, 55, 42),\n",
       "  'level': 'WARNING',\n",
       "  'message': 'Transearth injection ignition (SPS)'},\n",
       " {'datetime': datetime.datetime(1969, 7, 24, 16, 21, 12),\n",
       "  'level': 'INFO',\n",
       "  'message': 'CM/SM separation'},\n",
       " {'datetime': datetime.datetime(1969, 7, 24, 16, 35, 5),\n",
       "  'level': 'WARNING',\n",
       "  'message': 'Entry'},\n",
       " {'datetime': datetime.datetime(1969, 7, 24, 16, 50, 35),\n",
       "  'level': 'WARNING',\n",
       "  'message': 'Splashdown (went to apex-down)'},\n",
       " {'datetime': datetime.datetime(1969, 7, 24, 17, 29),\n",
       "  'level': 'INFO',\n",
       "  'message': 'Crew egress'}]"
      ]
     },
     "execution_count": 40,
     "metadata": {},
     "output_type": "execute_result"
    }
   ],
   "source": [
    "result = []\n",
    "\n",
    "for line in DATA.splitlines():\n",
    "    line = line.strip()\n",
    "    \n",
    "    if len(line) == 0:\n",
    "        continue\n",
    "\n",
    "    d, t, lvl, msg = line.split(', ', maxsplit=3)\n",
    "\n",
    "    d = datetime.strptime(d, '%Y-%m-%d').date()\n",
    "    \n",
    "    try:\n",
    "        t = datetime.strptime(t, '%H:%M:%S').time()\n",
    "    except ValueError:\n",
    "        t = datetime.strptime(t, '%H:%M').time()\n",
    "        \n",
    "    result.append({\n",
    "        'datetime': datetime.combine(d, t),\n",
    "        'level': lvl,\n",
    "        'message': msg,\n",
    "    })\n",
    "    \n",
    "result"
   ]
  },
  {
   "cell_type": "markdown",
   "metadata": {},
   "source": [
    "## Datetime Timedelta Period\n",
    "\n",
    "1. Użyj danych z sekcji \"Input\" (patrz poniżej)\n",
    "1. Podany jest czas, który upłynął między startem Gagarina a pierwszym krokiem Armstronga na Księżycu\n",
    "1. Uwzględnij założenie:\n",
    "\n",
    "    * rok = 365.2425 dni\n",
    "    * miesiąc = 30.436875 dni\n",
    "\n",
    "1. Od obecnej chwili odejmij ten czas\n",
    "1. Wyświetl wyliczoną datę\n",
    "1. Ile miałeś wtedy lat?\n",
    "\n",
    "Input:\n",
    "* 8 years\n",
    "* 3 months\n",
    "* 8 days\n",
    "* 20 hours\n",
    "* 49 minutes\n",
    "* 15 seconds"
   ]
  },
  {
   "cell_type": "code",
   "execution_count": 88,
   "metadata": {},
   "outputs": [
    {
     "data": {
      "text/plain": [
       "{'years': 12,\n",
       " 'months': 4,\n",
       " 'days': 25,\n",
       " 'hours': 12,\n",
       " 'minutes': 20,\n",
       " 'seconds': 59}"
      ]
     },
     "execution_count": 88,
     "metadata": {},
     "output_type": "execute_result"
    }
   ],
   "source": [
    "SECOND = 1\n",
    "MINUTE = 60 * SECOND\n",
    "HOUR = 60 * MINUTE\n",
    "DAY = 24 * HOUR\n",
    "YEAR = 365.2425 * DAY\n",
    "MONTH = 30.436875 * DAY\n",
    "\n",
    "period = timedelta(\n",
    "    days = 8*YEAR/DAY + 3*MONTH/DAY + 8*DAY/DAY,\n",
    "    hours = 20,\n",
    "    minutes = 49,\n",
    "    seconds = 15)\n",
    "\n",
    "bday = datetime(2000, 1, 1, 0, 0, 0)\n",
    "today = datetime.now()\n",
    "duration = today - period - bday\n",
    "\n",
    "\n",
    "years, seconds = divmod(duration.total_seconds(), YEAR)\n",
    "months, seconds = divmod(seconds, MONTH)\n",
    "days, seconds = divmod(seconds, DAY)\n",
    "hours, seconds = divmod(duration.seconds, HOUR)\n",
    "minutes, seconds = divmod(seconds, MINUTE)\n",
    "\n",
    "duration = {\n",
    "    'years': int(years),\n",
    "    'months': int(months),\n",
    "    'days': int(days),\n",
    "    'hours': int(hours),\n",
    "    'minutes': int(minutes),\n",
    "    'seconds': int(seconds),\n",
    "}\n",
    "\n",
    "duration"
   ]
  },
  {
   "cell_type": "markdown",
   "metadata": {},
   "source": [
    "## Datetime Timestamp Limits\n",
    "\n",
    "1. Użyj danych z sekcji \"Input\" (patrz poniżej)\n",
    "1. Przekonwertuj podane daty do obiektów ``datetime``\n",
    "1. Wypisz timestamp każdej daty\n",
    "1. Co to za daty?"
   ]
  },
  {
   "cell_type": "code",
   "execution_count": 116,
   "metadata": {},
   "outputs": [
    {
     "ename": "OverflowError",
     "evalue": "date value out of range",
     "output_type": "error",
     "traceback": [
      "\u001b[0;31m---------------------------------------------------------------------------\u001b[0m",
      "\u001b[0;31mOverflowError\u001b[0m                             Traceback (most recent call last)",
      "\u001b[0;32m<ipython-input-116-e2a2be8f5dbe>\u001b[0m in \u001b[0;36m<module>\u001b[0;34m\u001b[0m\n\u001b[1;32m      8\u001b[0m \u001b[0;34m\u001b[0m\u001b[0m\n\u001b[1;32m      9\u001b[0m \u001b[0;34m\u001b[0m\u001b[0m\n\u001b[0;32m---> 10\u001b[0;31m \u001b[0mdatetime\u001b[0m\u001b[0;34m(\u001b[0m\u001b[0;36m9999\u001b[0m\u001b[0;34m,\u001b[0m \u001b[0;36m12\u001b[0m\u001b[0;34m,\u001b[0m \u001b[0;36m31\u001b[0m\u001b[0;34m,\u001b[0m \u001b[0;36m23\u001b[0m\u001b[0;34m,\u001b[0m \u001b[0;36m59\u001b[0m\u001b[0;34m,\u001b[0m \u001b[0;36m59\u001b[0m\u001b[0;34m,\u001b[0m \u001b[0;36m99999\u001b[0m\u001b[0;34m)\u001b[0m \u001b[0;34m+\u001b[0m \u001b[0mtimedelta\u001b[0m\u001b[0;34m(\u001b[0m\u001b[0mseconds\u001b[0m\u001b[0;34m=\u001b[0m\u001b[0;36m1\u001b[0m\u001b[0;34m)\u001b[0m\u001b[0;34m\u001b[0m\u001b[0;34m\u001b[0m\u001b[0m\n\u001b[0m",
      "\u001b[0;31mOverflowError\u001b[0m: date value out of range"
     ]
    }
   ],
   "source": [
    "a = '1902-12-13 20:45:53 UTC' # timestamp -max(int32)\n",
    "b = '1970-01-01 00:00:00 UTC' # timestamp 0\n",
    "c = '2038-01-19 03:14:07 UTC' # timestamp +max(int32)\n",
    "\n",
    "datetime.strptime(a, '%Y-%m-%d %H:%M:%S %Z')\n",
    "datetime.strptime(b, '%Y-%m-%d %H:%M:%S %Z')\n",
    "datetime.strptime(c, '%Y-%m-%d %H:%M:%S %Z') + timedelta(days=2222222)\n",
    "\n",
    "\n",
    "datetime(9999, 12, 31, 23, 59, 59, 99999) + timedelta(seconds=1)"
   ]
  },
  {
   "cell_type": "markdown",
   "metadata": {},
   "source": [
    "## Datetime Timezone Convert\n",
    "\n",
    "1. Użyj danych z sekcji \"Input\" (patrz poniżej)\n",
    "1. Przekonwertuj podaną datę do obiektu ``datetime``\n",
    "1. Wyświetl datę jaka była w:\n",
    "\n",
    "    * London, Wielka Brytania\n",
    "    * Moscow, Rosja\n",
    "    * Warsaw, Polska\n",
    "    * Tokyo, Japan\n",
    "    * Sydney, Australia\n",
    "    * Auckland, Nowa Zelandia\n",
    "\n",
    "1. Dla chętnych:\n",
    "    \n",
    "    * Kosmodrom Bajkonur, Kazachstan\n",
    "    * Cape Canaveral, FL, USA\n",
    "    * Houston, TX, USA\n",
    "    * New York, USA\n",
    "    * South Pole\n",
    "    * North Pole"
   ]
  },
  {
   "cell_type": "code",
   "execution_count": 124,
   "metadata": {},
   "outputs": [],
   "source": [
    "DATA = '1969-07-21 02:56:15 UTC'\n",
    "\n",
    "from pytz import timezone"
   ]
  },
  {
   "cell_type": "code",
   "execution_count": 143,
   "metadata": {},
   "outputs": [
    {
     "data": {
      "text/plain": [
       "datetime.datetime(1969, 7, 21, 3, 56, 15, tzinfo=<DstTzInfo 'Arctic/Longyearbyen' CET+1:00:00 STD>)"
      ]
     },
     "execution_count": 143,
     "metadata": {},
     "output_type": "execute_result"
    }
   ],
   "source": [
    "dt = datetime.strptime(DATA, '%Y-%m-%d %H:%M:%S %Z').replace(tzinfo=timezone('utc'))\n",
    "\n",
    "dt.astimezone(timezone('Europe/London'))\n",
    "dt.astimezone(timezone('Europe/Moscow'))\n",
    "dt.astimezone(timezone('Europe/Warsaw'))\n",
    "dt.astimezone(timezone('Asia/Tokyo'))\n",
    "dt.astimezone(timezone('Australia/Sydney'))\n",
    "dt.astimezone(timezone('Pacific/Auckland'))\n",
    "\n",
    "dt.astimezone(timezone('Asia/Almaty'))\n",
    "dt.astimezone(timezone('US/Eastern'))\n",
    "dt.astimezone(timezone('US/Central'))\n",
    "dt.astimezone(timezone('America/New_York'))\n",
    "\n",
    "dt.astimezone(timezone('Antarctica/South_Pole'))\n",
    "dt.astimezone(timezone('Arctic/Longyearbyen'))"
   ]
  },
  {
   "cell_type": "code",
   "execution_count": null,
   "metadata": {},
   "outputs": [],
   "source": []
  }
 ],
 "metadata": {
  "kernelspec": {
   "display_name": "Python 3",
   "language": "python",
   "name": "python3"
  },
  "language_info": {
   "codemirror_mode": {
    "name": "ipython",
    "version": 3
   },
   "file_extension": ".py",
   "mimetype": "text/x-python",
   "name": "python",
   "nbconvert_exporter": "python",
   "pygments_lexer": "ipython3",
   "version": "3.8.3"
  }
 },
 "nbformat": 4,
 "nbformat_minor": 4
}
