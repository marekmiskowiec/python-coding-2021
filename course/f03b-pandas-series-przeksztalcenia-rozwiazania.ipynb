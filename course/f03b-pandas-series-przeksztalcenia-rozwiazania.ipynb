{
 "cells": [
  {
   "cell_type": "markdown",
   "metadata": {},
   "source": [
    "# Pandas - series - przekształcenia - zadania"
   ]
  },
  {
   "cell_type": "code",
   "execution_count": 2,
   "metadata": {},
   "outputs": [],
   "source": [
    "import pandas as pd\n",
    "import numpy as np"
   ]
  },
  {
   "cell_type": "markdown",
   "metadata": {},
   "source": [
    "## Series Sample\n",
    "\n",
    "1. Ustaw ziarno losowości na zero\n",
    "1. Stwórz ``pd.Series`` z 100 losowymi liczbami z rozkładu normalnego\n",
    "1. Indeksem w serii mają być kolejne dni od 2000 roku\n",
    "1. Wypisz wartości:\n",
    "\n",
    "    * pierwszy w serii,\n",
    "    * ostatnie 5 elementów w serii,\n",
    "    * dwa pierwsze tygodnie w serii,\n",
    "    * ostatni miesiąc w serii,\n",
    "    * trzy losowe element,\n",
    "    * 125% losowych elementów z powtórzeniami.\n",
    "\n",
    "Podpowiedź:\n",
    "    * ``np.random.seed(0)``\n",
    "    * ``np.random.randn(n)``"
   ]
  },
  {
   "cell_type": "code",
   "execution_count": 6,
   "metadata": {},
   "outputs": [],
   "source": [
    "np.random.seed(0)\n",
    "\n",
    "s = pd.Series(\n",
    "    data = np.random.randn(100),\n",
    "    index = pd.date_range('2000-01-01', freq='D', periods=100))"
   ]
  },
  {
   "cell_type": "code",
   "execution_count": 8,
   "metadata": {},
   "outputs": [
    {
     "data": {
      "text/plain": [
       "2000-01-01    1.764052\n",
       "Freq: D, dtype: float64"
      ]
     },
     "execution_count": 8,
     "metadata": {},
     "output_type": "execute_result"
    }
   ],
   "source": [
    "s.head(1)"
   ]
  },
  {
   "cell_type": "code",
   "execution_count": 9,
   "metadata": {},
   "outputs": [
    {
     "data": {
      "text/plain": [
       "2000-04-05    0.706573\n",
       "2000-04-06    0.010500\n",
       "2000-04-07    1.785870\n",
       "2000-04-08    0.126912\n",
       "2000-04-09    0.401989\n",
       "Freq: D, dtype: float64"
      ]
     },
     "execution_count": 9,
     "metadata": {},
     "output_type": "execute_result"
    }
   ],
   "source": [
    "s.tail(n=5)"
   ]
  },
  {
   "cell_type": "code",
   "execution_count": 10,
   "metadata": {},
   "outputs": [
    {
     "data": {
      "text/plain": [
       "2000-01-01    1.764052\n",
       "2000-01-02    0.400157\n",
       "2000-01-03    0.978738\n",
       "2000-01-04    2.240893\n",
       "2000-01-05    1.867558\n",
       "2000-01-06   -0.977278\n",
       "2000-01-07    0.950088\n",
       "2000-01-08   -0.151357\n",
       "2000-01-09   -0.103219\n",
       "Freq: D, dtype: float64"
      ]
     },
     "execution_count": 10,
     "metadata": {},
     "output_type": "execute_result"
    }
   ],
   "source": [
    "s.first('2W')"
   ]
  },
  {
   "cell_type": "code",
   "execution_count": 11,
   "metadata": {},
   "outputs": [
    {
     "data": {
      "text/plain": [
       "2000-04-01    1.222445\n",
       "2000-04-02    0.208275\n",
       "2000-04-03    0.976639\n",
       "2000-04-04    0.356366\n",
       "2000-04-05    0.706573\n",
       "2000-04-06    0.010500\n",
       "2000-04-07    1.785870\n",
       "2000-04-08    0.126912\n",
       "2000-04-09    0.401989\n",
       "Freq: D, dtype: float64"
      ]
     },
     "execution_count": 11,
     "metadata": {},
     "output_type": "execute_result"
    }
   ],
   "source": [
    "s.last('1M')"
   ]
  },
  {
   "cell_type": "code",
   "execution_count": 12,
   "metadata": {},
   "outputs": [
    {
     "data": {
      "text/plain": [
       "2000-01-20   -0.854096\n",
       "2000-01-07    0.950088\n",
       "2000-02-15   -0.438074\n",
       "dtype: float64"
      ]
     },
     "execution_count": 12,
     "metadata": {},
     "output_type": "execute_result"
    }
   ],
   "source": [
    "s.sample(n=3)"
   ]
  },
  {
   "cell_type": "code",
   "execution_count": 13,
   "metadata": {},
   "outputs": [
    {
     "data": {
      "text/plain": [
       "2000-03-07   -1.630198\n",
       "2000-04-01    1.222445\n",
       "2000-03-26    1.895889\n",
       "2000-02-09   -0.302303\n",
       "2000-02-09   -0.302303\n",
       "                ...   \n",
       "2000-01-08   -0.151357\n",
       "2000-03-21   -1.165150\n",
       "2000-01-23    0.864436\n",
       "2000-03-20    0.056165\n",
       "2000-03-30    1.054452\n",
       "Length: 125, dtype: float64"
      ]
     },
     "execution_count": 13,
     "metadata": {},
     "output_type": "execute_result"
    }
   ],
   "source": [
    "s.sample(frac=1.25, replace=True)"
   ]
  },
  {
   "cell_type": "markdown",
   "metadata": {},
   "source": [
    "## Series Getitem\n",
    "\n",
    "1. Ustaw ziarno losowości na zero\n",
    "1. Stwórz ``pd.Series`` z 100 losowymi liczbami z rozkładu normalnego\n",
    "1. Indeksem w serii mają być kolejne dni od 2000 roku\n",
    "1. Wypisz wartości:\n",
    "\n",
    "    * dnia 2000-02-29,\n",
    "    * pierwszą wartość w serii (nie używając ``.head()``),\n",
    "    * ostatnią wartość w serii (nie używając ``.tail()``),\n",
    "    * środkowa wartość serii.\n",
    "\n",
    "Podpowiedź:\n",
    "    * ``np.random.seed(0)``\n",
    "    * ``np.random.randn(10)``\n"
   ]
  },
  {
   "cell_type": "code",
   "execution_count": null,
   "metadata": {},
   "outputs": [],
   "source": [
    "np.random.seed(0)\n",
    "\n",
    "s = pd.Series(\n",
    "    data = np.random.randn(100),\n",
    "    index = pd.date_range('2000-01-01', freq='D', periods=100))"
   ]
  },
  {
   "cell_type": "code",
   "execution_count": 14,
   "metadata": {
    "scrolled": true
   },
   "outputs": [
    {
     "data": {
      "text/plain": [
       "-0.3627411659871381"
      ]
     },
     "execution_count": 14,
     "metadata": {},
     "output_type": "execute_result"
    }
   ],
   "source": [
    "s['2000-02-29']"
   ]
  },
  {
   "cell_type": "code",
   "execution_count": 15,
   "metadata": {},
   "outputs": [
    {
     "data": {
      "text/plain": [
       "1.764052345967664"
      ]
     },
     "execution_count": 15,
     "metadata": {},
     "output_type": "execute_result"
    }
   ],
   "source": [
    "s[0]"
   ]
  },
  {
   "cell_type": "code",
   "execution_count": 16,
   "metadata": {},
   "outputs": [
    {
     "data": {
      "text/plain": [
       "0.40198936344470165"
      ]
     },
     "execution_count": 16,
     "metadata": {},
     "output_type": "execute_result"
    }
   ],
   "source": [
    "s[-1]"
   ]
  },
  {
   "cell_type": "code",
   "execution_count": 19,
   "metadata": {},
   "outputs": [],
   "source": [
    "middle = int(len(s) / 2)"
   ]
  },
  {
   "cell_type": "code",
   "execution_count": 20,
   "metadata": {},
   "outputs": [
    {
     "data": {
      "text/plain": [
       "-0.8954665611936756"
      ]
     },
     "execution_count": 20,
     "metadata": {},
     "output_type": "execute_result"
    }
   ],
   "source": [
    "s[middle]"
   ]
  },
  {
   "cell_type": "markdown",
   "metadata": {},
   "source": [
    "## Series Slice Datetime\n",
    "\n",
    "1. Ustaw ziarno losowości na zero\n",
    "1. Stwórz ``pd.Series`` z 100 losowymi liczbami z rozkładu normalnego\n",
    "1. Indeksem w serii mają być kolejne dni od 2000 roku\n",
    "1. Wytnij daty od 2000-02-14 do końca lutego 2000\n",
    "1. Porównaj wyniki z sekcją \"Output\" (patrz poniżej)\n",
    "\n",
    "Oczekiwany wynik:\n",
    "```python\n",
    "s: pd.Series\n",
    "# 2000-02-14   -0.509652\n",
    "# 2000-02-15   -0.438074\n",
    "# 2000-02-16   -1.252795\n",
    "# 2000-02-17    0.777490\n",
    "# 2000-02-18   -1.613898\n",
    "# 2000-02-19   -0.212740\n",
    "# 2000-02-20   -0.895467\n",
    "# 2000-02-21    0.386902\n",
    "# 2000-02-22   -0.510805\n",
    "# 2000-02-23   -1.180632\n",
    "# 2000-02-24   -0.028182\n",
    "# 2000-02-25    0.428332\n",
    "# 2000-02-26    0.066517\n",
    "# 2000-02-27    0.302472\n",
    "# 2000-02-28   -0.634322\n",
    "# 2000-02-29   -0.362741\n",
    "# Freq: D, dtype: float64\n",
    "```\n",
    "\n",
    "Podpowiedź:\n",
    "    * ``np.random.seed(0)``\n",
    "    * ``np.random.randn(10)``"
   ]
  },
  {
   "cell_type": "code",
   "execution_count": 21,
   "metadata": {},
   "outputs": [
    {
     "data": {
      "text/plain": [
       "2000-02-14   -0.509652\n",
       "2000-02-15   -0.438074\n",
       "2000-02-16   -1.252795\n",
       "2000-02-17    0.777490\n",
       "2000-02-18   -1.613898\n",
       "2000-02-19   -0.212740\n",
       "2000-02-20   -0.895467\n",
       "2000-02-21    0.386902\n",
       "2000-02-22   -0.510805\n",
       "2000-02-23   -1.180632\n",
       "2000-02-24   -0.028182\n",
       "2000-02-25    0.428332\n",
       "2000-02-26    0.066517\n",
       "2000-02-27    0.302472\n",
       "2000-02-28   -0.634322\n",
       "2000-02-29   -0.362741\n",
       "Freq: D, dtype: float64"
      ]
     },
     "execution_count": 21,
     "metadata": {},
     "output_type": "execute_result"
    }
   ],
   "source": [
    "np.random.seed(0)\n",
    "\n",
    "s = pd.Series(\n",
    "    data = np.random.randn(100),\n",
    "    index = pd.date_range('2000-01-01', freq='D', periods=100))\n",
    "\n",
    "s['2000-02-14':'2000-02']"
   ]
  },
  {
   "cell_type": "markdown",
   "metadata": {},
   "source": [
    "## Slicing Slice Str\n",
    "\n",
    "1. Użyj danych z sekcji \"Input\" (patrz poniżej)\n",
    "1. Stwórz ``pd.Series`` z 26 losowymi liczbami całkowitymi z przedziału ``<10; 100)``\n",
    "1. Nazwij indeksy jak kolejne litery alfabetu ASCII (``ascii_lowercase: str``)\n",
    "1. Znajdź środkową literę alfabetu\n",
    "1. Wytnij z serii po 3 elementy w górę i w dół od wyszukanego środka\n",
    "1. Porównaj wyniki z sekcją \"Output\" (patrz poniżej)\n",
    "\n",
    "Oczekiwany wynik:\n",
    "```python\n",
    "s: pd.Series\n",
    "# j    97\n",
    "# k    80\n",
    "# l    98\n",
    "# m    98\n",
    "# n    22\n",
    "# o    68\n",
    "# p    75\n",
    "# dtype: int64\n",
    "```\n",
    "\n",
    "Podpowiedź:\n",
    "* ``np.random.randint(..., ..., size=...)``"
   ]
  },
  {
   "cell_type": "code",
   "execution_count": 27,
   "metadata": {},
   "outputs": [],
   "source": [
    "ascii_lowercase = 'abcdefghijklmnopqrstuvwxyz'"
   ]
  },
  {
   "cell_type": "code",
   "execution_count": 45,
   "metadata": {},
   "outputs": [
    {
     "data": {
      "text/plain": [
       "k    80\n",
       "l    98\n",
       "m    98\n",
       "n    22\n",
       "o    68\n",
       "p    75\n",
       "q    49\n",
       "dtype: int64"
      ]
     },
     "execution_count": 45,
     "metadata": {},
     "output_type": "execute_result"
    }
   ],
   "source": [
    "np.random.seed(0)\n",
    "\n",
    "s = pd.Series(\n",
    "    data = np.random.randint(10, 100, size=26),\n",
    "    index = list(ascii_lowercase))\n",
    "\n",
    "middle = int(len(ascii_lowercase) / 2)\n",
    "\n",
    "# pd.concat((\n",
    "#     s[middle-3:middle],\n",
    "#     s[middle:middle+4],\n",
    "# ))\n",
    "\n",
    "s[middle-3:middle+4]"
   ]
  },
  {
   "cell_type": "markdown",
   "metadata": {},
   "source": [
    "## Series NA\n",
    "\n",
    "1. Użyj danych z sekcji \"Input\" (patrz poniżej)\n",
    "1. Z danych wejściowych stwórz ``pd.Series``\n",
    "1. Wypełnij pierwszą brakującą wartość zerem\n",
    "1. Usuń brakujące wartości\n",
    "1. Zresetuj indeks (bez kopii starego)\n",
    "1. Porównaj wyniki z sekcją \"Output\" (patrz poniżej)\n",
    "\n",
    "Oczekiwany wynik:\n",
    "```\n",
    "s: pd.Series\n",
    "# 0    1.0\n",
    "# 1    0.0\n",
    "# 2    5.0\n",
    "# 3    1.0\n",
    "# 4    2.0\n",
    "# 5    1.0\n",
    "# dtype: float64\n",
    "```"
   ]
  },
  {
   "cell_type": "code",
   "execution_count": 53,
   "metadata": {},
   "outputs": [
    {
     "data": {
      "text/plain": [
       "0    1.0\n",
       "1    0.0\n",
       "2    5.0\n",
       "3    1.0\n",
       "4    2.0\n",
       "5    1.0\n",
       "dtype: float64"
      ]
     },
     "execution_count": 53,
     "metadata": {},
     "output_type": "execute_result"
    }
   ],
   "source": [
    "DATA = [1, None, 5, None, 1, 2, 1]\n",
    "\n",
    "s = pd.Series(DATA)\n",
    "s.fillna(0, limit=1, inplace=True)\n",
    "s.dropna(inplace=True)\n",
    "s.reset_index(drop=True)"
   ]
  },
  {
   "cell_type": "code",
   "execution_count": 54,
   "metadata": {},
   "outputs": [
    {
     "data": {
      "text/plain": [
       "0    1.0\n",
       "1    0.0\n",
       "2    5.0\n",
       "3    1.0\n",
       "4    2.0\n",
       "5    1.0\n",
       "dtype: float64"
      ]
     },
     "execution_count": 54,
     "metadata": {},
     "output_type": "execute_result"
    }
   ],
   "source": [
    "DATA = [1, None, 5, None, 1, 2, 1]\n",
    "\n",
    "s = (pd.Series(DATA)\n",
    "        .fillna(0, limit=1)\n",
    "        .dropna()\n",
    "        .reset_index(drop=True))\n",
    "\n",
    "s"
   ]
  },
  {
   "cell_type": "markdown",
   "metadata": {},
   "source": [
    "## Series Alter\n",
    "\n",
    "1. Użyj danych z sekcji \"Input\" (patrz poniżej)\n",
    "1. Z danych wejściowych stwórz ``pd.Series``\n",
    "1. Usuń wartości na indeksach 2, 4, 6\n",
    "1. Usuń duplikujące się wartości\n",
    "1. Zresetuj indeks (bez kopii starego)\n",
    "1. Wypisz serię\n",
    "\n",
    "Oczekiwany wynik:\n",
    "```python\n",
    "s: pd.Series\n",
    "# 0    1.0\n",
    "# 1    NaN\n",
    "# 2    2.0\n",
    "# dtype: float64\n",
    "```"
   ]
  },
  {
   "cell_type": "code",
   "execution_count": 55,
   "metadata": {},
   "outputs": [],
   "source": [
    "DATA = [1, None, 5, None, 1, 2, 1]"
   ]
  },
  {
   "cell_type": "code",
   "execution_count": 56,
   "metadata": {},
   "outputs": [
    {
     "data": {
      "text/plain": [
       "0    1.0\n",
       "1    NaN\n",
       "2    2.0\n",
       "dtype: float64"
      ]
     },
     "execution_count": 56,
     "metadata": {},
     "output_type": "execute_result"
    }
   ],
   "source": [
    "s = (pd.Series(DATA)\n",
    "         .drop([2,4,6])\n",
    "         .drop_duplicates()\n",
    "         .reset_index(drop=True))\n",
    "\n",
    "s"
   ]
  },
  {
   "cell_type": "markdown",
   "metadata": {},
   "source": [
    "## Series Mapping Clean\n",
    "\n",
    "1. Użyj danych z sekcji \"Input\" (patrz poniżej)\n",
    "1. Przekonwertuj ``DATA`` (patrz sekcja input) do ``pd.Series``\n",
    "1. Napisz funkcję czyszczącą dane\n",
    "1. Funkcja przyjmuje jeden argument typu ``str``\n",
    "1. Funkcja zwraca oczyszczony tekst\n",
    "1. Zaaplikuj funkcję na wszystkich elementach ``pd.Series``\n",
    "1. Porównaj wyniki z sekcją \"Output\" (patrz poniżej)\n",
    "\n",
    "Oczekiwany wynik:\n",
    "```python\n",
    "s: pd.Series\n",
    "# 0               Mieszka II\n",
    "# 1        Zygmunta III Wazy\n",
    "# 2      Bolesława Chrobrego\n",
    "# 3     Jana III Sobieskiego\n",
    "# 4     Jana III Sobieskiego\n",
    "# 5     Jana III Sobieskiego\n",
    "# 6     Jana III Sobieskiego\n",
    "# 7     Jana III Sobieskiego\n",
    "# 8     Jana III Sobieskiego\n",
    "# 9     Jana III Sobieskiego\n",
    "# 10    Jana III Sobieskiego\n",
    "# dtype: object\n",
    "```"
   ]
  },
  {
   "cell_type": "code",
   "execution_count": 65,
   "metadata": {},
   "outputs": [
    {
     "data": {
      "text/plain": [
       "0                Mieszka II\n",
       "1         Zygmunta III Wazy\n",
       "2       Bolesława Chrobrego\n",
       "3      Jana III Sobieskiego\n",
       "4      Jana III Sobieskiego\n",
       "5      Jana III Sobieskiego\n",
       "6      Jana III Sobieskiego\n",
       "7      Jana III Sobieskiego\n",
       "8      Jana III Sobieskiego\n",
       "9      Jana III Sobieskiego\n",
       "10     Jana III Sobieskiego\n",
       "dtype: object"
      ]
     },
     "execution_count": 65,
     "metadata": {},
     "output_type": "execute_result"
    }
   ],
   "source": [
    "DATA = [\n",
    "    'ul.Mieszka II',\n",
    "    'UL. Zygmunta III WaZY',\n",
    "    '  bolesława chrobrego ',\n",
    "    'ul Jana III SobIESkiego',\n",
    "    '\\tul. Jana trzeciego Sobieskiego',\n",
    "    'ulicaJana III Sobieskiego',\n",
    "    'UL. JA    NA 3 SOBIES  KIEGO',\n",
    "    'ULICA JANA III SOBIESKIEGO  ',\n",
    "    'ULICA. JANA III SOBIeskieGO',\n",
    "    ' Jana 3 Sobieskiego  ',\n",
    "    'Jana III Sobi  eskiego ',\n",
    "]\n",
    "\n",
    "def clean(text):\n",
    "    text = text.strip()\n",
    "    text = text.upper()\n",
    "    text = text.replace('.', '')\n",
    "    text = text.replace('\\t', '')\n",
    "    text = text.replace('    ', '')\n",
    "    text = text.replace('   ', '')\n",
    "    text = text.replace('  ', '')\n",
    "    text = text.replace('ULICA', '')\n",
    "    text = text.replace('UL', '')\n",
    "    text = text.replace('TRZECIEGO', 'III')\n",
    "    text = text.replace('3', 'III')\n",
    "    text = text.title()\n",
    "    text = text.replace('Iii', 'III')\n",
    "    text = text.replace('Ii', 'II')\n",
    "    return text\n",
    "\n",
    "\n",
    "pd.Series(DATA).apply(clean)"
   ]
  },
  {
   "cell_type": "code",
   "execution_count": 71,
   "metadata": {},
   "outputs": [
    {
     "data": {
      "text/plain": [
       "0                Mieszka II\n",
       "1         Zygmunta III Wazy\n",
       "2       Bolesława Chrobrego\n",
       "3      Jana III Sobieskiego\n",
       "4      Jana III Sobieskiego\n",
       "5      Jana III Sobieskiego\n",
       "6      Jana III Sobieskiego\n",
       "7      Jana III Sobieskiego\n",
       "8      Jana III Sobieskiego\n",
       "9      Jana III Sobieskiego\n",
       "10     Jana III Sobieskiego\n",
       "dtype: object"
      ]
     },
     "execution_count": 71,
     "metadata": {},
     "output_type": "execute_result"
    }
   ],
   "source": [
    "DATA = [\n",
    "    'ul.Mieszka II',\n",
    "    'UL. Zygmunta III WaZY',\n",
    "    '  bolesława chrobrego ',\n",
    "    'ul Jana III SobIESkiego',\n",
    "    '\\tul. Jana trzeciego Sobieskiego',\n",
    "    'ulicaJana III Sobieskiego',\n",
    "    'UL. JA    NA 3 SOBIES  KIEGO',\n",
    "    'ULICA JANA III SOBIESKIEGO  ',\n",
    "    'ULICA. JANA III SOBIeskieGO',\n",
    "    ' Jana 3 Sobieskiego  ',\n",
    "    'Jana III Sobi  eskiego ',\n",
    "]\n",
    "\n",
    "def clean(text):\n",
    "    return (text\n",
    "            .strip()\n",
    "            .upper()\n",
    "            .replace('.', '')\n",
    "            .replace('\\t', '')\n",
    "            .replace('    ', '')\n",
    "            .replace('   ', '')\n",
    "            .replace('  ', '')\n",
    "            .replace('ULICA', '')\n",
    "            .replace('UL', '')\n",
    "            .replace('TRZECIEGO', 'III')\n",
    "            .replace('3', 'III')\n",
    "            .title()\n",
    "            .replace('Iii', 'III')\n",
    "            .replace('Ii', 'II'))\n",
    "    \n",
    "    \n",
    "pd.Series(DATA).apply(clean)"
   ]
  },
  {
   "cell_type": "code",
   "execution_count": null,
   "metadata": {},
   "outputs": [],
   "source": []
  }
 ],
 "metadata": {
  "kernelspec": {
   "display_name": "Python 3",
   "language": "python",
   "name": "python3"
  },
  "language_info": {
   "codemirror_mode": {
    "name": "ipython",
    "version": 3
   },
   "file_extension": ".py",
   "mimetype": "text/x-python",
   "name": "python",
   "nbconvert_exporter": "python",
   "pygments_lexer": "ipython3",
   "version": "3.8.5"
  }
 },
 "nbformat": 4,
 "nbformat_minor": 4
}
