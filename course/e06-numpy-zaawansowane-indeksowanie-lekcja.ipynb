{
 "cells": [
  {
   "cell_type": "markdown",
   "metadata": {},
   "source": [
    "# NumPy - Zaawansowane Indeksowanie - lekcja"
   ]
  },
  {
   "cell_type": "code",
   "execution_count": 1,
   "metadata": {},
   "outputs": [],
   "source": [
    "import numpy as np"
   ]
  },
  {
   "cell_type": "markdown",
   "metadata": {},
   "source": [
    "## Unique"
   ]
  },
  {
   "cell_type": "code",
   "execution_count": 7,
   "metadata": {},
   "outputs": [
    {
     "data": {
      "text/plain": [
       "array([[1, 2, 3],\n",
       "       [4, 5, 6]])"
      ]
     },
     "execution_count": 7,
     "metadata": {},
     "output_type": "execute_result"
    }
   ],
   "source": [
    "a = np.array([[1, 2, 3, 1],\n",
    "              [1, 4, 5, 6]])\n",
    "\n",
    "np.unique(a).reshape(2,3)"
   ]
  },
  {
   "cell_type": "markdown",
   "metadata": {},
   "source": [
    "## Nonzero"
   ]
  },
  {
   "cell_type": "code",
   "execution_count": 8,
   "metadata": {},
   "outputs": [
    {
     "data": {
      "text/plain": [
       "(array([0, 0, 1, 1]), array([0, 2, 0, 2]))"
      ]
     },
     "execution_count": 8,
     "metadata": {},
     "output_type": "execute_result"
    }
   ],
   "source": [
    "a = np.array([[1, 0, 2],\n",
    "              [3, 0, 4]])\n",
    "\n",
    "np.nonzero(a)\n",
    "\n",
    "# (array([0, 0, 1, 1]),\n",
    "#  array([0, 2, 0, 2]))"
   ]
  },
  {
   "cell_type": "markdown",
   "metadata": {},
   "source": [
    "## Where\n",
    "\n",
    "- jeden argument\n",
    "- wiele argumentów\n"
   ]
  },
  {
   "cell_type": "code",
   "execution_count": 24,
   "metadata": {},
   "outputs": [
    {
     "data": {
      "text/plain": [
       "array([[ 1.,  1.,  3.],\n",
       "       [ 4.,  0., nan],\n",
       "       [nan, nan, nan]])"
      ]
     },
     "execution_count": 24,
     "metadata": {},
     "output_type": "execute_result"
    }
   ],
   "source": [
    "a = np.array([[1, 2],\n",
    "              [3, 4]])\n",
    "\n",
    "b = np.array([[1, 2, 3],\n",
    "              [4, 5, 6]])\n",
    "\n",
    "c = np.array([[1, 2, 3],\n",
    "              [4, 5, 6],\n",
    "              [7, 8, 9]])\n",
    "\n",
    "d = np.array([[1, 1, 3],\n",
    "              [4, 0, 6],\n",
    "              [2, 7, 9]])\n",
    "\n",
    "np.where( c>5, np.nan, d)"
   ]
  },
  {
   "cell_type": "markdown",
   "metadata": {},
   "source": [
    "## Zaawansowane Indeksowanie"
   ]
  },
  {
   "cell_type": "code",
   "execution_count": 26,
   "metadata": {},
   "outputs": [
    {
     "data": {
      "text/plain": [
       "array([7, 8, 9])"
      ]
     },
     "execution_count": 26,
     "metadata": {},
     "output_type": "execute_result"
    }
   ],
   "source": [
    "a = np.array([[1, 2, 3],\n",
    "              [4, 5, 6],\n",
    "              [7, 8, 9]])\n",
    "\n",
    "\n",
    "a[ a > a.mean()+1 ]"
   ]
  },
  {
   "cell_type": "code",
   "execution_count": 27,
   "metadata": {},
   "outputs": [
    {
     "data": {
      "text/plain": [
       "array([2, 4, 6, 8])"
      ]
     },
     "execution_count": 27,
     "metadata": {},
     "output_type": "execute_result"
    }
   ],
   "source": [
    "even = (a % 2 == 0)\n",
    "\n",
    "a[even]"
   ]
  },
  {
   "cell_type": "code",
   "execution_count": 28,
   "metadata": {},
   "outputs": [
    {
     "data": {
      "text/plain": [
       "array([3, 5])"
      ]
     },
     "execution_count": 28,
     "metadata": {},
     "output_type": "execute_result"
    }
   ],
   "source": [
    "a[ (a>2) & (a<=5) & (a%2==1) ]"
   ]
  },
  {
   "cell_type": "code",
   "execution_count": 29,
   "metadata": {},
   "outputs": [
    {
     "data": {
      "text/plain": [
       "array([3, 5])"
      ]
     },
     "execution_count": 29,
     "metadata": {},
     "output_type": "execute_result"
    }
   ],
   "source": [
    "query1 = ( a > 2)\n",
    "query2 = ( a <= 5)\n",
    "query3 = ( a % 2 == 1)\n",
    "\n",
    "\n",
    "a[ query1 & query2 & query3 ]"
   ]
  },
  {
   "cell_type": "code",
   "execution_count": 37,
   "metadata": {},
   "outputs": [
    {
     "data": {
      "text/plain": [
       "array([[0, 0, 3],\n",
       "       [4, 5, 6],\n",
       "       [0, 0, 9]])"
      ]
     },
     "execution_count": 37,
     "metadata": {},
     "output_type": "execute_result"
    }
   ],
   "source": [
    "# '2000-01-01' -> [1, 2, 3]\n",
    "# '2000-01-02' -> [4, 5, 6]\n",
    "# '2000-01-03' -> [7, 8, 9]\n",
    "\n",
    "\n",
    "date = np.array([\n",
    "    '2000-01-01',\n",
    "    '2000-01-02',\n",
    "    '2000-01-03'])\n",
    "\n",
    "values = np.array([[1, 2, 3],\n",
    "                   [4, 5, 6],\n",
    "                   [7, 8, 9]])\n",
    "\n",
    "\n",
    "jan01 = (date == '2000-01-01')\n",
    "jan03 = (date == '2000-01-03')\n",
    "\n",
    "\n",
    "values[ jan01 | jan03, :2 ] = 0\n",
    "\n",
    "values"
   ]
  },
  {
   "cell_type": "code",
   "execution_count": 45,
   "metadata": {},
   "outputs": [
    {
     "data": {
      "text/plain": [
       "array([ 2.2408932 , -0.10321885])"
      ]
     },
     "execution_count": 45,
     "metadata": {},
     "output_type": "execute_result"
    }
   ],
   "source": [
    "#                Morning         Noon      Evening\n",
    "# 1999-12-30  1.76405235,  0.40015721,  0.97873798,\n",
    "# 1999-12-31  2.2408932 ,  1.86755799, -0.97727788,\n",
    "# 2000-01-01  0.95008842, -0.15135721, -0.10321885,\n",
    "# 2000-01-02  0.4105985 ,  0.14404357,  1.45427351,\n",
    "\n",
    "\n",
    "index = np.array([\n",
    "    '1999-12-30',\n",
    "    '1999-12-31',\n",
    "    '2000-01-01',\n",
    "    '2000-01-02'])\n",
    "\n",
    "columns = np.array(['Morning', 'Noon', 'Evening'])\n",
    "\n",
    "\n",
    "data = np.array([[ 1.76405235,  0.40015721,  0.97873798],\n",
    "                 [ 2.2408932 ,  1.86755799, -0.97727788],\n",
    "                 [ 0.95008842, -0.15135721, -0.10321885],\n",
    "                 [ 0.4105985 ,  0.14404357,  1.45427351]])\n",
    "\n",
    "\n",
    "dec31 = (index == '1999-12-31')\n",
    "jan01 = (index == '2000-01-01')\n",
    "morning = (columns == 'Morning')\n",
    "evening = (columns == 'Evening')\n",
    "\n",
    "\n",
    "data[ (dec31|jan01), (morning|evening)]"
   ]
  },
  {
   "cell_type": "code",
   "execution_count": 40,
   "metadata": {},
   "outputs": [
    {
     "data": {
      "text/plain": [
       "array([2.2408932])"
      ]
     },
     "execution_count": 40,
     "metadata": {},
     "output_type": "execute_result"
    }
   ],
   "source": [
    "data[ (index == '1999-12-31'), (columns == 'Morning') ]"
   ]
  },
  {
   "cell_type": "code",
   "execution_count": 46,
   "metadata": {},
   "outputs": [
    {
     "data": {
      "text/plain": [
       "array([[ 2.2408932 , -0.97727788],\n",
       "       [ 0.95008842, -0.10321885]])"
      ]
     },
     "execution_count": 46,
     "metadata": {},
     "output_type": "execute_result"
    }
   ],
   "source": [
    "data[np.ix_((dec31|jan01), (morning|evening))]"
   ]
  },
  {
   "cell_type": "code",
   "execution_count": null,
   "metadata": {},
   "outputs": [],
   "source": []
  }
 ],
 "metadata": {
  "kernelspec": {
   "display_name": "Python 3",
   "language": "python",
   "name": "python3"
  },
  "language_info": {
   "codemirror_mode": {
    "name": "ipython",
    "version": 3
   },
   "file_extension": ".py",
   "mimetype": "text/x-python",
   "name": "python",
   "nbconvert_exporter": "python",
   "pygments_lexer": "ipython3",
   "version": "3.8.3"
  }
 },
 "nbformat": 4,
 "nbformat_minor": 4
}
