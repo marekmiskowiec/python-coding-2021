{
 "cells": [
  {
   "cell_type": "markdown",
   "metadata": {},
   "source": [
    "# Case Study - COVID-19"
   ]
  },
  {
   "cell_type": "markdown",
   "metadata": {},
   "source": [
    "Dane: \n",
    "- https://coronavirus.jhu.edu/map.html\n",
    "- https://github.com/CSSEGISandData/COVID-19/tree/master/csse_covid_19_data/csse_covid_19_time_series"
   ]
  },
  {
   "cell_type": "markdown",
   "metadata": {},
   "source": [
    "Cel:\n",
    "\n",
    "1. Państwa analizowane:\n",
    "    \n",
    "    - wszystkie\n",
    "    - Polskę\n",
    "    - USA\n",
    "    - Chiny\n",
    "    - Brazylię\n",
    "    - Włochy\n",
    "    - Indie\n",
    "    \n",
    "1. Zwizualizować liczbę:\n",
    "    \n",
    "    - potwierdzonych przypadków\n",
    "    - wyzdrowień\n",
    "    - przypadków śmiertelnych\n",
    "    \n",
    "1. Przyrost dzienny nowych przypadków (daily cases)\n",
    "    \n",
    "    - wykres słupkowy \n",
    "    - średnia krocząca\n",
    "    \n",
    "1. Liczba śmiertelnych przypadków vs. ilość zarażonych (case-fatality ratio)\n",
    "1. Liczba wszystkich przypadków vs. nowe przypadki z tygodnia\n",
    "\n",
    "    - logarytmiczna skala obu\n",
    "    - liniowa skala nowych przypadków i logarytmiczna wszystkich przypadków\n",
    "    - jak zmienia się to w czasie"
   ]
  }
 ],
 "metadata": {
  "kernelspec": {
   "display_name": "Python 3",
   "language": "python",
   "name": "python3"
  },
  "language_info": {
   "codemirror_mode": {
    "name": "ipython",
    "version": 3
   },
   "file_extension": ".py",
   "mimetype": "text/x-python",
   "name": "python",
   "nbconvert_exporter": "python",
   "pygments_lexer": "ipython3",
   "version": "3.8.3"
  }
 },
 "nbformat": 4,
 "nbformat_minor": 4
}
