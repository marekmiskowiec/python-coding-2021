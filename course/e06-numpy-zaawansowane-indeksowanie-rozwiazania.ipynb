{
 "cells": [
  {
   "cell_type": "markdown",
   "metadata": {},
   "source": [
    "# NumPy - Zaawansowane Indeksowanie - zadania"
   ]
  },
  {
   "cell_type": "code",
   "execution_count": 1,
   "metadata": {},
   "outputs": [],
   "source": [
    "import numpy as np"
   ]
  },
  {
   "cell_type": "markdown",
   "metadata": {},
   "source": [
    "## Numpy Select\n",
    "\n",
    "1. Ustaw ziarno losowości na 0\n",
    "1. Wygeneruj ``a: ndarray`` rozmiaru 50x50\n",
    "1. ``a`` musi zawierać losowe liczby całkowite z zakresu od 0 do 1024 włącznie\n",
    "1. Stwórz ``result: ndarray`` z elementami wybranymi z ``a``, które są potęgami dwójki\n",
    "1. Posortuj ``result`` w kolejności malejącej\n",
    "1. Wypisz ``result``\n",
    "\n",
    "Hint:\n",
    "* ``np.isin(a, b)``\n",
    "* ``np.flip(a)``"
   ]
  },
  {
   "cell_type": "code",
   "execution_count": 2,
   "metadata": {},
   "outputs": [
    {
     "data": {
      "text/plain": [
       "array([[ 684,  559,  835, ...,  888,  257,   57],\n",
       "       [ 291,  779,  430, ...,  778,   86,  872],\n",
       "       [  11,  770,  307, ...,   24,   67,  978],\n",
       "       ...,\n",
       "       [ 868,  338,   47, ...,  171,  695,  838],\n",
       "       [ 990,  558,  346, ...,  860,  102,  762],\n",
       "       [ 114,  421,  579, ..., 1024,  934,  504]])"
      ]
     },
     "execution_count": 2,
     "metadata": {},
     "output_type": "execute_result"
    }
   ],
   "source": [
    "np.random.seed(0)\n",
    "a = np.random.randint(0, 1025, size=(50, 50))\n",
    "a"
   ]
  },
  {
   "cell_type": "code",
   "execution_count": 5,
   "metadata": {},
   "outputs": [],
   "source": [
    "b = 2 ** np.arange(0, 11)\n",
    "\n",
    "result = a[np.isin(a, b)]"
   ]
  },
  {
   "cell_type": "code",
   "execution_count": 7,
   "metadata": {},
   "outputs": [
    {
     "data": {
      "text/plain": [
       "array([1024, 1024, 1024, 1024, 1024, 1024,  512,  512,  512,  512,  256,\n",
       "        256,  256,  256,  256,  128,  128,  128,  128,  128,   64,   32,\n",
       "         32,   32,   32,   32,   16,   16,   16,   16,   16,   16,    8,\n",
       "          8,    4,    2,    2,    2,    2,    2])"
      ]
     },
     "execution_count": 7,
     "metadata": {},
     "output_type": "execute_result"
    }
   ],
   "source": [
    "result.sort()\n",
    "np.flip(result)"
   ]
  },
  {
   "cell_type": "code",
   "execution_count": null,
   "metadata": {},
   "outputs": [],
   "source": []
  }
 ],
 "metadata": {
  "kernelspec": {
   "display_name": "Python 3",
   "language": "python",
   "name": "python3"
  },
  "language_info": {
   "codemirror_mode": {
    "name": "ipython",
    "version": 3
   },
   "file_extension": ".py",
   "mimetype": "text/x-python",
   "name": "python",
   "nbconvert_exporter": "python",
   "pygments_lexer": "ipython3",
   "version": "3.8.3"
  }
 },
 "nbformat": 4,
 "nbformat_minor": 4
}
