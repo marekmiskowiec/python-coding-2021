{
 "cells": [
  {
   "cell_type": "markdown",
   "metadata": {},
   "source": [
    "# Python: Typ znakowy - zadania"
   ]
  },
  {
   "cell_type": "markdown",
   "metadata": {},
   "source": [
    "### Type String Input\n",
    "1. Poproś użytkownika o wprowadzenie tekstu\n",
    "1. Wypisz liczbę znaków"
   ]
  },
  {
   "cell_type": "code",
   "execution_count": 1,
   "metadata": {},
   "outputs": [
    {
     "name": "stdout",
     "output_type": "stream",
     "text": [
      "Podaj tekst: hello\n"
     ]
    },
    {
     "data": {
      "text/plain": [
       "5"
      ]
     },
     "execution_count": 1,
     "metadata": {},
     "output_type": "execute_result"
    }
   ],
   "source": [
    "text = input('Podaj tekst: ')\n",
    "len(text)"
   ]
  },
  {
   "cell_type": "markdown",
   "metadata": {},
   "source": [
    "### Type String Emoticon\n",
    "\n",
    "1. Poproś użytkownika o wprowadzenie imienia\n",
    "1. Wypisz ``hello NAME EMOTICON``, gdzie:\n",
    "\n",
    "    * NAME to imię wczytane od użytkownika\n",
    "    * EMOTICON to Unicode Codepoint \"\\U0001F642\""
   ]
  },
  {
   "cell_type": "code",
   "execution_count": 2,
   "metadata": {},
   "outputs": [
    {
     "name": "stdout",
     "output_type": "stream",
     "text": [
      "Podaj imie: Jan Twardowski\n",
      "hello Jan Twardowski 🙂\n"
     ]
    }
   ],
   "source": [
    "imie = input('Podaj imie: ')\n",
    "\n",
    "print(f'hello {imie} \\U0001F642')"
   ]
  },
  {
   "cell_type": "markdown",
   "metadata": {},
   "source": [
    "### Type String Quotes\n",
    "\n",
    "1. Poproś użytkownika o wprowadzenie imienia\n",
    "1. Do wypisania użyj f-string formatting\n",
    "1. Zauważ, że druga linijka zaczyna się od tabulacji\n",
    "1. Wartość ``NAME`` w podwójnych cudzysłowach to ciąg od użytkownika\n",
    "1. Zwróć uwagę na znaki apostrofów, cudzysłowów, tabulacji i nowych linii\n",
    "1. Nie używaj spacji ani entera - użyj ``\\n`` i ``\\t``\n",
    "1. Nie korzystaj z dodawania stringów (``str + str``)\n",
    "1. Porównaj wyniki z sekcją \"Output\" (patrz poniżej)\n",
    "\n",
    "Output:\n",
    "```\n",
    "'''My name... \"NAME\".\n",
    "    I'm an \"\"\"astronaut!\"\"\"'''\n",
    "```"
   ]
  },
  {
   "cell_type": "code",
   "execution_count": 6,
   "metadata": {
    "scrolled": true
   },
   "outputs": [
    {
     "name": "stdout",
     "output_type": "stream",
     "text": [
      "Podaj imie: Jan Twardowski\n",
      "'''My name... \"Jan Twardowski\".\n",
      "\tI'm an \"\"\"astronaut!\"\"\"'''\n"
     ]
    }
   ],
   "source": [
    "imie = input('Podaj imie: ')\n",
    "text = f\"'''My name... \\\"{imie}\\\".\\n\\tI'm an \\\"\\\"\\\"astronaut!\\\"\\\"\\\"'''\"\n",
    "\n",
    "print(text)"
   ]
  },
  {
   "cell_type": "markdown",
   "metadata": {},
   "source": [
    "### Type String Normalize\n",
    "\n",
    "1. Dla danego tekstu: ``UL. jana \\tTWArdoWskIEGO 3``\n",
    "1. Wykorzystaj metody ``str`` do oczyszczenia\n",
    "1. Oczekiwana wartość ``Jana Twardowskiego III``"
   ]
  },
  {
   "cell_type": "code",
   "execution_count": 41,
   "metadata": {},
   "outputs": [
    {
     "data": {
      "text/plain": [
       "(True, 'Jana Twardowskiego III')"
      ]
     },
     "execution_count": 41,
     "metadata": {},
     "output_type": "execute_result"
    }
   ],
   "source": [
    "text = 'UL. jana \\tTWArdoWskIEGO 3'\n",
    "expected = 'Jana Twardowskiego III'\n",
    "\n",
    "text = text.upper()\n",
    "text = text.replace('\\t', '')\n",
    "text = text.replace('.', '')\n",
    "text = text.replace('UL', '')\n",
    "text = text.title()\n",
    "text = text.replace('3', 'III')\n",
    "text = text.strip()\n",
    "\n",
    "text == expected, text"
   ]
  },
  {
   "cell_type": "markdown",
   "metadata": {},
   "source": [
    "### Type String Clean\n",
    "\n",
    "1. Użyj danych z sekcji \"Input\" (patrz poniżej)\n",
    "1. Oczekiwana wartość ``Jana III Sobieskiego``\n",
    "1. Wykorzystaj tylko metody ``str`` do oczyszczenia każdej zmiennej\n",
    "1. Przeprowadź dyskusję jak zrobić rozwiązanie generyczne pasujące do wszystkich przypadków\n",
    "1. Implementacja takiej generycznej funkcji będzie w rozdziale :ref:`Cleaning text input`\n",
    "1. Porównaj wyniki z sekcją \"Output\" (patrz poniżej)\n",
    "\n",
    "Input:\n",
    "```\n",
    "a = 'ul Jana III SobIESkiego'\n",
    "b = '\\tul. Jana trzeciego Sobieskiego'\n",
    "c = 'ulicaJana III Sobieskiego'\n",
    "d = 'UL. JANA 3 \\nSOBIESKIEGO'\n",
    "e = 'UL. jana III SOBiesKIEGO'\n",
    "f = 'ULICA JANA III SOBIESKIEGO  '\n",
    "g = 'ULICA. JANA III SOBIeskieGO'\n",
    "h = ' Jana 3 Sobieskiego  '\n",
    "i = 'Jana III Sobi\\teskiego '\n",
    "\n",
    "a = a.replace('ul', '').title().replace('Iii', 'III').strip()\n",
    "b = b\n",
    "c = c\n",
    "d = d\n",
    "e = e\n",
    "f = f\n",
    "g = g\n",
    "h = h\n",
    "i = i\n",
    "\n",
    "expected = 'Jana III Sobieskiego'\n",
    "\n",
    "print(f'{a == expected}\\ta = \"{a}\"')\n",
    "print(f'{b == expected}\\tb = \"{b}\"')\n",
    "print(f'{c == expected}\\tc = \"{c}\"')\n",
    "print(f'{d == expected}\\td = \"{d}\"')\n",
    "print(f'{e == expected}\\te = \"{e}\"')\n",
    "print(f'{f == expected}\\tf = \"{f}\"')\n",
    "print(f'{g == expected}\\tg = \"{g}\"')\n",
    "print(f'{h == expected}\\th = \"{h}\"')\n",
    "print(f'{i == expected}\\ti = \"{i}\"')\n",
    "```\n",
    "\n",
    "Output:\n",
    "```\n",
    "True\ta = \"Jana III Sobieskiego\"\n",
    "True\tb = \"Jana III Sobieskiego\"\n",
    "True\tc = \"Jana III Sobieskiego\"\n",
    "True\td = \"Jana III Sobieskiego\"\n",
    "True\te = \"Jana III Sobieskiego\"\n",
    "True\tf = \"Jana III Sobieskiego\"\n",
    "True\tg = \"Jana III Sobieskiego\"\n",
    "True\th = \"Jana III Sobieskiego\"\n",
    "True\ti = \"Jana III Sobieskiego\"\n",
    "```"
   ]
  },
  {
   "cell_type": "code",
   "execution_count": 47,
   "metadata": {},
   "outputs": [
    {
     "name": "stdout",
     "output_type": "stream",
     "text": [
      "True\ta = \"Jana III Sobieskiego\"\n",
      "True\tb = \"Jana III Sobieskiego\"\n",
      "True\tc = \"Jana III Sobieskiego\"\n",
      "True\td = \"Jana III Sobieskiego\"\n",
      "True\te = \"Jana III Sobieskiego\"\n",
      "True\tf = \"Jana III Sobieskiego\"\n",
      "True\tg = \"Jana III Sobieskiego\"\n",
      "True\th = \"Jana III Sobieskiego\"\n",
      "True\ti = \"Jana III Sobieskiego\"\n"
     ]
    }
   ],
   "source": [
    "a = 'ul Jana III SobIESkiego'\n",
    "b = '\\tul. Jana trzeciego Sobieskiego'\n",
    "c = 'ulicaJana III Sobieskiego'\n",
    "d = 'UL. JANA 3 \\nSOBIESKIEGO'\n",
    "e = 'UL. jana III SOBiesKIEGO'\n",
    "f = 'ULICA JANA III SOBIESKIEGO  '\n",
    "g = 'ULICA. JANA III SOBIeskieGO'\n",
    "h = ' Jana 3 Sobieskiego  '\n",
    "i = 'Jana III Sobi\\teskiego '\n",
    "\n",
    "a = a.upper().replace('\\t', '').replace('\\n', '').replace('.', '').replace('ULICA', '').replace('UL', '').title().strip().replace('Iii', 'III').replace('3', 'III').replace('Trzeciego', 'III')\n",
    "b = b.upper().replace('\\t', '').replace('\\n', '').replace('.', '').replace('ULICA', '').replace('UL', '').title().strip().replace('Iii', 'III').replace('3', 'III').replace('Trzeciego', 'III')\n",
    "c = c.upper().replace('\\t', '').replace('\\n', '').replace('.', '').replace('ULICA', '').replace('UL', '').title().strip().replace('Iii', 'III').replace('3', 'III').replace('Trzeciego', 'III')\n",
    "d = d.upper().replace('\\t', '').replace('\\n', '').replace('.', '').replace('ULICA', '').replace('UL', '').title().strip().replace('Iii', 'III').replace('3', 'III').replace('Trzeciego', 'III')\n",
    "e = e.upper().replace('\\t', '').replace('\\n', '').replace('.', '').replace('ULICA', '').replace('UL', '').title().strip().replace('Iii', 'III').replace('3', 'III').replace('Trzeciego', 'III')\n",
    "f = f.upper().replace('\\t', '').replace('\\n', '').replace('.', '').replace('ULICA', '').replace('UL', '').title().strip().replace('Iii', 'III').replace('3', 'III').replace('Trzeciego', 'III')\n",
    "g = g.upper().replace('\\t', '').replace('\\n', '').replace('.', '').replace('ULICA', '').replace('UL', '').title().strip().replace('Iii', 'III').replace('3', 'III').replace('Trzeciego', 'III')\n",
    "h = h.upper().replace('\\t', '').replace('\\n', '').replace('.', '').replace('ULICA', '').replace('UL', '').title().strip().replace('Iii', 'III').replace('3', 'III').replace('Trzeciego', 'III')\n",
    "i = i.upper().replace('\\t', '').replace('\\n', '').replace('.', '').replace('ULICA', '').replace('UL', '').title().strip().replace('Iii', 'III').replace('3', 'III').replace('Trzeciego', 'III')\n",
    "\n",
    "expected = 'Jana III Sobieskiego'\n",
    "\n",
    "print(f'{a == expected}\\ta = \"{a}\"')\n",
    "print(f'{b == expected}\\tb = \"{b}\"')\n",
    "print(f'{c == expected}\\tc = \"{c}\"')\n",
    "print(f'{d == expected}\\td = \"{d}\"')\n",
    "print(f'{e == expected}\\te = \"{e}\"')\n",
    "print(f'{f == expected}\\tf = \"{f}\"')\n",
    "print(f'{g == expected}\\tg = \"{g}\"')\n",
    "print(f'{h == expected}\\th = \"{h}\"')\n",
    "print(f'{i == expected}\\ti = \"{i}\"')"
   ]
  },
  {
   "cell_type": "code",
   "execution_count": null,
   "metadata": {},
   "outputs": [],
   "source": []
  }
 ],
 "metadata": {
  "kernelspec": {
   "display_name": "Python 3",
   "language": "python",
   "name": "python3"
  },
  "language_info": {
   "codemirror_mode": {
    "name": "ipython",
    "version": 3
   },
   "file_extension": ".py",
   "mimetype": "text/x-python",
   "name": "python",
   "nbconvert_exporter": "python",
   "pygments_lexer": "ipython3",
   "version": "3.8.3"
  }
 },
 "nbformat": 4,
 "nbformat_minor": 4
}
