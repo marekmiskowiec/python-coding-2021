{
 "cells": [
  {
   "cell_type": "markdown",
   "metadata": {},
   "source": [
    "# Pandas - series - zadania"
   ]
  },
  {
   "cell_type": "markdown",
   "metadata": {},
   "source": [
    "## Series Sample\n",
    "\n",
    "1. Ustaw ziarno losowości na zero\n",
    "1. Stwórz ``pd.Series`` z 100 losowymi liczbami z rozkładu normalnego\n",
    "1. Indeksem w serii mają być kolejne dni od 2000 roku\n",
    "1. Wypisz wartości:\n",
    "\n",
    "    * pierwszy w serii,\n",
    "    * ostatnie 5 elementów w serii,\n",
    "    * dwa pierwsze tygodnie w serii,\n",
    "    * ostatni miesiąc w serii,\n",
    "    * trzy losowe element,\n",
    "    * 125% losowych elementów z powtórzeniami.\n",
    "\n",
    "Podpowiedź:\n",
    "    * ``np.random.seed(0)``\n",
    "    * ``np.random.randn(n)``"
   ]
  },
  {
   "cell_type": "code",
   "execution_count": null,
   "metadata": {},
   "outputs": [],
   "source": []
  },
  {
   "cell_type": "markdown",
   "metadata": {},
   "source": [
    "## Series Getitem\n",
    "\n",
    "1. Ustaw ziarno losowości na zero\n",
    "1. Stwórz ``pd.Series`` z 100 losowymi liczbami z rozkładu normalnego\n",
    "1. Indeksem w serii mają być kolejne dni od 2000 roku\n",
    "1. Wypisz wartości:\n",
    "\n",
    "    * dnia 2000-02-29,\n",
    "    * pierwszą wartość w serii (nie używając ``.head()``),\n",
    "    * ostatnią wartość w serii (nie używając ``.tail()``),\n",
    "    * środkowa wartość serii.\n",
    "\n",
    "Podpowiedź:\n",
    "    * ``np.random.seed(0)``\n",
    "    * ``np.random.randn(10)``\n"
   ]
  },
  {
   "cell_type": "code",
   "execution_count": null,
   "metadata": {},
   "outputs": [],
   "source": []
  },
  {
   "cell_type": "markdown",
   "metadata": {},
   "source": [
    "## Series Slice Datetime\n",
    "\n",
    "1. Ustaw ziarno losowości na zero\n",
    "1. Stwórz ``pd.Series`` z 100 losowymi liczbami z rozkładu normalnego\n",
    "1. Indeksem w serii mają być kolejne dni od 2000 roku\n",
    "1. Wytnij daty od 2000-02-14 do końca lutego 2000\n",
    "1. Porównaj wyniki z sekcją \"Output\" (patrz poniżej)\n",
    "\n",
    "Oczekiwany wynik:\n",
    "```python\n",
    "s: pd.Series\n",
    "# 2000-02-14   -0.509652\n",
    "# 2000-02-15   -0.438074\n",
    "# 2000-02-16   -1.252795\n",
    "# 2000-02-17    0.777490\n",
    "# 2000-02-18   -1.613898\n",
    "# 2000-02-19   -0.212740\n",
    "# 2000-02-20   -0.895467\n",
    "# 2000-02-21    0.386902\n",
    "# 2000-02-22   -0.510805\n",
    "# 2000-02-23   -1.180632\n",
    "# 2000-02-24   -0.028182\n",
    "# 2000-02-25    0.428332\n",
    "# 2000-02-26    0.066517\n",
    "# 2000-02-27    0.302472\n",
    "# 2000-02-28   -0.634322\n",
    "# 2000-02-29   -0.362741\n",
    "# Freq: D, dtype: float64\n",
    "```\n",
    "\n",
    "Podpowiedź:\n",
    "    * ``np.random.seed(0)``\n",
    "    * ``np.random.randn(10)``"
   ]
  },
  {
   "cell_type": "code",
   "execution_count": null,
   "metadata": {},
   "outputs": [],
   "source": []
  },
  {
   "cell_type": "markdown",
   "metadata": {},
   "source": [
    "## Slicing Slice Str\n",
    "\n",
    "1. Użyj danych z sekcji \"Input\" (patrz poniżej)\n",
    "1. Stwórz ``pd.Series`` z 26 losowymi liczbami całkowitymi z przedziału ``<10; 100)``\n",
    "1. Nazwij indeksy jak kolejne litery alfabetu ASCII (``ascii_lowercase: str``)\n",
    "1. Znajdź środkową literę alfabetu\n",
    "1. Wytnij z serii po 3 elementy w górę i w dół od wyszukanego środka\n",
    "1. Porównaj wyniki z sekcją \"Output\" (patrz poniżej)\n",
    "\n",
    "Oczekiwany wynik:\n",
    "```python\n",
    "s: pd.Series\n",
    "# j    97\n",
    "# k    80\n",
    "# l    98\n",
    "# m    98\n",
    "# n    22\n",
    "# o    68\n",
    "# p    75\n",
    "# dtype: int64\n",
    "```\n",
    "\n",
    "Podpowiedź:\n",
    "* ``np.random.randint(..., ..., size=...)``"
   ]
  },
  {
   "cell_type": "code",
   "execution_count": null,
   "metadata": {},
   "outputs": [],
   "source": [
    "ascii_lowercase = 'abcdefghijklmnopqrstuvwxyz'"
   ]
  },
  {
   "cell_type": "markdown",
   "metadata": {},
   "source": [
    "## Series NA\n",
    "\n",
    "1. Użyj danych z sekcji \"Input\" (patrz poniżej)\n",
    "1. Z danych wejściowych stwórz ``pd.Series``\n",
    "1. Wypełnij pierwszą brakującą wartość zerem\n",
    "1. Usuń brakujące wartości\n",
    "1. Zresetuj indeks (bez kopii starego)\n",
    "1. Porównaj wyniki z sekcją \"Output\" (patrz poniżej)\n",
    "\n",
    "Oczekiwany wynik:\n",
    "```\n",
    "s: pd.Series\n",
    "# 0    1.0\n",
    "# 1    0.0\n",
    "# 2    5.0\n",
    "# 3    1.0\n",
    "# 4    2.0\n",
    "# 5    1.0\n",
    "# dtype: float64\n",
    "```"
   ]
  },
  {
   "cell_type": "code",
   "execution_count": null,
   "metadata": {},
   "outputs": [],
   "source": [
    "DATA = [1, None, 5, None, 1, 2, 1]"
   ]
  },
  {
   "cell_type": "markdown",
   "metadata": {},
   "source": [
    "## Series Alter\n",
    "\n",
    "1. Użyj danych z sekcji \"Input\" (patrz poniżej)\n",
    "1. Z danych wejściowych stwórz ``pd.Series``\n",
    "1. Usuń wartości na indeksach 2, 4, 6\n",
    "1. Usuń duplikujące się wartości\n",
    "1. Zresetuj indeks (bez kopii starego)\n",
    "1. Wypisz serię\n",
    "\n",
    "Oczekiwany wynik:\n",
    "```python\n",
    "s: pd.Series\n",
    "# 0    1.0\n",
    "# 1    NaN\n",
    "# 2    2.0\n",
    "# dtype: float64\n",
    "```"
   ]
  },
  {
   "cell_type": "code",
   "execution_count": null,
   "metadata": {},
   "outputs": [],
   "source": [
    "DATA = [1, None, 5, None, 1, 2, 1]"
   ]
  },
  {
   "cell_type": "code",
   "execution_count": null,
   "metadata": {},
   "outputs": [],
   "source": []
  },
  {
   "cell_type": "markdown",
   "metadata": {},
   "source": [
    "## Series Mapping Clean\n",
    "\n",
    "1. Użyj danych z sekcji \"Input\" (patrz poniżej)\n",
    "1. Przekonwertuj ``DATA`` (patrz sekcja input) do ``pd.Series``\n",
    "1. Napisz funkcję czyszczącą dane\n",
    "1. Funkcja przyjmuje jeden argument typu ``str``\n",
    "1. Funkcja zwraca oczyszczony tekst\n",
    "1. Zaaplikuj funkcję na wszystkich elementach ``pd.Series``\n",
    "1. Porównaj wyniki z sekcją \"Output\" (patrz poniżej)\n",
    "\n",
    "Oczekiwany wynik:\n",
    "```python\n",
    "s: pd.Series\n",
    "# 0               Mieszka II\n",
    "# 1        Zygmunta III Wazy\n",
    "# 2      Bolesława Chrobrego\n",
    "# 3     Jana III Sobieskiego\n",
    "# 4     Jana III Sobieskiego\n",
    "# 5     Jana III Sobieskiego\n",
    "# 6     Jana III Sobieskiego\n",
    "# 7     Jana III Sobieskiego\n",
    "# 8     Jana III Sobieskiego\n",
    "# 9     Jana III Sobieskiego\n",
    "# 10    Jana III Sobieskiego\n",
    "# dtype: object\n",
    "```"
   ]
  },
  {
   "cell_type": "code",
   "execution_count": null,
   "metadata": {},
   "outputs": [],
   "source": [
    "DATA = [\n",
    "    'ul.Mieszka II',\n",
    "    'UL. Zygmunta III WaZY',\n",
    "    '  bolesława chrobrego ',\n",
    "    'ul Jana III SobIESkiego',\n",
    "    '\\tul. Jana trzeciego Sobieskiego',\n",
    "    'ulicaJana III Sobieskiego',\n",
    "    'UL. JA    NA 3 SOBIES  KIEGO',\n",
    "    'ULICA JANA III SOBIESKIEGO  ',\n",
    "    'ULICA. JANA III SOBIeskieGO',\n",
    "    ' Jana 3 Sobieskiego  ',\n",
    "    'Jana III Sobi  eskiego ',\n",
    "]"
   ]
  }
 ],
 "metadata": {
  "kernelspec": {
   "display_name": "Python 3",
   "language": "python",
   "name": "python3"
  },
  "language_info": {
   "codemirror_mode": {
    "name": "ipython",
    "version": 3
   },
   "file_extension": ".py",
   "mimetype": "text/x-python",
   "name": "python",
   "nbconvert_exporter": "python",
   "pygments_lexer": "ipython3",
   "version": "3.8.3"
  }
 },
 "nbformat": 4,
 "nbformat_minor": 4
}
