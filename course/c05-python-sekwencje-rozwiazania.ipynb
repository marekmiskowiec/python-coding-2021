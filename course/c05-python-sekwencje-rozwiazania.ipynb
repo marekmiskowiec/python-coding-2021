{
 "cells": [
  {
   "cell_type": "markdown",
   "metadata": {},
   "source": [
    "# Python: Sekwencje - zadania"
   ]
  },
  {
   "cell_type": "markdown",
   "metadata": {},
   "source": [
    "## Sequence List Create\n",
    "\n",
    "1. Stwórz listę ``result`` z elementami:\n",
    "\n",
    "    * 'a'\n",
    "    * 1\n",
    "    * 2.2\n",
    "\n",
    "1. Wypisz ``result``\n",
    "1. Wypisz liczbę elementów ``result``"
   ]
  },
  {
   "cell_type": "code",
   "execution_count": 1,
   "metadata": {},
   "outputs": [
    {
     "name": "stdout",
     "output_type": "stream",
     "text": [
      "['a', 1, 2.2]\n"
     ]
    },
    {
     "data": {
      "text/plain": [
       "3"
      ]
     },
     "execution_count": 1,
     "metadata": {},
     "output_type": "execute_result"
    }
   ],
   "source": [
    "result = ['a', 1, 2.2]\n",
    "\n",
    "print(result)\n",
    "len(result)"
   ]
  },
  {
   "cell_type": "markdown",
   "metadata": {},
   "source": [
    "## Sequence List Many\n",
    "1. Użyj danych z sekcji \"Input\" (patrz poniżej)\n",
    "1. Stwórz listę ``a`` z danymi z wiersza 1\n",
    "1. Stwórz listę ``b`` z danymi z wiersza 2\n",
    "1. Stwórz listę ``c`` z danymi z wiersza 3\n",
    "1. Nie używaj wartości z kolumny \"Row\"\n",
    "\n",
    "Input:\n",
    "\n",
    "|Nr|Sepal length|Sepal width|Petal length|Petal width|Species|\n",
    "|-|-|-|-|-|-|\n",
    "|1|5.8|2.7|5.1|1.9|virginica|\n",
    "|2|5.1|3.5|1.4|0.2|setosa|\n",
    "|3|5.7|2.8|4.1|1.3|versicolor|\n"
   ]
  },
  {
   "cell_type": "code",
   "execution_count": null,
   "metadata": {},
   "outputs": [],
   "source": [
    "a = [5.8, 2.7, 5.1, 1.9, 'virginica']\n",
    "b = [5.1, 3.5, 1.4, 0.2, 'setosa']\n",
    "c = [5.7, 2.8, 4.1,. 1.3, 'versicolor']"
   ]
  },
  {
   "cell_type": "markdown",
   "metadata": {},
   "source": [
    "## Sequence List Modify\n",
    "\n",
    "1. Użyj danych z sekcji \"Input\" (patrz poniżej)\n",
    "1. Na początek ``a`` wstaw ostatni element wyciągnięty z ``b``\n",
    "1. Na koniec ``b`` wstaw ostatni element wyciągnięty z ``a``\n",
    "1. Do wyciągnięcia używaj ``list.pop()``\n",
    "1. Z listy ``c`` za pomocą ``del`` usuń last element\n",
    "1. Porównaj wyniki z sekcją \"Output\" (patrz poniżej)\n",
    "\n",
    "Input:\n",
    "```python\n",
    "a = [4.7, 3.2, 1.3, 0.2, 'setosa']\n",
    "b = [7.0, 3.2, 4.7, 1.4, 'versicolor']\n",
    "c = [7.6, 3.0, 6.6, 2.1, 'virginica']\n",
    "```\n",
    "\n",
    "Output:\n",
    "```python\n",
    "a = ['versicolor', 4.7, 3.2, 1.3, 0.2]\n",
    "b = [7.0, 3.2, 4.7, 1.4, 'setosa']\n",
    "c = [7.6, 3.0, 6.6, 2.1]\n",
    "```"
   ]
  },
  {
   "cell_type": "code",
   "execution_count": 2,
   "metadata": {},
   "outputs": [],
   "source": [
    "a = [4.7, 3.2, 1.3, 0.2, 'setosa']\n",
    "b = [7.0, 3.2, 4.7, 1.4, 'versicolor']\n",
    "c = [7.6, 3.0, 6.6, 2.1, 'virginica']\n",
    "\n",
    "a.insert(0, b.pop())\n",
    "b.append(a.pop())\n",
    "del c[4]"
   ]
  },
  {
   "cell_type": "code",
   "execution_count": 5,
   "metadata": {},
   "outputs": [
    {
     "data": {
      "text/plain": [
       "[7.6, 3.0, 6.6, 2.1]"
      ]
     },
     "execution_count": 5,
     "metadata": {},
     "output_type": "execute_result"
    }
   ],
   "source": [
    "c"
   ]
  },
  {
   "cell_type": "markdown",
   "metadata": {},
   "source": [
    "## Sequence Tuple Create\n",
    "\n",
    "1. Stwórz tuple ``result`` z elementami:\n",
    "\n",
    "    * 'a'\n",
    "    * 1\n",
    "    * 2.2\n",
    "\n",
    "1. Wypisz ``result``\n",
    "1. Wypisz liczbę elementów ``result``"
   ]
  },
  {
   "cell_type": "code",
   "execution_count": 7,
   "metadata": {},
   "outputs": [
    {
     "name": "stdout",
     "output_type": "stream",
     "text": [
      "('a', 1, 2.2)\n"
     ]
    },
    {
     "data": {
      "text/plain": [
       "3"
      ]
     },
     "execution_count": 7,
     "metadata": {},
     "output_type": "execute_result"
    }
   ],
   "source": [
    "result = ('a', 1, 2.2)\n",
    "print(result)\n",
    "len(result)"
   ]
  },
  {
   "cell_type": "markdown",
   "metadata": {},
   "source": [
    "## Sequence Tuple Many\n",
    "\n",
    "1. Użyj danych z sekcji \"Input\" (patrz poniżej)\n",
    "1. Stwórz ``tuple`` z nazwami gatunków\n",
    "1. Wylicz średnią arytmetyczną dla każdej z kolumn numerycznych\n",
    "1. Uwaga nie przepisuj danych!\n",
    "    \n",
    "    * do przekonwertowania tabelki wykorzystaj zaznaczanie wielu linijek za pomocą klawisza ``alt`` w Twoim IDE\n",
    "    * aby to zrobić zaznacz tabelkę i skopiuj jej zawartość\n",
    "    * wklej do komórki z kodem\n",
    "    * trzymając klawisz `alt` zaznacz pionowo kolumnę\n",
    "    * skopiuj dane i wklej poniżej np. do wewnątrz stworzonej uprzednio tupli\n",
    "    * zwróć uwagę, że możesz pisać w wielu linijkach na raz\n",
    "    * zobacz na filmik z rozwiązaniem gdzie prezentuję ten sposób\n",
    "    * jeżeli skrót Ci nie działa, to wykonaj zadanie tylko dla wartości pierwszej kolumny, tj. \"Sepal Length\"\n",
    "\n",
    "Input:\n",
    "\n",
    "|Sepal length|Sepal width|Petal length|Petal width|Species|\n",
    "|-|-|-|-|-|\n",
    "|5.8|2.7|5.1|1.9|virginica|\n",
    "|5.1|3.5|1.4|0.2|setosa|\n",
    "|5.7|2.8|4.1|1.3|versicolor|\n",
    "|6.3|2.9|5.6|1.8|virginica|\n",
    "|6.4|3.2|4.5|1.5|versicolor|\n",
    "|4.7|3.2|1.3|0.2|setosa|\n",
    "|7.0|3.2|4.7|1.4|versicolor|\n",
    "|7.6|3.0|6.6|2.1|virginica|\n",
    "|4.9|3.0|1.4|0.2|setosa|\n",
    "|4.9|2.5|4.5|1.7|virginica|\n",
    "|7.1|3.0|5.9|2.1|virginica|\n",
    "\n",
    "Podpowiedź:\n",
    "\n",
    "* ``mean = sum(...) / len(...)``"
   ]
  },
  {
   "cell_type": "code",
   "execution_count": 8,
   "metadata": {},
   "outputs": [
    {
     "name": "stdout",
     "output_type": "stream",
     "text": [
      "5.954545454545454\n",
      "3.0\n",
      "4.1\n",
      "1.3090909090909089\n"
     ]
    }
   ],
   "source": [
    "sepal_length = (5.8, 5.1, 5.7, 6.3, 6.4, 4.7, 7.0, 7.6, 4.9, 4.9, 7.1)\n",
    "mean = sum(sepal_length) / len(sepal_length)\n",
    "print(mean)\n",
    "\n",
    "sepal_width = (2.7, 3.5, 2.8, 2.9, 3.2, 3.2, 3.2, 3.0, 3.0, 2.5, 3.0)\n",
    "mean = sum(sepal_width) / len(sepal_width)\n",
    "print(mean)\n",
    "\n",
    "petal_lenght = (5.1, 1.4, 4.1, 5.6, 4.5, 1.3, 4.7, 6.6, 1.4, 4.5, 5.9)\n",
    "mean = sum(petal_lenght) / len(petal_lenght)\n",
    "print(mean)\n",
    "\n",
    "petal_width = (1.9, 0.2, 1.3, 1.8, 1.5, 0.2, 1.4, 2.1, 0.2, 1.7, 2.1)\n",
    "mean = sum(petal_width) / len(petal_width)\n",
    "print(mean)\n",
    "\n",
    "\n",
    "species = ('virginica', 'setosa', 'versicolor', 'virginica', 'versicolor', 'setosa', 'versicolor', 'virginica', 'setosa', 'virginica', 'virginica', )"
   ]
  },
  {
   "cell_type": "markdown",
   "metadata": {},
   "source": [
    "## Sequence Set Create\n",
    "1. Stwórz zbiór ``result`` z elementami:\n",
    "\n",
    "    * 'a'\n",
    "    * 1\n",
    "    * 2.2\n",
    "\n",
    "1. Wypisz ``result``\n",
    "1. Wypisz liczbę elementów ``result``"
   ]
  },
  {
   "cell_type": "code",
   "execution_count": 9,
   "metadata": {},
   "outputs": [
    {
     "name": "stdout",
     "output_type": "stream",
     "text": [
      "{'a', 2.2, 1}\n"
     ]
    },
    {
     "data": {
      "text/plain": [
       "3"
      ]
     },
     "execution_count": 9,
     "metadata": {},
     "output_type": "execute_result"
    }
   ],
   "source": [
    "result = {'a', 1, 2.2}\n",
    "print(result)\n",
    "len(result)"
   ]
  },
  {
   "cell_type": "markdown",
   "metadata": {},
   "source": [
    "## Sequence Set Many\n",
    "\n",
    "1. Użyj danych z sekcji \"Input\" (patrz poniżej)\n",
    "1. Stwórz zbiór ``result`` reprezentujący pierwszy wiersz\n",
    "1. Wartości z drugiego wiersza dodawaj do ``result`` używając ``.add()``\n",
    "1. Na podstawie trzeciego wiersza stwórz ``set`` i dodaj go do ``result`` używając ``.update()``\n",
    "1. Na podstawie czwartego wiersza stwórz ``tuple`` i dodaj go do ``result`` używając ``.update()``\n",
    "1. Na podstawie piątego wiersza stwórz ``list`` i dodaj go do ``result`` używając ``.update()``\n",
    "1. Wypis ``result``\n",
    "1. Porównaj wyniki z sekcją \"Output\" (patrz poniżej)\n",
    "\n",
    "Input:\n",
    "\n",
    "|Nr|Sepal Length|Sepal Width|Petal Length|Petal Width|\n",
    "|-|-|-|-|-|\n",
    "|1|5.8|2.7|5.1|1.9|\n",
    "|2|5.1|3.5|1.4|0.2|\n",
    "|3|5.7|2.8|4.1|1.3|\n",
    "|4|6.3|2.9|5.6|1.8|\n",
    "|5|6.4|3.2|4.5|1.5|\n",
    "\n",
    "\n",
    "Output:\n",
    "```python\n",
    "result: set\n",
    "# {0.2, 1.9, 2.7, 3.5, 1.4, 5.8, 5.1, 1.3, 2.8, 4.1, 5.7, 6.3, 5.6, 6.4, 1.5, 4.5, 3.2, 1.8, 2.9}\n",
    "```"
   ]
  },
  {
   "cell_type": "code",
   "execution_count": 10,
   "metadata": {},
   "outputs": [
    {
     "name": "stdout",
     "output_type": "stream",
     "text": [
      "{0.2, 1.9, 2.7, 3.5, 1.4, 5.8, 5.1, 1.3, 2.8, 4.1, 5.7, 6.3, 5.6, 6.4, 1.5, 4.5, 3.2, 1.8, 2.9}\n"
     ]
    }
   ],
   "source": [
    "result = {5.8, 2.7, 5.1, 1.9}\n",
    "result.add(5.1)\n",
    "result.add(3.5)\n",
    "result.add(1.4)\n",
    "result.add(0.2)\n",
    "\n",
    "result.update({5.7, 2.8, 4.1, 1.3})\n",
    "result.update((6.3, 2.9, 5.6, 1.8))\n",
    "result.update([6.4, 3.2, 4.5, 1.5])\n",
    "\n",
    "print(result)"
   ]
  },
  {
   "cell_type": "markdown",
   "metadata": {},
   "source": [
    "## Sequence Nested Create\n",
    "\n",
    "1. Stwórz zagnieżdżoną sekwencję ``result`` z elementami:\n",
    "\n",
    "    * krotka: 1, 2, 3\n",
    "    * lista: 1.1, 2.2, 3.3\n",
    "    * zbiór: 'Mark Watney', 'Melissa Lewis', 'Jan Twardowski'\n",
    "\n",
    "1. Wypisz ``result``\n",
    "1. Wypisz liczbę elementów ``result``"
   ]
  },
  {
   "cell_type": "code",
   "execution_count": 12,
   "metadata": {},
   "outputs": [
    {
     "name": "stdout",
     "output_type": "stream",
     "text": [
      "[(1, 2, 3), [1.1, 2.2, 3.3], {'Jan Twardowski', 'Melissa Lewis', 'Mark Watney'}]\n"
     ]
    },
    {
     "data": {
      "text/plain": [
       "3"
      ]
     },
     "execution_count": 12,
     "metadata": {},
     "output_type": "execute_result"
    }
   ],
   "source": [
    "result = [\n",
    "    (1,2,3),\n",
    "    [1.1, 2.2, 3.3],\n",
    "    {'Mark Watney', 'Melissa Lewis', 'Jan Twardowski'},\n",
    "]\n",
    "\n",
    "print(result)\n",
    "len(result)"
   ]
  },
  {
   "cell_type": "markdown",
   "metadata": {},
   "source": [
    "## Sequence Getitem Select\n",
    "\n",
    "1. Użyj danych z sekcji \"Input\" (patrz poniżej)\n",
    "1. Odseparuj nagłówek od danych (wiersz o indeksie 0)\n",
    "1. Zapisz nagłówek (pierwsza linia) do zmiennej ``header: tuple``\n",
    "1. Stwórz ``result: list``\n",
    "1. Wybierz wiersz o indeksie 5, przekonwertuj go do listy i dodaj do ``result``\n",
    "1. Wybierz wiersz o indeksie 10, przekonwertuj go do tuple i dodaj do ``result``\n",
    "1. Wybierz wiersz o indeksie -10, przekonwertuj go do set i dodaj do ``result``\n",
    "1. Wybierz wiersz o indeksie -5, przekonwertuj go do frozenset i dodaj do ``result``\n",
    "1. Dodaj na koniec ``result``: pustą ``list``, pustą ``tuple``, pusty ``set``, pusty ``frozenset``\n",
    "1. Korzystaj tylko z indeksów i nie używaj ``for``, ``while`` lub ``slice()``\n",
    "1. Porównaj wyniki z sekcją \"Output\" (patrz poniżej)\n",
    "\n",
    "Input:\n",
    "```python\n",
    "DATA = [\n",
    "    ('Sepal length', 'Sepal width', 'Petal length', 'Petal width', 'Species'),\n",
    "    (5.8, 2.7, 5.1, 1.9, 'virginica'),\n",
    "    (5.1, 3.5, 1.4, 0.2, 'setosa'),\n",
    "    (5.7, 2.8, 4.1, 1.3, 'versicolor'),\n",
    "    (6.3, 2.9, 5.6, 1.8, 'virginica'),\n",
    "    (6.4, 3.2, 4.5, 1.5, 'versicolor'),\n",
    "    (4.7, 3.2, 1.3, 0.2, 'setosa'),\n",
    "    (7.0, 3.2, 4.7, 1.4, 'versicolor'),\n",
    "    (7.6, 3.0, 6.6, 2.1, 'virginica'),\n",
    "    (4.9, 3.0, 1.4, 0.2, 'setosa'),\n",
    "    (4.9, 2.5, 4.5, 1.7, 'virginica'),\n",
    "    (7.1, 3.0, 5.9, 2.1, 'virginica'),\n",
    "    (4.6, 3.4, 1.4, 0.3, 'setosa'),\n",
    "    (5.4, 3.9, 1.7, 0.4, 'setosa'),\n",
    "    (5.7, 2.8, 4.5, 1.3, 'versicolor'),\n",
    "    (5.0, 3.6, 1.4, 0.3, 'setosa'),\n",
    "    (5.5, 2.3, 4.0, 1.3, 'versicolor'),\n",
    "    (6.5, 3.0, 5.8, 2.2, 'virginica'),\n",
    "    (6.5, 2.8, 4.6, 1.5, 'versicolor'),\n",
    "    (6.3, 3.3, 6.0, 2.5, 'virginica'),\n",
    "    (6.9, 3.1, 4.9, 1.5, 'versicolor'),\n",
    "    (4.6, 3.1, 1.5, 0.2, 'setosa'),\n",
    "]\n",
    "```\n",
    "\n",
    "Output:\n",
    "```python\n",
    "header: tuple\n",
    "# ('Sepal length', 'Sepal width', 'Petal length', 'Petal width', 'Species')\n",
    "\n",
    "result: list\n",
    "# [[6.4, 3.2, 4.5, 1.5, 'versicolor'],\n",
    "#  (4.9, 2.5, 4.5, 1.7, 'virginica'),\n",
    "#  {0.3, 1.4, 3.4, 4.6, 'setosa'},\n",
    "#  frozenset({2.2, 3.0, 5.8, 6.5, 'virginica'}),\n",
    "#  [],\n",
    "#  (),\n",
    "#  set(),\n",
    "#  frozenset()]\n",
    "```\n",
    "\n",
    "Podpowiedź:\n",
    "* ``from pprint import pprint``\n",
    "* ``pprint(result)``"
   ]
  },
  {
   "cell_type": "code",
   "execution_count": 14,
   "metadata": {},
   "outputs": [
    {
     "name": "stdout",
     "output_type": "stream",
     "text": [
      "[[6.4, 3.2, 4.5, 1.5, 'versicolor'], (4.9, 2.5, 4.5, 1.7, 'virginica'), {0.3, 1.4, 3.4, 4.6, 'setosa'}, frozenset({2.2, 3.0, 5.8, 6.5, 'virginica'}), [], (), set(), frozenset()]\n"
     ]
    }
   ],
   "source": [
    "DATA = [\n",
    "    ('Sepal length', 'Sepal width', 'Petal length', 'Petal width', 'Species'),\n",
    "    (5.8, 2.7, 5.1, 1.9, 'virginica'),\n",
    "    (5.1, 3.5, 1.4, 0.2, 'setosa'),\n",
    "    (5.7, 2.8, 4.1, 1.3, 'versicolor'),\n",
    "    (6.3, 2.9, 5.6, 1.8, 'virginica'),\n",
    "    (6.4, 3.2, 4.5, 1.5, 'versicolor'),\n",
    "    (4.7, 3.2, 1.3, 0.2, 'setosa'),\n",
    "    (7.0, 3.2, 4.7, 1.4, 'versicolor'),\n",
    "    (7.6, 3.0, 6.6, 2.1, 'virginica'),\n",
    "    (4.9, 3.0, 1.4, 0.2, 'setosa'),\n",
    "    (4.9, 2.5, 4.5, 1.7, 'virginica'),\n",
    "    (7.1, 3.0, 5.9, 2.1, 'virginica'),\n",
    "    (4.6, 3.4, 1.4, 0.3, 'setosa'),\n",
    "    (5.4, 3.9, 1.7, 0.4, 'setosa'),\n",
    "    (5.7, 2.8, 4.5, 1.3, 'versicolor'),\n",
    "    (5.0, 3.6, 1.4, 0.3, 'setosa'),\n",
    "    (5.5, 2.3, 4.0, 1.3, 'versicolor'),\n",
    "    (6.5, 3.0, 5.8, 2.2, 'virginica'),\n",
    "    (6.5, 2.8, 4.6, 1.5, 'versicolor'),\n",
    "    (6.3, 3.3, 6.0, 2.5, 'virginica'),\n",
    "    (6.9, 3.1, 4.9, 1.5, 'versicolor'),\n",
    "    (4.6, 3.1, 1.5, 0.2, 'setosa'),\n",
    "]\n",
    "\n",
    "header = DATA[0]\n",
    "result = []\n",
    "\n",
    "# Wybierz wiersz o indeksie 5, przekonwertuj go do listy i dodaj do result\n",
    "# Wybierz wiersz o indeksie 10, przekonwertuj go do tuple i dodaj do result\n",
    "# Wybierz wiersz o indeksie -10, przekonwertuj go do set i dodaj do result\n",
    "# Wybierz wiersz o indeksie -5, przekonwertuj go do frozenset i dodaj do result\n",
    "# Dodaj na koniec result: pustą list, pustą tuple, pusty set, pusty frozenset\n",
    "# Korzystaj tylko z indeksów i nie używaj for, while lub slice()\n",
    "# Porównaj wyniki z sekcją \"Output\" (patrz poniżej)\n",
    "\n",
    "result.append(list(DATA[5]))\n",
    "result.append(tuple(DATA[10]))\n",
    "result.append(set(DATA[-10]))\n",
    "result.append(frozenset(DATA[-5]))\n",
    "result.append([])\n",
    "result.append(())\n",
    "result.append(set())\n",
    "result.append(frozenset())\n",
    "\n",
    "print(result)"
   ]
  },
  {
   "cell_type": "markdown",
   "metadata": {},
   "source": [
    "## Sequence Slice Substr\n",
    "\n",
    "1. Użyj danych z sekcji \"Input\" (patrz poniżej)\n",
    "1. Używając ``str.find()`` oraz wycinania\n",
    "1. Wypisz ``TEXT`` bez tekstu z ``REMOVE``\n",
    "1. Porównaj wyniki z sekcją \"Output\" (patrz poniżej)\n",
    "\n",
    "Input:\n",
    "```python\n",
    "TEXT = 'We choose to go to the Moon!'\n",
    "REMOVE = 'to go to '\n",
    "```"
   ]
  },
  {
   "cell_type": "code",
   "execution_count": 17,
   "metadata": {},
   "outputs": [
    {
     "data": {
      "text/plain": [
       "'We choose the Moon!'"
      ]
     },
     "execution_count": 17,
     "metadata": {},
     "output_type": "execute_result"
    }
   ],
   "source": [
    "TEXT = 'We choose to go to the Moon!'\n",
    "REMOVE = 'to go to '\n",
    "\n",
    "start = TEXT.find(REMOVE)\n",
    "end = start + len(REMOVE)\n",
    "\n",
    "TEXT[:start] + TEXT[end:]"
   ]
  },
  {
   "cell_type": "markdown",
   "metadata": {},
   "source": [
    "## Sequence Slice Sequence\n",
    "\n",
    "1. Stwórz tuplę ``a`` z cyframi: 0, 1, 2, 3\n",
    "1. Stwórz listę ``b`` z cyframi: 2, 3, 4, 5\n",
    "1. Stwórz zbiór ``result`` z co drugim elementem ``a`` i ``b``\n",
    "1. Wypisz ``result``\n",
    "1. Porównaj wyniki z sekcją \"Output\" (patrz poniżej)\n",
    "\n",
    "Output:\n",
    "```python\n",
    "result: set\n",
    "# {0, 2, 4}\n",
    "```"
   ]
  },
  {
   "cell_type": "code",
   "execution_count": 21,
   "metadata": {},
   "outputs": [
    {
     "data": {
      "text/plain": [
       "{0, 2, 4}"
      ]
     },
     "execution_count": 21,
     "metadata": {},
     "output_type": "execute_result"
    }
   ],
   "source": [
    "a = (0, 1, 2, 3)\n",
    "b = [2,3,4,5]\n",
    "\n",
    "result = set()\n",
    "result.update(a[::2])\n",
    "result.update(b[::2])\n",
    "\n",
    "result"
   ]
  },
  {
   "cell_type": "markdown",
   "metadata": {},
   "source": [
    "## Sequence Slice Text\n",
    "\n",
    "1. Użyj danych z sekcji \"Input\" (patrz poniżej)\n",
    "1. Usuń tytuł naukowy i stopień wojskowy z każdej zmiennej\n",
    "1. Usuń również białe znaki na początku i końcu tekstu\n",
    "1. Użyj tylko ``slice`` do oczyszczenia tekstu\n",
    "1. Porównaj wyniki z sekcją \"Output\" (patrz poniżej)\n",
    "\n",
    "Przykład:\n",
    "```python\n",
    "example = 'lt. Mark Watney, PhD'\n",
    "example[4:-5]\n",
    "# 'Mark Watney'\n",
    "```\n",
    "\n",
    "Input:\n",
    "```python\n",
    "a = 'dr hab. inż. Jan Twardowski, prof. AATC'\n",
    "b = 'gen. pil. Jan Twardowski'\n",
    "c = 'Mark Watney, PhD'\n",
    "d = 'lt. col. ret. Melissa Lewis'\n",
    "e = 'dr n. med. Ryan Stone'\n",
    "f = 'Ryan Stone, MD-PhD'\n",
    "g = 'lt. col. Jan Twardowski\\t'\n",
    "```\n",
    "\n",
    "Output:\n",
    "```python\n",
    "print(a == 'Jan Twardowski')       # True\n",
    "print(b == 'Jan Twardowski')       # True\n",
    "print(c == 'Mark Watney')          # True\n",
    "print(d == 'Melissa Lewis')        # True\n",
    "print(e == 'Ryan Stone')           # True\n",
    "print(f == 'Ryan Stone')           # True\n",
    "print(g == 'Jan Twardowski')       # True\n",
    "```"
   ]
  },
  {
   "cell_type": "code",
   "execution_count": 36,
   "metadata": {},
   "outputs": [
    {
     "name": "stdout",
     "output_type": "stream",
     "text": [
      ">>Jan Twardowski<< True\n",
      ">>Jan Twardowski<< True\n",
      ">>Mark Watney<< True\n",
      ">>Melissa Lewis<< True\n",
      ">>Ryan Stone<< True\n",
      ">>Ryan Stone<< True\n",
      ">>Jan Twardowski<< True\n"
     ]
    }
   ],
   "source": [
    "a = 'dr hab. inż. Jan Twardowski, prof. AATC'\n",
    "b = 'gen. pil. Jan Twardowski'\n",
    "c = 'Mark Watney, PhD'\n",
    "d = 'lt. col. ret. Melissa Lewis'\n",
    "e = 'dr n. med. Ryan Stone'\n",
    "f = 'Ryan Stone, MD-PhD'\n",
    "g = 'lt. col. Jan Twardowski\\t'\n",
    "\n",
    "a = a[13:-12]\n",
    "b = b[10:]\n",
    "c = c[:-5]\n",
    "d = d[14:]\n",
    "e = e[11:]\n",
    "f = f[:-8]\n",
    "g = g[9:-1]\n",
    "\n",
    "\n",
    "print(f'>>{a}<<', a == 'Jan Twardowski')       # True\n",
    "print(f'>>{b}<<', b == 'Jan Twardowski')       # True\n",
    "print(f'>>{c}<<', c == 'Mark Watney')          # True\n",
    "print(f'>>{d}<<', d == 'Melissa Lewis')        # True\n",
    "print(f'>>{e}<<', e == 'Ryan Stone')           # True\n",
    "print(f'>>{f}<<', f == 'Ryan Stone')           # True\n",
    "print(f'>>{g}<<', g == 'Jan Twardowski')       # True"
   ]
  },
  {
   "cell_type": "markdown",
   "metadata": {},
   "source": [
    "## Sequence Slice Split\n",
    "\n",
    "1. Użyj danych z sekcji \"Input\" (patrz poniżej)\n",
    "1. Odseparuj nagłówek od danych\n",
    "1. Zapisz nagłówek (pierwsza linia) do zmiennej ``header``\n",
    "1. Zapisz dane bez nagłówka do zmiennej ``data``\n",
    "1. Wylicz punkt podziału: ilość rekordów w ``data`` razy PROCENT (proporcja podziału poniżej)\n",
    "1. Podziel ``data`` na dwie listy:\n",
    "\n",
    "    * ``train``: 60% - dane do uczenia\n",
    "    * ``test``: 40% - dane do testów\n",
    "\n",
    "1. Z ``data`` zapisz do uczenia rekordy od początku do punktu podziału\n",
    "1. Z ``data`` zapisz do testów rekordy od punktu podziału do końca\n",
    "1. Porównaj wyniki z sekcją \"Output\" (patrz poniżej)\n",
    "\n",
    "Input:\n",
    "```python\n",
    "DATA = [\n",
    "    ('Sepal length', 'Sepal width', 'Petal length', 'Petal width', 'Species'),\n",
    "    (5.8, 2.7, 5.1, 1.9, 'virginica'),\n",
    "    (5.1, 3.5, 1.4, 0.2, 'setosa'),\n",
    "    (5.7, 2.8, 4.1, 1.3, 'versicolor'),\n",
    "    (6.3, 2.9, 5.6, 1.8, 'virginica'),\n",
    "    (6.4, 3.2, 4.5, 1.5, 'versicolor'),\n",
    "    (4.7, 3.2, 1.3, 0.2, 'setosa'),\n",
    "    (7.0, 3.2, 4.7, 1.4, 'versicolor'),\n",
    "    (7.6, 3.0, 6.6, 2.1, 'virginica'),\n",
    "    (4.9, 3.0, 1.4, 0.2, 'setosa'),\n",
    "    (4.9, 2.5, 4.5, 1.7, 'virginica'),\n",
    "    (7.1, 3.0, 5.9, 2.1, 'virginica'),\n",
    "    (4.6, 3.4, 1.4, 0.3, 'setosa'),\n",
    "    (5.4, 3.9, 1.7, 0.4, 'setosa'),\n",
    "    (5.7, 2.8, 4.5, 1.3, 'versicolor'),\n",
    "    (5.0, 3.6, 1.4, 0.3, 'setosa'),\n",
    "    (5.5, 2.3, 4.0, 1.3, 'versicolor'),\n",
    "    (6.5, 3.0, 5.8, 2.2, 'virginica'),\n",
    "    (6.5, 2.8, 4.6, 1.5, 'versicolor'),\n",
    "    (6.3, 3.3, 6.0, 2.5, 'virginica'),\n",
    "    (6.9, 3.1, 4.9, 1.5, 'versicolor'),\n",
    "    (4.6, 3.1, 1.5, 0.2, 'setosa'),\n",
    "]\n",
    "```\n",
    "\n",
    "Output:\n",
    "```python\n",
    "header: tuple\n",
    "# ('Sepal length', 'Sepal width', 'Petal length', 'Petal width', 'Species')\n",
    "\n",
    "train: List[tuple]\n",
    "# [(5.8, 2.7, 5.1, 1.9, 'virginica'),\n",
    "#  (5.1, 3.5, 1.4, 0.2, 'setosa'),\n",
    "#  (5.7, 2.8, 4.1, 1.3, 'versicolor'),\n",
    "#  (6.3, 2.9, 5.6, 1.8, 'virginica'),\n",
    "#  (6.4, 3.2, 4.5, 1.5, 'versicolor'),\n",
    "#  (4.7, 3.2, 1.3, 0.2, 'setosa'),\n",
    "#  (7.0, 3.2, 4.7, 1.4, 'versicolor'),\n",
    "#  (7.6, 3.0, 6.6, 2.1, 'virginica'),\n",
    "#  (4.9, 3.0, 1.4, 0.2, 'setosa'),\n",
    "#  (4.9, 2.5, 4.5, 1.7, 'virginica'),\n",
    "#  (7.1, 3.0, 5.9, 2.1, 'virginica'),\n",
    "#  (4.6, 3.4, 1.4, 0.3, 'setosa')]\n",
    "\n",
    "test: List[tuple]\n",
    "# [(5.4, 3.9, 1.7, 0.4, 'setosa'),\n",
    "#  (5.7, 2.8, 4.5, 1.3, 'versicolor'),\n",
    "#  (5.0, 3.6, 1.4, 0.3, 'setosa'),\n",
    "#  (5.5, 2.3, 4.0, 1.3, 'versicolor'),\n",
    "#  (6.5, 3.0, 5.8, 2.2, 'virginica'),\n",
    "#  (6.5, 2.8, 4.6, 1.5, 'versicolor'),\n",
    "#  (6.3, 3.3, 6.0, 2.5, 'virginica'),\n",
    "#  (6.9, 3.1, 4.9, 1.5, 'versicolor'),\n",
    "#  (4.6, 3.1, 1.5, 0.2, 'setosa')]\n",
    "```"
   ]
  },
  {
   "cell_type": "code",
   "execution_count": 42,
   "metadata": {},
   "outputs": [
    {
     "data": {
      "text/plain": [
       "[(5.4, 3.9, 1.7, 0.4, 'setosa'),\n",
       " (5.7, 2.8, 4.5, 1.3, 'versicolor'),\n",
       " (5.0, 3.6, 1.4, 0.3, 'setosa'),\n",
       " (5.5, 2.3, 4.0, 1.3, 'versicolor'),\n",
       " (6.5, 3.0, 5.8, 2.2, 'virginica'),\n",
       " (6.5, 2.8, 4.6, 1.5, 'versicolor'),\n",
       " (6.3, 3.3, 6.0, 2.5, 'virginica'),\n",
       " (6.9, 3.1, 4.9, 1.5, 'versicolor'),\n",
       " (4.6, 3.1, 1.5, 0.2, 'setosa')]"
      ]
     },
     "execution_count": 42,
     "metadata": {},
     "output_type": "execute_result"
    }
   ],
   "source": [
    "DATA = [\n",
    "    ('Sepal length', 'Sepal width', 'Petal length', 'Petal width', 'Species'),\n",
    "    (5.8, 2.7, 5.1, 1.9, 'virginica'),\n",
    "    (5.1, 3.5, 1.4, 0.2, 'setosa'),\n",
    "    (5.7, 2.8, 4.1, 1.3, 'versicolor'),\n",
    "    (6.3, 2.9, 5.6, 1.8, 'virginica'),\n",
    "    (6.4, 3.2, 4.5, 1.5, 'versicolor'),\n",
    "    (4.7, 3.2, 1.3, 0.2, 'setosa'),\n",
    "    (7.0, 3.2, 4.7, 1.4, 'versicolor'),\n",
    "    (7.6, 3.0, 6.6, 2.1, 'virginica'),\n",
    "    (4.9, 3.0, 1.4, 0.2, 'setosa'),\n",
    "    (4.9, 2.5, 4.5, 1.7, 'virginica'),\n",
    "    (7.1, 3.0, 5.9, 2.1, 'virginica'),\n",
    "    (4.6, 3.4, 1.4, 0.3, 'setosa'),\n",
    "    (5.4, 3.9, 1.7, 0.4, 'setosa'),\n",
    "    (5.7, 2.8, 4.5, 1.3, 'versicolor'),\n",
    "    (5.0, 3.6, 1.4, 0.3, 'setosa'),\n",
    "    (5.5, 2.3, 4.0, 1.3, 'versicolor'),\n",
    "    (6.5, 3.0, 5.8, 2.2, 'virginica'),\n",
    "    (6.5, 2.8, 4.6, 1.5, 'versicolor'),\n",
    "    (6.3, 3.3, 6.0, 2.5, 'virginica'),\n",
    "    (6.9, 3.1, 4.9, 1.5, 'versicolor'),\n",
    "    (4.6, 3.1, 1.5, 0.2, 'setosa'),\n",
    "]\n",
    "\n",
    "RATIO = 0.6\n",
    "\n",
    "header = DATA[0]\n",
    "data = DATA[1:]\n",
    "\n",
    "punkt_podzialu = int(len(data) * RATIO)\n",
    "\n",
    "train = data[:punkt_podzialu]\n",
    "test = data[punkt_podzialu:]\n",
    "\n",
    "test"
   ]
  },
  {
   "cell_type": "markdown",
   "metadata": {},
   "source": [
    "## Sequence Unpacking Flat\n",
    "\n",
    "1. Użyj danych z sekcji \"Input\" (patrz poniżej)\n",
    "1. Używając ``str.split()`` podziel dane wejściowe po białych znakach\n",
    "1. Odseparuj adres ip i nazw hostów\n",
    "1. Skorzystaj z notacji z gwiazdką ``*``\n",
    "1. Porównaj wyniki z sekcją \"Output\" (patrz poniżej)\n",
    "\n",
    "Input:\n",
    "```python\n",
    "DATA = '10.13.37.1      nasa.gov esa.int roscosmos.ru'\n",
    "```\n",
    "\n",
    "Output:\n",
    "```python\n",
    "ip: str\n",
    "# 10.13.37.1\n",
    "\n",
    "hosts: list\n",
    "# ['nasa.gov', 'esa.int', 'roscosmos.ru']\n",
    "```\n",
    "\n",
    "Podpowiedź:\n",
    "\n",
    "* ``str.split()``"
   ]
  },
  {
   "cell_type": "code",
   "execution_count": 50,
   "metadata": {},
   "outputs": [],
   "source": [
    "DATA = '10.13.37.1      nasa.gov esa.int roscosmos.ru'\n",
    "\n",
    "\n",
    "ip, *hosts = DATA.split()"
   ]
  },
  {
   "cell_type": "markdown",
   "metadata": {},
   "source": [
    "## Sequence Unpacking Nested\n",
    "\n",
    "1. Użyj danych z sekcji \"Input\" (patrz poniżej)\n",
    "1. Odseparuj nagłówek od danych\n",
    "1. Skorzystaj z konstrukcji z gwiazdką ``*``\n",
    "1. Porównaj wyniki z sekcją \"Output\" (patrz poniżej)\n",
    "\n",
    "Input:\n",
    "```python\n",
    "DATA = [\n",
    "    ('Sepal length', 'Sepal width', 'Petal length', 'Petal width', 'Species'),\n",
    "    (5.8, 2.7, 5.1, 1.9, 'virginica'),\n",
    "    (5.1, 3.5, 1.4, 0.2, 'setosa'),\n",
    "    (5.7, 2.8, 4.1, 1.3, 'versicolor'),\n",
    "    (6.3, 2.9, 5.6, 1.8, 'virginica'),\n",
    "    (6.4, 3.2, 4.5, 1.5, 'versicolor'),\n",
    "    (4.7, 3.2, 1.3, 0.2, 'setosa'),\n",
    "    (7.0, 3.2, 4.7, 1.4, 'versicolor'),\n",
    "    (7.6, 3.0, 6.6, 2.1, 'virginica'),\n",
    "    (4.9, 3.0, 1.4, 0.2, 'setosa'),\n",
    "    (4.9, 2.5, 4.5, 1.7, 'virginica'),\n",
    "    (7.1, 3.0, 5.9, 2.1, 'virginica'),\n",
    "    (4.6, 3.4, 1.4, 0.3, 'setosa'),\n",
    "    (5.4, 3.9, 1.7, 0.4, 'setosa'),\n",
    "    (5.7, 2.8, 4.5, 1.3, 'versicolor'),\n",
    "    (5.0, 3.6, 1.4, 0.3, 'setosa'),\n",
    "    (5.5, 2.3, 4.0, 1.3, 'versicolor'),\n",
    "    (6.5, 3.0, 5.8, 2.2, 'virginica'),\n",
    "    (6.5, 2.8, 4.6, 1.5, 'versicolor'),\n",
    "    (6.3, 3.3, 6.0, 2.5, 'virginica'),\n",
    "    (6.9, 3.1, 4.9, 1.5, 'versicolor'),\n",
    "    (4.6, 3.1, 1.5, 0.2, 'setosa'),\n",
    "]\n",
    "```\n",
    "\n",
    "Output:\n",
    "```python\n",
    "header: tuple\n",
    "# ('Sepal length', 'Sepal width', 'Petal length', 'Petal width', 'Species')\n",
    "\n",
    "data: list\n",
    "# [\n",
    "#   (5.8, 2.7, 5.1, 1.9, 'virginica'),\n",
    "#   (5.1, 3.5, 1.4, 0.2, 'setosa'),\n",
    "#   (5.7, 2.8, 4.1, 1.3, 'versicolor'),\n",
    "#   ...\n",
    "# ]\n",
    "```"
   ]
  },
  {
   "cell_type": "code",
   "execution_count": 53,
   "metadata": {},
   "outputs": [
    {
     "data": {
      "text/plain": [
       "[(5.8, 2.7, 5.1, 1.9, 'virginica'),\n",
       " (5.1, 3.5, 1.4, 0.2, 'setosa'),\n",
       " (5.7, 2.8, 4.1, 1.3, 'versicolor'),\n",
       " (6.3, 2.9, 5.6, 1.8, 'virginica'),\n",
       " (6.4, 3.2, 4.5, 1.5, 'versicolor'),\n",
       " (4.7, 3.2, 1.3, 0.2, 'setosa'),\n",
       " (7.0, 3.2, 4.7, 1.4, 'versicolor'),\n",
       " (7.6, 3.0, 6.6, 2.1, 'virginica'),\n",
       " (4.9, 3.0, 1.4, 0.2, 'setosa'),\n",
       " (4.9, 2.5, 4.5, 1.7, 'virginica'),\n",
       " (7.1, 3.0, 5.9, 2.1, 'virginica'),\n",
       " (4.6, 3.4, 1.4, 0.3, 'setosa'),\n",
       " (5.4, 3.9, 1.7, 0.4, 'setosa'),\n",
       " (5.7, 2.8, 4.5, 1.3, 'versicolor'),\n",
       " (5.0, 3.6, 1.4, 0.3, 'setosa'),\n",
       " (5.5, 2.3, 4.0, 1.3, 'versicolor'),\n",
       " (6.5, 3.0, 5.8, 2.2, 'virginica'),\n",
       " (6.5, 2.8, 4.6, 1.5, 'versicolor'),\n",
       " (6.3, 3.3, 6.0, 2.5, 'virginica'),\n",
       " (6.9, 3.1, 4.9, 1.5, 'versicolor'),\n",
       " (4.6, 3.1, 1.5, 0.2, 'setosa')]"
      ]
     },
     "execution_count": 53,
     "metadata": {},
     "output_type": "execute_result"
    }
   ],
   "source": [
    "DATA = [\n",
    "    ('Sepal length', 'Sepal width', 'Petal length', 'Petal width', 'Species'),\n",
    "    (5.8, 2.7, 5.1, 1.9, 'virginica'),\n",
    "    (5.1, 3.5, 1.4, 0.2, 'setosa'),\n",
    "    (5.7, 2.8, 4.1, 1.3, 'versicolor'),\n",
    "    (6.3, 2.9, 5.6, 1.8, 'virginica'),\n",
    "    (6.4, 3.2, 4.5, 1.5, 'versicolor'),\n",
    "    (4.7, 3.2, 1.3, 0.2, 'setosa'),\n",
    "    (7.0, 3.2, 4.7, 1.4, 'versicolor'),\n",
    "    (7.6, 3.0, 6.6, 2.1, 'virginica'),\n",
    "    (4.9, 3.0, 1.4, 0.2, 'setosa'),\n",
    "    (4.9, 2.5, 4.5, 1.7, 'virginica'),\n",
    "    (7.1, 3.0, 5.9, 2.1, 'virginica'),\n",
    "    (4.6, 3.4, 1.4, 0.3, 'setosa'),\n",
    "    (5.4, 3.9, 1.7, 0.4, 'setosa'),\n",
    "    (5.7, 2.8, 4.5, 1.3, 'versicolor'),\n",
    "    (5.0, 3.6, 1.4, 0.3, 'setosa'),\n",
    "    (5.5, 2.3, 4.0, 1.3, 'versicolor'),\n",
    "    (6.5, 3.0, 5.8, 2.2, 'virginica'),\n",
    "    (6.5, 2.8, 4.6, 1.5, 'versicolor'),\n",
    "    (6.3, 3.3, 6.0, 2.5, 'virginica'),\n",
    "    (6.9, 3.1, 4.9, 1.5, 'versicolor'),\n",
    "    (4.6, 3.1, 1.5, 0.2, 'setosa'),\n",
    "]\n",
    "\n",
    "header, *data = DATA\n",
    "\n",
    "data"
   ]
  }
 ],
 "metadata": {
  "kernelspec": {
   "display_name": "Python 3",
   "language": "python",
   "name": "python3"
  },
  "language_info": {
   "codemirror_mode": {
    "name": "ipython",
    "version": 3
   },
   "file_extension": ".py",
   "mimetype": "text/x-python",
   "name": "python",
   "nbconvert_exporter": "python",
   "pygments_lexer": "ipython3",
   "version": "3.8.3"
  }
 },
 "nbformat": 4,
 "nbformat_minor": 4
}
