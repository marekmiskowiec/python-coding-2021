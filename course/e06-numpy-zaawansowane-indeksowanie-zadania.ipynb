{
 "cells": [
  {
   "cell_type": "markdown",
   "metadata": {},
   "source": [
    "# NumPy - Zaawansowane Indeksowanie - zadania"
   ]
  },
  {
   "cell_type": "code",
   "execution_count": null,
   "metadata": {},
   "outputs": [],
   "source": [
    "import numpy as np"
   ]
  },
  {
   "cell_type": "markdown",
   "metadata": {},
   "source": [
    "## Numpy Select\n",
    "\n",
    "1. Ustaw ziarno losowości na 0\n",
    "1. Wygeneruj ``a: ndarray`` rozmiaru 50x50\n",
    "1. ``a`` musi zawierać losowe liczby całkowite z zakresu od 0 do 1024 włącznie\n",
    "1. Stwórz ``result: ndarray`` z elementami wybranymi z ``a``, które są potęgami dwójki\n",
    "1. Posortuj ``result`` w kolejności malejącej\n",
    "1. Wypisz ``result``\n",
    "\n",
    "Hint:\n",
    "* ``np.isin(a, b)``\n",
    "* ``np.flip(a)``"
   ]
  },
  {
   "cell_type": "code",
   "execution_count": null,
   "metadata": {},
   "outputs": [],
   "source": []
  }
 ],
 "metadata": {
  "kernelspec": {
   "display_name": "Python 3",
   "language": "python",
   "name": "python3"
  },
  "language_info": {
   "codemirror_mode": {
    "name": "ipython",
    "version": 3
   },
   "file_extension": ".py",
   "mimetype": "text/x-python",
   "name": "python",
   "nbconvert_exporter": "python",
   "pygments_lexer": "ipython3",
   "version": "3.8.3"
  }
 },
 "nbformat": 4,
 "nbformat_minor": 4
}
