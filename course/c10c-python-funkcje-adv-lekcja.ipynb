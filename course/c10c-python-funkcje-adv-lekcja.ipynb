{
 "cells": [
  {
   "cell_type": "markdown",
   "metadata": {},
   "source": [
    "# Python: Funkcje - zaawansowane"
   ]
  },
  {
   "cell_type": "code",
   "execution_count": 1,
   "metadata": {},
   "outputs": [],
   "source": [
    "import inspect\n",
    "from doctest import testmod"
   ]
  },
  {
   "cell_type": "markdown",
   "metadata": {},
   "source": [
    "## Zakres widoczności zmiennych\n",
    "\n",
    "* zmienne lokalne\n",
    "* zmienne globalne"
   ]
  },
  {
   "cell_type": "code",
   "execution_count": 2,
   "metadata": {},
   "outputs": [
    {
     "name": "stdout",
     "output_type": "stream",
     "text": [
      "b: 2\n",
      "c: 2\n"
     ]
    }
   ],
   "source": [
    "a = 1\n",
    "\n",
    "\n",
    "def echo():\n",
    "    b = 2\n",
    "    print('b:', b)\n",
    "    return b\n",
    "\n",
    "\n",
    "c = echo()\n",
    "print('c:', c)"
   ]
  },
  {
   "cell_type": "code",
   "execution_count": 3,
   "metadata": {},
   "outputs": [
    {
     "name": "stdout",
     "output_type": "stream",
     "text": [
      "wew: 2\n",
      "zew: 1\n"
     ]
    }
   ],
   "source": [
    "a = 1\n",
    "\n",
    "\n",
    "def echo():\n",
    "    a = 2\n",
    "    print('wew:', a)\n",
    "\n",
    "\n",
    "echo()\n",
    "print('zew:', a)"
   ]
  },
  {
   "cell_type": "code",
   "execution_count": 4,
   "metadata": {},
   "outputs": [
    {
     "name": "stdout",
     "output_type": "stream",
     "text": [
      "wew: 2\n",
      "zew: 2\n"
     ]
    }
   ],
   "source": [
    "a = 1\n",
    "\n",
    "\n",
    "def echo():\n",
    "    global a\n",
    "    a = 2\n",
    "    print('wew:', a)\n",
    "\n",
    "\n",
    "echo()\n",
    "print('zew:', a)"
   ]
  },
  {
   "cell_type": "code",
   "execution_count": 5,
   "metadata": {},
   "outputs": [
    {
     "name": "stdout",
     "output_type": "stream",
     "text": [
      "{'x': 1, 'args': (), 'kwargs': {}, 'a': 2, 'b': 3}\n"
     ]
    }
   ],
   "source": [
    "a = 1\n",
    "\n",
    "\n",
    "def echo(x=1, *args, **kwargs):\n",
    "    a = 2\n",
    "    b = 3\n",
    "    print(locals())\n",
    "\n",
    "\n",
    "echo()"
   ]
  },
  {
   "cell_type": "code",
   "execution_count": 6,
   "metadata": {
    "scrolled": true
   },
   "outputs": [
    {
     "data": {
      "text/plain": [
       "dict"
      ]
     },
     "execution_count": 6,
     "metadata": {},
     "output_type": "execute_result"
    }
   ],
   "source": [
    "result = locals()\n",
    "type(result)"
   ]
  },
  {
   "cell_type": "markdown",
   "metadata": {},
   "source": [
    "## Rekurencja\n",
    "\n",
    "* rekurencja i rekursja\n",
    "* przykład\n",
    "* limit głębokości\n",
    "\n",
    "```python\n",
    "factorial(5)                                    # = 120\n",
    "    return 5 * factorial(4)                     # 5 * 24 = 120\n",
    "        return 4 * factorial(3)                 # 4 * 6 = 24\n",
    "            return 3 * factorial(2)             # 3 * 2 = 6\n",
    "                return 2 * factorial(1)         # 2 * 1 = 2\n",
    "                    return 1 * factorial(0)     # 1 * 1 = 1\n",
    "                        return 1                # 1\n",
    "```"
   ]
  },
  {
   "cell_type": "code",
   "execution_count": 7,
   "metadata": {},
   "outputs": [
    {
     "name": "stdout",
     "output_type": "stream",
     "text": [
      "557 µs ± 19.6 µs per loop (mean ± std. dev. of 10 runs, 1000 loops each)\n"
     ]
    }
   ],
   "source": [
    "%%timeit -r 10 -n 1000\n",
    "\n",
    "def silnia(n):\n",
    "    if n == 0:\n",
    "        return 1\n",
    "    \n",
    "    return n * silnia(n-1)\n",
    "\n",
    "\n",
    "silnia(550)\n",
    "silnia(400)\n",
    "silnia(500)\n",
    "silnia(450)"
   ]
  },
  {
   "cell_type": "code",
   "execution_count": 8,
   "metadata": {},
   "outputs": [],
   "source": [
    "import sys\n",
    "sys.setrecursionlimit(2000)"
   ]
  },
  {
   "cell_type": "code",
   "execution_count": 9,
   "metadata": {},
   "outputs": [
    {
     "name": "stdout",
     "output_type": "stream",
     "text": [
      "216 µs ± 17.4 µs per loop (mean ± std. dev. of 10 runs, 1000 loops each)\n"
     ]
    }
   ],
   "source": [
    "%%timeit -r 10 -n 1000\n",
    "\n",
    "_cache = {}\n",
    "\n",
    "def silnia(n):\n",
    "    if n == 0:\n",
    "        return 1\n",
    "    \n",
    "    if n in _cache:\n",
    "        return _cache[n]\n",
    "    else:\n",
    "        result = n * silnia(n-1)\n",
    "        _cache[n] = result\n",
    "        return result\n",
    "    \n",
    "    \n",
    "silnia(550)\n",
    "silnia(400)\n",
    "silnia(500)\n",
    "silnia(450)"
   ]
  },
  {
   "cell_type": "markdown",
   "metadata": {},
   "source": [
    "## Doktesty\n",
    "\n",
    "* składnia\n",
    "* uruchamianie\n",
    "* testowanie typów numerycznych (`int`, `float`)\n",
    "* testowanie typów logicznych (`bool`, `None`)\n",
    "* testowanie typu znakowego (`str`) i drukowania (`print`)\n",
    "* testowanie sekwencji (`list`, `tuple`, `set`) i słowników (`dict`)\n",
    "* testowanie wyjątków\n",
    "* testowanie instrukcji blokowych"
   ]
  },
  {
   "cell_type": "code",
   "execution_count": 10,
   "metadata": {},
   "outputs": [
    {
     "data": {
      "text/plain": [
       "TestResults(failed=0, attempted=6)"
      ]
     },
     "execution_count": 10,
     "metadata": {},
     "output_type": "execute_result"
    }
   ],
   "source": [
    "def add(a, b):\n",
    "    \"\"\"Funkcja sumuje dwie liczby (tylko int i float)\n",
    "    \n",
    "    >>> add(1, 2)\n",
    "    3\n",
    "    \n",
    "    >>> add(1.5, 2.5)\n",
    "    4.0\n",
    "    \n",
    "    >>> add('a', 1)\n",
    "    Traceback (most recent call last):\n",
    "        ...\n",
    "    TypeError: a musi być int lub float\n",
    "    \n",
    "    >>> add(1, 'b')\n",
    "    Traceback (most recent call last):\n",
    "        ...\n",
    "    TypeError: b musi być int lub float\n",
    "    \n",
    "    >>> add([1], [2])\n",
    "    Traceback (most recent call last):\n",
    "        ...\n",
    "    TypeError: a musi być int lub float\n",
    "    \n",
    "    >>> add(True, 1)\n",
    "    Traceback (most recent call last):\n",
    "        ...\n",
    "    TypeError: a musi być int lub float\n",
    "    \"\"\"\n",
    "    if type(a) not in (float, int):\n",
    "        raise TypeError('a musi być int lub float')\n",
    "    \n",
    "    if type(b) not in (float, int):\n",
    "        raise TypeError('b musi być int lub float')\n",
    "        \n",
    "    return a + b\n",
    "\n",
    "\n",
    "\n",
    "testmod()"
   ]
  },
  {
   "cell_type": "markdown",
   "metadata": {},
   "source": [
    "## Generatory\n",
    "\n",
    "* `range()` - nie jest generatorem\n",
    "* `zip()`\n",
    "* `enumerate()`\n",
    "* `map()`\n",
    "* `filter()`"
   ]
  },
  {
   "cell_type": "code",
   "execution_count": 11,
   "metadata": {},
   "outputs": [],
   "source": [
    "a = range(0,10)\n",
    "b = (x for x in range(0,10))"
   ]
  },
  {
   "cell_type": "code",
   "execution_count": 12,
   "metadata": {},
   "outputs": [
    {
     "data": {
      "text/plain": [
       "[('a', 1), ('b', 2), ('c', 3)]"
      ]
     },
     "execution_count": 12,
     "metadata": {},
     "output_type": "execute_result"
    }
   ],
   "source": [
    "header = ['a', 'b', 'c']\n",
    "values = [1, 2, 3]\n",
    "\n",
    "result = zip(header, values)\n",
    "list(result)"
   ]
  },
  {
   "cell_type": "code",
   "execution_count": 13,
   "metadata": {},
   "outputs": [
    {
     "data": {
      "text/plain": [
       "[(0, 'a'), (1, 'b'), (2, 'c')]"
      ]
     },
     "execution_count": 13,
     "metadata": {},
     "output_type": "execute_result"
    }
   ],
   "source": [
    "header = ['a', 'b', 'c']\n",
    "\n",
    "result = enumerate(header)\n",
    "list(result)"
   ]
  },
  {
   "cell_type": "code",
   "execution_count": 14,
   "metadata": {
    "scrolled": true
   },
   "outputs": [
    {
     "name": "stdout",
     "output_type": "stream",
     "text": [
      "1.55 µs ± 70.4 ns per loop (mean ± std. dev. of 10 runs, 100000 loops each)\n"
     ]
    }
   ],
   "source": [
    "%%timeit -r 10 -n 100_000\n",
    "\n",
    "data = [1, 2, 3]\n",
    "\n",
    "def cube(x):\n",
    "    return x ** 3\n",
    "\n",
    "    \n",
    "result = map(cube, data)\n",
    "list(result)"
   ]
  },
  {
   "cell_type": "code",
   "execution_count": 15,
   "metadata": {},
   "outputs": [
    {
     "data": {
      "text/plain": [
       "'zazolc gesla jazn'"
      ]
     },
     "execution_count": 15,
     "metadata": {},
     "output_type": "execute_result"
    }
   ],
   "source": [
    "text = 'zażółć gęślą jaźń'\n",
    "\n",
    "PL = {'ą': 'a', 'ć': 'c', 'ę': 'e',\n",
    "      'ł': 'l', 'ń': 'n', 'ó': 'o',\n",
    "      'ś': 's', 'ż': 'z', 'ź': 'z'}\n",
    "\n",
    "\n",
    "def removepl(litera):\n",
    "    return PL.get(litera, litera)\n",
    "\n",
    "\n",
    "result = map(removepl, text)\n",
    "result = ''.join(result)\n",
    "\n",
    "result"
   ]
  },
  {
   "cell_type": "code",
   "execution_count": 16,
   "metadata": {},
   "outputs": [
    {
     "data": {
      "text/plain": [
       "[0, 2, 4, 6]"
      ]
     },
     "execution_count": 16,
     "metadata": {},
     "output_type": "execute_result"
    }
   ],
   "source": [
    "data = [0, 1, 2, 3, 4, 5, 6]\n",
    "\n",
    "def even(x):\n",
    "    return x % 2 == 0\n",
    "\n",
    "\n",
    "result = filter(even, data)\n",
    "list(result)"
   ]
  },
  {
   "cell_type": "code",
   "execution_count": 17,
   "metadata": {},
   "outputs": [
    {
     "data": {
      "text/plain": [
       "[{'is_astronaut': True, 'name': 'Mark Watney'},\n",
       " {'is_astronaut': True, 'name': 'Melissa Lewis'}]"
      ]
     },
     "execution_count": 17,
     "metadata": {},
     "output_type": "execute_result"
    }
   ],
   "source": [
    "people = [\n",
    "    {'is_astronaut': False, 'name': 'Jan Twardowski'},\n",
    "    {'is_astronaut': True, 'name': 'Mark Watney'},\n",
    "    {'is_astronaut': True, 'name': 'Melissa Lewis'}]\n",
    "\n",
    "\n",
    "def astronaut(person):\n",
    "    return person['is_astronaut']\n",
    "\n",
    "\n",
    "result = filter(astronaut, people)\n",
    "list(result)"
   ]
  },
  {
   "cell_type": "markdown",
   "metadata": {},
   "source": [
    "## Funkcje anonimowe\n",
    "\n",
    "* składnia\n",
    "* definicja\n",
    "* konwencje\n",
    "* przypadki użycia"
   ]
  },
  {
   "cell_type": "code",
   "execution_count": 18,
   "metadata": {},
   "outputs": [],
   "source": [
    "cube = lambda x: x**2\n",
    "\n",
    "\n",
    "def cube(x):\n",
    "    return x**2"
   ]
  },
  {
   "cell_type": "code",
   "execution_count": 19,
   "metadata": {},
   "outputs": [],
   "source": [
    "increment = lambda x: x+1\n",
    "\n",
    "\n",
    "def increment(x):\n",
    "    return x+1"
   ]
  },
  {
   "cell_type": "code",
   "execution_count": 20,
   "metadata": {},
   "outputs": [
    {
     "data": {
      "text/plain": [
       "[{'is_astronaut': True, 'name': 'Mark Watney'},\n",
       " {'is_astronaut': True, 'name': 'Melissa Lewis'}]"
      ]
     },
     "execution_count": 20,
     "metadata": {},
     "output_type": "execute_result"
    }
   ],
   "source": [
    "people = [\n",
    "    {'is_astronaut': False, 'name': 'Jan Twardowski'},\n",
    "    {'is_astronaut': True, 'name': 'Mark Watney'},\n",
    "    {'is_astronaut': True, 'name': 'Melissa Lewis'}]\n",
    "\n",
    "\n",
    "result = filter(lambda x: x['is_astronaut'], people)\n",
    "list(result)"
   ]
  },
  {
   "cell_type": "code",
   "execution_count": 21,
   "metadata": {},
   "outputs": [
    {
     "name": "stdout",
     "output_type": "stream",
     "text": [
      "1.59 µs ± 109 ns per loop (mean ± std. dev. of 10 runs, 100000 loops each)\n"
     ]
    }
   ],
   "source": [
    "%%timeit -r 10 -n 100_000\n",
    "\n",
    "data = [1, 2, 3]\n",
    "\n",
    "\n",
    "result = map(lambda x: x**3, data)\n",
    "list(result)"
   ]
  }
 ],
 "metadata": {
  "kernelspec": {
   "display_name": "Python 3",
   "language": "python",
   "name": "python3"
  },
  "language_info": {
   "codemirror_mode": {
    "name": "ipython",
    "version": 3
   },
   "file_extension": ".py",
   "mimetype": "text/x-python",
   "name": "python",
   "nbconvert_exporter": "python",
   "pygments_lexer": "ipython3",
   "version": "3.8.3"
  }
 },
 "nbformat": 4,
 "nbformat_minor": 4
}
