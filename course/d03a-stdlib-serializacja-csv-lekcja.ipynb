{
 "cells": [
  {
   "cell_type": "markdown",
   "metadata": {},
   "source": [
    "# Python Biblioteka Standardowa - serializacja CSV - lekcja"
   ]
  },
  {
   "cell_type": "code",
   "execution_count": 2,
   "metadata": {},
   "outputs": [],
   "source": [
    "import csv"
   ]
  },
  {
   "cell_type": "markdown",
   "metadata": {},
   "source": [
    "## Format\n",
    "\n",
    "* przeznaczenie\n",
    "* zalety\n",
    "* wady\n",
    "* dialekty\n",
    "* separator danych\n",
    "* cudzysłowia i strategie\n",
    "* końce linii"
   ]
  },
  {
   "cell_type": "code",
   "execution_count": null,
   "metadata": {},
   "outputs": [],
   "source": [
    "quoting=csv.QUOTE_MINIMAL\n",
    "delimiter=';'\n",
    "quotechar='\"'\n",
    "lineterminator='\\r\\n'"
   ]
  },
  {
   "cell_type": "markdown",
   "metadata": {},
   "source": [
    "## Zapis danych\n",
    "\n",
    "* ``csv.writer``\n",
    "* ``csv.DictWriter``"
   ]
  },
  {
   "cell_type": "code",
   "execution_count": 13,
   "metadata": {},
   "outputs": [
    {
     "name": "stdout",
     "output_type": "stream",
     "text": [
      "\"Sepal length\";\"Sepal width\";\"Petal length\";\"Petal width\";\"Species\"\r\n",
      "\"5.8\";\"2.7\";\"5.1\";\"1.9\";\"virginica\"\r\n",
      "\"5.1\";\"3.5\";\"1.4\";\"0.2\";\"setosa\"\r\n",
      "\"5.7\";\"2.8\";\"4.1\";\"1.3\";\"versicolor\"\r\n"
     ]
    }
   ],
   "source": [
    "FILE = r'iris-writer.csv'\n",
    "\n",
    "DATA = [\n",
    "    ('Sepal length', 'Sepal width', 'Petal length', 'Petal width', 'Species'),\n",
    "    (5.8, 2.7, 5.1, 1.9, 'virginica'),\n",
    "    (5.1, 3.5, 1.4, 0.2, 'setosa'),\n",
    "    (5.7, 2.8, 4.1, 1.3, 'versicolor'),\n",
    "]\n",
    "\n",
    "with open(FILE, mode='wt', encoding='utf-8') as file:\n",
    "    f = csv.writer(file, quoting=csv.QUOTE_ALL, delimiter=';', quotechar='\"', lineterminator='\\n')\n",
    "    f.writerows(DATA)\n",
    "    \n",
    "!cat $FILE"
   ]
  },
  {
   "cell_type": "code",
   "execution_count": 19,
   "metadata": {},
   "outputs": [
    {
     "name": "stdout",
     "output_type": "stream",
     "text": [
      "\"Sepal Length\";\"Sepal Width\";\"Petal Length\";\"Petal Width\";\"Species\"\r\n",
      "\"5.4\";\"3.9\";\"1.3\";\"0.4\";\"setosa\"\r\n",
      "\"5.9\";\"3.0\";\"5.1\";\"1.8\";\"virginica\"\r\n",
      "\"6.0\";\"3.4\";\"4.5\";\"1.6\";\"versicolor\"\r\n"
     ]
    }
   ],
   "source": [
    "FILE = r'iris-dictwriter.csv'\n",
    "\n",
    "DATA = [\n",
    "    {'Sepal Length': 5.4, 'Sepal Width': 3.9, 'Petal Length': 1.3, 'Petal Width': 0.4, 'Species': 'setosa'},\n",
    "    {'Sepal Length': 5.9, 'Sepal Width': 3.0, 'Petal Length': 5.1, 'Petal Width': 1.8, 'Species': 'virginica'},\n",
    "    {'Sepal Length': 6.0, 'Sepal Width': 3.4, 'Petal Length': 4.5, 'Petal Width': 1.6, 'Species': 'versicolor'},\n",
    "]\n",
    "\n",
    "\n",
    "with open(FILE, mode='wt') as file:\n",
    "    f = csv.DictWriter(file,\n",
    "                       fieldnames=DATA[0].keys(),\n",
    "                       quoting=csv.QUOTE_ALL,\n",
    "                       delimiter=';',\n",
    "                       quotechar='\"',\n",
    "                       lineterminator='\\n')\n",
    "    f.writeheader()\n",
    "    f.writerows(DATA)\n",
    "    \n",
    "!cat $FILE"
   ]
  },
  {
   "cell_type": "markdown",
   "metadata": {},
   "source": [
    "## Odczyt danych\n",
    "\n",
    "* ``csv.reader``\n",
    "* ``csv.DictReader``"
   ]
  },
  {
   "cell_type": "code",
   "execution_count": 33,
   "metadata": {},
   "outputs": [
    {
     "name": "stdout",
     "output_type": "stream",
     "text": [
      "['Sepal length', 'Sepal width', 'Petal length', 'Petal width', 'Species']\n",
      "['5.8', '2.7', '5.1', '1.9', 'virginica']\n",
      "['5.1', '3.5', '1.4', '0.2', 'setosa']\n",
      "['5.7', '2.8', '4.1', '1.3', 'versicolor']\n"
     ]
    }
   ],
   "source": [
    "FILE = r'iris-writer.csv'\n",
    "\n",
    "\n",
    "with open(FILE, mode='rt', encoding='utf-8') as file:\n",
    "    data = csv.reader(file, quoting=csv.QUOTE_ALL, delimiter=';', quotechar='\"', lineterminator='\\n')\n",
    "    \n",
    "    header = next(data)\n",
    "    \n",
    "    for line in data:\n",
    "        print(line)"
   ]
  },
  {
   "cell_type": "code",
   "execution_count": 28,
   "metadata": {},
   "outputs": [
    {
     "name": "stdout",
     "output_type": "stream",
     "text": [
      "{'Sepal Length': '5.4', 'Sepal Width': '3.9', 'Petal Length': '1.3', 'Petal Width': '0.4', 'Species': 'setosa'}\n",
      "{'Sepal Length': '5.9', 'Sepal Width': '3.0', 'Petal Length': '5.1', 'Petal Width': '1.8', 'Species': 'virginica'}\n",
      "{'Sepal Length': '6.0', 'Sepal Width': '3.4', 'Petal Length': '4.5', 'Petal Width': '1.6', 'Species': 'versicolor'}\n"
     ]
    }
   ],
   "source": [
    "FILE = r'iris-dictwriter.csv'\n",
    "\n",
    "\n",
    "with open(FILE, mode='rt', encoding='utf-8') as file:\n",
    "    data = csv.DictReader(file,\n",
    "                       quoting=csv.QUOTE_ALL,\n",
    "                       delimiter=';',\n",
    "                       quotechar='\"',\n",
    "                       lineterminator='\\n')\n",
    "    \n",
    "    for line in data:\n",
    "        print(line)"
   ]
  },
  {
   "cell_type": "markdown",
   "metadata": {},
   "source": [
    "## Problemy\n",
    "\n",
    "* dane relacyjne"
   ]
  },
  {
   "cell_type": "code",
   "execution_count": null,
   "metadata": {},
   "outputs": [],
   "source": [
    "class Contact:\n",
    "    def __init__(self, firstname, lastname, addresses=()):\n",
    "        self.firstname = firstname\n",
    "        self.lastname = lastname\n",
    "        self.addresses = addresses\n",
    "\n",
    "\n",
    "class Address:\n",
    "    def __init__(self, location, city):\n",
    "        self.location = location\n",
    "        self.city = city\n",
    "\n",
    "\n",
    "DATA = [\n",
    "    Contact(firstname='Jan', lastname='Twardowski', addresses=(\n",
    "        Address(location='Johnson Space Center', city='Houston, TX'),\n",
    "        Address(location='Kennedy Space Center', city='Merritt Island, FL'),\n",
    "        Address(location='Jet Propulsion Laboratory', city='Pasadena, CA'),\n",
    "    )),\n",
    "    Contact(firstname='Mark', lastname='Watney'),\n",
    "    Contact(firstname='Melissa', lastname='Lewis', addresses=()),\n",
    "]"
   ]
  }
 ],
 "metadata": {
  "kernelspec": {
   "display_name": "Python 3",
   "language": "python",
   "name": "python3"
  },
  "language_info": {
   "codemirror_mode": {
    "name": "ipython",
    "version": 3
   },
   "file_extension": ".py",
   "mimetype": "text/x-python",
   "name": "python",
   "nbconvert_exporter": "python",
   "pygments_lexer": "ipython3",
   "version": "3.8.3"
  }
 },
 "nbformat": 4,
 "nbformat_minor": 4
}
