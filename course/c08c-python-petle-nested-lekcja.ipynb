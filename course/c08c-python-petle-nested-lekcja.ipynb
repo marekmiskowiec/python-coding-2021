{
 "cells": [
  {
   "cell_type": "markdown",
   "metadata": {},
   "source": [
    "# Python: Pętle zagnieżdżone - Zadania"
   ]
  },
  {
   "cell_type": "markdown",
   "metadata": {},
   "source": [
    "## Pętle po zagnieżdżonych sekwencjach\n",
    "\n",
    "* składnia\n",
    "* konwencje\n",
    "* zagnieżdżone pętle\n",
    "* `enumerate()`"
   ]
  },
  {
   "cell_type": "code",
   "execution_count": 1,
   "metadata": {},
   "outputs": [
    {
     "name": "stdout",
     "output_type": "stream",
     "text": [
      "a\n",
      "b\n",
      "c\n"
     ]
    }
   ],
   "source": [
    "DATA = [\n",
    "    'a',\n",
    "    'b',\n",
    "    'c',\n",
    "]\n",
    "\n",
    "# value\n",
    "\n",
    "for obj in DATA:\n",
    "    print(obj)"
   ]
  },
  {
   "cell_type": "code",
   "execution_count": 2,
   "metadata": {},
   "outputs": [
    {
     "name": "stdout",
     "output_type": "stream",
     "text": [
      "a -> 1\n",
      "b -> 2\n",
      "c -> 3\n"
     ]
    }
   ],
   "source": [
    "DATA = [\n",
    "    ('a', 1),\n",
    "    ('b', 2),\n",
    "    ('c', 3),\n",
    "]\n",
    "\n",
    "# pair\n",
    "\n",
    "for obj in DATA:\n",
    "    first = obj[0]\n",
    "    second = obj[1]\n",
    "    \n",
    "    print(first, '->', second)"
   ]
  },
  {
   "cell_type": "code",
   "execution_count": 3,
   "metadata": {},
   "outputs": [
    {
     "name": "stdout",
     "output_type": "stream",
     "text": [
      "setosa -> 10.2\n",
      "versicolor -> 13.9\n",
      "virginica -> 16.599999999999998\n"
     ]
    }
   ],
   "source": [
    "DATA = [\n",
    "    (5.1, 3.5, 1.4, 0.2, 'setosa'),\n",
    "    (5.7, 2.8, 4.1, 1.3, 'versicolor'),\n",
    "    (6.3, 2.9, 5.6, 1.8, 'virginica'),\n",
    "]\n",
    "\n",
    "# row lub line\n",
    "\n",
    "for obj in DATA:\n",
    "    sepal_length = obj[0]\n",
    "    sepal_width = obj[1]\n",
    "    petal_length = obj[2]\n",
    "    petal_width = obj[3]\n",
    "    species = obj[4]\n",
    "    \n",
    "    total = sepal_length + sepal_width + petal_length + petal_width\n",
    "    print(species, '->', total)"
   ]
  },
  {
   "cell_type": "code",
   "execution_count": 4,
   "metadata": {},
   "outputs": [
    {
     "name": "stdout",
     "output_type": "stream",
     "text": [
      "1 ... 3\n",
      "4 ... 6\n",
      "7 ... 9\n"
     ]
    }
   ],
   "source": [
    "DATA = [\n",
    "    [1, 2, 3],\n",
    "    [4, 5, 6],\n",
    "    [7, 8, 9],\n",
    "]\n",
    "\n",
    "# row\n",
    "\n",
    "for obj in DATA:\n",
    "    col1 = obj[0]\n",
    "    col2 = obj[1]\n",
    "    col3 = obj[2]\n",
    "\n",
    "    print(col1, '...', col3)"
   ]
  },
  {
   "cell_type": "code",
   "execution_count": 5,
   "metadata": {},
   "outputs": [
    {
     "name": "stdout",
     "output_type": "stream",
     "text": [
      "Jan\n",
      "Twardowski\n",
      "Watney\n",
      "42\n",
      "13.37\n",
      "False\n",
      "True\n",
      "None\n"
     ]
    }
   ],
   "source": [
    "DATA = [('Jan', 'Twardowski'), 'Watney', 42, 13.37, {True, None, False}]\n",
    "\n",
    "for obj in DATA:\n",
    "    if isinstance(obj, (list, tuple, set, frozenset)):\n",
    "        for element in obj:\n",
    "            print(element)\n",
    "    else:\n",
    "        print(obj)"
   ]
  },
  {
   "cell_type": "code",
   "execution_count": 6,
   "metadata": {},
   "outputs": [
    {
     "name": "stdout",
     "output_type": "stream",
     "text": [
      "0 -> (5.1, 3.5, 1.4, 0.2, 'setosa')\n",
      "1 -> (5.7, 2.8, 4.1, 1.3, 'versicolor')\n",
      "2 -> (6.3, 2.9, 5.6, 1.8, 'virginica')\n"
     ]
    }
   ],
   "source": [
    "# enumerate\n",
    "\n",
    "DATA = [\n",
    "    (5.1, 3.5, 1.4, 0.2, 'setosa'),\n",
    "    (5.7, 2.8, 4.1, 1.3, 'versicolor'),\n",
    "    (6.3, 2.9, 5.6, 1.8, 'virginica'),\n",
    "]\n",
    "\n",
    "for i, row in enumerate(DATA):\n",
    "    print(i, '->', row)"
   ]
  },
  {
   "cell_type": "markdown",
   "metadata": {},
   "source": [
    "## Rozpakowywanie w pętli\n",
    "\n",
    "* lista par\n",
    "* lista sekwencji\n",
    "* zagnieżdżone sekwencje\n",
    "* lista słowników"
   ]
  },
  {
   "cell_type": "code",
   "execution_count": 7,
   "metadata": {},
   "outputs": [
    {
     "name": "stdout",
     "output_type": "stream",
     "text": [
      "a -> 1\n",
      "b -> 2\n",
      "c -> 3\n"
     ]
    }
   ],
   "source": [
    "DATA = [\n",
    "    ('a', 1),\n",
    "    ('b', 2),\n",
    "    ('c', 3),\n",
    "]\n",
    "\n",
    "for key, value in DATA:\n",
    "    print(key, '->', value)"
   ]
  },
  {
   "cell_type": "code",
   "execution_count": 8,
   "metadata": {},
   "outputs": [
    {
     "name": "stdout",
     "output_type": "stream",
     "text": [
      "setosa -> 5.1\n",
      "versicolor -> 5.7\n",
      "virginica -> 6.3\n",
      "setosa -> 5.1\n",
      "versicolor -> 5.7\n",
      "virginica -> 6.3\n",
      "setosa -> 10.2\n",
      "versicolor -> 13.9\n",
      "virginica -> 16.599999999999998\n",
      "setosa -> 10.2\n",
      "versicolor -> 13.9\n",
      "virginica -> 16.599999999999998\n"
     ]
    }
   ],
   "source": [
    "DATA = [\n",
    "    (5.1, 3.5, 1.4, 0.2, 'setosa'),\n",
    "    (5.7, 2.8, 4.1, 1.3, 'versicolor'),\n",
    "    (6.3, 2.9, 5.6, 1.8, 'virginica'),\n",
    "]\n",
    "\n",
    "\n",
    "for sepal_length, sepal_width, petal_length, petal_width, species in DATA:\n",
    "    print(species, '->', sepal_length)\n",
    "    \n",
    "for sl, sw, pl, pw, s in DATA:\n",
    "    print(s, '->', sl)\n",
    "    \n",
    "for *features, label in DATA:\n",
    "    print(label, '->', sum(features))\n",
    "    \n",
    "for *X,y in DATA:\n",
    "    print(y, '->', sum(X))"
   ]
  },
  {
   "cell_type": "code",
   "execution_count": 9,
   "metadata": {},
   "outputs": [],
   "source": [
    "*X, y = (5.1, 3.5, 1.4, 0.2, 'setosa')\n",
    "\n",
    "x1 = 5.1\n",
    "x2 = 3.5\n",
    "x3 = 1.4\n",
    "x4 = 0.2"
   ]
  },
  {
   "cell_type": "code",
   "execution_count": 10,
   "metadata": {},
   "outputs": [
    {
     "name": "stdout",
     "output_type": "stream",
     "text": [
      "1 -> 2\n",
      "name -> Jan Twardowski\n",
      "species -> ['setosa', 'versicolor', 'virginica']\n",
      "(1, 2) -> ['Johnson Space Center', 'Kennedy Space Center']\n",
      "['NASA', 'ESA', 'Roscosmos'] -> 1\n"
     ]
    }
   ],
   "source": [
    "DATA = [\n",
    "    (1, 2),\n",
    "    ('name', 'Jan Twardowski'),\n",
    "    ('species', ['setosa', 'versicolor', 'virginica']),\n",
    "    ((1, 2), ['Johnson Space Center', 'Kennedy Space Center']),\n",
    "    (['NASA', 'ESA', 'Roscosmos'], 1),\n",
    "]\n",
    "\n",
    "for key, value in DATA:\n",
    "    print(key, '->', value)"
   ]
  },
  {
   "cell_type": "code",
   "execution_count": 11,
   "metadata": {},
   "outputs": [
    {
     "name": "stdout",
     "output_type": "stream",
     "text": [
      "setosa\n",
      "versicolor\n",
      "virginica\n"
     ]
    }
   ],
   "source": [
    "DATA = [\n",
    "    {'Sepal length': 5.1, 'Sepal width': 3.5, 'Petal length': 1.4, 'Petal width': 0.2, 'Species': 'setosa'},\n",
    "    {'Sepal length': 5.7, 'Sepal width': 2.8, 'Petal length': 4.1, 'Petal width': 1.3, 'Species': 'versicolor'},\n",
    "    {'Sepal length': 6.3, 'Sepal width': 2.9, 'Petal length': 5.6, 'Petal width': 1.8, 'Species': 'virginica'},\n",
    "]\n",
    "\n",
    "for obj in DATA:\n",
    "    species = obj['Species']\n",
    "    \n",
    "    print(species)"
   ]
  },
  {
   "cell_type": "markdown",
   "metadata": {},
   "source": [
    "## Iterowanie po słowniku\n",
    "\n",
    "* iterowanie po kluczach\n",
    "* iterowanie po wartościach\n",
    "* iterowanie po parach klucz-wartość"
   ]
  },
  {
   "cell_type": "code",
   "execution_count": 12,
   "metadata": {},
   "outputs": [
    {
     "name": "stdout",
     "output_type": "stream",
     "text": [
      "Sepal length\n",
      "Sepal width\n",
      "Petal length\n",
      "Petal width\n",
      "Species\n",
      "\n",
      "Sepal length\n",
      "Sepal width\n",
      "Petal length\n",
      "Petal width\n",
      "Species\n",
      "\n",
      "5.1\n",
      "3.5\n",
      "1.4\n",
      "0.2\n",
      "setosa\n",
      "\n",
      "('Sepal length', 5.1)\n",
      "('Sepal width', 3.5)\n",
      "('Petal length', 1.4)\n",
      "('Petal width', 0.2)\n",
      "('Species', 'setosa')\n"
     ]
    }
   ],
   "source": [
    "DATA = {\n",
    "    'Sepal length': 5.1,\n",
    "    'Sepal width': 3.5,\n",
    "    'Petal length': 1.4,\n",
    "    'Petal width': 0.2,\n",
    "    'Species': 'setosa',\n",
    "}\n",
    "\n",
    "# key\n",
    "for obj in DATA:\n",
    "    print(obj)\n",
    "\n",
    "print()\n",
    "    \n",
    "# key\n",
    "for obj in DATA.keys():\n",
    "    print(obj)\n",
    "    \n",
    "print()\n",
    "\n",
    "# value\n",
    "for obj in DATA.values():\n",
    "    print(obj)\n",
    "    \n",
    "print()\n",
    "\n",
    "# key, value\n",
    "for obj in DATA.items():\n",
    "    print(obj)"
   ]
  },
  {
   "cell_type": "code",
   "execution_count": 13,
   "metadata": {},
   "outputs": [
    {
     "name": "stdout",
     "output_type": "stream",
     "text": [
      "Sepal length -> 5.1\n",
      "Sepal width -> 3.5\n",
      "Petal length -> 1.4\n",
      "Petal width -> 0.2\n",
      "Species -> setosa\n"
     ]
    }
   ],
   "source": [
    "DATA = {\n",
    "    'Sepal length': 5.1,\n",
    "    'Sepal width': 3.5,\n",
    "    'Petal length': 1.4,\n",
    "    'Petal width': 0.2,\n",
    "    'Species': 'setosa',\n",
    "}\n",
    "\n",
    "for key, value in DATA.items():\n",
    "    print(key, '->', value)"
   ]
  },
  {
   "cell_type": "markdown",
   "metadata": {},
   "source": [
    "## Generowanie słowników w pętli\n",
    "\n",
    "* `range()`\n",
    "* `enumerate()`\n",
    "* `zip()`"
   ]
  },
  {
   "cell_type": "code",
   "execution_count": 14,
   "metadata": {},
   "outputs": [
    {
     "data": {
      "text/plain": [
       "{'Sepal length': 5.1,\n",
       " 'Sepal width': 3.5,\n",
       " 'Petal length': 1.4,\n",
       " 'Petal width': 0.2,\n",
       " 'Species': 'setosa'}"
      ]
     },
     "execution_count": 14,
     "metadata": {},
     "output_type": "execute_result"
    }
   ],
   "source": [
    "# range\n",
    "header = ['Sepal length', 'Sepal width', 'Petal length', 'Petal width', 'Species']\n",
    "data = [5.1, 3.5, 1.4, 0.2, 'setosa']\n",
    "result = {}\n",
    "\n",
    "for i in range(len(header)):\n",
    "    key = header[i]\n",
    "    value = data[i]\n",
    "    result[key] = value\n",
    "    \n",
    "result"
   ]
  },
  {
   "cell_type": "code",
   "execution_count": 15,
   "metadata": {},
   "outputs": [
    {
     "data": {
      "text/plain": [
       "{'Sepal length': 5.1,\n",
       " 'Sepal width': 3.5,\n",
       " 'Petal length': 1.4,\n",
       " 'Petal width': 0.2,\n",
       " 'Species': 'setosa'}"
      ]
     },
     "execution_count": 15,
     "metadata": {},
     "output_type": "execute_result"
    }
   ],
   "source": [
    "# enumerate\n",
    "header = ['Sepal length', 'Sepal width', 'Petal length', 'Petal width', 'Species']\n",
    "data = [5.1, 3.5, 1.4, 0.2, 'setosa']\n",
    "result = {}\n",
    "\n",
    "for i, key in enumerate(header):\n",
    "    value = data[i]\n",
    "    result[key] = value\n",
    "    \n",
    "result"
   ]
  },
  {
   "cell_type": "code",
   "execution_count": 16,
   "metadata": {},
   "outputs": [
    {
     "data": {
      "text/plain": [
       "{'Sepal length': 5.1,\n",
       " 'Sepal width': 3.5,\n",
       " 'Petal length': 1.4,\n",
       " 'Petal width': 0.2,\n",
       " 'Species': 'setosa'}"
      ]
     },
     "execution_count": 16,
     "metadata": {},
     "output_type": "execute_result"
    }
   ],
   "source": [
    "# zip\n",
    "header = ['Sepal length', 'Sepal width', 'Petal length', 'Petal width', 'Species']\n",
    "data = [5.1, 3.5, 1.4, 0.2, 'setosa']\n",
    "result = {}\n",
    "\n",
    "for key, value in zip(header, data):\n",
    "    result[key] = value\n",
    "    \n",
    "result"
   ]
  },
  {
   "cell_type": "code",
   "execution_count": 17,
   "metadata": {},
   "outputs": [
    {
     "data": {
      "text/plain": [
       "{'Sepal length': 5.1,\n",
       " 'Sepal width': 3.5,\n",
       " 'Petal length': 1.4,\n",
       " 'Petal width': 0.2,\n",
       " 'Species': 'setosa'}"
      ]
     },
     "execution_count": 17,
     "metadata": {},
     "output_type": "execute_result"
    }
   ],
   "source": [
    "# zip\n",
    "header = ['Sepal length', 'Sepal width', 'Petal length', 'Petal width', 'Species']\n",
    "data = [5.1, 3.5, 1.4, 0.2, 'setosa']\n",
    "\n",
    "result = dict(zip(header, data))\n",
    "result"
   ]
  },
  {
   "cell_type": "code",
   "execution_count": null,
   "metadata": {},
   "outputs": [],
   "source": []
  }
 ],
 "metadata": {
  "kernelspec": {
   "display_name": "Python 3",
   "language": "python",
   "name": "python3"
  },
  "language_info": {
   "codemirror_mode": {
    "name": "ipython",
    "version": 3
   },
   "file_extension": ".py",
   "mimetype": "text/x-python",
   "name": "python",
   "nbconvert_exporter": "python",
   "pygments_lexer": "ipython3",
   "version": "3.8.3"
  }
 },
 "nbformat": 4,
 "nbformat_minor": 4
}
