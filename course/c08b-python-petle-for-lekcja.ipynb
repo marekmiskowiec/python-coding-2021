{
 "cells": [
  {
   "cell_type": "markdown",
   "metadata": {},
   "source": [
    "# Python: Pętle `for`"
   ]
  },
  {
   "cell_type": "markdown",
   "metadata": {},
   "source": [
    "## Pętla `for`\n",
    "\n",
    "* składnia\n",
    "* konwencje\n",
    "* iterowanie po sekwencjach\n",
    "* `range()`\n",
    "* `enumerate()`"
   ]
  },
  {
   "cell_type": "code",
   "execution_count": 1,
   "metadata": {},
   "outputs": [
    {
     "name": "stdout",
     "output_type": "stream",
     "text": [
      "1\n",
      "2\n",
      "3\n",
      "4\n",
      "5\n",
      "6\n"
     ]
    }
   ],
   "source": [
    "data = [1,2,3,4,5,6]\n",
    "\n",
    "for cyfra in data:\n",
    "    print(cyfra)"
   ]
  },
  {
   "cell_type": "code",
   "execution_count": 2,
   "metadata": {
    "scrolled": true
   },
   "outputs": [
    {
     "name": "stdout",
     "output_type": "stream",
     "text": [
      "1\n",
      "3\n",
      "3\n",
      "7\n"
     ]
    }
   ],
   "source": [
    "text = 'leet'\n",
    "\n",
    "ZAMIEN = {\n",
    "    'e': '3',\n",
    "    'l': '1',\n",
    "    'o': '0',\n",
    "    't': '7',\n",
    "    'a': '4',\n",
    "}\n",
    "\n",
    "for litera in text:\n",
    "    litera = ZAMIEN.get(litera, litera)\n",
    "    litera = litera.upper()\n",
    "    print(litera)"
   ]
  },
  {
   "cell_type": "code",
   "execution_count": 3,
   "metadata": {},
   "outputs": [
    {
     "name": "stdout",
     "output_type": "stream",
     "text": [
      "0\n",
      "1\n",
      "2\n",
      "3\n",
      "4\n",
      "5\n",
      "6\n",
      "7\n",
      "8\n",
      "9\n"
     ]
    }
   ],
   "source": [
    "for i in range(0, 10):\n",
    "    print(i)"
   ]
  },
  {
   "cell_type": "code",
   "execution_count": 4,
   "metadata": {},
   "outputs": [
    {
     "name": "stdout",
     "output_type": "stream",
     "text": [
      "26.009999999999998\n",
      "12.25\n",
      "1.9599999999999997\n",
      "0.04000000000000001\n",
      "SETOSA\n"
     ]
    }
   ],
   "source": [
    "DATA = [5.1, 3.5, 1.4, 0.2, 'setosa']\n",
    "\n",
    "\n",
    "for x in DATA:\n",
    "    if type(x) == float:\n",
    "        print(x ** 2)\n",
    "        \n",
    "    if type(x) == str:\n",
    "        print(x.upper())"
   ]
  },
  {
   "cell_type": "code",
   "execution_count": 5,
   "metadata": {},
   "outputs": [
    {
     "name": "stdout",
     "output_type": "stream",
     "text": [
      "0 -> 5.1\n",
      "1 -> 3.5\n",
      "2 -> 1.4\n",
      "3 -> 0.2\n",
      "4 -> setosa\n"
     ]
    }
   ],
   "source": [
    "DATA = [5.1, 3.5, 1.4, 0.2, 'setosa']\n",
    "i = 0\n",
    "\n",
    "for x in DATA:\n",
    "    print(f'{i} -> {x}')\n",
    "    i += 1"
   ]
  },
  {
   "cell_type": "code",
   "execution_count": 6,
   "metadata": {},
   "outputs": [
    {
     "name": "stdout",
     "output_type": "stream",
     "text": [
      "0 -> 5.1\n",
      "1 -> 3.5\n",
      "2 -> 1.4\n",
      "3 -> 0.2\n",
      "4 -> setosa\n"
     ]
    }
   ],
   "source": [
    "DATA = [5.1, 3.5, 1.4, 0.2, 'setosa']\n",
    "\n",
    "for i, x in enumerate(DATA):\n",
    "    print(f'{i} -> {x}')"
   ]
  },
  {
   "cell_type": "code",
   "execution_count": 7,
   "metadata": {},
   "outputs": [],
   "source": [
    "# DATA = [5.1, 3.5, 1.4, 0.2, 'setosa']\n",
    "# i = 0\n",
    "\n",
    "# for i in range(len(DATA)):\n",
    "#     print(f'{i} -> {DATA[i]}')\n",
    "    \n",
    "    \n",
    "# for (int i = 0; i <= DATA.lenght; i++) {\n",
    "#     print(f'{i} -> {DATA[i]}')\n",
    "# }\n",
    "\n",
    "\n",
    "# forEeach (element in DATA)\n",
    "\n",
    "\n",
    "# for (let x of DATA) {\n",
    "    \n",
    "# }"
   ]
  }
 ],
 "metadata": {
  "kernelspec": {
   "display_name": "Python 3",
   "language": "python",
   "name": "python3"
  },
  "language_info": {
   "codemirror_mode": {
    "name": "ipython",
    "version": 3
   },
   "file_extension": ".py",
   "mimetype": "text/x-python",
   "name": "python",
   "nbconvert_exporter": "python",
   "pygments_lexer": "ipython3",
   "version": "3.8.3"
  }
 },
 "nbformat": 4,
 "nbformat_minor": 4
}
