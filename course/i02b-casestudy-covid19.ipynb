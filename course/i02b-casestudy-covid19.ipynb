{
 "cells": [
  {
   "cell_type": "markdown",
   "metadata": {},
   "source": [
    "# Case Study - COVID-19"
   ]
  },
  {
   "cell_type": "markdown",
   "metadata": {},
   "source": [
    "Dane: \n",
    "- https://coronavirus.jhu.edu/map.html\n",
    "- https://github.com/CSSEGISandData/COVID-19/tree/master/csse_covid_19_data/csse_covid_19_time_series"
   ]
  },
  {
   "cell_type": "markdown",
   "metadata": {},
   "source": [
    "Cel:\n",
    "\n",
    "1. Państwa analizowane:\n",
    "    \n",
    "    - wszystkie\n",
    "    - Polskę\n",
    "    - USA\n",
    "    - Chiny\n",
    "    - Brazylię\n",
    "    - Włochy\n",
    "    - Indie\n",
    "    \n",
    "1. Zwizualizować liczbę:\n",
    "    \n",
    "    - potwierdzonych przypadków\n",
    "    - wyzdrowień\n",
    "    - przypadków śmiertelnych\n",
    "    \n",
    "1. Przyrost dzienny nowych przypadków (daily cases)\n",
    "    \n",
    "    - wykres słupkowy \n",
    "    - średnia krocząca\n",
    "    \n",
    "1. Liczba śmiertelnych przypadków vs. ilość zarażonych (case-fatality ratio)\n",
    "1. Liczba wszystkich przypadków vs. nowe przypadki z tygodnia\n",
    "\n",
    "    - logarytmiczna skala obu\n",
    "    - liniowa skala nowych przypadków i logarytmiczna wszystkich przypadków\n",
    "    - jak zmienia się to w czasie"
   ]
  },
  {
   "cell_type": "code",
   "execution_count": 1,
   "metadata": {},
   "outputs": [],
   "source": [
    "from doctest import testmod\n",
    "import pandas as pd\n",
    "import numpy as np"
   ]
  },
  {
   "cell_type": "code",
   "execution_count": 2,
   "metadata": {},
   "outputs": [],
   "source": [
    "CONFIRMED = r'https://raw.githubusercontent.com/CSSEGISandData/COVID-19/master/csse_covid_19_data/csse_covid_19_time_series/time_series_covid19_confirmed_global.csv'\n",
    "DEATHS = r'https://raw.githubusercontent.com/CSSEGISandData/COVID-19/master/csse_covid_19_data/csse_covid_19_time_series/time_series_covid19_deaths_global.csv'\n",
    "RECOVERED = r'https://raw.githubusercontent.com/CSSEGISandData/COVID-19/master/csse_covid_19_data/csse_covid_19_time_series/time_series_covid19_recovered_global.csv'\n",
    "\n",
    "confirmed = pd.read_csv(CONFIRMED)\n",
    "deaths = pd.read_csv(DEATHS)\n",
    "recovered = pd.read_csv(RECOVERED)"
   ]
  },
  {
   "cell_type": "code",
   "execution_count": 3,
   "metadata": {},
   "outputs": [
    {
     "data": {
      "text/plain": [
       "TestResults(failed=0, attempted=8)"
      ]
     },
     "execution_count": 3,
     "metadata": {},
     "output_type": "execute_result"
    }
   ],
   "source": [
    "def _get(df, name):\n",
    "    result = df.transpose()\n",
    "    result = result[4:]\n",
    "    result = result.sum(axis='columns')\n",
    "    result = pd.DataFrame(result)\n",
    "    result.index = pd.to_datetime(result.index)\n",
    "    result.columns = [name]\n",
    "    return result.astype(np.uint64)\n",
    "    \n",
    "    \n",
    "def extract(country='all'):\n",
    "    \"\"\"\n",
    "    >>> international = extract(country='all')\n",
    "    >>> international.loc['2020-09-05', 'Confirmed']\n",
    "    26873146\n",
    "    >>> international.loc['2020-09-05', 'Recovered']\n",
    "    17917644\n",
    "    >>> international.loc['2020-09-05', 'Deaths']\n",
    "    879307\n",
    "    \n",
    "    >>> poland = extract(country='Poland')\n",
    "    >>> poland.loc['2020-09-05', 'Confirmed']\n",
    "    70387\n",
    "    >>> poland.loc['2020-09-05', 'Deaths']\n",
    "    2113\n",
    "    >>> poland.loc['2020-09-05', 'Recovered']\n",
    "    52346\n",
    "    \"\"\"\n",
    "    \n",
    "    if country == 'all':\n",
    "        c = slice(None)\n",
    "        d = slice(None)\n",
    "        r = slice(None)\n",
    "    else:\n",
    "        c = confirmed['Country/Region'] == country\n",
    "        d = deaths['Country/Region'] == country\n",
    "        r = recovered['Country/Region'] == country\n",
    " \n",
    "    return pd.concat([\n",
    "        _get(confirmed.loc[c], 'Confirmed'),\n",
    "        _get(deaths.loc[d], 'Deaths'),\n",
    "        _get(recovered.loc[r], 'Recovered'),\n",
    "    ], axis='columns')\n",
    "\n",
    "\n",
    "international = extract(country='all')\n",
    "poland = extract(country='Poland')\n",
    "india = extract(country='India')\n",
    "usa = extract(country='US')\n",
    "brazil = extract(country='Brazil')\n",
    "china = extract(country='China')\n",
    "italy = extract(country='Italy')\n",
    "\n",
    "testmod()"
   ]
  }
 ],
 "metadata": {
  "kernelspec": {
   "display_name": "Python 3",
   "language": "python",
   "name": "python3"
  },
  "language_info": {
   "codemirror_mode": {
    "name": "ipython",
    "version": 3
   },
   "file_extension": ".py",
   "mimetype": "text/x-python",
   "name": "python",
   "nbconvert_exporter": "python",
   "pygments_lexer": "ipython3",
   "version": "3.8.3"
  }
 },
 "nbformat": 4,
 "nbformat_minor": 4
}
