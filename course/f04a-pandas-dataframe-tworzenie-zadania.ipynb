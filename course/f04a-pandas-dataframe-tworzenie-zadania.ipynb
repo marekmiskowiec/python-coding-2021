{
 "cells": [
  {
   "cell_type": "markdown",
   "metadata": {},
   "source": [
    "# Pandas - DataFrame - tworzenie - zadania"
   ]
  },
  {
   "cell_type": "markdown",
   "metadata": {},
   "source": [
    "## DataFrame Create\n",
    "\n",
    "1. Użyj danych z sekcji \"Input\" (patrz poniżej)\n",
    "1. Stwórz ``DataFrame`` dla danych wejściowych\n",
    "\n",
    "Dane wejściowe:\n",
    "```csv\n",
    "\"Crew\", \"Role\", \"Astronaut\"\n",
    "\"Prime\", \"CDR\", \"Neil Armstrong\"\n",
    "\"Prime\", \"LMP\", \"Buzz Aldrin\"\n",
    "\"Prime\", \"CMP\", \"Michael Collins\"\n",
    "\"Backup\", \"CDR\", \"James Lovell\"\n",
    "\"Backup\", \"LMP\", \"William Anders\"\n",
    "\"Backup\", \"CMP\", \"Fred Haise\"\n",
    "```\n",
    "\n",
    "Podpowiedź:\n",
    "* użyj zaznaczania z klawiszem ``alt``"
   ]
  },
  {
   "cell_type": "code",
   "execution_count": null,
   "metadata": {},
   "outputs": [],
   "source": []
  }
 ],
 "metadata": {
  "kernelspec": {
   "display_name": "Python 3",
   "language": "python",
   "name": "python3"
  },
  "language_info": {
   "codemirror_mode": {
    "name": "ipython",
    "version": 3
   },
   "file_extension": ".py",
   "mimetype": "text/x-python",
   "name": "python",
   "nbconvert_exporter": "python",
   "pygments_lexer": "ipython3",
   "version": "3.8.5"
  }
 },
 "nbformat": 4,
 "nbformat_minor": 4
}
