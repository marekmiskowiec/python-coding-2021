{
 "cells": [
  {
   "cell_type": "markdown",
   "metadata": {},
   "source": [
    "# Python: elementy składni języka - Rozwiązania"
   ]
  },
  {
   "cell_type": "markdown",
   "metadata": {},
   "source": [
    "### Python Syntax\n",
    "\n",
    "1. Stwórz skrypt Python\n",
    "1. Na górze pliku dodaj wielolinijkowy komentarz z opisem programu (punkty do wykonia z tego zadania)\n",
    "1. Zadeklaruj zmienną ``name`` i ustaw jej wartość na Twoje imię\n",
    "1. Dodaj komentarz \"inline\" do zmiennej o treści: \"This is my name\"\n",
    "1. Wypisz \"Hello World NAME\", gdzie NAME to Twoje imię (zmienna ``name``)"
   ]
  },
  {
   "cell_type": "code",
   "execution_count": 40,
   "metadata": {},
   "outputs": [
    {
     "name": "stdout",
     "output_type": "stream",
     "text": [
      "My name Matt\n"
     ]
    }
   ],
   "source": [
    "# Stwórz skrypt Python\n",
    "# Na górze pliku dodaj wielolinijkowy komentarz z opisem programu (punkty do wykonia z tego zadania)\n",
    "# Zadeklaruj zmienną name i ustaw jej wartość na Twoje imię\n",
    "# Dodaj komentarz \"inline\" do zmiennej o treści: \"This is my name\"\n",
    "# Wypisz \"Hello World NAME\", gdzie NAME to Twoje imię (zmienna name)\n",
    "\n",
    "name = 'Matt'  # This is my name\n",
    "print(f'My name {name}')"
   ]
  },
  {
   "cell_type": "code",
   "execution_count": 41,
   "metadata": {},
   "outputs": [
    {
     "name": "stdout",
     "output_type": "stream",
     "text": [
      "My name Matt\n"
     ]
    }
   ],
   "source": [
    "name = 'Matt'\n",
    "print(f'My name {name}')"
   ]
  }
 ],
 "metadata": {
  "kernelspec": {
   "display_name": "Python 3",
   "language": "python",
   "name": "python3"
  },
  "language_info": {
   "codemirror_mode": {
    "name": "ipython",
    "version": 3
   },
   "file_extension": ".py",
   "mimetype": "text/x-python",
   "name": "python",
   "nbconvert_exporter": "python",
   "pygments_lexer": "ipython3",
   "version": "3.8.3"
  }
 },
 "nbformat": 4,
 "nbformat_minor": 4
}
