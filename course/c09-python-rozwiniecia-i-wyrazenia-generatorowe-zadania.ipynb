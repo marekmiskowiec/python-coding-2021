{
 "cells": [
  {
   "cell_type": "markdown",
   "metadata": {},
   "source": [
    "# Python: Rozwinięcia i wyrażenia generatorowe - zadania"
   ]
  },
  {
   "cell_type": "markdown",
   "metadata": {},
   "source": [
    "## Comprehensions and Generator Expressions\n",
    "\n",
    "1. Dana jest struktura danych ``INPUT: List[tuple]`` (patrz sekcja input)\n",
    "1. Odseparuj nagłówek od danych\n",
    "1. Wylicz punkt podziału: długość danych razy zadany procent\n",
    "1. Używając List Comprehension podziel dane na:\n",
    "\n",
    "    - ``features: List[tuple]`` - lista pomiarów (każdy wiersz z pomiarami ma być tuple)\n",
    "    - ``labels: List[str]`` - lista nazw gatunków\n",
    "\n",
    "1. Podziel te struktury danych w proporcji:\n",
    "\n",
    "    - ``features_train: List[tuple]`` - features do uczenia - 60%\n",
    "    - ``features_test: List[tuple]`` - features do testów - 40%\n",
    "    - ``labels_train: List[str]`` - labels do uczenia - 60%\n",
    "    - ``labels_test: List[str]`` - labels do testów - 40%\n",
    "\n",
    "1. Porównaj wynik z sekcją \"Output\" poniżej\n",
    "\n",
    "Output:\n",
    "```python\n",
    "features_train: List[tuple]\n",
    "# [(5.8, 2.7, 5.1, 1.9), (5.1, 3.5, 1.4, 0.2), (5.7, 2.8, 4.1, 1.3),\n",
    "#  (6.3, 2.9, 5.6, 1.8), (6.4, 3.2, 4.5, 1.5), (4.7, 3.2, 1.3, 0.2),\n",
    "#  (7.0, 3.2, 4.7, 1.4), (7.6, 3.0, 6.6, 2.1), (4.9, 3.0, 1.4, 0.2),\n",
    "#  (4.9, 2.5, 4.5, 1.7), (7.1, 3.0, 5.9, 2.1), (4.6, 3.4, 1.4, 0.3)]\n",
    "\n",
    "features_test: List[tuple]\n",
    "# [(5.4, 3.9, 1.7, 0.4), (5.7, 2.8, 4.5, 1.3), (5.0, 3.6, 1.4, 0.3),\n",
    "#  (5.5, 2.3, 4.0, 1.3), (6.5, 3.0, 5.8, 2.2), (6.5, 2.8, 4.6, 1.5),\n",
    "#  (6.3, 3.3, 6.0, 2.5), (6.9, 3.1, 4.9, 1.5), (4.6, 3.1, 1.5, 0.2)]\n",
    "\n",
    "labels_train: List[str]\n",
    "# ['virginica', 'setosa', 'versicolor', 'virginica', 'versicolor',\n",
    "#  'setosa', 'versicolor', 'virginica', 'setosa', 'virginica',\n",
    "#  'virginica', 'setosa']\n",
    "\n",
    "labels_test: List[str]\n",
    "# ['setosa', 'versicolor', 'setosa', 'versicolor', 'virginica',\n",
    "#  'versicolor', 'virginica', 'versicolor', 'setosa']\n",
    "```"
   ]
  },
  {
   "cell_type": "code",
   "execution_count": 1,
   "metadata": {},
   "outputs": [],
   "source": [
    "INPUT = [\n",
    "    ('Sepal length', 'Sepal width', 'Petal length', 'Petal width', 'Species'),\n",
    "    (5.8, 2.7, 5.1, 1.9, 'virginica'),\n",
    "    (5.1, 3.5, 1.4, 0.2, 'setosa'),\n",
    "    (5.7, 2.8, 4.1, 1.3, 'versicolor'),\n",
    "    (6.3, 2.9, 5.6, 1.8, 'virginica'),\n",
    "    (6.4, 3.2, 4.5, 1.5, 'versicolor'),\n",
    "    (4.7, 3.2, 1.3, 0.2, 'setosa'),\n",
    "    (7.0, 3.2, 4.7, 1.4, 'versicolor'),\n",
    "    (7.6, 3.0, 6.6, 2.1, 'virginica'),\n",
    "    (4.9, 3.0, 1.4, 0.2, 'setosa'),\n",
    "    (4.9, 2.5, 4.5, 1.7, 'virginica'),\n",
    "    (7.1, 3.0, 5.9, 2.1, 'virginica'),\n",
    "    (4.6, 3.4, 1.4, 0.3, 'setosa'),\n",
    "    (5.4, 3.9, 1.7, 0.4, 'setosa'),\n",
    "    (5.7, 2.8, 4.5, 1.3, 'versicolor'),\n",
    "    (5.0, 3.6, 1.4, 0.3, 'setosa'),\n",
    "    (5.5, 2.3, 4.0, 1.3, 'versicolor'),\n",
    "    (6.5, 3.0, 5.8, 2.2, 'virginica'),\n",
    "    (6.5, 2.8, 4.6, 1.5, 'versicolor'),\n",
    "    (6.3, 3.3, 6.0, 2.5, 'virginica'),\n",
    "    (6.9, 3.1, 4.9, 1.5, 'versicolor'),\n",
    "    (4.6, 3.1, 1.5, 0.2, 'setosa'),\n",
    "]"
   ]
  },
  {
   "cell_type": "code",
   "execution_count": null,
   "metadata": {},
   "outputs": [],
   "source": []
  }
 ],
 "metadata": {
  "kernelspec": {
   "display_name": "Python 3",
   "language": "python",
   "name": "python3"
  },
  "language_info": {
   "codemirror_mode": {
    "name": "ipython",
    "version": 3
   },
   "file_extension": ".py",
   "mimetype": "text/x-python",
   "name": "python",
   "nbconvert_exporter": "python",
   "pygments_lexer": "ipython3",
   "version": "3.8.3"
  }
 },
 "nbformat": 4,
 "nbformat_minor": 4
}
