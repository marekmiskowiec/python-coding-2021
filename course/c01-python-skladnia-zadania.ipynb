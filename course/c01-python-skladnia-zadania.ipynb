{
 "cells": [
  {
   "cell_type": "markdown",
   "metadata": {},
   "source": [
    "# Python: elementy składni języka - Zadania"
   ]
  },
  {
   "cell_type": "markdown",
   "metadata": {},
   "source": [
    "### Python Syntax\n",
    "\n",
    "1. Stwórz skrypt Python\n",
    "1. Na górze pliku dodaj wielolinijkowy komentarz z opisem programu (punkty do wykonia z tego zadania)\n",
    "1. Zadeklaruj zmienną ``name`` i ustaw jej wartość na Twoje imię\n",
    "1. Dodaj komentarz \"inline\" do zmiennej o treści: \"This is my name\"\n",
    "1. Wypisz \"Hello World NAME\", gdzie NAME to Twoje imię (zmienna ``name``)"
   ]
  }
 ],
 "metadata": {
  "kernelspec": {
   "display_name": "Python 3",
   "language": "python",
   "name": "python3"
  },
  "language_info": {
   "codemirror_mode": {
    "name": "ipython",
    "version": 3
   },
   "file_extension": ".py",
   "mimetype": "text/x-python",
   "name": "python",
   "nbconvert_exporter": "python",
   "pygments_lexer": "ipython3",
   "version": "3.8.3"
  }
 },
 "nbformat": 4,
 "nbformat_minor": 4
}
