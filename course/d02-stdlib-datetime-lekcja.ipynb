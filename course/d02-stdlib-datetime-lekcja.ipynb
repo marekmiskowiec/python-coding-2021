{
 "cells": [
  {
   "cell_type": "markdown",
   "metadata": {},
   "source": [
    "# Python Biblioteka Standardowa - daty i czas - lekcja"
   ]
  },
  {
   "cell_type": "code",
   "execution_count": 1,
   "metadata": {},
   "outputs": [],
   "source": [
    "from datetime import date, time, datetime, timezone, timedelta"
   ]
  },
  {
   "cell_type": "markdown",
   "metadata": {},
   "source": [
    "## Daty i czas\n",
    "\n",
    "* Data\n",
    "* Czas\n",
    "* Data i czas\n",
    "* Obecna chwila"
   ]
  },
  {
   "cell_type": "code",
   "execution_count": 16,
   "metadata": {},
   "outputs": [
    {
     "data": {
      "text/plain": [
       "7"
      ]
     },
     "execution_count": 16,
     "metadata": {},
     "output_type": "execute_result"
    }
   ],
   "source": [
    "d = date(1969, 7, 21)\n",
    "t = time(2, 51, 0)\n",
    "dt = datetime(1969, 7, 21, 2, 51, 0)\n",
    "\n",
    "datetime.now().date()\n",
    "\n",
    "now = datetime.now()\n",
    "now.date()\n",
    "now.time()\n",
    "\n",
    "now.isoweekday()"
   ]
  },
  {
   "cell_type": "markdown",
   "metadata": {},
   "source": [
    "## Formatowanie i rozczytywanie dat i czasu\n",
    "\n",
    "* https://docs.python.org/3/library/datetime.html#strftime-and-strptime-format-codes"
   ]
  },
  {
   "cell_type": "code",
   "execution_count": null,
   "metadata": {},
   "outputs": [],
   "source": [
    "now = datetime.now()\n",
    "now.strftime('%Y-%m-%dT%H:%M:%S.%fZ')"
   ]
  },
  {
   "cell_type": "code",
   "execution_count": 50,
   "metadata": {},
   "outputs": [
    {
     "data": {
      "text/plain": [
       "datetime.datetime(1969, 7, 21, 2, 51)"
      ]
     },
     "execution_count": 50,
     "metadata": {},
     "output_type": "execute_result"
    }
   ],
   "source": [
    "text = '21st Jul, 1969, 02:51'\n",
    "datetime.strptime(text, '%dst %b, %Y, %H:%M')"
   ]
  },
  {
   "cell_type": "markdown",
   "metadata": {},
   "source": [
    "## Różnice czasu"
   ]
  },
  {
   "cell_type": "code",
   "execution_count": 78,
   "metadata": {},
   "outputs": [
    {
     "data": {
      "text/plain": [
       "{'years': 8, 'months': 3, 'days': 8, 'hours': 19, 'minutes': 54, 'seconds': 0}"
      ]
     },
     "execution_count": 78,
     "metadata": {},
     "output_type": "execute_result"
    }
   ],
   "source": [
    "armstrong = datetime(1969, 7, 21, 2, 51)\n",
    "gagarin = datetime(1961, 4, 12, 6, 57)\n",
    "\n",
    "roznica = armstrong - gagarin\n",
    "\n",
    "SECOND = 1\n",
    "MINUTE = 60 * SECOND\n",
    "HOUR = 60 * MINUTE\n",
    "DAY = 24 * HOUR\n",
    "MONTH = 30.436666666666667 * DAY\n",
    "YEAR = 365.24 * DAY\n",
    "\n",
    "year, seconds = divmod(roznica.total_seconds(), YEAR)\n",
    "months, seconds = divmod(seconds, MONTH)\n",
    "days, seconds = divmod(seconds, DAY)\n",
    "hours, seconds = divmod(roznica.seconds, HOUR)\n",
    "minutes, seconds = divmod(seconds, MINUTE)\n",
    "\n",
    "duration = {\n",
    "    'years': int(year),\n",
    "    'months': int(months),\n",
    "    'days': int(days),\n",
    "    'hours': int(hours),\n",
    "    'minutes': int(minutes),\n",
    "    'seconds': int(seconds),\n",
    "}\n",
    "\n",
    "duration"
   ]
  },
  {
   "cell_type": "markdown",
   "metadata": {},
   "source": [
    "## Znaczniki czasu\n",
    "\n",
    "* epoch\n",
    "* timestamp\n",
    "* Start January 1st, 1970 (1970-01-01 00:00:00 UTC)\n",
    "* Min -2,147,483,647 (1902-12-13 20:45:53 UTC)\n",
    "* Max 2,147,483,647 (2038-01-19 03:14:07 UTC) "
   ]
  },
  {
   "cell_type": "code",
   "execution_count": 79,
   "metadata": {},
   "outputs": [
    {
     "data": {
      "text/plain": [
       "1596406091.478435"
      ]
     },
     "execution_count": 79,
     "metadata": {},
     "output_type": "execute_result"
    }
   ],
   "source": [
    "datetime.now().timestamp()"
   ]
  },
  {
   "cell_type": "code",
   "execution_count": 80,
   "metadata": {},
   "outputs": [
    {
     "data": {
      "text/plain": [
       "1596406102.78702"
      ]
     },
     "execution_count": 80,
     "metadata": {},
     "output_type": "execute_result"
    }
   ],
   "source": [
    "import time\n",
    "time.time()"
   ]
  },
  {
   "cell_type": "code",
   "execution_count": 82,
   "metadata": {},
   "outputs": [
    {
     "data": {
      "text/plain": [
       "datetime.datetime(2020, 8, 3, 0, 8, 11, 478435)"
      ]
     },
     "execution_count": 82,
     "metadata": {},
     "output_type": "execute_result"
    }
   ],
   "source": [
    "ts = 1596406091.478435\n",
    "\n",
    "datetime.fromtimestamp(ts)"
   ]
  },
  {
   "cell_type": "markdown",
   "metadata": {},
   "source": [
    "## Strefy czasowe\n",
    "\n",
    "* daty świadome\n",
    "* daty nieświadome\n",
    "* ``datetime.timezone``\n",
    "* ``pytz``"
   ]
  },
  {
   "cell_type": "code",
   "execution_count": 83,
   "metadata": {},
   "outputs": [
    {
     "data": {
      "text/plain": [
       "datetime.datetime(1969, 7, 21, 2, 51)"
      ]
     },
     "execution_count": 83,
     "metadata": {},
     "output_type": "execute_result"
    }
   ],
   "source": [
    "datetime(1969, 7, 21, 2, 51)"
   ]
  },
  {
   "cell_type": "code",
   "execution_count": 84,
   "metadata": {},
   "outputs": [
    {
     "data": {
      "text/plain": [
       "datetime.datetime(2020, 8, 3, 0, 10, 47, 339157)"
      ]
     },
     "execution_count": 84,
     "metadata": {},
     "output_type": "execute_result"
    }
   ],
   "source": [
    "datetime.now()"
   ]
  },
  {
   "cell_type": "code",
   "execution_count": 85,
   "metadata": {
    "scrolled": true
   },
   "outputs": [
    {
     "data": {
      "text/plain": [
       "datetime.datetime(2020, 8, 2, 22, 11, 11, 384524)"
      ]
     },
     "execution_count": 85,
     "metadata": {},
     "output_type": "execute_result"
    }
   ],
   "source": [
    "datetime.utcnow()"
   ]
  },
  {
   "cell_type": "code",
   "execution_count": 87,
   "metadata": {},
   "outputs": [
    {
     "data": {
      "text/plain": [
       "datetime.datetime(1969, 7, 21, 2, 51, tzinfo=datetime.timezone.utc)"
      ]
     },
     "execution_count": 87,
     "metadata": {},
     "output_type": "execute_result"
    }
   ],
   "source": [
    "d = datetime(1969, 7, 21, 2, 51)\n",
    "d.replace(tzinfo=timezone.utc)"
   ]
  },
  {
   "cell_type": "code",
   "execution_count": 88,
   "metadata": {},
   "outputs": [
    {
     "data": {
      "text/plain": [
       "datetime.datetime(2020, 8, 2, 22, 12, 12, 327889, tzinfo=datetime.timezone.utc)"
      ]
     },
     "execution_count": 88,
     "metadata": {},
     "output_type": "execute_result"
    }
   ],
   "source": [
    "datetime.now(tz=timezone.utc)"
   ]
  },
  {
   "cell_type": "code",
   "execution_count": null,
   "metadata": {},
   "outputs": [],
   "source": [
    "from pytz import timezone\n",
    "\n",
    "\n",
    "timezone('UTC')\n",
    "timezone('US/Eastern')\n",
    "timezone('Europe/Warsaw')\n",
    "timezone('Asia/Almaty')\n",
    "\n",
    "timezone('UTC').localize(my_date)\n",
    "my_date.astimezone(timezone('Europe/Warsaw'))"
   ]
  },
  {
   "cell_type": "code",
   "execution_count": 93,
   "metadata": {},
   "outputs": [],
   "source": [
    "from pytz import timezone\n",
    "\n",
    "d = datetime(1969, 7, 21, 2, 51)\n",
    "\n",
    "utc = timezone('UTC').localize(d)\n",
    "waw = timezone('Europe/Warsaw').localize(d)"
   ]
  },
  {
   "cell_type": "code",
   "execution_count": 94,
   "metadata": {},
   "outputs": [
    {
     "data": {
      "text/plain": [
       "datetime.datetime(1969, 7, 21, 2, 51, tzinfo=<UTC>)"
      ]
     },
     "execution_count": 94,
     "metadata": {},
     "output_type": "execute_result"
    }
   ],
   "source": [
    "utc"
   ]
  },
  {
   "cell_type": "code",
   "execution_count": 96,
   "metadata": {},
   "outputs": [
    {
     "data": {
      "text/plain": [
       "datetime.datetime(1969, 7, 20, 21, 51, tzinfo=<DstTzInfo 'US/Eastern' EDT-1 day, 20:00:00 DST>)"
      ]
     },
     "execution_count": 96,
     "metadata": {},
     "output_type": "execute_result"
    }
   ],
   "source": [
    "waw.astimezone(timezone('US/Eastern'))"
   ]
  }
 ],
 "metadata": {
  "kernelspec": {
   "display_name": "Python 3",
   "language": "python",
   "name": "python3"
  },
  "language_info": {
   "codemirror_mode": {
    "name": "ipython",
    "version": 3
   },
   "file_extension": ".py",
   "mimetype": "text/x-python",
   "name": "python",
   "nbconvert_exporter": "python",
   "pygments_lexer": "ipython3",
   "version": "3.8.3"
  }
 },
 "nbformat": 4,
 "nbformat_minor": 4
}
