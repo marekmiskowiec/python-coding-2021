{
 "cells": [
  {
   "cell_type": "markdown",
   "metadata": {},
   "source": [
    "## Python: Funckcje: Definicja i zwracanie wartości - zadania"
   ]
  },
  {
   "cell_type": "markdown",
   "metadata": {},
   "source": [
    "## Function Definition Print\n",
    "\n",
    "1. Zdefiniuj funkcję ``call`` bez parametrów\n",
    "1. Wypisz ``Beetlejuice`` na ekranie\n",
    "1. Wywołaj funkcję trzy razy"
   ]
  },
  {
   "cell_type": "code",
   "execution_count": 1,
   "metadata": {},
   "outputs": [
    {
     "name": "stdout",
     "output_type": "stream",
     "text": [
      "Beetlejuice\n",
      "Beetlejuice\n",
      "Beetlejuice\n"
     ]
    }
   ],
   "source": [
    "def call():\n",
    "    print('Beetlejuice')\n",
    "    \n",
    "\n",
    "call()\n",
    "call()\n",
    "call()"
   ]
  },
  {
   "cell_type": "markdown",
   "metadata": {},
   "source": [
    "## Function Return Numbers\n",
    "\n",
    "1. Zdefiniuj funkcję ``add`` bez parametrów\n",
    "1. Funkcja powinna zwracać sumę ``1`` i ``2``\n",
    "1. Wywołaj funkcję i przechwyć zwracaną wartość\n",
    "1. Wyświetl wartość"
   ]
  },
  {
   "cell_type": "code",
   "execution_count": 2,
   "metadata": {},
   "outputs": [
    {
     "data": {
      "text/plain": [
       "3"
      ]
     },
     "execution_count": 2,
     "metadata": {},
     "output_type": "execute_result"
    }
   ],
   "source": [
    "def add():\n",
    "    return 1 + 2\n",
    "\n",
    "\n",
    "result = add()\n",
    "result"
   ]
  },
  {
   "cell_type": "code",
   "execution_count": null,
   "metadata": {},
   "outputs": [],
   "source": []
  }
 ],
 "metadata": {
  "kernelspec": {
   "display_name": "Python 3",
   "language": "python",
   "name": "python3"
  },
  "language_info": {
   "codemirror_mode": {
    "name": "ipython",
    "version": 3
   },
   "file_extension": ".py",
   "mimetype": "text/x-python",
   "name": "python",
   "nbconvert_exporter": "python",
   "pygments_lexer": "ipython3",
   "version": "3.8.3"
  }
 },
 "nbformat": 4,
 "nbformat_minor": 4
}
