{
 "cells": [
  {
   "cell_type": "markdown",
   "metadata": {},
   "source": [
    "# Python: Pętle - Zadania"
   ]
  },
  {
   "cell_type": "markdown",
   "metadata": {},
   "source": [
    "## Loop For Count\n",
    "\n",
    "1. Użyj danych z sekcji \"Input\" (patrz poniżej)\n",
    "1. Zlicz wystąpienia każdego z kolorów\n",
    "1. Porównaj wynik z sekcją \"Output\" poniżej\n",
    "\n",
    "Output:\n",
    "* red: 3\n",
    "* green: 2\n",
    "* blue: 2"
   ]
  },
  {
   "cell_type": "code",
   "execution_count": 1,
   "metadata": {},
   "outputs": [],
   "source": [
    "DATA = ['red', 'green', 'blue', 'red', 'green', 'red', 'blue']"
   ]
  },
  {
   "cell_type": "code",
   "execution_count": 2,
   "metadata": {},
   "outputs": [
    {
     "name": "stdout",
     "output_type": "stream",
     "text": [
      "red=3\n",
      "green=2\n",
      "blue=2\n"
     ]
    }
   ],
   "source": [
    "red = 0\n",
    "green = 0\n",
    "blue = 0\n",
    "\n",
    "for color in DATA:\n",
    "    if color == 'red':\n",
    "        red += 1\n",
    "    elif color == 'green':\n",
    "        green += 1\n",
    "    elif color == 'blue':\n",
    "        blue += 1\n",
    "        \n",
    "print(f'{red=}')\n",
    "print(f'{green=}')\n",
    "print(f'{blue=}')"
   ]
  },
  {
   "cell_type": "markdown",
   "metadata": {},
   "source": [
    "## Loop For Counter\n",
    "\n",
    "1. Użyj danych z sekcji \"Input\" (patrz poniżej)\n",
    "1. Iteruj po ``DATA``\n",
    "1. Policz wystąpienia każdej z cyfr\n",
    "1. Stwórz pusty ``result: Dict[int, int]``:\n",
    "\n",
    "    * klucz - cyfra\n",
    "    * wartość - liczba wystąpień\n",
    "\n",
    "1. Iterując po cyfrach sprawdź czy cyfra znajduje się już w ``result``\n",
    "\n",
    "    * Jeżeli pierwsze wystąpienie, to dodaj ją do ``result`` z wartością 1\n",
    "    * Jeżeli istnieje, to zwiększ w wartość o 1\n",
    "\n",
    "1. Porównaj wynik z sekcją \"Output\" poniżej\n",
    "\n",
    "Output:\n",
    "```python\n",
    "result: Dict[int, int]\n",
    "# {1: 7, 4: 8, 6: 4, 7: 4, 5: 4, 0: 7, 9: 5, 8: 6, 2: 2, 3: 3}\n",
    "```"
   ]
  },
  {
   "cell_type": "code",
   "execution_count": 3,
   "metadata": {},
   "outputs": [],
   "source": [
    "DATA = [1, 4, 6, 7, 4, 4, 4, 5, 1, 7, 0,\n",
    "        0, 6, 5, 0, 0, 9, 7, 0, 4, 4, 8,\n",
    "        2, 4, 0, 0, 1, 9, 1, 7, 8, 8, 9,\n",
    "        1, 3, 5, 6, 8, 2, 8, 1, 3, 9, 5,\n",
    "        4, 8, 1, 9, 6, 3]"
   ]
  },
  {
   "cell_type": "code",
   "execution_count": 4,
   "metadata": {},
   "outputs": [
    {
     "data": {
      "text/plain": [
       "{1: 7, 4: 8, 6: 4, 7: 4, 5: 4, 0: 7, 9: 5, 8: 6, 2: 2, 3: 3}"
      ]
     },
     "execution_count": 4,
     "metadata": {},
     "output_type": "execute_result"
    }
   ],
   "source": [
    "result = {}\n",
    "\n",
    "for digit in DATA:\n",
    "    if digit not in result:\n",
    "        result[digit] = 1\n",
    "    else:\n",
    "        result[digit] += 1\n",
    "        \n",
    "result"
   ]
  },
  {
   "cell_type": "markdown",
   "metadata": {},
   "source": [
    "## Loop For Segmentation\n",
    "\n",
    "1. Użyj danych z sekcji \"Input\" (patrz poniżej)\n",
    "1. Policz wystąpienia każdej z group\n",
    "1. Zdefiniuj grupy\n",
    "\n",
    "    * ``small`` - liczby z przedziału <0-3)\n",
    "    * ``medium`` - liczby z przedziału <3-7)\n",
    "    * ``large`` - liczby z przedziału <7-9>\n",
    "\n",
    "1. Wypisz ``result: Dict[str, int]``:\n",
    "\n",
    "    * klucz - grupa\n",
    "    * wartość - liczba wystąpień\n",
    "\n",
    "1. Porównaj wynik z sekcją \"Output\" poniżej\n",
    "\n",
    "Output:\n",
    "```python\n",
    "result: Dict[str, int]\n",
    "# {'small': 16, 'medium': 19, 'large': 15}\n",
    "```"
   ]
  },
  {
   "cell_type": "code",
   "execution_count": 5,
   "metadata": {},
   "outputs": [],
   "source": [
    "DATA = [1, 4, 6, 7, 4, 4, 4, 5, 1, 7, 0,\n",
    "        0, 6, 5, 0, 0, 9, 7, 0, 4, 4, 8,\n",
    "        2, 4, 0, 0, 1, 9, 1, 7, 8, 8, 9,\n",
    "        1, 3, 5, 6, 8, 2, 8, 1, 3, 9, 5,\n",
    "        4, 8, 1, 9, 6, 3]"
   ]
  },
  {
   "cell_type": "code",
   "execution_count": 6,
   "metadata": {},
   "outputs": [
    {
     "data": {
      "text/plain": [
       "{'small': 16, 'medium': 19, 'large': 15}"
      ]
     },
     "execution_count": 6,
     "metadata": {},
     "output_type": "execute_result"
    }
   ],
   "source": [
    "result = {\n",
    "    'small': 0,\n",
    "    'medium': 0,\n",
    "    'large': 0,\n",
    "    \n",
    "}\n",
    "\n",
    "for digit in DATA:\n",
    "    if 0 <= digit < 3:\n",
    "        result['small'] += 1\n",
    "    elif 3 <= digit < 7:\n",
    "        result['medium'] += 1\n",
    "    elif 7 <= digit <= 9:\n",
    "        result['large'] += 1\n",
    "        \n",
    "result"
   ]
  },
  {
   "cell_type": "markdown",
   "metadata": {},
   "source": [
    "## Loop For Newline\n",
    "\n",
    "1. Użyj danych z sekcji \"Input\" (patrz poniżej)\n",
    "1. Zdefiniuj ``result: str``\n",
    "1. Użyj ``for`` do iterowania po ``DATA``\n",
    "1. Połącz linie tekstu znakiem końca linii (``\\n``)\n",
    "1. Nie używaj ``str.join()``\n",
    "1. Porównaj wyniki z sekcją \"Output\" (patrz poniżej)\n",
    "\n",
    "Output:\n",
    "```python\n",
    "result: str\n",
    "# 'We choose to go to the Moon.\\nWe choose to go to the Moon in this decade and do the other things.\\nNot because they are easy, but because they are hard.'\n",
    "```"
   ]
  },
  {
   "cell_type": "code",
   "execution_count": 7,
   "metadata": {},
   "outputs": [],
   "source": [
    "DATA = [\n",
    "    'We choose to go to the Moon.',\n",
    "    'We choose to go to the Moon in this decade and do the other things.',\n",
    "    'Not because they are easy, but because they are hard.']"
   ]
  },
  {
   "cell_type": "code",
   "execution_count": 8,
   "metadata": {},
   "outputs": [
    {
     "data": {
      "text/plain": [
       "'We choose to go to the Moon.\\nWe choose to go to the Moon in this decade and do the other things.\\nNot because they are easy, but because they are hard.\\n'"
      ]
     },
     "execution_count": 8,
     "metadata": {},
     "output_type": "execute_result"
    }
   ],
   "source": [
    "result = ''\n",
    "\n",
    "for line in DATA:\n",
    "    result += line + '\\n'\n",
    "    \n",
    "result"
   ]
  },
  {
   "cell_type": "markdown",
   "metadata": {},
   "source": [
    "## Loop For Translate\n",
    "\n",
    "1. Użyj danych z sekcji \"Input\" (patrz poniżej)\n",
    "1. Użyj ``for`` do iteracji po ``DATA``\n",
    "1. Jeżeli litera jest w ``PL`` to użyj przekonwertowanej wartości jako litera\n",
    "1. Dodaj literę do ``result``\n",
    "1. Porównaj wyniki z sekcją \"Output\" (patrz poniżej)\n",
    "\n",
    "Output:\n",
    "```python\n",
    "result: str\n",
    "# 'zazolc gesla jazn'\n",
    "```"
   ]
  },
  {
   "cell_type": "code",
   "execution_count": 9,
   "metadata": {},
   "outputs": [],
   "source": [
    "PL = {'ą': 'a', 'ć': 'c', 'ę': 'e',\n",
    "      'ł': 'l', 'ń': 'n', 'ó': 'o',\n",
    "      'ś': 's', 'ż': 'z', 'ź': 'z'}\n",
    "\n",
    "DATA = 'zażółć gęślą jaźń'"
   ]
  },
  {
   "cell_type": "code",
   "execution_count": 10,
   "metadata": {},
   "outputs": [
    {
     "data": {
      "text/plain": [
       "'zazolc gesla jazn'"
      ]
     },
     "execution_count": 10,
     "metadata": {},
     "output_type": "execute_result"
    }
   ],
   "source": [
    "result = []\n",
    "\n",
    "for litera in DATA:\n",
    "    litera = PL.get(litera, litera)\n",
    "    result.append(litera)\n",
    "\n",
    "''.join(result)    "
   ]
  },
  {
   "cell_type": "markdown",
   "metadata": {},
   "source": [
    "## Loop For Text\n",
    "\n",
    "1. Użyj danych z sekcji \"Input\" (patrz poniżej)\n",
    "1. Dany jest tekst przemówienia \"Moon Speech\" wygłoszonej przez John F. Kennedy'ego\n",
    "1. Zdania oddzielone są kropkami (``.``)\n",
    "1. Każde zdanie oczyść z białych znaków na początku i końcu\n",
    "1. Słowa oddzielone są spacjami\n",
    "1. Wypisz także ile jest łącznie w całym tekście:\n",
    "\n",
    "    * przysłówków (słów zakończonych na \"ly\")\n",
    "    * zdań\n",
    "    * słów\n",
    "    * liter\n",
    "    * znaków (łącznie ze spacjami wewnątrz zdań, ale bez kropek ``.``)\n",
    "    * przecinków (``,``)\n",
    "\n",
    "1. Porównaj wynik z sekcją \"Output\" poniżej\n",
    "\n",
    "Output:\n",
    "* Sentences: 7\n",
    "* Words: 71\n",
    "* Characters: 345\n",
    "* Letters: 281\n",
    "* Commas: 1\n",
    "* Adverbs: 0"
   ]
  },
  {
   "cell_type": "code",
   "execution_count": 11,
   "metadata": {},
   "outputs": [],
   "source": [
    "TEXT = \"\"\"\n",
    "    We choose to go to the Moon.\n",
    "    We choose to go to the Moon in this decade and do the other things.\n",
    "    Not because they are easy, but because they are hard.\n",
    "    Because that goal will serve to organize and measure the best of our energies a skills.\n",
    "    Because that challenge is one that we are willing to accept.\n",
    "    One we are unwilling to postpone.\n",
    "    And one we intend to win\n",
    "\"\"\""
   ]
  },
  {
   "cell_type": "code",
   "execution_count": 12,
   "metadata": {},
   "outputs": [
    {
     "name": "stdout",
     "output_type": "stream",
     "text": [
      "Sentences: 7\n",
      "Words: 71\n",
      "Characters: 345\n",
      "Letters: 281\n",
      "Commas: 1\n",
      "Adverbs: 0\n"
     ]
    }
   ],
   "source": [
    "ile_zdan = 0\n",
    "ile_slow = 0\n",
    "ile_znakow = 0\n",
    "ile_liter = 0\n",
    "ile_przecinkow = 0\n",
    "ile_przyslowkow = 0\n",
    "\n",
    "for zdanie in TEXT.split('.'):\n",
    "    \n",
    "    zdanie = zdanie.strip()\n",
    "    slowa = zdanie.split()\n",
    "    znaki = zdanie.replace(',', '')\n",
    "    litery = znaki.replace(' ', '')\n",
    "    \n",
    "    ile_zdan += 1\n",
    "    ile_slow += len(slowa)\n",
    "    ile_znakow += len(znaki)\n",
    "    ile_liter += len(litery)\n",
    "    ile_przecinkow += zdanie.count(',')\n",
    "    \n",
    "    for slowo in slowa:\n",
    "        if slowo.endswith('ly'):\n",
    "            ile_przyslowkow += 1\n",
    "            \n",
    "print(f'Sentences: {ile_zdan}')\n",
    "print(f'Words: {ile_slow}')\n",
    "print(f'Characters: {ile_znakow}')\n",
    "print(f'Letters: {ile_liter}')\n",
    "print(f'Commas: {ile_przecinkow}')\n",
    "print(f'Adverbs: {ile_przyslowkow}')"
   ]
  },
  {
   "cell_type": "code",
   "execution_count": 13,
   "metadata": {},
   "outputs": [
    {
     "name": "stdout",
     "output_type": "stream",
     "text": [
      "Sentences: 7\n",
      "Words: 71\n",
      "Characters: 345\n",
      "Letters: 281\n",
      "Commas: 1\n",
      "Adverbs: 0\n"
     ]
    }
   ],
   "source": [
    "TEXT = \"\"\"\n",
    "    We choose to go to the Moon.\n",
    "    We choose to go to the Moon in this decade and do the other things.\n",
    "    Not because they are easy, but because they are hard.\n",
    "    Because that goal will serve to organize and measure the best of our energies a skills.\n",
    "    Because that challenge is one that we are willing to accept.\n",
    "    One we are unwilling to postpone.\n",
    "    And one we intend to win\n",
    "\"\"\"\n",
    "\n",
    "total_sentences = 0\n",
    "total_words = 0\n",
    "total_chars = 0\n",
    "total_letters = 0\n",
    "total_commas = 0\n",
    "total_adverbs = 0\n",
    "\n",
    "\n",
    "for sentence in TEXT.split('.'):\n",
    "\n",
    "    sentence = sentence.strip()\n",
    "    words = sentence.split()\n",
    "    characters = sentence.replace(',', '')\n",
    "    letters = characters.replace(' ', '')\n",
    "\n",
    "    total_sentences += 1\n",
    "    total_words += len(words)\n",
    "    total_chars += len(characters)\n",
    "    total_letters += len(letters)\n",
    "    total_commas += sentence.count(',')\n",
    "\n",
    "    for word in words:\n",
    "        if word.endswith('ly'):\n",
    "            total_adverbs += 1\n",
    "\n",
    "\n",
    "print(f'Sentences: {total_sentences}')\n",
    "print(f'Words: {total_words}')\n",
    "print(f'Characters: {total_chars}')\n",
    "print(f'Letters: {total_letters}')\n",
    "print(f'Commas: {total_commas}')\n",
    "print(f'Adverbs: {total_adverbs}')"
   ]
  },
  {
   "cell_type": "code",
   "execution_count": null,
   "metadata": {},
   "outputs": [],
   "source": []
  }
 ],
 "metadata": {
  "kernelspec": {
   "display_name": "Python 3",
   "language": "python",
   "name": "python3"
  },
  "language_info": {
   "codemirror_mode": {
    "name": "ipython",
    "version": 3
   },
   "file_extension": ".py",
   "mimetype": "text/x-python",
   "name": "python",
   "nbconvert_exporter": "python",
   "pygments_lexer": "ipython3",
   "version": "3.8.3"
  }
 },
 "nbformat": 4,
 "nbformat_minor": 4
}
