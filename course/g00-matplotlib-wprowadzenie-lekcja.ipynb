{
 "cells": [
  {
   "cell_type": "markdown",
   "metadata": {},
   "source": [
    "# Matplotlib - wprowadzenie - lekcja"
   ]
  },
  {
   "cell_type": "markdown",
   "metadata": {},
   "source": [
    "## Biblioteki Python do wizualizacji danych: \n",
    "\n",
    "- Matplotlib - https://matplotlib.org/gallery/index.html\n",
    "- Bokeh - https://demo.bokeh.org\n",
    "- Seaborn - https://seaborn.pydata.org/examples/index.html\n",
    "- Plot.ly - https://plotly.com/python/\n",
    "\n",
    "## Samodzielne web aplikacje do wizualizacji\n",
    "        \n",
    "- Grafana - https://grafana.com/grafana/\n",
    "- Kibana - https://www.elastic.co/kibana\n",
    "- Apache Superset - https://superset.incubator.apache.org/index.html\n",
    "\n",
    "<img src=\"img/grafana-dashboard.png\" width=\"800\">\n",
    "<img src=\"img/grafana-habitatOS.png\" width=\"800\">\n",
    "<img src=\"img/kibana.png\" width=\"800\">\n",
    "<img src=\"img/superset.png\" width=\"800\">"
   ]
  },
  {
   "cell_type": "markdown",
   "metadata": {},
   "source": [
    "## Matplotlib\n",
    "\n",
    "- Open Source\n",
    "- Standard w ekosystemie SciPy\n",
    "- Bardzo rozszerzalna\n",
    "- Ogromna ilość wykresów i możliwości\n",
    "- Wykresy 2D, 3D i dynamiczne"
   ]
  },
  {
   "cell_type": "markdown",
   "metadata": {},
   "source": [
    "## Instalacja"
   ]
  },
  {
   "cell_type": "code",
   "execution_count": 1,
   "metadata": {},
   "outputs": [
    {
     "name": "stdout",
     "output_type": "stream",
     "text": [
      "Requirement already satisfied: matplotlib in /Users/matt/.virtualenvs/python-w-analizie-danych/lib/python3.8/site-packages (3.3.1)\n",
      "Requirement already satisfied: cycler>=0.10 in /Users/matt/.virtualenvs/python-w-analizie-danych/lib/python3.8/site-packages (from matplotlib) (0.10.0)\n",
      "Requirement already satisfied: python-dateutil>=2.1 in /Users/matt/.virtualenvs/python-w-analizie-danych/lib/python3.8/site-packages (from matplotlib) (2.8.1)\n",
      "Requirement already satisfied: pillow>=6.2.0 in /Users/matt/.virtualenvs/python-w-analizie-danych/lib/python3.8/site-packages (from matplotlib) (7.2.0)\n",
      "Requirement already satisfied: numpy>=1.15 in /Users/matt/.virtualenvs/python-w-analizie-danych/lib/python3.8/site-packages (from matplotlib) (1.19.1)\n",
      "Requirement already satisfied: pyparsing!=2.0.4,!=2.1.2,!=2.1.6,>=2.0.3 in /Users/matt/.virtualenvs/python-w-analizie-danych/lib/python3.8/site-packages (from matplotlib) (2.4.7)\n",
      "Requirement already satisfied: kiwisolver>=1.0.1 in /Users/matt/.virtualenvs/python-w-analizie-danych/lib/python3.8/site-packages (from matplotlib) (1.2.0)\n",
      "Requirement already satisfied: certifi>=2020.06.20 in /Users/matt/.virtualenvs/python-w-analizie-danych/lib/python3.8/site-packages (from matplotlib) (2020.6.20)\n",
      "Requirement already satisfied: six in /Users/matt/.virtualenvs/python-w-analizie-danych/lib/python3.8/site-packages (from cycler>=0.10->matplotlib) (1.15.0)\n",
      "Note: you may need to restart the kernel to use updated packages.\n"
     ]
    }
   ],
   "source": [
    "%pip install matplotlib"
   ]
  },
  {
   "cell_type": "markdown",
   "metadata": {},
   "source": [
    "## Upgrade"
   ]
  },
  {
   "cell_type": "code",
   "execution_count": 6,
   "metadata": {},
   "outputs": [
    {
     "name": "stdout",
     "output_type": "stream",
     "text": [
      "Requirement already up-to-date: matplotlib in /Users/matt/.virtualenvs/python-w-analizie-danych/lib/python3.8/site-packages (3.3.1)\n",
      "Requirement already satisfied, skipping upgrade: pyparsing!=2.0.4,!=2.1.2,!=2.1.6,>=2.0.3 in /Users/matt/.virtualenvs/python-w-analizie-danych/lib/python3.8/site-packages (from matplotlib) (2.4.7)\n",
      "Requirement already satisfied, skipping upgrade: numpy>=1.15 in /Users/matt/.virtualenvs/python-w-analizie-danych/lib/python3.8/site-packages (from matplotlib) (1.19.1)\n",
      "Requirement already satisfied, skipping upgrade: python-dateutil>=2.1 in /Users/matt/.virtualenvs/python-w-analizie-danych/lib/python3.8/site-packages (from matplotlib) (2.8.1)\n",
      "Requirement already satisfied, skipping upgrade: pillow>=6.2.0 in /Users/matt/.virtualenvs/python-w-analizie-danych/lib/python3.8/site-packages (from matplotlib) (7.2.0)\n",
      "Requirement already satisfied, skipping upgrade: cycler>=0.10 in /Users/matt/.virtualenvs/python-w-analizie-danych/lib/python3.8/site-packages (from matplotlib) (0.10.0)\n",
      "Requirement already satisfied, skipping upgrade: kiwisolver>=1.0.1 in /Users/matt/.virtualenvs/python-w-analizie-danych/lib/python3.8/site-packages (from matplotlib) (1.2.0)\n",
      "Requirement already satisfied, skipping upgrade: certifi>=2020.06.20 in /Users/matt/.virtualenvs/python-w-analizie-danych/lib/python3.8/site-packages (from matplotlib) (2020.6.20)\n",
      "Requirement already satisfied, skipping upgrade: six>=1.5 in /Users/matt/.virtualenvs/python-w-analizie-danych/lib/python3.8/site-packages (from python-dateutil>=2.1->matplotlib) (1.15.0)\n",
      "Note: you may need to restart the kernel to use updated packages.\n"
     ]
    }
   ],
   "source": [
    "%pip install --upgrade matplotlib"
   ]
  },
  {
   "cell_type": "markdown",
   "metadata": {},
   "source": [
    "## Import"
   ]
  },
  {
   "cell_type": "code",
   "execution_count": 1,
   "metadata": {},
   "outputs": [],
   "source": [
    "import matplotlib.pyplot as plt\n",
    "import matplotlib"
   ]
  },
  {
   "cell_type": "code",
   "execution_count": 2,
   "metadata": {},
   "outputs": [
    {
     "data": {
      "text/plain": [
       "'3.3.1'"
      ]
     },
     "execution_count": 2,
     "metadata": {},
     "output_type": "execute_result"
    }
   ],
   "source": [
    "matplotlib.__version__"
   ]
  },
  {
   "cell_type": "code",
   "execution_count": null,
   "metadata": {},
   "outputs": [],
   "source": []
  }
 ],
 "metadata": {
  "kernelspec": {
   "display_name": "Python 3",
   "language": "python",
   "name": "python3"
  },
  "language_info": {
   "codemirror_mode": {
    "name": "ipython",
    "version": 3
   },
   "file_extension": ".py",
   "mimetype": "text/x-python",
   "name": "python",
   "nbconvert_exporter": "python",
   "pygments_lexer": "ipython3",
   "version": "3.8.3"
  }
 },
 "nbformat": 4,
 "nbformat_minor": 4
}
