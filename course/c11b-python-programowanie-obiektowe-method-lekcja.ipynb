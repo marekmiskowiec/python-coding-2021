{
 "cells": [
  {
   "cell_type": "markdown",
   "metadata": {},
   "source": [
    "# Python: Programowanie obiektowe: metody"
   ]
  },
  {
   "cell_type": "markdown",
   "metadata": {},
   "source": [
    "## Metody\n",
    "\n",
    "* składnia\n",
    "* `self`\n",
    "* metody bez argumentów\n",
    "* argumenty wymagane\n",
    "* argumenty opcjonalne\n",
    "* dostęp do pól\n",
    "* wywoływanie innych metod"
   ]
  },
  {
   "cell_type": "code",
   "execution_count": 22,
   "metadata": {},
   "outputs": [
    {
     "data": {
      "text/plain": [
       "'My name... Mark W.'"
      ]
     },
     "execution_count": 22,
     "metadata": {},
     "output_type": "execute_result"
    }
   ],
   "source": [
    "class Astronaut:\n",
    "    def __init__(self, firstname, lastname):\n",
    "        self.firstname = firstname\n",
    "        self.lastname = lastname\n",
    "    \n",
    "    def get_name(self):\n",
    "        fname = self.firstname\n",
    "        lname = self.lastname[0]\n",
    "        return f'{fname} {lname}.'\n",
    "    \n",
    "    def say_hello(self):\n",
    "        name = self.get_name()\n",
    "        return f'My name... {name}'\n",
    "    \n",
    "\n",
    "    \n",
    "    \n",
    "astro = Astronaut('Mark', 'Watney')\n",
    "astro.say_hello()"
   ]
  },
  {
   "cell_type": "code",
   "execution_count": null,
   "metadata": {},
   "outputs": [],
   "source": [
    "class Calculator:\n",
    "    def add(self, a, b):\n",
    "        return a + b\n",
    "    \n",
    "    def sub(self, a, b):\n",
    "        return a - b\n",
    "    \n",
    "    def mul(self, a, b):\n",
    "        return a * b\n",
    "    \n",
    "    def div(self, a, b):\n",
    "        return a / b\n",
    "    \n",
    "    def sum(self, *args):\n",
    "        return sum(args)\n",
    "    \n",
    "    def len(self, *args):\n",
    "        return len(args)\n",
    "    \n",
    "    def mean(self, *args):\n",
    "        return self.sum() / self.len()\n",
    "    "
   ]
  },
  {
   "cell_type": "markdown",
   "metadata": {},
   "source": [
    "## Wypisywanie\n",
    "\n",
    "* string\n",
    "* reprezentacja\n",
    "* formatowanie"
   ]
  },
  {
   "cell_type": "code",
   "execution_count": 46,
   "metadata": {},
   "outputs": [
    {
     "data": {
      "text/plain": [
       "Astronaut(firstname=\"Mark\", lastname=\"Watney\")"
      ]
     },
     "execution_count": 46,
     "metadata": {},
     "output_type": "execute_result"
    }
   ],
   "source": [
    "class Astronaut:\n",
    "    def __init__(self, firstname, lastname):\n",
    "        self.firstname = firstname\n",
    "        self.lastname = lastname\n",
    "    \n",
    "    def get_name(self):\n",
    "        fname = self.firstname\n",
    "        lname = self.lastname[0]\n",
    "        return f'{fname} {lname}.'\n",
    "    \n",
    "    def say_hello(self):\n",
    "        name = self.get_name()\n",
    "        return f'My name... {name}'\n",
    "    \n",
    "    def __str__(self):\n",
    "        return str(self.get_name())\n",
    "\n",
    "    def __repr__(self):\n",
    "        return f'Astronaut(firstname=\"{self.firstname}\", lastname=\"{self.lastname}\")'\n",
    "    \n",
    "    def __format__(self, mood):\n",
    "        if mood == 'happy':\n",
    "            return 'Yuppi, we are going to space'\n",
    "        elif mood == 'scared':\n",
    "            return 'I hope we do not crash'\n",
    "        else:\n",
    "            return self.__str__()\n",
    "    \n",
    "    \n",
    "astro = Astronaut('Mark', 'Watney')\n",
    "astro"
   ]
  },
  {
   "cell_type": "code",
   "execution_count": 49,
   "metadata": {},
   "outputs": [
    {
     "name": "stdout",
     "output_type": "stream",
     "text": [
      "Astornaut say: I hope we do not crash\n"
     ]
    }
   ],
   "source": [
    "print(f'Astornaut say: {astro:scared}')"
   ]
  },
  {
   "cell_type": "code",
   "execution_count": 33,
   "metadata": {},
   "outputs": [],
   "source": [
    "import datetime"
   ]
  },
  {
   "cell_type": "code",
   "execution_count": 34,
   "metadata": {},
   "outputs": [],
   "source": [
    "now = datetime.datetime.now()"
   ]
  },
  {
   "cell_type": "code",
   "execution_count": 35,
   "metadata": {},
   "outputs": [
    {
     "data": {
      "text/plain": [
       "'2020-07-27 02:51:18.655535'"
      ]
     },
     "execution_count": 35,
     "metadata": {},
     "output_type": "execute_result"
    }
   ],
   "source": [
    "str(now)"
   ]
  },
  {
   "cell_type": "code",
   "execution_count": 36,
   "metadata": {},
   "outputs": [
    {
     "name": "stdout",
     "output_type": "stream",
     "text": [
      "2020-07-27 02:51:18.655535\n"
     ]
    }
   ],
   "source": [
    "print(now)"
   ]
  },
  {
   "cell_type": "code",
   "execution_count": 37,
   "metadata": {},
   "outputs": [
    {
     "data": {
      "text/plain": [
       "'datetime.datetime(2020, 7, 27, 2, 51, 18, 655535)'"
      ]
     },
     "execution_count": 37,
     "metadata": {},
     "output_type": "execute_result"
    }
   ],
   "source": [
    "repr(now)"
   ]
  },
  {
   "cell_type": "code",
   "execution_count": 38,
   "metadata": {},
   "outputs": [
    {
     "data": {
      "text/plain": [
       "datetime.datetime(2020, 7, 27, 2, 51, 18, 655535)"
      ]
     },
     "execution_count": 38,
     "metadata": {},
     "output_type": "execute_result"
    }
   ],
   "source": [
    "now"
   ]
  },
  {
   "cell_type": "code",
   "execution_count": 40,
   "metadata": {},
   "outputs": [],
   "source": [
    "a = datetime.datetime(2020, 7, 27, 2, 51, 18, 655535)\n",
    "b = '2020-07-27 02:51:18.655535'"
   ]
  },
  {
   "cell_type": "code",
   "execution_count": 51,
   "metadata": {},
   "outputs": [
    {
     "name": "stdout",
     "output_type": "stream",
     "text": [
      "Duration was 60.0 min\n",
      "Duration was 1.0 hour\n",
      "Duration was 0.04 day\n"
     ]
    }
   ],
   "source": [
    "SECOND = 1\n",
    "MINUTE = 60 * SECOND\n",
    "HOUR = 60 * MINUTE\n",
    "DAY = 24 * HOUR\n",
    "\n",
    "\n",
    "class Duration:\n",
    "    def __init__(self, seconds):\n",
    "        self.seconds = seconds\n",
    "\n",
    "    def __format__(self, unit):\n",
    "        if unit in ('m', 'min', 'minutes'):\n",
    "            return str(self.seconds / MINUTE)\n",
    "\n",
    "        if unit in ('h', 'hr', 'hours'):\n",
    "            return str(self.seconds / HOUR)\n",
    "\n",
    "        if unit in ('d', 'days'):\n",
    "            return str(round(self.seconds / DAY, 2))\n",
    "\n",
    "\n",
    "duration = Duration(seconds=3600)\n",
    "\n",
    "print(f'Duration was {duration:m} min')       # Duration was 60.0 min\n",
    "print(f'Duration was {duration:h} hour')        # Duration was 1.0 hour\n",
    "print(f'Duration was {duration:d} day')          # Duration was 0.04 day"
   ]
  },
  {
   "cell_type": "code",
   "execution_count": 52,
   "metadata": {},
   "outputs": [
    {
     "name": "stdout",
     "output_type": "stream",
     "text": [
      "Temperature is 309.75 K\n",
      "Temperature is 36.60 C\n",
      "Temperature is 97.88 F\n"
     ]
    },
    {
     "data": {
      "text/plain": [
       "97.88000000000004"
      ]
     },
     "execution_count": 52,
     "metadata": {},
     "output_type": "execute_result"
    }
   ],
   "source": [
    "class Temperature:\n",
    "    def __init__(self, kelvin):\n",
    "        if kelvin < 0.0:\n",
    "            raise ValueError\n",
    "        \n",
    "        self.kelvin = kelvin\n",
    "\n",
    "    def to_fahrenheit(self):\n",
    "        return (self.kelvin-273.15) * 1.8 + 32\n",
    "\n",
    "    def to_celsius(self):\n",
    "        return self.kelvin - 273.15\n",
    "\n",
    "    def __format__(self, unit):\n",
    "        if unit == 'kelvin':\n",
    "            value = self.kelvin\n",
    "        elif unit == 'celsius':\n",
    "            value = self.to_celsius()\n",
    "        elif unit == 'fahrenheit':\n",
    "            value = self.to_fahrenheit()\n",
    "\n",
    "        return f'{value:.2f}'\n",
    "\n",
    "\n",
    "temp = Temperature(309.75)\n",
    "\n",
    "print(f'Temperature is {temp:kelvin} K')       # Temperature is 309.75 K\n",
    "print(f'Temperature is {temp:celsius} C')      # Temperature is 36.6 C\n",
    "print(f'Temperature is {temp:fahrenheit} F')   # Temperature is 97.88 F\n",
    "\n",
    "\n",
    "temp.to_fahrenheit()"
   ]
  },
  {
   "cell_type": "markdown",
   "metadata": {},
   "source": [
    "## Dziedziczenie\n",
    "\n",
    "* słownictwo\n",
    "* składnia\n",
    "* przeciążanie\n",
    "* dziedziczenie proste\n",
    "* dziedziczenie wielopoziomowe\n",
    "* wielodziedziczenie\n",
    "* odwołania do rodzica (`super()`)"
   ]
  },
  {
   "cell_type": "code",
   "execution_count": 65,
   "metadata": {},
   "outputs": [
    {
     "name": "stdout",
     "output_type": "stream",
     "text": [
      "{'name': 'Mark Watney', 'imie': 'Mark', 'nazwisko': 'Watney'}\n"
     ]
    }
   ],
   "source": [
    "class Parent:\n",
    "    def __init__(self, imie, nazwisko):\n",
    "        self.imie = imie\n",
    "        self.nazwisko = nazwisko\n",
    "        \n",
    "    def __str__(self):\n",
    "        return f'{self.imie}'\n",
    "\n",
    "    \n",
    "class Child(Parent):\n",
    "    def __init__(self, name):\n",
    "        self.name = name\n",
    "        fname, lname = name.split()\n",
    "        super().__init__(fname, lname)\n",
    "    \n",
    "    def __str__(self):\n",
    "        return f'{self.nazwisko}'\n",
    "\n",
    "\n",
    "\n",
    "a = Child('Mark Watney')\n",
    "print(a.__dict__)"
   ]
  },
  {
   "cell_type": "code",
   "execution_count": 66,
   "metadata": {},
   "outputs": [],
   "source": [
    "class Pojazd:\n",
    "    def uruchom(self):\n",
    "        pass\n",
    "    \n",
    "    def wylacz(self):\n",
    "        pass\n",
    "\n",
    "\n",
    "class Samochod(Pojazd):\n",
    "    pass\n",
    "    \n",
    "\n",
    "class Tir(Pojazd):\n",
    "    pass"
   ]
  },
  {
   "cell_type": "code",
   "execution_count": null,
   "metadata": {},
   "outputs": [],
   "source": [
    "class Pojazd:\n",
    "    def uruchom(self):\n",
    "        pass\n",
    "    \n",
    "    def wylacz(self):\n",
    "        pass\n",
    "\n",
    "    def otworz_okno(self):\n",
    "        pass\n",
    "    \n",
    "    def zamknij_okno(self):\n",
    "        pass\n",
    "    \n",
    "\n",
    "class Samochod(Pojazd):\n",
    "    pass\n",
    "    \n",
    "\n",
    "class Tir(Pojazd):\n",
    "    pass\n",
    "\n",
    "class Motor(Pojazd):\n",
    "    pass"
   ]
  },
  {
   "cell_type": "code",
   "execution_count": null,
   "metadata": {},
   "outputs": [],
   "source": [
    "class Pojazd:\n",
    "    def uruchom(self):\n",
    "        pass\n",
    "    \n",
    "    def wylacz(self):\n",
    "        pass\n",
    "\n",
    "    \n",
    "class MaOkna:\n",
    "    def otworz_okno(self):\n",
    "        pass\n",
    "    \n",
    "    def zamknij_okno(self):\n",
    "        pass\n",
    "    \n",
    "\n",
    "class Samochod(Pojazd, MaOkna):\n",
    "    pass\n",
    "    \n",
    "\n",
    "class Tir(Pojazd, MaOkna):\n",
    "    pass\n",
    "\n",
    "class Motor(Pojazd):\n",
    "    pass"
   ]
  }
 ],
 "metadata": {
  "kernelspec": {
   "display_name": "Python 3",
   "language": "python",
   "name": "python3"
  },
  "language_info": {
   "codemirror_mode": {
    "name": "ipython",
    "version": 3
   },
   "file_extension": ".py",
   "mimetype": "text/x-python",
   "name": "python",
   "nbconvert_exporter": "python",
   "pygments_lexer": "ipython3",
   "version": "3.8.3"
  }
 },
 "nbformat": 4,
 "nbformat_minor": 4
}
