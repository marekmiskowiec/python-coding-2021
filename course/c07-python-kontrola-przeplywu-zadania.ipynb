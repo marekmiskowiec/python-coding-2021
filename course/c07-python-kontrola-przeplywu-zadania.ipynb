{
 "cells": [
  {
   "cell_type": "markdown",
   "metadata": {},
   "source": [
    "# Python: Kontrola przepływu - Zadania"
   ]
  },
  {
   "cell_type": "markdown",
   "metadata": {},
   "source": [
    "## Conditional Operators\n",
    "\n",
    "1. Wczytaj liczbę od użytkownika\n",
    "1. Użytkownika poda ``int`` i nie będzie próbował wprowadzać niepoprawnych danych\n",
    "1. Zdefiniuj ``result: bool`` z wynikiem sprawdzania parzystości liczby wprowadzonej\n",
    "1. Liczba jest parzysta, gdy dzielona modulo (``%``) przez 2 ma resztę równą 0\n",
    "1. Wypisz ``result``\n",
    "1. Nie używaj instrukcji ``if``\n",
    "\n",
    "Podpowiedź:\n",
    "* ``%`` ma inne znaczenie dla ``int`` i ``str``"
   ]
  },
  {
   "cell_type": "code",
   "execution_count": null,
   "metadata": {},
   "outputs": [],
   "source": []
  },
  {
   "cell_type": "markdown",
   "metadata": {},
   "source": [
    "## Conditional Statements\n",
    "\n",
    "1. Poproś użytkownika o wprowadzenie swojego wieku\n",
    "1. Użytkownika poda tylko poprawne ``int``\n",
    "1. Wypisz czy użytkownik jest pełnoletni"
   ]
  },
  {
   "cell_type": "code",
   "execution_count": null,
   "metadata": {},
   "outputs": [],
   "source": []
  },
  {
   "cell_type": "markdown",
   "metadata": {},
   "source": [
    "## Conditional Expression\n",
    "\n",
    "1. Użyj danych z sekcji \"Input\" (patrz poniżej)\n",
    "1. Tabela zawiera klasyfikację ciśnienia krwi wg American Heart Association :cite:`Whelton2018`\n",
    "1. Użytkownik wprowadza ciśnienie krwi w formacie ``XXX/YY`` lub ``XXX/YYY``\n",
    "1. Użytkownik nie będzie próbował wprowadzać danych niepoprawnych\n",
    "1. Format danych:\n",
    "\n",
    "    * ``XXX: int`` to wartość ciśnienia skurczowego (ang. *systolic*)\n",
    "    * ``YY: int`` lub ``YYY: int`` to wartość ciśnienia rozkurczowego (ang. *diastolic*)\n",
    "\n",
    "1. Wypisz status wprowadzonego ciśnienia krwi\n",
    "1. Gdy wartości ciśnienia skurczowego i rozkurczowego należą do różnych kategorii, przyjmij gorszy przypadek\n",
    "\n",
    "|Blood Pressure Category|Systolic [mm Hg]|Operator|Diastolic [mm Hg]|\n",
    "|-----------------------|----------------|--------|-----------------|\n",
    "|Normal                 |Less than 120   |and     |Less than 80     |\n",
    "|Elevated               |120-129         |and     |Less than 80     |\n",
    "|Hypertension stage 1   |130-139         |or      |80-89            |\n",
    "|Hypertension stage 2   |140 or higher   |or      |90 or higher     |\n",
    "|Hypertensive Crisis    |Higher than 180 |and/or  |Higher than 120  |\n",
    "\n",
    "Sprawdź:\n",
    "\n",
    "|Sys/Dia  | Status                                           |\n",
    "|---------|:-------------------------------------------------|\n",
    "|119/79   | 'Normal'                                         |\n",
    "|120/80   | 'Hypertension stage 1'                           |\n",
    "|121/79   | 'Elevated'                                       |\n",
    "|120/81   | 'Hypertension stage 1'                           |\n",
    "|130/80   | 'Hypertension stage 1'                           |\n",
    "|130/89   | 'Hypertension stage 1'                           |\n",
    "|140/85   | 'Hypertension stage 2'                           |\n",
    "|140/89   | 'Hypertension stage 2'                           |\n",
    "|141/90   | 'Hypertension stage 2'                           |\n",
    "|141/91   | 'Hypertension stage 2'                           |\n",
    "|180/120  | ('Hypertension stage 2', 'Hypertensive Crisis')  |"
   ]
  },
  {
   "cell_type": "code",
   "execution_count": null,
   "metadata": {},
   "outputs": [],
   "source": []
  },
  {
   "cell_type": "markdown",
   "metadata": {},
   "source": [
    "## Exception Example\n",
    "\n",
    "1. Poproś użytkownika o wprowadzenie kąta\n",
    "1. Cotangens dla konta 180 ma nieskończoną wartość\n",
    "1. Jeżeli użytkownik wprowadził kąt równy 180, podnieś `ValueError`"
   ]
  },
  {
   "cell_type": "code",
   "execution_count": null,
   "metadata": {},
   "outputs": [],
   "source": []
  },
  {
   "cell_type": "markdown",
   "metadata": {},
   "source": [
    "## Exception Raise\n",
    "1. Poproś użytkownika o wprowadzenie wieku\n",
    "1. Jeżeli użytkownik ma mniej niż 18 lat\n",
    "1. Wyrzuć wyjątek ``PermissionError`` z komunikatem \"Adults only\""
   ]
  },
  {
   "cell_type": "code",
   "execution_count": null,
   "metadata": {},
   "outputs": [],
   "source": []
  },
  {
   "cell_type": "markdown",
   "metadata": {},
   "source": [
    "## Exception Catch\n",
    "\n",
    "1. Poproś użytkownika o wprowadzenie temperatury w Kelwinach\n",
    "1. Użytkownik zawsze poda poprawne ``int`` lub ``float``\n",
    "1. Podnieś `ValueError` jeżeli temperatura jest poniżej 0"
   ]
  },
  {
   "cell_type": "code",
   "execution_count": null,
   "metadata": {},
   "outputs": [],
   "source": []
  },
  {
   "cell_type": "markdown",
   "metadata": {},
   "source": [
    "## Exception Multi\n",
    "\n",
    "1. Poproś użytkownika o wprowadzenie temperatury w Kelwinach\n",
    "1. Przekonwertuj temperaturę do `int`\n",
    "1. Jeżeli nie można rzutować do ``int``, to wypisz \"Invalid int\" i spróbubuj przekonwertować do `float`\n",
    "1. Jeżeli nie można rzutować do ``float``, to wypisz \"Invalid temperature\" i wyjdź z kodem błędu 1\n",
    "1. Wypisz temperaturę"
   ]
  },
  {
   "cell_type": "code",
   "execution_count": null,
   "metadata": {},
   "outputs": [],
   "source": []
  }
 ],
 "metadata": {
  "kernelspec": {
   "display_name": "Python 3",
   "language": "python",
   "name": "python3"
  },
  "language_info": {
   "codemirror_mode": {
    "name": "ipython",
    "version": 3
   },
   "file_extension": ".py",
   "mimetype": "text/x-python",
   "name": "python",
   "nbconvert_exporter": "python",
   "pygments_lexer": "ipython3",
   "version": "3.8.3"
  }
 },
 "nbformat": 4,
 "nbformat_minor": 4
}
