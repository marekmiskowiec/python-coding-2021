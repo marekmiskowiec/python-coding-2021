{
 "cells": [
  {
   "cell_type": "markdown",
   "metadata": {},
   "source": [
    "# Python: Typy numeryczne - zadania"
   ]
  },
  {
   "cell_type": "markdown",
   "metadata": {},
   "source": [
    "## Type Int Time\n",
    "\n",
    "1. Oblicz ile sekund to pięć minut\n",
    "1. Oblicz ile sekund to jedna godzina\n",
    "1. Oblicz ile sekund to dzień pracy (8 godzin)\n",
    "1. Oblicz ile godzin to miesiąc pracy (22 dni pracy)\n",
    "1. Oblicz ile minut to tydzień pracy (5 dni pracy)\n",
    "\n",
    "Podpowiedź:\n",
    "* 1 h = 60 min\n",
    "* 1 min = 60 s"
   ]
  },
  {
   "cell_type": "code",
   "execution_count": 3,
   "metadata": {},
   "outputs": [
    {
     "name": "stdout",
     "output_type": "stream",
     "text": [
      "5 min to 300.0 sek.\n",
      "1 godzina to 3600.0 sek.\n",
      "Dzień pracy to 28800.0 sek.\n",
      "Miesiąc pracy to 176.0 godz.\n",
      "Tydzień pracy to 2400.0 min.\n"
     ]
    }
   ],
   "source": [
    "SECOND = 1\n",
    "MINUTE = 60 * SECOND\n",
    "HOUR = 60 * MINUTE\n",
    "\n",
    "five = 5*MINUTE / SECOND\n",
    "hour = 1*HOUR / SECOND\n",
    "workday = 8*HOUR / SECOND\n",
    "workmonth = 22*workday / HOUR\n",
    "workweek = 5*workday / MINUTE\n",
    "\n",
    "print(f'5 min to {five} sek.')\n",
    "print(f'1 godzina to {hour} sek.')\n",
    "print(f'Dzień pracy to {workday} sek.')\n",
    "print(f'Miesiąc pracy to {workmonth} godz.')\n",
    "print(f'Tydzień pracy to {workweek} min.')"
   ]
  },
  {
   "cell_type": "markdown",
   "metadata": {},
   "source": [
    "## Type Int Bytes\n",
    "\n",
    "1. Wielkość pliku to jeden megabajt\n",
    "1. Oblicz wielkość w bitach\n",
    "1. Oblicz wielkość w megabitach\n",
    "\n",
    "Podpowiedź:\n",
    "* 1 Kb = 1024 b\n",
    "* 1 Mb = 1024 Kb\n",
    "* 1 B = 8 b\n",
    "* 1 KB = 1024 B\n",
    "* 1 MB = 1024 KB"
   ]
  },
  {
   "cell_type": "code",
   "execution_count": 7,
   "metadata": {},
   "outputs": [
    {
     "name": "stdout",
     "output_type": "stream",
     "text": [
      "Plik to 8388608.0 bitów\n",
      "Plik to 8.0 Mega bitów\n"
     ]
    }
   ],
   "source": [
    "b = 1\n",
    "Kb = 1024 * b\n",
    "Mb = 1024 * Kb\n",
    "\n",
    "B = 8 * b\n",
    "KB = 1024 * B\n",
    "MB = 1024 * KB\n",
    "\n",
    "\n",
    "plik = 1 * MB\n",
    "plik_b = plik / b\n",
    "plik_Mb = plik / Mb\n",
    "\n",
    "print(f'Plik to {plik_b} bitów')\n",
    "print(f'Plik to {plik_Mb} Mega bitów')"
   ]
  },
  {
   "cell_type": "markdown",
   "metadata": {},
   "source": [
    "## Type Int Bandwidth\n",
    "1. Mając łącze internetowe \"do 100 Mb/s\"\n",
    "1. Ile zajmie ściągnięcie pliku 100 MB?\n",
    "\n",
    "Podpowiedź:\n",
    "* 1 Kb = 1024 b\n",
    "* 1 Mb = 1024 Kb\n",
    "* 1 B = 8 b\n",
    "* 1 KB = 1024 B\n",
    "* 1 MB = 1024 KB"
   ]
  },
  {
   "cell_type": "code",
   "execution_count": 8,
   "metadata": {},
   "outputs": [
    {
     "name": "stdout",
     "output_type": "stream",
     "text": [
      "Czas ściągania to 8.0 sek.\n"
     ]
    }
   ],
   "source": [
    "b = 1\n",
    "Kb = 1024 * b\n",
    "Mb = 1024 * Kb\n",
    "\n",
    "B = 8 * b\n",
    "KB = 1024 * B\n",
    "MB = 1024 * KB\n",
    "\n",
    "\n",
    "SEC = 1\n",
    "\n",
    "predkosc = 100 * Mb / SEC\n",
    "plik = 100 * MB\n",
    "\n",
    "czas = plik / predkosc\n",
    "\n",
    "print(f'Czas ściągania to {czas} sek.')"
   ]
  },
  {
   "cell_type": "markdown",
   "metadata": {},
   "source": [
    "## Type Int Temperature\n",
    "\n",
    "1. Jeden Kelwin to jeden stopień Celsiusza (1K = 1°C)\n",
    "1. Zero Kelwina (bezwzględne) to -273.15 stopni Celsiusza\n",
    "1. W zadaniu przyjmij równe -273°C (0K = -273°C)\n",
    "1. Ile Kelwinów, a ile stopni Celsiusza wynoszą średnie temperatury powierzchni:\n",
    "\n",
    "    * Księżyca w dzień: 453 K\n",
    "    * Księżyca w nocy: 93 K\n",
    "    * Mars najwyższa: 20 °C\n",
    "    * Mars najniższa: -153 °C\n",
    "    * Mars średnia: −63 °C"
   ]
  },
  {
   "cell_type": "code",
   "execution_count": 12,
   "metadata": {},
   "outputs": [
    {
     "name": "stdout",
     "output_type": "stream",
     "text": [
      "Księżyc Dzień 180 °C\n",
      "Księżyc Noc -180 °C\n",
      "Mars Najniższa 120 K\n",
      "Mars Najwyższa 293 K\n",
      "Mars Średnia 210 K\n"
     ]
    }
   ],
   "source": [
    "K = -273\n",
    "C = +273\n",
    "\n",
    "ksiezyc_dzien = 453 + K\n",
    "ksiezyc_noc = 93 + K\n",
    "\n",
    "mars_najwyzsza = 20 + C\n",
    "mars_najnizsza = -153 + C\n",
    "mars_srednia = -63 + C\n",
    "\n",
    "print(f'Księżyc Dzień {ksiezyc_dzien} °C')\n",
    "print(f'Księżyc Noc {ksiezyc_noc} °C')\n",
    "print(f'Mars Najniższa {mars_najnizsza} K')\n",
    "print(f'Mars Najwyższa {mars_najwyzsza} K')\n",
    "print(f'Mars Średnia {mars_srednia} K')"
   ]
  },
  {
   "cell_type": "markdown",
   "metadata": {},
   "source": [
    "Type Float Tax\n",
    "--------------\n",
    "1. Cena usługi wynosi 100 PLN netto\n",
    "1. Usługa objęta jest 23% stawką VAT\n",
    "1. Oblicz wartości podatku oraz cenę brutto\n",
    "\n",
    "Output:\n",
    "\n",
    "    Result [PLN]: net=100 tax=23.0 gross=123.0"
   ]
  },
  {
   "cell_type": "code",
   "execution_count": 15,
   "metadata": {},
   "outputs": [
    {
     "name": "stdout",
     "output_type": "stream",
     "text": [
      "Result [PLN]: net=100 tax=23.0 gross=123.0\n"
     ]
    }
   ],
   "source": [
    "PLN = 1\n",
    "\n",
    "cena = 100 * PLN\n",
    "vat = 23 / 100  # procent\n",
    "\n",
    "net = cena\n",
    "tax = cena * vat\n",
    "gross = cena * (1+vat)\n",
    "\n",
    "print(f'Result [PLN]: {net=} {tax=} {gross=}')"
   ]
  },
  {
   "cell_type": "markdown",
   "metadata": {},
   "source": [
    "## Type Float Altitude\n",
    "1. Wysokość lotu samolotem wynosi 10 000 ft\n",
    "1. Dane używają systemu imperialnego (US)\n",
    "1. Przelicz je na system metryczny (układ SI)\n",
    "1. Wynik zaokrąglij do jednego miejsca po przecinku\n",
    "1. Porównaj wyniki z sekcją \"Output\" (patrz poniżej)\n",
    "\n",
    "Output:\n",
    "\n",
    "    Plane altitude: 3048.0 m\n",
    "\n",
    "Podpowiedź:\n",
    "* 1 ft = 0.3048 m"
   ]
  },
  {
   "cell_type": "code",
   "execution_count": 19,
   "metadata": {},
   "outputs": [
    {
     "name": "stdout",
     "output_type": "stream",
     "text": [
      "Plane altitude 3048.0 m\n"
     ]
    }
   ],
   "source": [
    "m = 1\n",
    "ft = 0.3048 * m\n",
    "\n",
    "altitude = 10000 * ft\n",
    "\n",
    "print(f'Plane altitude {altitude} m')"
   ]
  },
  {
   "cell_type": "markdown",
   "metadata": {},
   "source": [
    "### Type Float Volume\n",
    "\n",
    "1. Objętość butelki wynosi 20 Fl Oz\n",
    "1. Dane używają systemu imperialnego (US)\n",
    "1. Przelicz je na system metryczny (układ SI)\n",
    "1. Porównaj wyniki z sekcją \"Output\" (patrz poniżej)\n",
    "\n",
    "Output:\n",
    "\n",
    "    Bottle volume: 0.5914688 l\n",
    "\n",
    "Podpowiedź:\n",
    "\n",
    "    * 1 Fl Oz = 0.02957344 l"
   ]
  },
  {
   "cell_type": "code",
   "execution_count": 20,
   "metadata": {},
   "outputs": [
    {
     "name": "stdout",
     "output_type": "stream",
     "text": [
      "Bottle volume: 0.5914688 l\n"
     ]
    }
   ],
   "source": [
    "l = 1\n",
    "fl_oz = 0.02957344 * l\n",
    "\n",
    "volume = 20 * fl_oz\n",
    "\n",
    "print(f'Bottle volume: {volume} l')"
   ]
  },
  {
   "cell_type": "code",
   "execution_count": null,
   "metadata": {},
   "outputs": [],
   "source": []
  },
  {
   "cell_type": "markdown",
   "metadata": {},
   "source": [
    "### Type Float Distance\n",
    "\n",
    "1. Użyj kodu z sekcji \"Input\" (patrz poniżej)\n",
    "1. Przekonwertuj jednostki\n",
    "1. Zamiast ``...`` podstaw wyliczone i przekonwertowane wartości\n",
    "1. Zwróć uwagę na ilość miejsc po przecinku\n",
    "1. Porównaj wyniki z sekcją \"Output\" (patrz poniżej)\n",
    "\n",
    "Input:\n",
    "```\n",
    "m = 1337\n",
    "\n",
    "print(f'Meters: {...}')\n",
    "print(f'Kilometers: {...}')\n",
    "print(f'Miles: {...}')\n",
    "print(f'Nautical Miles: {...}')\n",
    "print(f'All: km: {...}, mi: {...}, nm: {...}')\n",
    "```\n",
    "\n",
    "Output:\n",
    "```\n",
    "Meters: 1337\n",
    "Kilometers: 1.337\n",
    "Miles: 0.83\n",
    "Nautical Miles: 0.722\n",
    "m: 1337, km: 1, mi: 0.8, nm: 0.72\n",
    "```\n",
    "Podpowiedź:\n",
    "* 1 km = 1000 m\n",
    "* 1 mile = 1609.344 m\n",
    "* 1 nautical mile = 1852 m"
   ]
  },
  {
   "cell_type": "code",
   "execution_count": 28,
   "metadata": {},
   "outputs": [
    {
     "name": "stdout",
     "output_type": "stream",
     "text": [
      "Meters: 1337\n",
      "Kilometers: 1.337\n",
      "Miles: 0.83\n",
      "Nautical Miles: 0.722\n",
      "All: km: 1, mi: 0.8, nm: 0.72\n"
     ]
    }
   ],
   "source": [
    "m = 1337\n",
    "km = m / 1000\n",
    "mi = m / 1609.344\n",
    "nm = m / 1852\n",
    "\n",
    "print(f'Meters: {m}')\n",
    "print(f'Kilometers: {km}')\n",
    "print(f'Miles: {mi:.2f}')\n",
    "print(f'Nautical Miles: {nm:.3f}')\n",
    "print(f'All: km: {km:.0f}, mi: {mi:.1f}, nm: {nm:.2f}')"
   ]
  },
  {
   "cell_type": "markdown",
   "metadata": {},
   "source": [
    "### Type Float Velocity\n",
    "\n",
    "1. Ograniczenie prędkości wynosi 75 MPH\n",
    "1. Dane używają systemu imperialnego (US)\n",
    "1. Przelicz je na system metryczny (układ SI)\n",
    "1. Ograniczenie prędkości zaokrąglij do jednego miejsca po przecinku"
   ]
  },
  {
   "cell_type": "code",
   "execution_count": 33,
   "metadata": {},
   "outputs": [
    {
     "name": "stdout",
     "output_type": "stream",
     "text": [
      "Oganiczenie to 120.7 km/h\n"
     ]
    }
   ],
   "source": [
    "SECOND = 1\n",
    "MINUTE = 60 * SECOND\n",
    "HOUR = 60 * MINUTE\n",
    "\n",
    "m = 1\n",
    "km = 1000 * m\n",
    "mi = 1609.344 * m\n",
    "\n",
    "mph = mi / HOUR\n",
    "kph = km / HOUR\n",
    "\n",
    "ograniczenie = 75 * mph\n",
    "\n",
    "print(f'Oganiczenie to {ograniczenie/kph:.1f} km/h')"
   ]
  },
  {
   "cell_type": "markdown",
   "metadata": {},
   "source": [
    "### Type Float Pressure\n",
    "\n",
    "1. Ciśnienie operacyjne skafandra kosmicznego EMU (NASA): 4.3 PSI\n",
    "1. Ciśnienie operacyjne skafandra kosmicznego ORLAN (Roscosmos): 400 hPa\n",
    "1. Oblicz ciśnienie operacyjne skafandra EMU w kPa\n",
    "1. Oblicz ciśnienie operacyjne skafandra Orlan w PSI\n",
    "1. Wypisz wszystkie wyniki w kPa oraz PSI zaokrąglając do dwóch miejsc po przecinku\n",
    "1. Porównaj wyniki z sekcją \"Output\" (patrz poniżej)\n",
    "\n",
    "Output:\n",
    "```\n",
    "EMU operating pressure: 29.65 kPa, 4.30 psi\n",
    "Orlan operating pressure: 40.00 kPa, 5.80 psi\n",
    "```\n",
    "\n",
    "Podpowiedź:\n",
    "    * 1 hPa = 100 Pa\n",
    "    * 1 kPa = 1000 Pa\n",
    "    * 1 psi = 6894.757 Pa"
   ]
  },
  {
   "cell_type": "code",
   "execution_count": 35,
   "metadata": {},
   "outputs": [
    {
     "name": "stdout",
     "output_type": "stream",
     "text": [
      "EMU operating pressure: 29.65 kPa, 4.30 psi\n",
      "Orlan operating pressure: 40.00 kPa, 5.80 psi\n"
     ]
    }
   ],
   "source": [
    "Pa = 1\n",
    "hPa = 100 * Pa\n",
    "kPa = 1000 * Pa\n",
    "psi = 6894.757 * Pa\n",
    "\n",
    "emu = 4.3 * psi\n",
    "orlan = 400 * hPa\n",
    "\n",
    "print(f'EMU operating pressure: {emu/kPa:.2f} kPa, {emu/psi:.2f} psi')\n",
    "print(f'Orlan operating pressure: {orlan/kPa:.2f} kPa, {orlan/psi:.2f} psi')"
   ]
  },
  {
   "cell_type": "markdown",
   "metadata": {},
   "source": [
    "### Type Float Percent\n",
    "\n",
    "1. International Standard Atmosphere (ISA) na poziomie morza wynosi 1013.25 hPa\n",
    "1. Oblicz ciśnienie parcjalne tlenu na poziomie morza\n",
    "1. Wypisz ISA oraz ciśnienie parcjalne O2 wyniki w kPa zaokrąglając do dwóch miejsc po przecinku\n",
    "1. Porównaj wyniki z sekcją \"Output\" (patrz poniżej)\n",
    "\n",
    "Output:\n",
    "```\n",
    "International Standard Atmosphere: 101.33 kPa\n",
    "O2 partial pressure at sea level: 21.22 kPa\n",
    "```\n",
    "\n",
    "Podpowiedź:\n",
    "* 1 hPa = 100 Pa\n",
    "* 1 kPa = 1000 Pa\n",
    "* 1 ata = 1013.25 hPa (ISA - International Standard Atmosphere)\n",
    "* Skład atmosfery:\n",
    "\n",
    "    * Azot 78.084%\n",
    "    * Tlen 20.946%\n",
    "    * Argon 0.9340%\n",
    "    * Dwutlenek węgla 0.0407%\n",
    "    * Pozostałe 0.001%"
   ]
  },
  {
   "cell_type": "code",
   "execution_count": 37,
   "metadata": {},
   "outputs": [
    {
     "name": "stdout",
     "output_type": "stream",
     "text": [
      "International Standard Atmosphere: 101.33 kPa\n",
      "O2 partial pressure at sea level: 21.22 kPa\n"
     ]
    }
   ],
   "source": [
    "Pa = 1\n",
    "hPa = 100 * Pa\n",
    "kPa = 1000 * Pa\n",
    "ata = 1013.25 * hPa\n",
    "\n",
    "o2 = 20.946/100 * ata\n",
    "\n",
    "\n",
    "print(f'International Standard Atmosphere: {ata/kPa:.2f} kPa')\n",
    "print(f'O2 partial pressure at sea level: {o2/kPa:.2f} kPa')"
   ]
  },
  {
   "cell_type": "markdown",
   "metadata": {},
   "source": [
    "### Type Float Gradient\n",
    "\n",
    "1. Na jakiej wysokości nad poziomem morza panuje ciśnienie równe ciśnieniu parcjalnemu tlenu?\n",
    "1. Wypisz rezultat w metrach zaokrąglając do dwóch miejsc po przecinku\n",
    "1. Porównaj wyniki z sekcją \"Output\" (patrz poniżej)\n",
    "\n",
    "Output:\n",
    "```\n",
    "Oxygen starvation altitude: 7088.63 m\n",
    "```\n",
    "\n",
    "Podpowiedź:\n",
    "* gradient ciśnienia (maleje) = 11.3 Pa / 1 m\n",
    "* 1 hPa = 100 Pa\n",
    "* 1 kPa = 1000 Pa\n",
    "* 1 ata = 1013.25 hPa (ISA - International Standard Atmosphere)\n",
    "* Skład atmosfery:\n",
    "\n",
    "    * Azot 78.084%\n",
    "    * Tlen 20.946%\n",
    "    * Argon 0.9340%\n",
    "    * Dwutlenek węgla 0.0407%\n",
    "    * Pozostałe 0.001%"
   ]
  },
  {
   "cell_type": "code",
   "execution_count": 39,
   "metadata": {},
   "outputs": [
    {
     "name": "stdout",
     "output_type": "stream",
     "text": [
      "Oxygen starvation altitude: 7088.63 m\n"
     ]
    }
   ],
   "source": [
    "m = 1\n",
    "Pa = 1\n",
    "hPa = 100 * Pa\n",
    "kPa = 1000 * Pa\n",
    "ata = 1013.25 * hPa\n",
    "\n",
    "o2 = 20.946/100 * ata\n",
    "gradient = 11.3 * Pa / m\n",
    "\n",
    "wysokosc = (ata - o2) / gradient\n",
    "\n",
    "print(f'Oxygen starvation altitude: {wysokosc:.2f} m')"
   ]
  },
  {
   "cell_type": "code",
   "execution_count": null,
   "metadata": {},
   "outputs": [],
   "source": []
  }
 ],
 "metadata": {
  "kernelspec": {
   "display_name": "Python 3",
   "language": "python",
   "name": "python3"
  },
  "language_info": {
   "codemirror_mode": {
    "name": "ipython",
    "version": 3
   },
   "file_extension": ".py",
   "mimetype": "text/x-python",
   "name": "python",
   "nbconvert_exporter": "python",
   "pygments_lexer": "ipython3",
   "version": "3.8.3"
  }
 },
 "nbformat": 4,
 "nbformat_minor": 4
}
