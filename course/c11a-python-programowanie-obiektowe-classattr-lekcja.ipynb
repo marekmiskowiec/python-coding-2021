{
 "cells": [
  {
   "cell_type": "markdown",
   "metadata": {},
   "source": [
    "# Python: Programowanie obiektowe: Klasy, Instancje i Atrybuty"
   ]
  },
  {
   "cell_type": "markdown",
   "metadata": {},
   "source": [
    "## Klasy i instancje\n",
    "\n",
    "* składnia\n",
    "* klasy\n",
    "* instancje\n",
    "* konwencje"
   ]
  },
  {
   "cell_type": "code",
   "execution_count": 1,
   "metadata": {},
   "outputs": [],
   "source": [
    "class Astronaut:\n",
    "    pass\n",
    "\n",
    "class Cosmonaut:\n",
    "    pass\n",
    "\n",
    "\n",
    "jose = Astronaut()\n",
    "mark = Astronaut()\n",
    "jan = Astronaut()\n",
    "ivan = Cosmonaut()"
   ]
  },
  {
   "cell_type": "code",
   "execution_count": 2,
   "metadata": {},
   "outputs": [],
   "source": [
    "class CosmonautPilot:\n",
    "    pass\n",
    "\n",
    "\n",
    "ivan = CosmonautPilot()\n",
    "ivan_ivanovic = CosmonautPilot()"
   ]
  },
  {
   "cell_type": "markdown",
   "metadata": {},
   "source": [
    "## Atrybuty\n",
    "\n",
    "* atrybuty, pola, właściwości i stan\n",
    "* atrybuty dynamiczne\n",
    "* wyciąganie wszystkich atrybutów i ich wartości"
   ]
  },
  {
   "cell_type": "code",
   "execution_count": 3,
   "metadata": {},
   "outputs": [],
   "source": [
    "class Astronaut:\n",
    "    pass"
   ]
  },
  {
   "cell_type": "code",
   "execution_count": 4,
   "metadata": {},
   "outputs": [
    {
     "name": "stdout",
     "output_type": "stream",
     "text": [
      "{'firstname': 'Mark', 'lastname': 'Watney', 'waga': 75, 'wzrost': 180}\n"
     ]
    }
   ],
   "source": [
    "mark = Astronaut()\n",
    "mark.firstname = 'Mark'\n",
    "mark.lastname = 'Watney'\n",
    "mark.waga = 75\n",
    "mark.wzrost = 180\n",
    "\n",
    "\n",
    "print(mark.__dict__)"
   ]
  },
  {
   "cell_type": "code",
   "execution_count": 5,
   "metadata": {},
   "outputs": [
    {
     "name": "stdout",
     "output_type": "stream",
     "text": [
      "{'firstname': 'Melissa', 'lastname': 'Lewis', 'waga': 55, 'wzrost': 170}\n"
     ]
    }
   ],
   "source": [
    "melissa = Astronaut()\n",
    "melissa.firstname = 'Melissa'\n",
    "melissa.lastname = 'Lewis'\n",
    "melissa.waga = 55\n",
    "melissa.wzrost = 170\n",
    "\n",
    "\n",
    "print(melissa.__dict__)"
   ]
  },
  {
   "cell_type": "markdown",
   "metadata": {},
   "source": [
    "## Metoda inicjalizacyjna\n",
    "\n",
    "* bez argumentów\n",
    "* z argumentami\n",
    "* inicjalizowanie atrybutów\n",
    "* sprawdzanie wartości"
   ]
  },
  {
   "cell_type": "code",
   "execution_count": 6,
   "metadata": {},
   "outputs": [
    {
     "name": "stdout",
     "output_type": "stream",
     "text": [
      "{'firstname': 'Watney', 'lastname': 'Mark', 'wzrost': 180, 'waga': 80}\n",
      "{'firstname': 'Jimenez', 'lastname': 'Jose', 'wzrost': 170, 'waga': 75}\n",
      "{'firstname': 'Lewis', 'lastname': 'Melissa', 'wzrost': None, 'waga': None}\n"
     ]
    }
   ],
   "source": [
    "class Astronaut:\n",
    "    def __init__(self, firstname, lastname, wzrost=None, waga=None):\n",
    "        self.firstname = lastname\n",
    "        self.lastname = firstname\n",
    "        self.wzrost = wzrost\n",
    "        self.waga = waga\n",
    "        \n",
    "        \n",
    "mark = Astronaut('Mark', 'Watney', 180, 80)\n",
    "\n",
    "jose = Astronaut(\n",
    "    firstname='Jose',\n",
    "    lastname='Jimenez',\n",
    "    wzrost=170,\n",
    "    waga=75)\n",
    "\n",
    "\n",
    "melissa = Astronaut('Melissa', lastname='Lewis')\n",
    "\n",
    "print(mark.__dict__)\n",
    "print(jose.__dict__)\n",
    "print(melissa.__dict__)"
   ]
  },
  {
   "cell_type": "code",
   "execution_count": 7,
   "metadata": {},
   "outputs": [
    {
     "name": "stdout",
     "output_type": "stream",
     "text": [
      "hello\n"
     ]
    }
   ],
   "source": [
    "class Cosmonaut:\n",
    "    def __init__(self):\n",
    "        print('hello')\n",
    "        \n",
    "        \n",
    "ivan = Cosmonaut()"
   ]
  }
 ],
 "metadata": {
  "kernelspec": {
   "display_name": "Python 3",
   "language": "python",
   "name": "python3"
  },
  "language_info": {
   "codemirror_mode": {
    "name": "ipython",
    "version": 3
   },
   "file_extension": ".py",
   "mimetype": "text/x-python",
   "name": "python",
   "nbconvert_exporter": "python",
   "pygments_lexer": "ipython3",
   "version": "3.8.3"
  }
 },
 "nbformat": 4,
 "nbformat_minor": 4
}
