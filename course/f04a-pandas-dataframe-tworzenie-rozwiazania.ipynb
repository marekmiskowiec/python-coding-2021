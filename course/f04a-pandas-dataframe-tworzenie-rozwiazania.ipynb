{
 "cells": [
  {
   "cell_type": "markdown",
   "metadata": {},
   "source": [
    "# Pandas - DataFrame - tworzenie - zadania"
   ]
  },
  {
   "cell_type": "code",
   "execution_count": 1,
   "metadata": {},
   "outputs": [],
   "source": [
    "import pandas as pd"
   ]
  },
  {
   "cell_type": "markdown",
   "metadata": {},
   "source": [
    "## DataFrame Create\n",
    "\n",
    "1. Użyj danych z sekcji \"Input\" (patrz poniżej)\n",
    "1. Stwórz ``DataFrame`` dla danych wejściowych\n",
    "\n",
    "Dane wejściowe:\n",
    "```csv\n",
    "\"Crew\", \"Role\", \"Astronaut\"\n",
    "\"Prime\", \"CDR\", \"Neil Armstrong\"\n",
    "\"Prime\", \"LMP\", \"Buzz Aldrin\"\n",
    "\"Prime\", \"CMP\", \"Michael Collins\"\n",
    "\"Backup\", \"CDR\", \"James Lovell\"\n",
    "\"Backup\", \"LMP\", \"William Anders\"\n",
    "\"Backup\", \"CMP\", \"Fred Haise\"\n",
    "```\n",
    "\n",
    "Podpowiedź:\n",
    "* użyj zaznaczania z klawiszem ``alt``"
   ]
  },
  {
   "cell_type": "code",
   "execution_count": 4,
   "metadata": {},
   "outputs": [
    {
     "data": {
      "text/html": [
       "<div>\n",
       "<style scoped>\n",
       "    .dataframe tbody tr th:only-of-type {\n",
       "        vertical-align: middle;\n",
       "    }\n",
       "\n",
       "    .dataframe tbody tr th {\n",
       "        vertical-align: top;\n",
       "    }\n",
       "\n",
       "    .dataframe thead th {\n",
       "        text-align: right;\n",
       "    }\n",
       "</style>\n",
       "<table border=\"1\" class=\"dataframe\">\n",
       "  <thead>\n",
       "    <tr style=\"text-align: right;\">\n",
       "      <th></th>\n",
       "      <th>Crew</th>\n",
       "      <th>Role</th>\n",
       "      <th>Astronaut</th>\n",
       "    </tr>\n",
       "  </thead>\n",
       "  <tbody>\n",
       "    <tr>\n",
       "      <th>0</th>\n",
       "      <td>Prime</td>\n",
       "      <td>CDR</td>\n",
       "      <td>Neil Armstrong</td>\n",
       "    </tr>\n",
       "    <tr>\n",
       "      <th>1</th>\n",
       "      <td>Prime</td>\n",
       "      <td>LMP</td>\n",
       "      <td>Buzz Aldrin</td>\n",
       "    </tr>\n",
       "    <tr>\n",
       "      <th>2</th>\n",
       "      <td>Prime</td>\n",
       "      <td>CMP</td>\n",
       "      <td>Michael Collins</td>\n",
       "    </tr>\n",
       "    <tr>\n",
       "      <th>3</th>\n",
       "      <td>Backup</td>\n",
       "      <td>CDR</td>\n",
       "      <td>James Lovell</td>\n",
       "    </tr>\n",
       "    <tr>\n",
       "      <th>4</th>\n",
       "      <td>Backup</td>\n",
       "      <td>LMP</td>\n",
       "      <td>William Anders</td>\n",
       "    </tr>\n",
       "    <tr>\n",
       "      <th>5</th>\n",
       "      <td>Backup</td>\n",
       "      <td>CMP</td>\n",
       "      <td>Fred Haise</td>\n",
       "    </tr>\n",
       "  </tbody>\n",
       "</table>\n",
       "</div>"
      ],
      "text/plain": [
       "     Crew Role        Astronaut\n",
       "0   Prime  CDR   Neil Armstrong\n",
       "1   Prime  LMP      Buzz Aldrin\n",
       "2   Prime  CMP  Michael Collins\n",
       "3  Backup  CDR     James Lovell\n",
       "4  Backup  LMP   William Anders\n",
       "5  Backup  CMP       Fred Haise"
      ]
     },
     "execution_count": 4,
     "metadata": {},
     "output_type": "execute_result"
    }
   ],
   "source": [
    "pd.DataFrame([\n",
    "    {\"Crew\": \"Prime\",  \"Role\": \"CDR\", \"Astronaut\": \"Neil Armstrong\"},\n",
    "    {\"Crew\": \"Prime\",  \"Role\": \"LMP\", \"Astronaut\": \"Buzz Aldrin\"},\n",
    "    {\"Crew\": \"Prime\",  \"Role\": \"CMP\", \"Astronaut\": \"Michael Collins\"},\n",
    "    {\"Crew\": \"Backup\", \"Role\": \"CDR\", \"Astronaut\": \"James Lovell\"},\n",
    "    {\"Crew\": \"Backup\", \"Role\": \"LMP\", \"Astronaut\": \"William Anders\"},\n",
    "    {\"Crew\": \"Backup\", \"Role\": \"CMP\", \"Astronaut\": \"Fred Haise\"},\n",
    "])"
   ]
  },
  {
   "cell_type": "code",
   "execution_count": null,
   "metadata": {},
   "outputs": [],
   "source": []
  }
 ],
 "metadata": {
  "kernelspec": {
   "display_name": "Python 3",
   "language": "python",
   "name": "python3"
  },
  "language_info": {
   "codemirror_mode": {
    "name": "ipython",
    "version": 3
   },
   "file_extension": ".py",
   "mimetype": "text/x-python",
   "name": "python",
   "nbconvert_exporter": "python",
   "pygments_lexer": "ipython3",
   "version": "3.8.5"
  }
 },
 "nbformat": 4,
 "nbformat_minor": 4
}
