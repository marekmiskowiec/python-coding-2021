{
 "cells": [
  {
   "cell_type": "markdown",
   "metadata": {},
   "source": [
    "# Python: Typy numeryczne - zadania"
   ]
  },
  {
   "cell_type": "markdown",
   "metadata": {},
   "source": [
    "## Type Int Time\n",
    "\n",
    "1. Oblicz ile sekund to pięć minut\n",
    "1. Oblicz ile sekund to jedna godzina\n",
    "1. Oblicz ile sekund to dzień pracy (8 godzin)\n",
    "1. Oblicz ile godzin to miesiąc pracy (22 dni pracy)\n",
    "1. Oblicz ile minut to tydzień pracy (5 dni pracy)\n",
    "\n",
    "Podpowiedź:\n",
    "* 1 h = 60 min\n",
    "* 1 min = 60 s"
   ]
  },
  {
   "cell_type": "code",
   "execution_count": 8,
   "metadata": {},
   "outputs": [
    {
     "name": "stdout",
     "output_type": "stream",
     "text": [
      "300\n",
      "3600\n",
      "28800\n",
      "176\n",
      "144000\n"
     ]
    }
   ],
   "source": [
    "SECOND = 1\n",
    "MINUTE = 60 * SECOND\n",
    "HOUR = 60 * MINUTE\n",
    "\n",
    "MINUTES_5 = 5 * MINUTE\n",
    "print(MINUTES_5)\n",
    "\n",
    "HOUR_IN_SEC = 60 * MINUTE\n",
    "print(HOUR_IN_SEC)\n",
    "\n",
    "work_day = 8 * HOUR_IN_SEC\n",
    "print(work_day)\n",
    "\n",
    "work_month = 22 * 8\n",
    "print(work_month)\n",
    "\n",
    "work_week_in_min = 5 * 8 * HOUR\n",
    "print(work_week_in_min)"
   ]
  },
  {
   "cell_type": "markdown",
   "metadata": {},
   "source": [
    "## Type Int Bytes\n",
    "\n",
    "1. Wielkość pliku to jeden megabajt\n",
    "1. Oblicz wielkość w bitach\n",
    "1. Oblicz wielkość w megabitach\n",
    "\n",
    "Podpowiedź:\n",
    "* 1 Kb = 1024 b\n",
    "* 1 Mb = 1024 Kb\n",
    "* 1 B = 8 b\n",
    "* 1 KB = 1024 B\n",
    "* 1 MB = 1024 KB"
   ]
  },
  {
   "cell_type": "code",
   "execution_count": 10,
   "metadata": {},
   "outputs": [],
   "source": [
    "plik_B = 1024 * 1024 * 8\n",
    "plik_Mb = 1024 * 1024 * 8 * 1024"
   ]
  },
  {
   "cell_type": "markdown",
   "metadata": {},
   "source": [
    "## Type Int Bandwidth\n",
    "1. Mając łącze internetowe \"do 100 Mb/s\"\n",
    "1. Ile zajmie ściągnięcie pliku 100 MB?\n",
    "\n",
    "Podpowiedź:\n",
    "* 1 Kb = 1024 b\n",
    "* 1 Mb = 1024 Kb\n",
    "* 1 B = 8 b\n",
    "* 1 KB = 1024 B\n",
    "* 1 MB = 1024 KB"
   ]
  },
  {
   "cell_type": "markdown",
   "metadata": {},
   "source": [
    "## Type Int Temperature\n",
    "\n",
    "1. Jeden Kelwin to jeden stopień Celsiusza (1K = 1°C)\n",
    "1. Zero Kelwina (bezwzględne) to -273.15 stopni Celsiusza\n",
    "1. W zadaniu przyjmij równe -273°C (0K = -273°C)\n",
    "1. Ile Kelwinów, a ile stopni Celsiusza wynoszą średnie temperatury powierzchni:\n",
    "\n",
    "    * Księżyca w dzień: 453 K\n",
    "    * Księżyca w nocy: 93 K\n",
    "    * Mars najwyższa: 20 °C\n",
    "    * Mars najniższa: -153 °C\n",
    "    * Mars średnia: −63 °C"
   ]
  },
  {
   "cell_type": "markdown",
   "metadata": {},
   "source": [
    "Type Float Tax\n",
    "--------------\n",
    "1. Cena usługi wynosi 100 PLN netto\n",
    "1. Usługa objęta jest 23% stawką VAT\n",
    "1. Oblicz wartości podatku oraz cenę brutto\n",
    "\n",
    "Output:\n",
    "\n",
    "    Result [PLN]: net=100 tax=23.0 gross=123.0"
   ]
  },
  {
   "cell_type": "markdown",
   "metadata": {},
   "source": [
    "## Type Float Altitude\n",
    "1. Wysokość lotu samolotem wynosi 10 000 ft\n",
    "1. Dane używają systemu imperialnego (US)\n",
    "1. Przelicz je na system metryczny (układ SI)\n",
    "1. Wynik zaokrąglij do jednego miejsca po przecinku\n",
    "1. Porównaj wyniki z sekcją \"Output\" (patrz poniżej)\n",
    "\n",
    "Output:\n",
    "\n",
    "    Plane altitude: 3048.0 m\n",
    "\n",
    "Podpowiedź:\n",
    "* 1 ft = 0.3048 m"
   ]
  },
  {
   "cell_type": "markdown",
   "metadata": {},
   "source": [
    "### Type Float Volume\n",
    "\n",
    "1. Objętość butelki wynosi 20 Fl Oz\n",
    "1. Dane używają systemu imperialnego (US)\n",
    "1. Przelicz je na system metryczny (układ SI)\n",
    "1. Porównaj wyniki z sekcją \"Output\" (patrz poniżej)\n",
    "\n",
    "Output:\n",
    "\n",
    "    Bottle volume: 0.5914688 l\n",
    "\n",
    "Podpowiedź:\n",
    "\n",
    "    * 1 Fl Oz = 0.02957344 l"
   ]
  },
  {
   "cell_type": "markdown",
   "metadata": {},
   "source": [
    "### Type Float Distance\n",
    "\n",
    "1. Użyj kodu z sekcji \"Input\" (patrz poniżej)\n",
    "1. Przekonwertuj jednostki\n",
    "1. Zamiast ``...`` podstaw wyliczone i przekonwertowane wartości\n",
    "1. Zwróć uwagę na ilość miejsc po przecinku\n",
    "1. Porównaj wyniki z sekcją \"Output\" (patrz poniżej)\n",
    "\n",
    "Input:\n",
    "```\n",
    "m = 1337\n",
    "\n",
    "print(f'Meters: {...}')\n",
    "print(f'Kilometers: {...}')\n",
    "print(f'Miles: {...}')\n",
    "print(f'Nautical Miles: {...}')\n",
    "print(f'All: km: {...}, mi: {...}, nm: {...}')\n",
    "```\n",
    "\n",
    "Output:\n",
    "```\n",
    "Meters: 1337\n",
    "Kilometers: 1.337\n",
    "Miles: 0.83\n",
    "Nautical Miles: 0.722\n",
    "m: 1337, km: 1, mi: 0.8, nm: 0.72\n",
    "```\n",
    "Podpowiedź:\n",
    "* 1 km = 1000 m\n",
    "* 1 mile = 1609.344 m\n",
    "* 1 nautical mile = 1852 m"
   ]
  },
  {
   "cell_type": "markdown",
   "metadata": {},
   "source": [
    "### Type Float Velocity\n",
    "\n",
    "1. Ograniczenie prędkości wynosi 75 MPH\n",
    "1. Dane używają systemu imperialnego (US)\n",
    "1. Przelicz je na system metryczny (układ SI)\n",
    "1. Ograniczenie prędkości zaokrąglij do jednego miejsca po przecinku"
   ]
  },
  {
   "cell_type": "markdown",
   "metadata": {},
   "source": [
    "### Type Float Pressure\n",
    "\n",
    "1. Ciśnienie operacyjne skafandra kosmicznego EMU (NASA): 4.3 PSI\n",
    "1. Ciśnienie operacyjne skafandra kosmicznego ORLAN (Roscosmos): 400 hPa\n",
    "1. Oblicz ciśnienie operacyjne skafandra EMU w kPa\n",
    "1. Oblicz ciśnienie operacyjne skafandra Orlan w PSI\n",
    "1. Wypisz wszystkie wyniki w kPa oraz PSI zaokrąglając do dwóch miejsc po przecinku\n",
    "1. Porównaj wyniki z sekcją \"Output\" (patrz poniżej)\n",
    "\n",
    "Output:\n",
    "```\n",
    "EMU operating pressure: 29.65 kPa, 4.30 psi\n",
    "Orlan operating pressure: 40.00 kPa, 5.80 psi\n",
    "```\n",
    "\n",
    "Podpowiedź:\n",
    "    * 1 hPa = 100 Pa\n",
    "    * 1 kPa = 1000 Pa\n",
    "    * 1 psi = 6894.757 Pa"
   ]
  },
  {
   "cell_type": "markdown",
   "metadata": {},
   "source": [
    "### Type Float Percent\n",
    "\n",
    "1. International Standard Atmosphere (ISA) na poziomie morza wynosi 1013.25 hPa\n",
    "1. Oblicz ciśnienie parcjalne tlenu na poziomie morza\n",
    "1. Wypisz ISA oraz ciśnienie parcjalne O2 wyniki w kPa zaokrąglając do dwóch miejsc po przecinku\n",
    "1. Porównaj wyniki z sekcją \"Output\" (patrz poniżej)\n",
    "\n",
    "Output:\n",
    "```\n",
    "International Standard Atmosphere: 101.33 kPa\n",
    "O2 partial pressure at sea level: 21.22 kPa\n",
    "```\n",
    "\n",
    "Podpowiedź:\n",
    "* 1 hPa = 100 Pa\n",
    "* 1 kPa = 1000 Pa\n",
    "* 1 ata = 1013.25 hPa (ISA - International Standard Atmosphere)\n",
    "* Skład atmosfery:\n",
    "\n",
    "    * Azot 78.084%\n",
    "    * Tlen 20.946%\n",
    "    * Argon 0.9340%\n",
    "    * Dwutlenek węgla 0.0407%\n",
    "    * Pozostałe 0.001%"
   ]
  },
  {
   "cell_type": "markdown",
   "metadata": {},
   "source": [
    "### Type Float Gradient\n",
    "\n",
    "1. Na jakiej wysokości nad poziomem morza panuje ciśnienie równe ciśnieniu parcjalnemu tlenu?\n",
    "1. Wypisz rezultat w metrach zaokrąglając do dwóch miejsc po przecinku\n",
    "1. Porównaj wyniki z sekcją \"Output\" (patrz poniżej)\n",
    "\n",
    "Output:\n",
    "```\n",
    "Oxygen starvation altitude: 7088.63 m\n",
    "```\n",
    "\n",
    "Podpowiedź:\n",
    "* gradient ciśnienia (maleje) = 11.3 Pa / 1 m\n",
    "* 1 hPa = 100 Pa\n",
    "* 1 kPa = 1000 Pa\n",
    "* 1 ata = 1013.25 hPa (ISA - International Standard Atmosphere)\n",
    "* Skład atmosfery:\n",
    "\n",
    "    * Azot 78.084%\n",
    "    * Tlen 20.946%\n",
    "    * Argon 0.9340%\n",
    "    * Dwutlenek węgla 0.0407%\n",
    "    * Pozostałe 0.001%"
   ]
  },
  {
   "cell_type": "code",
   "execution_count": null,
   "metadata": {},
   "outputs": [],
   "source": []
  }
 ],
 "metadata": {
  "kernelspec": {
   "display_name": "Python 3",
   "language": "python",
   "name": "python3"
  },
  "language_info": {
   "codemirror_mode": {
    "name": "ipython",
    "version": 3
   },
   "file_extension": ".py",
   "mimetype": "text/x-python",
   "name": "python",
   "nbconvert_exporter": "python",
   "pygments_lexer": "ipython3",
   "version": "3.9.5"
  }
 },
 "nbformat": 4,
 "nbformat_minor": 4
}
