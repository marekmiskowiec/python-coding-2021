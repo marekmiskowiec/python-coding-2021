{
 "cells": [
  {
   "cell_type": "markdown",
   "metadata": {},
   "source": [
    "# Python: Funckcje: argumenty i parametry - zadania"
   ]
  },
  {
   "cell_type": "markdown",
   "metadata": {},
   "source": [
    "## Function Parameters Sequence\n",
    "\n",
    "1. Zdefiniuj funkcję ``add``\n",
    "1. Parametrem do funkcji ma być sekwencja liczb całkowitych\n",
    "1. Wypisz sumę wszystkich wartości sekwencji"
   ]
  },
  {
   "cell_type": "code",
   "execution_count": 1,
   "metadata": {},
   "outputs": [
    {
     "data": {
      "text/plain": [
       "6"
      ]
     },
     "execution_count": 1,
     "metadata": {},
     "output_type": "execute_result"
    }
   ],
   "source": [
    "def add(sequence):\n",
    "    return sum(sequence)\n",
    "\n",
    "add([1,2,3])"
   ]
  },
  {
   "cell_type": "markdown",
   "metadata": {},
   "source": [
    "## Function Parameters Echo\n",
    "\n",
    "1. Zdefiniuj funkcję ``echo`` z dwoma parametrami\n",
    "1. Parametr ``a`` jest wymagany\n",
    "1. Parametr ``b`` jest wymagany\n",
    "1. Wypisz ``a`` i ``b``\n",
    "1. Porównaj wyniki z sekcją \"Output\" (patrz poniżej)\n",
    "\n",
    "Output:\n",
    "```python\n",
    ">>> echo(1, 2)\n",
    "a=1 b=2\n",
    "\n",
    ">>> echo(3, 4)\n",
    "a=3 b=4\n",
    "```"
   ]
  },
  {
   "cell_type": "code",
   "execution_count": 5,
   "metadata": {},
   "outputs": [
    {
     "name": "stdout",
     "output_type": "stream",
     "text": [
      "a=1 b=2\n",
      "a=3 b=4\n"
     ]
    }
   ],
   "source": [
    "def echo(a, b):\n",
    "    print(f'a={a} b={b}')\n",
    "    \n",
    "echo(1,2)\n",
    "echo(3, 4)"
   ]
  },
  {
   "cell_type": "markdown",
   "metadata": {},
   "source": [
    "## Function Parameters Default\n",
    "\n",
    "1. Zdefiniuj funkcję ``default`` z dwoma parametrami\n",
    "1. Parametr ``a`` jest wymagany\n",
    "1. Parametr ``b`` jest opcjonalny i ma domyślną wartość ``None``\n",
    "1. Jeżeli tylko jeden argument był podany, przyjmij drugi równy pierwszemu\n",
    "1. Wypisz ``a`` i ``b``\n",
    "1. Porównaj wyniki z sekcją \"Output\" (patrz poniżej)\n",
    "\n",
    "Output:\n",
    "```python\n",
    ">>> default(1)\n",
    "a=1 b=1\n",
    "\n",
    ">>> default(2, 3)\n",
    "a=2 b=3\n",
    "```"
   ]
  },
  {
   "cell_type": "code",
   "execution_count": 8,
   "metadata": {},
   "outputs": [
    {
     "name": "stdout",
     "output_type": "stream",
     "text": [
      "a=1 b=1\n",
      "a=2 b=3\n"
     ]
    }
   ],
   "source": [
    "def default(a, b=None):\n",
    "    if b is None:\n",
    "        b = a\n",
    "    print(f'a={a} b={b}')\n",
    "    \n",
    "default(1)\n",
    "default(2, 3)"
   ]
  },
  {
   "cell_type": "markdown",
   "metadata": {},
   "source": [
    "## Function Arguments Sequence\n",
    "\n",
    "1. Zdefiniuj funkcję biorącą sekwencję liczb całkowitych jako argument\n",
    "1. Zsumuj tylko parzyste liczby\n",
    "1. Wypisz zwróconą wartość"
   ]
  },
  {
   "cell_type": "code",
   "execution_count": 11,
   "metadata": {},
   "outputs": [
    {
     "data": {
      "text/plain": [
       "12"
      ]
     },
     "execution_count": 11,
     "metadata": {},
     "output_type": "execute_result"
    }
   ],
   "source": [
    "def add(sequence):\n",
    "    return sum(x for x in sequence if x % 2 == 0)\n",
    "\n",
    "\n",
    "add([1,2,3,4,5,6])"
   ]
  },
  {
   "cell_type": "markdown",
   "metadata": {},
   "source": [
    "## Function Arguments Divide\n",
    "\n",
    "1. Zdefiniuj funkcję ``divide``\n",
    "1. Funkcja przyjmuje dwa argumenty\n",
    "1. Funkcja dzieli oba argumenty przez siebie i zwraca wynik dzielenia\n",
    "1. Wywołaj funkcję z ``divide(4, 2)``\n",
    "1. Wywołaj funkcję z ``divide(4, 0)``\n",
    "1. Wypisz zwracane wartości\n",
    "1. Co zrobić w przypadku błędu?\n",
    "\n",
    "Output:\n",
    "```python\n",
    ">>> divide(4, 2)\n",
    "2.0\n",
    "\n",
    ">>> divide(4, 0)\n",
    "None\n",
    "```"
   ]
  },
  {
   "cell_type": "code",
   "execution_count": 16,
   "metadata": {},
   "outputs": [
    {
     "name": "stdout",
     "output_type": "stream",
     "text": [
      "None\n"
     ]
    }
   ],
   "source": [
    "def divide(a, b):\n",
    "    if b != 0:\n",
    "        return a / b\n",
    "\n",
    "\n",
    "divide(4, 2)\n",
    "result = divide(4, 0)\n",
    "print(result)"
   ]
  },
  {
   "cell_type": "markdown",
   "metadata": {},
   "source": [
    "## Function Arguments Power\n",
    "\n",
    "1. Zdefiniuj funkcję ``power``\n",
    "1. Funkcja przyjmuje dwa argumenty\n",
    "1. Drugi argument jest opcjonalny\n",
    "1. Funkcja zwraca wynik pierwszego argumentu do potęgi drugiego\n",
    "1. Jeżeli tylko jeden argument był podany, przyjmij drugi równy pierwszemu\n",
    "1. Wypisz zwracane wartości\n",
    "1. Porównaj wyniki z sekcją \"Output\" (patrz poniżej)\n",
    "\n",
    "Output:\n",
    "```python\n",
    ">>> power(4, 3)\n",
    "64\n",
    "\n",
    ">>> power(3)\n",
    "27\n",
    "```"
   ]
  },
  {
   "cell_type": "code",
   "execution_count": 20,
   "metadata": {},
   "outputs": [
    {
     "data": {
      "text/plain": [
       "4"
      ]
     },
     "execution_count": 20,
     "metadata": {},
     "output_type": "execute_result"
    }
   ],
   "source": [
    "def power(a, b=None):\n",
    "    b = b if b else a\n",
    "    return a ** b\n",
    "\n",
    "power(2)"
   ]
  },
  {
   "cell_type": "markdown",
   "metadata": {},
   "source": [
    "## Function Arguments Translate\n",
    "\n",
    "1. Użyj danych z sekcji \"Input\" (patrz poniżej)\n",
    "1. Zdefiniuj funkcję ``translate`` przyjmującą parametr ``text``\n",
    "1. Użyj ``str.join()`` z wyrażeniem generatorowym do iteracji po ``text``\n",
    "1. Jeżeli litera jest w ``PL`` to użyj przekonwertowanej wartości jako litera, w przeciwnym przypadku to weź literę\n",
    "1. Zwróć z funkcji przetłumaczony ``text``\n",
    "1. Uruchom ``translate('zażółć')``\n",
    "1. Uruchom ``translate('gęślą')``\n",
    "1. Uruchom ``translate('jaźń')``\n",
    "1. Porównaj wyniki wartościami oczekiwanymi (test porównania powinien wyjść ``True``)"
   ]
  },
  {
   "cell_type": "code",
   "execution_count": 21,
   "metadata": {},
   "outputs": [],
   "source": [
    "PL = {'ą': 'a', 'ć': 'c', 'ę': 'e',\n",
    "      'ł': 'l', 'ń': 'n', 'ó': 'o',\n",
    "      'ś': 's', 'ż': 'z', 'ź': 'z'}"
   ]
  },
  {
   "cell_type": "code",
   "execution_count": 22,
   "metadata": {},
   "outputs": [],
   "source": [
    "def translate(text):\n",
    "    return ''.join(PL.get(x,x) for x in text)"
   ]
  },
  {
   "cell_type": "code",
   "execution_count": 23,
   "metadata": {},
   "outputs": [
    {
     "data": {
      "text/plain": [
       "True"
      ]
     },
     "execution_count": 23,
     "metadata": {},
     "output_type": "execute_result"
    }
   ],
   "source": [
    "translate('zażółć') == 'zazolc'"
   ]
  },
  {
   "cell_type": "code",
   "execution_count": 24,
   "metadata": {},
   "outputs": [
    {
     "data": {
      "text/plain": [
       "True"
      ]
     },
     "execution_count": 24,
     "metadata": {},
     "output_type": "execute_result"
    }
   ],
   "source": [
    "translate('gęślą') == 'gesla'"
   ]
  },
  {
   "cell_type": "code",
   "execution_count": 25,
   "metadata": {},
   "outputs": [
    {
     "data": {
      "text/plain": [
       "True"
      ]
     },
     "execution_count": 25,
     "metadata": {},
     "output_type": "execute_result"
    }
   ],
   "source": [
    "translate('jaźń') == 'jazn'"
   ]
  },
  {
   "cell_type": "markdown",
   "metadata": {},
   "source": [
    "## Function Arguments Clean\n",
    "\n",
    "1. Użyj danych z sekcji \"Input\" (patrz poniżej)\n",
    "1. Napisz jedną funkcję czyszczącą dane ``clean()``\n",
    "1. Funkcja przyjmuje jeden argument typu ``str``\n",
    "1. Funkcja zwraca oczyszczony tekst i powinna działać dla wszystkich przypadków\n",
    "1. Porównaj wyniki wartościami oczekiwanymi (test porównania powinien wyjść ``True``)"
   ]
  },
  {
   "cell_type": "code",
   "execution_count": 73,
   "metadata": {},
   "outputs": [],
   "source": [
    "def clean(text):\n",
    "    text = text.upper()\n",
    "    \n",
    "    text = text.replace('    ', '')\n",
    "    text = text.replace('  ', '')\n",
    "    \n",
    "    text = text.replace('.', '')\n",
    "    \n",
    "    text = text.replace('ULICA', '')\n",
    "    text = text.replace('UL', '')\n",
    "    \n",
    "    text = text.replace('TRZECIEGO', 'III')\n",
    "    text = text.replace('3', 'III')\n",
    "    \n",
    "    text = text.title()\n",
    "    text = text.replace('Iii', 'III')\n",
    "    text = text.replace('Ii', 'II')\n",
    "    return text.strip()"
   ]
  },
  {
   "cell_type": "code",
   "execution_count": 80,
   "metadata": {},
   "outputs": [
    {
     "data": {
      "text/plain": [
       "True"
      ]
     },
     "execution_count": 80,
     "metadata": {},
     "output_type": "execute_result"
    }
   ],
   "source": [
    "clean('ul.Mieszka II') == 'Mieszka II'"
   ]
  },
  {
   "cell_type": "code",
   "execution_count": 81,
   "metadata": {},
   "outputs": [
    {
     "data": {
      "text/plain": [
       "True"
      ]
     },
     "execution_count": 81,
     "metadata": {},
     "output_type": "execute_result"
    }
   ],
   "source": [
    "clean('UL. Zygmunta III WaZY') == 'Zygmunta III Wazy'"
   ]
  },
  {
   "cell_type": "code",
   "execution_count": 82,
   "metadata": {},
   "outputs": [
    {
     "data": {
      "text/plain": [
       "True"
      ]
     },
     "execution_count": 82,
     "metadata": {},
     "output_type": "execute_result"
    }
   ],
   "source": [
    "clean('  bolesława chrobrego ') == 'Bolesława Chrobrego'"
   ]
  },
  {
   "cell_type": "code",
   "execution_count": 83,
   "metadata": {},
   "outputs": [
    {
     "data": {
      "text/plain": [
       "True"
      ]
     },
     "execution_count": 83,
     "metadata": {},
     "output_type": "execute_result"
    }
   ],
   "source": [
    "clean('ul Jana III SobIESkiego') == 'Jana III Sobieskiego'"
   ]
  },
  {
   "cell_type": "code",
   "execution_count": 84,
   "metadata": {},
   "outputs": [
    {
     "data": {
      "text/plain": [
       "True"
      ]
     },
     "execution_count": 84,
     "metadata": {},
     "output_type": "execute_result"
    }
   ],
   "source": [
    "clean('\\tul. Jana trzeciego Sobieskiego') == 'Jana III Sobieskiego'"
   ]
  },
  {
   "cell_type": "code",
   "execution_count": 85,
   "metadata": {},
   "outputs": [
    {
     "data": {
      "text/plain": [
       "True"
      ]
     },
     "execution_count": 85,
     "metadata": {},
     "output_type": "execute_result"
    }
   ],
   "source": [
    "clean('ulicaJana III Sobieskiego') == 'Jana III Sobieskiego'"
   ]
  },
  {
   "cell_type": "code",
   "execution_count": 86,
   "metadata": {},
   "outputs": [
    {
     "data": {
      "text/plain": [
       "True"
      ]
     },
     "execution_count": 86,
     "metadata": {},
     "output_type": "execute_result"
    }
   ],
   "source": [
    "clean('UL. JA    NA 3 SOBIES  KIEGO') == 'Jana III Sobieskiego'"
   ]
  },
  {
   "cell_type": "code",
   "execution_count": 87,
   "metadata": {},
   "outputs": [
    {
     "data": {
      "text/plain": [
       "True"
      ]
     },
     "execution_count": 87,
     "metadata": {},
     "output_type": "execute_result"
    }
   ],
   "source": [
    "clean('ULICA JANA III SOBIESKIEGO  ') == 'Jana III Sobieskiego'"
   ]
  },
  {
   "cell_type": "code",
   "execution_count": 88,
   "metadata": {},
   "outputs": [
    {
     "data": {
      "text/plain": [
       "True"
      ]
     },
     "execution_count": 88,
     "metadata": {},
     "output_type": "execute_result"
    }
   ],
   "source": [
    "clean('ULICA. JANA III SOBIeskieGO') == 'Jana III Sobieskiego'"
   ]
  },
  {
   "cell_type": "code",
   "execution_count": 89,
   "metadata": {},
   "outputs": [
    {
     "data": {
      "text/plain": [
       "True"
      ]
     },
     "execution_count": 89,
     "metadata": {},
     "output_type": "execute_result"
    }
   ],
   "source": [
    "clean(' Jana 3 Sobieskiego  ') == 'Jana III Sobieskiego'"
   ]
  },
  {
   "cell_type": "code",
   "execution_count": 90,
   "metadata": {},
   "outputs": [
    {
     "data": {
      "text/plain": [
       "True"
      ]
     },
     "execution_count": 90,
     "metadata": {},
     "output_type": "execute_result"
    }
   ],
   "source": [
    "clean('Jana III Sobi  eskiego ') == 'Jana III Sobieskiego'"
   ]
  },
  {
   "cell_type": "markdown",
   "metadata": {},
   "source": [
    "## Function Arguments Numbers to Str\n",
    "\n",
    "1. Użyj danych z sekcji \"Input\" (patrz poniżej)\n",
    "1. Dany jest alfabet pilotów dla numerów\n",
    "1. Przekonwertuj ``DATA: Dict[int, str]`` na ``CONVERT: Dict[str, str]`` (klucze jako ``str``)\n",
    "1. Dla danych wejściowych (patrz sekcja input poniżej)\n",
    "1. Zdefiniuj funkcję konwertującą ``int`` lub ``float`` na formę tekstową w mowie pilotów\n",
    "1. Możesz modyfikować ``CONVERT``\n",
    "1. Nie możesz zmieniać ``DATA``\n",
    "1. Porównaj wyniki wartościami oczekiwanymi (test porównania powinien wyjść ``True``)"
   ]
  },
  {
   "cell_type": "code",
   "execution_count": 102,
   "metadata": {},
   "outputs": [],
   "source": [
    "DATA = {\n",
    "    '0': 'zero',\n",
    "    '1': 'one',\n",
    "    '2': 'two',\n",
    "    '3': 'tree',\n",
    "    '4': 'fower',\n",
    "    '5': 'fife',\n",
    "    '6': 'six',\n",
    "    '7': 'seven',\n",
    "    '8': 'ait',\n",
    "    '9': 'niner',\n",
    "    '-': 'minus',\n",
    "    '.': 'and',\n",
    "}\n",
    "\n",
    "def pilot_say(number):\n",
    "    return ' '.join(DATA.get(x,x) for x in str(number))"
   ]
  },
  {
   "cell_type": "code",
   "execution_count": 103,
   "metadata": {},
   "outputs": [
    {
     "data": {
      "text/plain": [
       "True"
      ]
     },
     "execution_count": 103,
     "metadata": {},
     "output_type": "execute_result"
    }
   ],
   "source": [
    "pilot_say(1969) == 'one niner six niner'"
   ]
  },
  {
   "cell_type": "code",
   "execution_count": 104,
   "metadata": {},
   "outputs": [
    {
     "data": {
      "text/plain": [
       "True"
      ]
     },
     "execution_count": 104,
     "metadata": {},
     "output_type": "execute_result"
    }
   ],
   "source": [
    "pilot_say(31337) == 'tree one tree tree seven'"
   ]
  },
  {
   "cell_type": "code",
   "execution_count": 105,
   "metadata": {},
   "outputs": [
    {
     "data": {
      "text/plain": [
       "True"
      ]
     },
     "execution_count": 105,
     "metadata": {},
     "output_type": "execute_result"
    }
   ],
   "source": [
    "pilot_say(13.37) == 'one tree and tree seven'"
   ]
  },
  {
   "cell_type": "code",
   "execution_count": 106,
   "metadata": {},
   "outputs": [
    {
     "data": {
      "text/plain": [
       "True"
      ]
     },
     "execution_count": 106,
     "metadata": {},
     "output_type": "execute_result"
    }
   ],
   "source": [
    "pilot_say(31.337) == 'tree one and tree tree seven'"
   ]
  },
  {
   "cell_type": "code",
   "execution_count": 107,
   "metadata": {},
   "outputs": [
    {
     "data": {
      "text/plain": [
       "True"
      ]
     },
     "execution_count": 107,
     "metadata": {},
     "output_type": "execute_result"
    }
   ],
   "source": [
    "pilot_say(-1969) == 'minus one niner six niner'"
   ]
  },
  {
   "cell_type": "code",
   "execution_count": 108,
   "metadata": {},
   "outputs": [
    {
     "data": {
      "text/plain": [
       "True"
      ]
     },
     "execution_count": 108,
     "metadata": {},
     "output_type": "execute_result"
    }
   ],
   "source": [
    "pilot_say(-31.337) == 'minus tree one and tree tree seven'"
   ]
  },
  {
   "cell_type": "code",
   "execution_count": 109,
   "metadata": {},
   "outputs": [
    {
     "data": {
      "text/plain": [
       "True"
      ]
     },
     "execution_count": 109,
     "metadata": {},
     "output_type": "execute_result"
    }
   ],
   "source": [
    "pilot_say(-49.35) == 'minus fower niner and tree fife'"
   ]
  }
 ],
 "metadata": {
  "kernelspec": {
   "display_name": "Python 3",
   "language": "python",
   "name": "python3"
  },
  "language_info": {
   "codemirror_mode": {
    "name": "ipython",
    "version": 3
   },
   "file_extension": ".py",
   "mimetype": "text/x-python",
   "name": "python",
   "nbconvert_exporter": "python",
   "pygments_lexer": "ipython3",
   "version": "3.8.3"
  }
 },
 "nbformat": 4,
 "nbformat_minor": 4
}
