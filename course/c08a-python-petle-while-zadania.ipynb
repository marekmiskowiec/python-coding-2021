{
 "cells": [
  {
   "cell_type": "markdown",
   "metadata": {},
   "source": [
    "# Python: Pętle `while` - Zadania"
   ]
  },
  {
   "cell_type": "markdown",
   "metadata": {},
   "source": [
    "## Loop While Cast\n",
    "\n",
    "1. Użyj danych z sekcji \"Input\" (patrz poniżej)\n",
    "1. Stwórz ``result: List[int]``\n",
    "1. Użyj ``while`` do iterowania po ``DATA``\n",
    "1. Przekonwertuj wszystkie elementy ``DATA`` do ``int``\n",
    "1. Przekonwertowane wartości dodaj do ``result``\n",
    "1. Porównaj wyniki z sekcją \"Output\" (patrz poniżej)\n",
    "\n",
    "Output:\n",
    "```python\n",
    "result: List[int]\n",
    "# [1, 2, 3]\n",
    "```"
   ]
  },
  {
   "cell_type": "code",
   "execution_count": null,
   "metadata": {},
   "outputs": [],
   "source": [
    "DATA = ['1', '2', '3']"
   ]
  },
  {
   "cell_type": "code",
   "execution_count": null,
   "metadata": {},
   "outputs": [],
   "source": []
  },
  {
   "cell_type": "markdown",
   "metadata": {},
   "source": [
    "## Loop While Convert\n",
    "\n",
    "1. Użyj danych z sekcji \"Input\" (patrz poniżej)\n",
    "1. Stwórz ``result: List[float]``\n",
    "1. Użyj ``while`` do iterowania po ``DATA``\n",
    "1. Przekonwertuj wszystkie elementy ``DATA`` do ``float``\n",
    "1. Przekonwertowane wartości dodaj do ``result``\n",
    "1. Porównaj wyniki z sekcją \"Output\" (patrz poniżej)\n",
    "\n",
    "Output:\n",
    "```python\n",
    "result: List[float]\n",
    "# [2.0, 3.0, 3.5, 4.0, 4.5, 5.0]\n",
    "```"
   ]
  },
  {
   "cell_type": "code",
   "execution_count": null,
   "metadata": {},
   "outputs": [],
   "source": [
    "DATA = (2, 3, 3.5, 4, 4.5, 5)"
   ]
  },
  {
   "cell_type": "code",
   "execution_count": null,
   "metadata": {},
   "outputs": [],
   "source": []
  },
  {
   "cell_type": "markdown",
   "metadata": {},
   "source": [
    "## Loop While Translate\n",
    "\n",
    "1. Użyj danych z sekcji \"Input\" (patrz poniżej)\n",
    "1. Użyj ``while`` do iteracji po ``DATA``\n",
    "1. Jeżeli litera jest w ``PL`` to użyj przekonwertowanej wartości jako litera\n",
    "1. Dodaj literę do ``result``\n",
    "1. Porównaj wyniki z sekcją \"Output\" (patrz poniżej)\n",
    "\n",
    "Output:\n",
    "```python\n",
    "result: str\n",
    "# 'zazolc gesla jazn'\n",
    "```"
   ]
  },
  {
   "cell_type": "code",
   "execution_count": null,
   "metadata": {},
   "outputs": [],
   "source": [
    "PL = {'ą': 'a', 'ć': 'c', 'ę': 'e',\n",
    "      'ł': 'l', 'ń': 'n', 'ó': 'o',\n",
    "      'ś': 's', 'ż': 'z', 'ź': 'z'}\n",
    "\n",
    "DATA = 'zażółć gęślą jaźń'"
   ]
  },
  {
   "cell_type": "code",
   "execution_count": null,
   "metadata": {},
   "outputs": [],
   "source": []
  },
  {
   "cell_type": "markdown",
   "metadata": {},
   "source": [
    "## Loop While Input\n",
    "\n",
    "1. Użyj danych z sekcji \"Input\" (patrz poniżej)\n",
    "1. Do iterowania użyj tylko pętli ``while``\n",
    "1. Używając ``input()`` poproś użytkownika o ocenę, jedną na raz\n",
    "1. Użytkownik poda tylko poprawne ``int`` lub ``float``\n",
    "1. Jeżeli ocena jest w ``GRADE_SCALE`` - dodaj ją do dzienniczka\n",
    "1. Jeżeli oceny nie ma w ``GRADE_SCALE`` - wyświetl \"Grade is not allowed\" i kontynuuj wpisywanie\n",
    "1. Jeżeli użytkownik wcisnął Enter, zakończ wprowadzanie danych\n",
    "1. Na zakończenie wyświetl wyliczoną dla dzienniczka średnią arytmetyczną\n",
    "1. Przetestuj przypadek, gdy dzienniczek jest pusty\n",
    "\n",
    "Podpowiedź:\n",
    "* ``mean = sum(...) / len(...)``"
   ]
  },
  {
   "cell_type": "code",
   "execution_count": null,
   "metadata": {},
   "outputs": [],
   "source": [
    "GRADE_SCALE = (2.0, 3.0, 3.5, 4.0, 4.5, 5.0)"
   ]
  },
  {
   "cell_type": "code",
   "execution_count": null,
   "metadata": {},
   "outputs": [],
   "source": []
  }
 ],
 "metadata": {
  "kernelspec": {
   "display_name": "Python 3",
   "language": "python",
   "name": "python3"
  },
  "language_info": {
   "codemirror_mode": {
    "name": "ipython",
    "version": 3
   },
   "file_extension": ".py",
   "mimetype": "text/x-python",
   "name": "python",
   "nbconvert_exporter": "python",
   "pygments_lexer": "ipython3",
   "version": "3.8.3"
  }
 },
 "nbformat": 4,
 "nbformat_minor": 4
}
