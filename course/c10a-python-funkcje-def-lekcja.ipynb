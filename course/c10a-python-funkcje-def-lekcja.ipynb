{
 "cells": [
  {
   "cell_type": "markdown",
   "metadata": {},
   "source": [
    "# Python: Funkcje"
   ]
  },
  {
   "cell_type": "markdown",
   "metadata": {},
   "source": [
    "## Definiowanie funkcji\n",
    "\n",
    "* składnia\n",
    "* definicja\n",
    "* konwencje\n",
    "* docstring"
   ]
  },
  {
   "cell_type": "code",
   "execution_count": 4,
   "metadata": {},
   "outputs": [
    {
     "name": "stdout",
     "output_type": "stream",
     "text": [
      "Hello\n",
      "Hello\n",
      "Hello\n"
     ]
    }
   ],
   "source": [
    "def name():\n",
    "    \"\"\"\n",
    "    To jest moja funkcja\n",
    "    \"\"\"\n",
    "    print('Hello')\n",
    "\n",
    "\n",
    "name()\n",
    "name()\n",
    "name()"
   ]
  },
  {
   "cell_type": "code",
   "execution_count": null,
   "metadata": {},
   "outputs": [],
   "source": [
    "def get_name():\n",
    "    \"\"\"\n",
    "    To jest moja funkcja\n",
    "    \"\"\"\n",
    "    print('Hello')\n",
    "\n",
    "\n",
    "name()\n",
    "name()\n",
    "name()"
   ]
  },
  {
   "cell_type": "code",
   "execution_count": 11,
   "metadata": {
    "scrolled": false
   },
   "outputs": [],
   "source": [
    "str.join?"
   ]
  },
  {
   "cell_type": "markdown",
   "metadata": {},
   "source": [
    "## Zwracanie wartości\n",
    "\n",
    "* składnia\n",
    "* zwracanie wartości (`return`)\n",
    "* zwracanie typów prostych\n",
    "* zwracanie sekwencji\n",
    "* zwracanie słowników\n",
    "* zwracanie `None`\n",
    "* przechwytywanie zwracanej wartości"
   ]
  },
  {
   "cell_type": "code",
   "execution_count": 16,
   "metadata": {},
   "outputs": [],
   "source": [
    "def add():\n",
    "    a = 1\n",
    "    b = 2\n",
    "    return a + b\n",
    "\n",
    "result = add()"
   ]
  },
  {
   "cell_type": "code",
   "execution_count": 25,
   "metadata": {},
   "outputs": [],
   "source": [
    "def name():\n",
    "    return 1\n",
    "\n",
    "def name():\n",
    "    return 1.5\n",
    "\n",
    "def name():\n",
    "    return True\n",
    "\n",
    "def name():\n",
    "    return None\n",
    "\n",
    "def name():\n",
    "    return 'hello'\n",
    "\n",
    "def name():\n",
    "    return (1, 2)\n",
    "\n",
    "def name():\n",
    "    return 1, 2\n",
    "\n",
    "def name():\n",
    "    return [1, 2]\n",
    "\n",
    "def name():\n",
    "    return {1, 2}\n",
    "\n",
    "def name():\n",
    "    return {'a': 1, 'b': 2}\n",
    "\n",
    "def name():\n",
    "    return [\n",
    "        (1, 2),\n",
    "        [3, 4],\n",
    "        {'a': 1, 'b': 2}\n",
    "    ]\n",
    "\n",
    "def name():\n",
    "    pass\n",
    "\n",
    "def name():\n",
    "    print('hello')\n",
    "    \n",
    "def name():\n",
    "    return None\n",
    "\n",
    "def name():\n",
    "    \"\"\"\n",
    "    To jest moja funkcja\n",
    "    \"\"\""
   ]
  },
  {
   "cell_type": "code",
   "execution_count": 26,
   "metadata": {},
   "outputs": [
    {
     "data": {
      "text/plain": [
       "NoneType"
      ]
     },
     "execution_count": 26,
     "metadata": {},
     "output_type": "execute_result"
    }
   ],
   "source": [
    "result = name()\n",
    "type(result)"
   ]
  }
 ],
 "metadata": {
  "kernelspec": {
   "display_name": "Python 3",
   "language": "python",
   "name": "python3"
  },
  "language_info": {
   "codemirror_mode": {
    "name": "ipython",
    "version": 3
   },
   "file_extension": ".py",
   "mimetype": "text/x-python",
   "name": "python",
   "nbconvert_exporter": "python",
   "pygments_lexer": "ipython3",
   "version": "3.8.3"
  }
 },
 "nbformat": 4,
 "nbformat_minor": 4
}
