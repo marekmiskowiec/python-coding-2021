{
 "cells": [
  {
   "cell_type": "markdown",
   "metadata": {},
   "source": [
    "# Python - pliki - lekcja"
   ]
  },
  {
   "cell_type": "code",
   "execution_count": 5,
   "metadata": {},
   "outputs": [],
   "source": [
    "from pathlib import Path"
   ]
  },
  {
   "cell_type": "markdown",
   "metadata": {},
   "source": [
    "## Ścieżki\n",
    "\n",
    "* względna\n",
    "* bezwzględna\n",
    "* obecny katalog\n",
    "* tworzenie katalogów\n",
    "* czy istnieje, czy plik, czy katalog\n",
    "* zamiana ścieżki względnej na bezwzględną"
   ]
  },
  {
   "cell_type": "code",
   "execution_count": 3,
   "metadata": {},
   "outputs": [],
   "source": [
    "FILE = r'myfile.txt'\n",
    "FILE = r'/tmp/myfile.txt'\n",
    "FILE = r'C:\\Users\\Admin\\Desktop\\myfile.txt'\n",
    "\n",
    "FILE = r'.'\n",
    "FILE = r'..'\n",
    "\n",
    "FILE = r'./myfile.txt'\n",
    "FILE = r'../myfile.txt'\n",
    "\n",
    "FILE = r'../tmp/myfile.txt'\n",
    "FILE = r'../../myfile.txt'\n",
    "FILE = r'../../tmp/myfile.txt'\n",
    "\n",
    "FILE = r'C:\\Users\\Admin'"
   ]
  },
  {
   "cell_type": "code",
   "execution_count": 8,
   "metadata": {},
   "outputs": [
    {
     "name": "stdout",
     "output_type": "stream",
     "text": [
      "/Volumes/GoogleDrive/My Drive/e-Learning/Python w analizie numerycznej/Tydzień 4 - Biblioteka standardowa Python/d01-stdlib-pliki/myfile.txt\n"
     ]
    }
   ],
   "source": [
    "FILE = r'myfile.txt'\n",
    "\n",
    "path = Path(Path.cwd(), FILE)\n",
    "\n",
    "print(path)"
   ]
  },
  {
   "cell_type": "code",
   "execution_count": 12,
   "metadata": {},
   "outputs": [
    {
     "data": {
      "text/plain": [
       "True"
      ]
     },
     "execution_count": 12,
     "metadata": {},
     "output_type": "execute_result"
    }
   ],
   "source": [
    "current_dir = Path.cwd()\n",
    "\n",
    "Path(current_dir).is_file()\n",
    "Path(current_dir).is_dir()\n",
    "Path(current_dir).exists()"
   ]
  },
  {
   "cell_type": "markdown",
   "metadata": {},
   "source": [
    "## Tryby dostępu\n",
    "\n",
    "* Binarny\n",
    "* Tekstowy\n",
    "* Odczyt\n",
    "* Zapisywanie\n",
    "* Dopisywanie\n",
    "* Odczyt + zapis\n",
    "* Krótka notacja\n",
    "* Błąd dostępu i wyjątki"
   ]
  },
  {
   "cell_type": "code",
   "execution_count": null,
   "metadata": {},
   "outputs": [],
   "source": [
    "mode='rt'\n",
    "mode='rb'\n",
    "\n",
    "mode='wt'\n",
    "mode='wb'\n",
    "\n",
    "mode='at'\n",
    "mode='ab'\n",
    "\n",
    "mode='r'\n",
    "mode='w'\n",
    "mode='a'\n",
    "\n",
    "mode='r+'\n",
    "mode='w+'\n",
    "mode='a+'\n",
    "mode='rt+'\n",
    "mode='wt+'\n",
    "mode='at+'\n",
    "mode='rb+'\n",
    "mode='wb+'\n",
    "mode='ab+'"
   ]
  },
  {
   "cell_type": "code",
   "execution_count": null,
   "metadata": {},
   "outputs": [],
   "source": [
    "try:\n",
    "    ...\n",
    "except PermissionError:\n",
    "    ...\n",
    "except FileNotFoundError:\n",
    "    ..."
   ]
  },
  {
   "cell_type": "markdown",
   "metadata": {},
   "source": [
    "## Zapisywanie\n",
    "\n",
    "* Stworzy plik, jeżeli nie istnieje\n",
    "* Nadpisze starą zawartość\n",
    "* Jedna linia\n",
    "* Wiele linii\n",
    "* Dodawanie linii na końcu\n",
    "* Dane inne niż tekst"
   ]
  },
  {
   "cell_type": "code",
   "execution_count": 13,
   "metadata": {},
   "outputs": [],
   "source": [
    "FILE = r'./myfile.txt'"
   ]
  },
  {
   "cell_type": "code",
   "execution_count": 15,
   "metadata": {},
   "outputs": [],
   "source": [
    "DATA = 'We choose to go to the Moon...'\n",
    "\n",
    "\n",
    "file = open(FILE, mode='wt')\n",
    "file.write(DATA)\n",
    "file.close()"
   ]
  },
  {
   "cell_type": "code",
   "execution_count": 17,
   "metadata": {},
   "outputs": [
    {
     "name": "stdout",
     "output_type": "stream",
     "text": [
      "We choose to go to the Moon..."
     ]
    }
   ],
   "source": [
    "!ls\n",
    "!cat myfile.txt\n",
    "\n",
    "!dir\n",
    "!type myfile.txt"
   ]
  },
  {
   "cell_type": "code",
   "execution_count": 18,
   "metadata": {},
   "outputs": [],
   "source": [
    "with open(FILE, mode='wt') as file:\n",
    "    file.write(DATA)"
   ]
  },
  {
   "cell_type": "code",
   "execution_count": 19,
   "metadata": {},
   "outputs": [
    {
     "name": "stdout",
     "output_type": "stream",
     "text": [
      "We choose to go to the Moon..."
     ]
    }
   ],
   "source": [
    "!cat myfile.txt"
   ]
  },
  {
   "cell_type": "code",
   "execution_count": 26,
   "metadata": {},
   "outputs": [
    {
     "name": "stdout",
     "output_type": "stream",
     "text": [
      "We choose to go to the Moon.\r\n",
      "We choose to go to the Moon in this decade and do the other things.\r\n",
      "Not because they are easy, but because they are hard."
     ]
    }
   ],
   "source": [
    "FILE = r'./myfile.txt'\n",
    "\n",
    "DATA = [\n",
    "    'We choose to go to the Moon.',\n",
    "    'We choose to go to the Moon in this decade and do the other things.',\n",
    "    'Not because they are easy, but because they are hard.']\n",
    "\n",
    "data = '\\n'.join(DATA)\n",
    "\n",
    "with open(FILE, mode='wt') as file:\n",
    "    file.write(data)\n",
    "    \n",
    "!cat myfile.txt"
   ]
  },
  {
   "cell_type": "code",
   "execution_count": 30,
   "metadata": {},
   "outputs": [
    {
     "name": "stdout",
     "output_type": "stream",
     "text": [
      "1,2,3"
     ]
    }
   ],
   "source": [
    "FILE = r'./myfile.txt'\n",
    "DATA = [1, 2, 3]\n",
    "\n",
    "data = ','.join(str(x) for x in DATA) + '\\n'\n",
    "\n",
    "with open(FILE, mode='wt') as file:\n",
    "    file.write(data)\n",
    "    \n",
    "!cat myfile.txt"
   ]
  },
  {
   "cell_type": "markdown",
   "metadata": {},
   "source": [
    "## Dopisywanie\n",
    "\n",
    "* Stworzy plik, jeżeli nie istnieje\n",
    "* Dopisze do starej zawartości"
   ]
  },
  {
   "cell_type": "code",
   "execution_count": 38,
   "metadata": {},
   "outputs": [
    {
     "name": "stdout",
     "output_type": "stream",
     "text": [
      "1,2,3Dzisiejsze wydarzenieDzisiejsze wydarzenie\r\n",
      "Dzisiejsze wydarzenie\r\n",
      "Dzisiejsze wydarzenie\r\n",
      "Dzisiejsze wydarzenie\r\n",
      "Dzisiejsze wydarzenie\r\n",
      "Dzisiejsze wydarzenie\r\n",
      "Dzisiejsze wydarzenie\r\n"
     ]
    }
   ],
   "source": [
    "FILE = r'./myfile.txt'\n",
    "DATA = 'Dzisiejsze wydarzenie'\n",
    "\n",
    "\n",
    "with open(FILE, mode='at') as file:\n",
    "    file.write(DATA + '\\n')\n",
    "    \n",
    "!cat myfile.txt"
   ]
  },
  {
   "cell_type": "markdown",
   "metadata": {},
   "source": [
    "## Odczyt\n",
    "\n",
    "* Błąd jak nie ma pliku lub folderu\n",
    "* Context Manager\n",
    "* Lista linii\n",
    "* Generator\n",
    "* Strip"
   ]
  },
  {
   "cell_type": "code",
   "execution_count": 40,
   "metadata": {},
   "outputs": [
    {
     "name": "stdout",
     "output_type": "stream",
     "text": [
      "1,2,3Dzisiejsze wydarzenieDzisiejsze wydarzenie\n",
      "Dzisiejsze wydarzenie\n",
      "Dzisiejsze wydarzenie\n",
      "Dzisiejsze wydarzenie\n",
      "Dzisiejsze wydarzenie\n",
      "Dzisiejsze wydarzenie\n",
      "Dzisiejsze wydarzenie\n",
      "\n"
     ]
    },
    {
     "data": {
      "text/plain": [
       "str"
      ]
     },
     "execution_count": 40,
     "metadata": {},
     "output_type": "execute_result"
    }
   ],
   "source": [
    "FILE = r'./myfile.txt'\n",
    "\n",
    "with open(FILE, mode='rt') as file:\n",
    "    data = file.read()\n",
    "\n",
    "print(data)\n",
    "type(data)"
   ]
  },
  {
   "cell_type": "code",
   "execution_count": 42,
   "metadata": {},
   "outputs": [
    {
     "name": "stdout",
     "output_type": "stream",
     "text": [
      "['Dzisiejsze wydarzenie\\n', 'Dzisiejsze wydarzenie\\n']\n"
     ]
    }
   ],
   "source": [
    "FILE = r'./myfile.txt'\n",
    "\n",
    "with open(FILE, mode='rt') as file:\n",
    "    data = file.readlines()[1:3]\n",
    "\n",
    "print(data)"
   ]
  },
  {
   "cell_type": "code",
   "execution_count": 43,
   "metadata": {},
   "outputs": [
    {
     "name": "stdout",
     "output_type": "stream",
     "text": [
      "1,2,3Dzisiejsze wydarzenieDzisiejsze wydarzenie\n",
      "\n"
     ]
    }
   ],
   "source": [
    "FILE = r'./myfile.txt'\n",
    "\n",
    "with open(FILE, mode='rt') as file:\n",
    "    data = file.readline()\n",
    "\n",
    "print(data)"
   ]
  },
  {
   "cell_type": "code",
   "execution_count": 48,
   "metadata": {},
   "outputs": [
    {
     "name": "stdout",
     "output_type": "stream",
     "text": [
      "Dzisiejsze wydarzenie\n",
      "Dzisiejsze wydarzenie\n",
      "Dzisiejsze wydarzenie\n",
      "Dzisiejsze wydarzenie\n",
      "Dzisiejsze wydarzenie\n",
      "Dzisiejsze wydarzenie\n"
     ]
    }
   ],
   "source": [
    "FILE = r'./myfile.txt'\n",
    "\n",
    "with open(FILE, mode='rt') as file:\n",
    "    header = file.readline().strip()\n",
    "    \n",
    "    for line in file:\n",
    "        line = line.strip()\n",
    "        \n",
    "        print(line)"
   ]
  },
  {
   "cell_type": "markdown",
   "metadata": {},
   "source": [
    "## Kodowanie znaków\n",
    "\n",
    "* ASCII\n",
    "* windows-1250 lub cp1250\n",
    "* windows-1251 lub cp1251\n",
    "* windows-1252 lub cp1252\n",
    "* iso-8859-1\n",
    "* iso-8859-2\n",
    "* iso-8859-3\n",
    "* utf-8"
   ]
  },
  {
   "cell_type": "code",
   "execution_count": 52,
   "metadata": {},
   "outputs": [
    {
     "name": "stdout",
     "output_type": "stream",
     "text": [
      "1,2,3Dzisiejsze wydarzenieDzisiejsze wydarzenie\n",
      "Dzisiejsze wydarzenie\n",
      "Dzisiejsze wydarzenie\n",
      "Dzisiejsze wydarzenie\n",
      "Dzisiejsze wydarzenie\n",
      "Dzisiejsze wydarzenie\n",
      "Dzisiejsze wydarzenie\n",
      "\n"
     ]
    }
   ],
   "source": [
    "with open(FILE, encoding='cp1250') as file:\n",
    "    print(file.read())"
   ]
  },
  {
   "cell_type": "code",
   "execution_count": 64,
   "metadata": {},
   "outputs": [],
   "source": [
    "with open(FILE, mode='wt', encoding='utf-8') as file:\n",
    "    file.write('zażółć gęślą jaźń')"
   ]
  },
  {
   "cell_type": "code",
   "execution_count": 54,
   "metadata": {},
   "outputs": [
    {
     "name": "stdout",
     "output_type": "stream",
     "text": [
      "zażółć gęślą jaźń"
     ]
    }
   ],
   "source": [
    "!cat $FILE"
   ]
  },
  {
   "cell_type": "code",
   "execution_count": 63,
   "metadata": {},
   "outputs": [
    {
     "name": "stdout",
     "output_type": "stream",
     "text": [
      "zażółć gęślą jaźń\n"
     ]
    }
   ],
   "source": [
    "with open(FILE, mode='rt', encoding='utf-8') as file:\n",
    "    print(file.read())"
   ]
  },
  {
   "cell_type": "code",
   "execution_count": null,
   "metadata": {},
   "outputs": [],
   "source": []
  }
 ],
 "metadata": {
  "kernelspec": {
   "display_name": "Python 3",
   "language": "python",
   "name": "python3"
  },
  "language_info": {
   "codemirror_mode": {
    "name": "ipython",
    "version": 3
   },
   "file_extension": ".py",
   "mimetype": "text/x-python",
   "name": "python",
   "nbconvert_exporter": "python",
   "pygments_lexer": "ipython3",
   "version": "3.8.3"
  }
 },
 "nbformat": 4,
 "nbformat_minor": 4
}
