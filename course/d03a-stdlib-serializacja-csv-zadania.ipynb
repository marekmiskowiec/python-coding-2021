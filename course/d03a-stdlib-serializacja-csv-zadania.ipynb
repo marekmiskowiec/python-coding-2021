{
 "cells": [
  {
   "cell_type": "markdown",
   "metadata": {},
   "source": [
    "# Python Biblioteka Standardowa - serializacja CSV - zadania"
   ]
  },
  {
   "cell_type": "markdown",
   "metadata": {},
   "source": [
    "## Serialization CSV DictReader\n",
    "\n",
    "1. Użyj danych z sekcji \"Input\" (patrz poniżej)\n",
    "1. Pobierz plik https://python.astrotech.io/_static/iris.csv i zapisz go jako ``iris.csv`` w katalogu ze skryptami\n",
    "1. Korzystając z ``csv.DictReader`` wczytaj zawartość pliku\n",
    "1. Podaj jawnie ``encoding``, ``delimiter`` oraz ``quotechar``\n",
    "1. Podmień nazwy kolumn na ``FIELDNAMES``\n",
    "1. Pomiń pierwszą linię (nagłówek)\n",
    "1. Wypisz wiersze z danymi\n",
    "1. Porównaj wyniki z sekcją \"Output\" (patrz poniżej)\n",
    "\n",
    "Output:\n",
    "```python\n",
    "{'Sepal Length': '5.4', 'Sepal Width': '3.9', 'Petal Length': '1.3', 'Petal Width': '0.4', 'Species': 'setosa'}\n",
    "{'Sepal Length': '5.9', 'Sepal Width': '3.0', 'Petal Length': '5.1', 'Petal Width': '1.8', 'Species': 'virginica'}\n",
    "{'Sepal Length': '6.0', 'Sepal Width': '3.4', 'Petal Length': '4.5', 'Petal Width': '1.6', 'Species': 'versicolor'}\n",
    "...\n",
    "```"
   ]
  },
  {
   "cell_type": "code",
   "execution_count": null,
   "metadata": {},
   "outputs": [],
   "source": [
    "FIELDNAMES = [\n",
    "    'Sepal Length',\n",
    "    'Sepal Width',\n",
    "    'Petal Length',\n",
    "    'Petal Width',\n",
    "    'Species',\n",
    "]"
   ]
  },
  {
   "cell_type": "markdown",
   "metadata": {},
   "source": [
    "## Serialization CSV DictWriter\n",
    "\n",
    "1. Użyj danych z sekcji \"Input\" (patrz poniżej)\n",
    "1. Za pomocą ``csv.DictWriter()`` zapisz ``DATA`` do pliku\n",
    "1. Spróbuj otworzyć plik w arkuszu kalkulacyjnym tj. Microsoft Excel / Libre Office / Numbers itp\n",
    "1. Spróbuj otworzyć plik w IDE i prostym edytorze tekstu tj. Notepad, vim lub gedit\n",
    "1. Porównaj wyniki z sekcją \"Output\" (patrz poniżej)\n",
    "1. Wymagania niefunkcjonalne:\n",
    "\n",
    "    * Wszystkie pola muszą być otoczone znakiem cudzysłowu ``\"``\n",
    "    * Użyj ``,`` do oddzielenia kolumn\n",
    "    * Użyj kodowania ``utf-8``\n",
    "    * Użyj zakończenia linii Unix ``\\n``\n",
    "\n",
    "Output:\n",
    "```text\n",
    "\"firstname\",\"lastname\"\n",
    "\"Jan\",\"Twardowski\"\n",
    "\"José\",\"Jiménez\"\n",
    "\"Mark\",\"Watney\"\n",
    "\"Ivan\",\"Ivanovic\"\n",
    "\"Melissa\",\"Lewis\"\n",
    "```"
   ]
  },
  {
   "cell_type": "code",
   "execution_count": null,
   "metadata": {},
   "outputs": [],
   "source": [
    "DATA = [\n",
    "    {'firstname': 'Jan',  'lastname': 'Twardowski'},\n",
    "    {'firstname': 'José', 'lastname': 'Jiménez'},\n",
    "    {'firstname': 'Mark', 'lastname': 'Watney'},\n",
    "    {'firstname': 'Ivan', 'lastname': 'Ivanovic'},\n",
    "    {'firstname': 'Melissa', 'lastname': 'Lewis'},\n",
    "]"
   ]
  },
  {
   "cell_type": "markdown",
   "metadata": {},
   "source": [
    "## Serialization CSV List of Tuples\n",
    "\n",
    "1. Użyj danych z sekcji \"Input\" (patrz poniżej)\n",
    "1. Za pomocą ``csv.DictWriter()`` zapisz ``DATA`` do pliku\n",
    "1. Porównaj wyniki z sekcją \"Output\" (patrz poniżej)\n",
    "1. Wymagania niefunkcjonalne:\n",
    "\n",
    "    * Nie używaj cudzysłowów w wynikowym pliku CSV\n",
    "    * Użyj ``,`` do oddzielenia kolumn\n",
    "    * Użyj kodowania ``utf-8``\n",
    "    * Użyj zakończenia linii Unix ``\\n``\n",
    "\n",
    "Output:\n",
    "```text\n",
    "Sepal length,Sepal width,Petal length,Petal width,Species\n",
    "5.8,2.7,5.1,1.9,virginica\n",
    "5.1,3.5,1.4,0.2,setosa\n",
    "5.7,2.8,4.1,1.3,versicolor\n",
    "6.3,2.9,5.6,1.8,virginica\n",
    "6.4,3.2,4.5,1.5,versicolor\n",
    "4.7,3.2,1.3,0.2,setosa\n",
    "7.0,3.2,4.7,1.4,versicolor\n",
    "7.6,3.0,6.6,2.1,virginica\n",
    "4.9,3.0,1.4,0.2,setosa\n",
    "4.9,2.5,4.5,1.7,virginica\n",
    "7.1,3.0,5.9,2.1,virginica\n",
    "4.6,3.4,1.4,0.3,setosa\n",
    "5.4,3.9,1.7,0.4,setosa\n",
    "5.7,2.8,4.5,1.3,versicolor\n",
    "5.0,3.6,1.4,0.3,setosa\n",
    "5.5,2.3,4.0,1.3,versicolor\n",
    "6.5,3.0,5.8,2.2,virginica\n",
    "6.5,2.8,4.6,1.5,versicolor\n",
    "6.3,3.3,6.0,2.5,virginica\n",
    "6.9,3.1,4.9,1.5,versicolor\n",
    "4.6,3.1,1.5,0.2,setosa\n",
    "```"
   ]
  },
  {
   "cell_type": "code",
   "execution_count": null,
   "metadata": {},
   "outputs": [],
   "source": [
    "DATA = [\n",
    "    ('Sepal length', 'Sepal width', 'Petal length', 'Petal width', 'Species'),\n",
    "    (5.8, 2.7, 5.1, 1.9, 'virginica'),\n",
    "    (5.1, 3.5, 1.4, 0.2, 'setosa'),\n",
    "    (5.7, 2.8, 4.1, 1.3, 'versicolor'),\n",
    "    (6.3, 2.9, 5.6, 1.8, 'virginica'),\n",
    "    (6.4, 3.2, 4.5, 1.5, 'versicolor'),\n",
    "    (4.7, 3.2, 1.3, 0.2, 'setosa'),\n",
    "    (7.0, 3.2, 4.7, 1.4, 'versicolor'),\n",
    "    (7.6, 3.0, 6.6, 2.1, 'virginica'),\n",
    "    (4.9, 3.0, 1.4, 0.2, 'setosa'),\n",
    "    (4.9, 2.5, 4.5, 1.7, 'virginica'),\n",
    "    (7.1, 3.0, 5.9, 2.1, 'virginica'),\n",
    "    (4.6, 3.4, 1.4, 0.3, 'setosa'),\n",
    "    (5.4, 3.9, 1.7, 0.4, 'setosa'),\n",
    "    (5.7, 2.8, 4.5, 1.3, 'versicolor'),\n",
    "    (5.0, 3.6, 1.4, 0.3, 'setosa'),\n",
    "    (5.5, 2.3, 4.0, 1.3, 'versicolor'),\n",
    "    (6.5, 3.0, 5.8, 2.2, 'virginica'),\n",
    "    (6.5, 2.8, 4.6, 1.5, 'versicolor'),\n",
    "    (6.3, 3.3, 6.0, 2.5, 'virginica'),\n",
    "    (6.9, 3.1, 4.9, 1.5, 'versicolor'),\n",
    "    (4.6, 3.1, 1.5, 0.2, 'setosa'),\n",
    "]"
   ]
  },
  {
   "cell_type": "markdown",
   "metadata": {},
   "source": [
    "## Serialization CSV Schemaless\n",
    "\n",
    "1. Użyj danych z sekcji \"Input\" (patrz poniżej)\n",
    "1. Za pomocą ``csv.DictWriter()`` zapisz do pliku CSV dane o zmiennej strukturze\n",
    "1. ``fieldnames`` musi być generowane automatycznie na podstawie ``DATA``\n",
    "1. ``fieldnames`` ma być zawsze w takiej samej kolejności\n",
    "1. Porównaj wyniki z sekcją \"Output\" (patrz poniżej)\n",
    "1. Wymagania niefunkcjonalne:\n",
    "\n",
    "    * Wszystkie pola muszą być otoczone znakiem cudzysłowu ``\"``\n",
    "    * Użyj ``,`` do oddzielenia kolumn\n",
    "    * Użyj kodowania ``utf-8``\n",
    "    * Użyj zakończenia linii Unix ``\\n``\n",
    "\n",
    "Output:\n",
    "```csv\n",
    "\"Petal length\", \"Petal width\", \"Sepal length\", \"Sepal width\", \"Species\"\n",
    "\"\", \"\", \"5.1\", \"3.5\", \"setosa\"\n",
    "\"4.1\", \"1.3\", \"\", \"\", \"versicolor\"\n",
    "\"\", \"1.8\", \"6.3\", \"\", \"virginica\"\n",
    "\"\", \"0.2\", \"5.0\", \"\", \"setosa\"\n",
    "\"4.1\", \"\", \"\", \"2.8\", \"versicolor\"\n",
    "\"\", \"1.8\", \"\", \"2.9\", \"virginica\"\n",
    "```"
   ]
  },
  {
   "cell_type": "code",
   "execution_count": null,
   "metadata": {},
   "outputs": [],
   "source": [
    "DATA = [\n",
    "    {'Sepal length': 5.1, 'Sepal width': 3.5, 'Species': 'setosa'},\n",
    "    {'Petal length': 4.1, 'Petal width': 1.3, 'Species': 'versicolor'},\n",
    "    {'Sepal length': 6.3, 'Petal width': 1.8, 'Species': 'virginica'},\n",
    "    {'Sepal length': 5.0, 'Petal width': 0.2, 'Species': 'setosa'},\n",
    "    {'Sepal width': 2.8, 'Petal length': 4.1, 'Species': 'versicolor'},\n",
    "    {'Sepal width': 2.9, 'Petal width': 1.8, 'Species': 'virginica'},\n",
    "]"
   ]
  },
  {
   "cell_type": "markdown",
   "metadata": {},
   "source": [
    "## Serialization CSV Objects\n",
    "\n",
    "1. Użyj danych z sekcji \"Input\" (patrz poniżej)\n",
    "1. Za pomocą ``csv.DictWriter()`` zapisz dane do pliku CSV\n",
    "1. Wymagania niefunkcjonalne:\n",
    "\n",
    "    * Wszystkie pola muszą być otoczone znakiem cudzysłowu ``\"``\n",
    "    * Użyj ``,`` do oddzielenia kolumn\n",
    "    * Użyj kodowania ``utf-8``\n",
    "    * Użyj zakończenia linii Unix ``\\n``"
   ]
  },
  {
   "cell_type": "code",
   "execution_count": null,
   "metadata": {},
   "outputs": [],
   "source": [
    "class Iris:\n",
    "    def __init__(self, sepal_length, sepal_width,\n",
    "                 petal_length, petal_width, species):\n",
    "\n",
    "        self.sepal_length = sepal_length\n",
    "        self.sepal_width = sepal_width\n",
    "        self.petal_length = petal_length\n",
    "        self.petal_width = petal_width\n",
    "        self.species = species\n",
    "\n",
    "\n",
    "DATA = [\n",
    "    Iris(5.1, 3.5, 1.4, 0.2, 'setosa'),\n",
    "    Iris(5.8, 2.7, 5.1, 1.9, 'virginica'),\n",
    "    Iris(5.1, 3.5, 1.4, 0.2, 'setosa'),\n",
    "    Iris(5.7, 2.8, 4.1, 1.3, 'versicolor'),\n",
    "    Iris(6.3, 2.9, 5.6, 1.8, 'virginica'),\n",
    "    Iris(6.4, 3.2, 4.5, 1.5, 'versicolor'),\n",
    "]"
   ]
  },
  {
   "cell_type": "markdown",
   "metadata": {},
   "source": [
    "## Serialization CSV Relations\n",
    "\n",
    "1. Użyj danych z sekcji \"Input\" (patrz poniżej)\n",
    "1. Za pomocą ``csv.DictWriter()`` zapisz kontakty z książki adresowej w pliku\n",
    "1. Jak zapisać w CSV dane relacyjne (kontakt ma wiele adresów)?\n",
    "1. Odtwórz strukturę obiektów na podstawie danych odczytanych z pliku\n",
    "1. Wymagania niefunkcjonalne:\n",
    "\n",
    "    * Wszystkie pola muszą być otoczone znakiem cudzysłowu ``\"``\n",
    "    * Użyj ``;`` do oddzielenia kolumn\n",
    "    * Użyj kodowania ``utf-8``\n",
    "    * Użyj zakończenia linii Unix ``\\n``"
   ]
  },
  {
   "cell_type": "code",
   "execution_count": 2,
   "metadata": {},
   "outputs": [],
   "source": [
    "class Contact:\n",
    "    def __init__(self, firstname, lastname, addresses=()):\n",
    "        self.firstname = firstname\n",
    "        self.lastname = lastname\n",
    "        self.addresses = addresses\n",
    "\n",
    "\n",
    "class Address:\n",
    "    def __init__(self, location, city):\n",
    "        self.location = location\n",
    "        self.city = city\n",
    "\n",
    "\n",
    "DATA = [\n",
    "    Contact(firstname='Jan', lastname='Twardowski', addresses=(\n",
    "        Address(location='Johnson Space Center', city='Houston, TX'),\n",
    "        Address(location='Kennedy Space Center', city='Merritt Island, FL'),\n",
    "        Address(location='Jet Propulsion Laboratory', city='Pasadena, CA'),\n",
    "    )),\n",
    "    Contact(firstname='Mark', lastname='Watney'),\n",
    "    Contact(firstname='Melissa', lastname='Lewis', addresses=()),\n",
    "]"
   ]
  },
  {
   "cell_type": "markdown",
   "metadata": {},
   "source": [
    "<img src=\"img/csv-relations-dump-dbdump.png\" width=\"800\">\n",
    "<img src=\"img/csv-relations-dump-ffill1.png\" width=\"800\">\n",
    "<img src=\"img/csv-relations-dump-ffill2.png\" width=\"800\">\n",
    "<img src=\"img/csv-relations-dump-uniqid.png\" width=\"800\">\n",
    "<img src=\"img/csv-relations-dump-colattr.png\" width=\"800\">\n",
    "<img src=\"img/csv-relations-dump-colobj.png\" width=\"800\">\n",
    "<img src=\"img/csv-relations-dump-colcls.png\" width=\"800\">\n",
    "<img src=\"img/csv-relations-dump-hybrid.png\" width=\"800\">"
   ]
  },
  {
   "cell_type": "code",
   "execution_count": null,
   "metadata": {},
   "outputs": [],
   "source": []
  }
 ],
 "metadata": {
  "kernelspec": {
   "display_name": "Python 3",
   "language": "python",
   "name": "python3"
  },
  "language_info": {
   "codemirror_mode": {
    "name": "ipython",
    "version": 3
   },
   "file_extension": ".py",
   "mimetype": "text/x-python",
   "name": "python",
   "nbconvert_exporter": "python",
   "pygments_lexer": "ipython3",
   "version": "3.8.5"
  }
 },
 "nbformat": 4,
 "nbformat_minor": 4
}
