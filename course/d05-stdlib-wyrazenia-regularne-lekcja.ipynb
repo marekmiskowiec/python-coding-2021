{
 "cells": [
  {
   "cell_type": "markdown",
   "metadata": {},
   "source": [
    "## Python - biblioteka standardowa - wyrażenia regularne - lekcja"
   ]
  },
  {
   "cell_type": "code",
   "execution_count": 22,
   "metadata": {},
   "outputs": [],
   "source": [
    "import re\n",
    "from doctest import testmod"
   ]
  },
  {
   "cell_type": "markdown",
   "metadata": {},
   "source": [
    "## Składnia\n",
    "\n",
    "* Identyfikatory\n",
    "* Modyfikatory\n",
    "* Greedy\n",
    "* Flagi\n",
    "* Grupy\n",
    "* https://python.astrotech.io/stdlib/regular-expressions/syntax.html"
   ]
  },
  {
   "cell_type": "markdown",
   "metadata": {},
   "source": [
    "* `\\d` - dowolna cyfra\n",
    "* `\\D` - downy znak, poza cyfrą\n",
    "* `\\w` - dowlona litera (utf-8)\n",
    "* `\\W` - downly znak poza literą\n",
    "* `\\s` - dowlny biały znak (nowa linia, spacja, tabulacja)\n",
    "* `\\S` - dowolny znak, poza białym (nowa linia, spacja, tabulacja)\n",
    "* `\\n` - nowa linia\n",
    "* `\\t` - tabulacja\n",
    "* `\\f` - form feed\n",
    "* `\\b` - spacje okalające słowo\n",
    "\n",
    "* `[]` - zasięg, np. `[a-z]`, `[A-Z]`, `[0-9]`, `[a-zA-Z0-9]`\n",
    "* `()` - grupy, np. `(?P<imie>\\w+)`\n",
    "* `{}` - ilości\n",
    "\n",
    "* `^` - początek linii lub ciągu znaków\n",
    "* `$` - koniec linii lub ciągu znaków\n",
    "* `.` - dowolny znak (poza końcem linii)\n",
    "* `|` - alternatywa (or)\n",
    "\n",
    "* `?` - dowolny znak 0 lub 1 raz\n",
    "* `+` - minimum 1, do nieskończoności\n",
    "* `*` - minimum 0, do nieskończoności\n",
    "* `{n}` - musi być dokładnie `n` krotnie\n",
    "* `{n,}` - musi być minimum `n` krotnie\n",
    "* `{,n}` - musi być maksimum `n` krotnie\n",
    "* `{n,m}` - musi być minimum `n` krotnie, maksimum `m` krotnie"
   ]
  },
  {
   "cell_type": "code",
   "execution_count": null,
   "metadata": {},
   "outputs": [],
   "source": [
    "r'(\\d|\\w)'"
   ]
  },
  {
   "cell_type": "markdown",
   "metadata": {},
   "source": [
    "## Match\n",
    "\n",
    "* sprawdzania czy ciąg znaków pasuje dokładnie do wyrażenia regularnego"
   ]
  },
  {
   "cell_type": "code",
   "execution_count": 30,
   "metadata": {},
   "outputs": [
    {
     "data": {
      "text/plain": [
       "TestResults(failed=0, attempted=7)"
      ]
     },
     "execution_count": 30,
     "metadata": {},
     "output_type": "execute_result"
    }
   ],
   "source": [
    "PATTERN = r'^[a-zA-Z][a-zA-Z0-9.+-]+@[a-zA-Z0-9.-]{,100}\\.[a-zA-Z]{2,10}$'\n",
    "\n",
    "\n",
    "def is_valid_email(email):\n",
    "    \"\"\"\n",
    "    >>> is_valid_email('jan.tward#owski@polsa.gov.pl')\n",
    "    False\n",
    "    >>> is_valid_email('jan.twardowski@polsa.gov.pl')\n",
    "    True\n",
    "    >>> is_valid_email('jan.twardowski+newsletter@polsa.gov.pl')\n",
    "    True\n",
    "    >>> is_valid_email('jan.twardowski-twardowski@polsa.gov.pl')\n",
    "    True\n",
    "    >>> is_valid_email('jan.twardowski-twardowski@polsa.gov.p')\n",
    "    False\n",
    "    >>> is_valid_email('jan.twardowski-twardowski@polsa24.gov.pl')\n",
    "    True\n",
    "    >>> is_valid_email('jan.twardowski-twardowski@polsa24-gov.pl')\n",
    "    True\n",
    "    \"\"\"\n",
    "    if re.match(PATTERN, email):\n",
    "        return True\n",
    "    else:\n",
    "        return False"
   ]
  },
  {
   "cell_type": "markdown",
   "metadata": {},
   "source": [
    "## Search\n",
    "\n",
    "* poszukiwany ciąg znaków występuje w tekście"
   ]
  },
  {
   "cell_type": "code",
   "execution_count": 34,
   "metadata": {},
   "outputs": [
    {
     "data": {
      "text/plain": [
       "False"
      ]
     },
     "execution_count": 34,
     "metadata": {},
     "output_type": "execute_result"
    }
   ],
   "source": [
    "# PATTERN = r'[A-Z]{2,10}-\\d{1,6}'\n",
    "PATTERN = r'[A-Z]{2,10}-[0-9]{1,6}'\n",
    "\n",
    "def search(text):\n",
    "    if re.search(PATTERN, text):\n",
    "        return True\n",
    "    else:\n",
    "        return False\n",
    "\n",
    "    \n",
    "search('MYPROJ-1337 Fixed inspectdb crash')"
   ]
  },
  {
   "cell_type": "markdown",
   "metadata": {},
   "source": [
    "## Findall i Finditer"
   ]
  },
  {
   "cell_type": "code",
   "execution_count": 38,
   "metadata": {},
   "outputs": [
    {
     "data": {
      "text/plain": [
       "['MYPROJ-1337', 'MYPROJ-31337']"
      ]
     },
     "execution_count": 38,
     "metadata": {},
     "output_type": "execute_result"
    }
   ],
   "source": [
    "DATA = 'MYPROJ-1337 MYPROJ-31337 Fixed inspectdb crash'\n",
    "PATTERN = r'[A-Z]{2,10}-[0-9]{1,6}'\n",
    "\n",
    "re.findall(PATTERN, DATA)"
   ]
  },
  {
   "cell_type": "markdown",
   "metadata": {},
   "source": [
    "## Multiline"
   ]
  },
  {
   "cell_type": "code",
   "execution_count": 44,
   "metadata": {},
   "outputs": [
    {
     "data": {
      "text/plain": [
       "['MYPROJ-1337', 'MYPROJ-997']"
      ]
     },
     "execution_count": 44,
     "metadata": {},
     "output_type": "execute_result"
    }
   ],
   "source": [
    "DATA = \"\"\"\n",
    "MYPROJ-1337 MYPROJ-31337 Fixed inspectdb crash;\n",
    "MYPROJ-997 Remove commented out code\n",
    "\"\"\"\n",
    "\n",
    "PATTERN = r'^[A-Z]{2,10}-[0-9]{1,6}'\n",
    "\n",
    "re.findall(PATTERN, DATA, flags=re.MULTILINE)"
   ]
  },
  {
   "cell_type": "markdown",
   "metadata": {},
   "source": [
    "## Split"
   ]
  },
  {
   "cell_type": "code",
   "execution_count": 48,
   "metadata": {},
   "outputs": [
    {
     "data": {
      "text/plain": [
       "['Baked Beans', 'Spam']"
      ]
     },
     "execution_count": 48,
     "metadata": {},
     "output_type": "execute_result"
    }
   ],
   "source": [
    "DATA = 'Baked Beans And Spam'\n",
    "\n",
    "PATTERN = '\\s[a-z]{3}\\s'\n",
    "\n",
    "re.split(PATTERN, DATA, flags=re.IGNORECASE)"
   ]
  },
  {
   "cell_type": "markdown",
   "metadata": {},
   "source": [
    "## Sub"
   ]
  },
  {
   "cell_type": "code",
   "execution_count": 51,
   "metadata": {},
   "outputs": [
    {
     "data": {
      "text/plain": [
       "'Baked Beans & Spam'"
      ]
     },
     "execution_count": 51,
     "metadata": {},
     "output_type": "execute_result"
    }
   ],
   "source": [
    "DATA = 'Baked Beans And Spam'\n",
    "PATTERN = '\\s[a-z]{3}\\s'\n",
    "\n",
    "re.sub(PATTERN, ' & ', DATA, flags=re.IGNORECASE)"
   ]
  },
  {
   "cell_type": "markdown",
   "metadata": {},
   "source": [
    "## Group"
   ]
  },
  {
   "cell_type": "code",
   "execution_count": 53,
   "metadata": {},
   "outputs": [],
   "source": [
    "DATA = 'Jan Twardowski'\n",
    "PATTERN = r'(?P<firstname>\\w+) (?P<lastname>\\w+)'\n",
    "\n",
    "result = re.search(PATTERN, DATA)"
   ]
  },
  {
   "cell_type": "code",
   "execution_count": 54,
   "metadata": {},
   "outputs": [
    {
     "data": {
      "text/plain": [
       "('Jan', 'Twardowski')"
      ]
     },
     "execution_count": 54,
     "metadata": {},
     "output_type": "execute_result"
    }
   ],
   "source": [
    "result.groups()"
   ]
  },
  {
   "cell_type": "code",
   "execution_count": 55,
   "metadata": {},
   "outputs": [
    {
     "data": {
      "text/plain": [
       "'Jan'"
      ]
     },
     "execution_count": 55,
     "metadata": {},
     "output_type": "execute_result"
    }
   ],
   "source": [
    "result.group(1)"
   ]
  },
  {
   "cell_type": "code",
   "execution_count": 56,
   "metadata": {},
   "outputs": [
    {
     "data": {
      "text/plain": [
       "'Jan'"
      ]
     },
     "execution_count": 56,
     "metadata": {},
     "output_type": "execute_result"
    }
   ],
   "source": [
    "result.group('firstname')"
   ]
  },
  {
   "cell_type": "code",
   "execution_count": 57,
   "metadata": {},
   "outputs": [
    {
     "data": {
      "text/plain": [
       "{'firstname': 'Jan', 'lastname': 'Twardowski'}"
      ]
     },
     "execution_count": 57,
     "metadata": {},
     "output_type": "execute_result"
    }
   ],
   "source": [
    "result.groupdict()"
   ]
  },
  {
   "cell_type": "markdown",
   "metadata": {},
   "source": [
    "## Compile"
   ]
  },
  {
   "cell_type": "code",
   "execution_count": 64,
   "metadata": {
    "scrolled": false
   },
   "outputs": [
    {
     "name": "stdout",
     "output_type": "stream",
     "text": [
      "8.89 µs ± 203 ns per loop (mean ± std. dev. of 10 runs, 100000 loops each)\n"
     ]
    }
   ],
   "source": [
    "%%timeit -r 10 -n 100_000\n",
    "\n",
    "PATTERN = r'^[a-zA-Z][a-zA-Z0-9.+-]+@[a-zA-Z0-9.-]{,100}\\.[a-zA-Z]{2,10}$'\n",
    "\n",
    "DATA = [\n",
    "    'jan.tward#owski@polsa.gov.pl',\n",
    "    'jan.twardowski@polsa.gov.pl',\n",
    "    'jan.twardowski+newsletter@polsa.gov.pl',\n",
    "    'jan.twardowski-twardowski@polsa.gov.pl',\n",
    "    'jan.twardowski-twardowski@polsa.gov.p',\n",
    "    'jan.twardowski-twardowski@polsa24.gov.pl',\n",
    "    'jan.twardowski-twardowski@polsa24-gov.pl',\n",
    "]\n",
    "\n",
    "\n",
    "for email in DATA:\n",
    "    if re.match(PATTERN, email):\n",
    "        pass\n",
    "    else:\n",
    "        pass"
   ]
  },
  {
   "cell_type": "code",
   "execution_count": 65,
   "metadata": {},
   "outputs": [
    {
     "name": "stdout",
     "output_type": "stream",
     "text": [
      "4.56 µs ± 245 ns per loop (mean ± std. dev. of 10 runs, 100000 loops each)\n"
     ]
    }
   ],
   "source": [
    "%%timeit -r 10 -n 100_000\n",
    "\n",
    "PATTERN = r'^[a-zA-Z][a-zA-Z0-9.+-]+@[a-zA-Z0-9.-]{,100}\\.[a-zA-Z]{2,10}$'\n",
    "\n",
    "DATA = [\n",
    "    'jan.tward#owski@polsa.gov.pl',\n",
    "    'jan.twardowski@polsa.gov.pl',\n",
    "    'jan.twardowski+newsletter@polsa.gov.pl',\n",
    "    'jan.twardowski-twardowski@polsa.gov.pl',\n",
    "    'jan.twardowski-twardowski@polsa.gov.p',\n",
    "    'jan.twardowski-twardowski@polsa24.gov.pl',\n",
    "    'jan.twardowski-twardowski@polsa24-gov.pl',\n",
    "]\n",
    "\n",
    "\n",
    "is_valid_email = re.compile(PATTERN)\n",
    "\n",
    "for email in DATA:\n",
    "    if is_valid_email.match(email):\n",
    "        pass\n",
    "    else:\n",
    "        pass"
   ]
  },
  {
   "cell_type": "markdown",
   "metadata": {},
   "source": [
    "## Greedy"
   ]
  },
  {
   "cell_type": "code",
   "execution_count": 75,
   "metadata": {},
   "outputs": [
    {
     "data": {
      "text/plain": [
       "['strong']"
      ]
     },
     "execution_count": 75,
     "metadata": {},
     "output_type": "execute_result"
    }
   ],
   "source": [
    "DATA = '<strong>Hello</strong>'\n",
    "PATTERN = r'<(.*?)>.*</\\1>'\n",
    "\n",
    "\n",
    "re.findall(PATTERN, DATA)"
   ]
  },
  {
   "cell_type": "code",
   "execution_count": null,
   "metadata": {},
   "outputs": [],
   "source": []
  }
 ],
 "metadata": {
  "kernelspec": {
   "display_name": "Python 3",
   "language": "python",
   "name": "python3"
  },
  "language_info": {
   "codemirror_mode": {
    "name": "ipython",
    "version": 3
   },
   "file_extension": ".py",
   "mimetype": "text/x-python",
   "name": "python",
   "nbconvert_exporter": "python",
   "pygments_lexer": "ipython3",
   "version": "3.8.3"
  }
 },
 "nbformat": 4,
 "nbformat_minor": 4
}
