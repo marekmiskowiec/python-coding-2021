{
 "cells": [
  {
   "cell_type": "markdown",
   "metadata": {},
   "source": [
    "# Pandas - series - zadania"
   ]
  },
  {
   "cell_type": "markdown",
   "metadata": {},
   "source": [
    "## Series Arithmetic\n",
    "\n",
    "1. Ustaw random ziarno losowości na zero\n",
    "1. Wygeneruj ``data: np.ndarray`` z 5 losowymi cyframi <0, 9>\n",
    "1. Stwórz ``index: list`` z indeksami jak kolejne listery alfabetu angielskiego\n",
    "1. Stwórz ``s: pd.Series`` z ``data`` oraz ``index``\n",
    "1. Pomnóż ``s`` przez 10\n",
    "1. Pomnóż ``s`` przez oryginalne wartości ``s`` (przed mnożeniem przez 10)"
   ]
  },
  {
   "cell_type": "code",
   "execution_count": null,
   "metadata": {},
   "outputs": [],
   "source": []
  }
 ],
 "metadata": {
  "kernelspec": {
   "display_name": "Python 3",
   "language": "python",
   "name": "python3"
  },
  "language_info": {
   "codemirror_mode": {
    "name": "ipython",
    "version": 3
   },
   "file_extension": ".py",
   "mimetype": "text/x-python",
   "name": "python",
   "nbconvert_exporter": "python",
   "pygments_lexer": "ipython3",
   "version": "3.8.3"
  }
 },
 "nbformat": 4,
 "nbformat_minor": 4
}
