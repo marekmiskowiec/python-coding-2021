{
 "cells": [
  {
   "cell_type": "markdown",
   "metadata": {},
   "source": [
    "# Python: Programowanie obiektowe: Klasy, Instancje i Atrybuty - zadania"
   ]
  },
  {
   "cell_type": "markdown",
   "metadata": {},
   "source": [
    "## OOP Class Iris\n",
    "1. Zdefiniuj klasę ``Iris``\n",
    "1. Stwórz instancję ``setosa`` klasy ``Iris``\n",
    "1. Stwórz instancję ``virginica`` klasy ``Iris``\n",
    "1. Stwórz instancję ``versicolor`` klasy ``Iris``"
   ]
  },
  {
   "cell_type": "code",
   "execution_count": 1,
   "metadata": {},
   "outputs": [],
   "source": [
    "class Iris:\n",
    "    pass\n",
    "\n",
    "setosa = Iris()\n",
    "virginica = Iris()\n",
    "versicolor = Iris()"
   ]
  },
  {
   "cell_type": "markdown",
   "metadata": {},
   "source": [
    "## OOP Class Instance\n",
    "\n",
    "1. Zdefiniuj klasę ``Astronaut``\n",
    "1. Zdefiniuj klasę ``SpaceAgency``\n",
    "1. Stwórz instancję ``twardowski`` klasy ``Astronaut``\n",
    "1. Stwórz instancję ``watney`` klasy ``Astronaut``\n",
    "1. Stwórz instancję ``nasa`` klasy ``SpaceAgency``\n",
    "1. Stwórz instancję ``esa`` klasy ``SpaceAgency``\n",
    "1. Stwórz instancję ``polsa`` klasy ``SpaceAgency``"
   ]
  },
  {
   "cell_type": "code",
   "execution_count": 3,
   "metadata": {},
   "outputs": [],
   "source": [
    "class Astronaut:\n",
    "    pass\n",
    "\n",
    "\n",
    "class SpaceAgency:\n",
    "    pass\n",
    "\n",
    "\n",
    "twardowski = Astronaut()\n",
    "watney = Astronaut()\n",
    "nasa = SpaceAgency()\n",
    "esa = SpaceAgency()\n",
    "polsa = SpaceAgency()"
   ]
  },
  {
   "cell_type": "markdown",
   "metadata": {},
   "source": [
    "## OOP Attribute Model\n",
    "\n",
    "1. Użyj danych z sekcji \"Input\" (patrz poniżej)\n",
    "1. Zamodeluj dane za pomocą klas\n",
    "1. Stwórz instancje dla każdego wpisu\n",
    "1. Jak wiele klas możemy wyróżnić?\n",
    "1. Jak wiele instancji możemy wyróżnić?\n",
    "1. Wypisz wszystkie pola każdej z instancji\n",
    "\n",
    "Input:\n",
    "```\n",
    "Jan Twardowski, Poland, 1961-04-12\n",
    "Mark Watney, USA, 1969-07-21\n",
    "European Space Agency, Europe, 1975-05-30\n",
    "National Aeronautics and Space Administration, USA, 1958-07-29\n",
    "Polish Space Agency, Poland, 2014-09-26\n",
    "```"
   ]
  },
  {
   "cell_type": "code",
   "execution_count": null,
   "metadata": {},
   "outputs": [],
   "source": [
    "class Astronaut:\n",
    "    pass\n",
    "\n",
    "\n",
    "class SpaceAgency:\n",
    "    pass\n",
    "\n",
    "\n",
    "watney = Astronaut()\n",
    "watney.name = 'Mark Watney'\n",
    "watney.lokacja = 'USA'\n",
    "watney.data = '1969-07-21'\n",
    "\n",
    "twardowski = Astronaut()\n",
    "twardowski.name = 'Jan Twardowski'\n",
    "twardowski.lokacja = 'Poland'\n",
    "twardowski.data = '1961-04-12'\n",
    "\n",
    "nasa = SpaceAgency()\n",
    "nasa.name = 'National Aeronautics and Space Administration'\n",
    "nasa.lokacja = 'USA'\n",
    "nasa.data = '1958-07-29'\n",
    "\n",
    "polsa = SpaceAgency()\n",
    "nasa.name = 'Polish Space Agency'\n",
    "nasa.lokacja = 'Poland'\n",
    "nasa.data = '2014-09-26'\n",
    "\n",
    "esa = SpaceAgency()\n",
    "nasa.name = 'European Space Agency'\n",
    "nasa.lokacja = 'Europe'\n",
    "nasa.data = '1975-05-30'"
   ]
  },
  {
   "cell_type": "markdown",
   "metadata": {},
   "source": [
    "## OOP Init Print\n",
    "\n",
    "1. Stwórz jedną klasę ``Temperature``\n",
    "1. Stwórz trzy instancje klasy ``Temperature``\n",
    "1. Wartości mają być podawane przy inicjalizacji\n",
    "1. Przy inicjalizacji instancje wypisują:\n",
    "\n",
    "    * Instancja ``celsius`` wyświetla temperaturę 36.6\n",
    "    * Instancja ``fahrenheit`` wyświetla temperaturę 97.88\n",
    "    * Instancja ``kelvin`` wyświetla temperaturę 309.75\n",
    "\n",
    "1. Nie konwertuj jednostek, tylko wypisz podane liczby\n",
    "1. Nie przechowuj informacji w instancjach (tylko wypisz przy inicjalizacji)\n",
    "1. Nie używaj ``@dataclass``\n",
    "1. Porównaj wyniki z sekcją \"Output\" (patrz poniżej)\n",
    "\n",
    "Output:\n",
    "```\n",
    "36.6\n",
    "97.88\n",
    "309.75\n",
    "```"
   ]
  },
  {
   "cell_type": "code",
   "execution_count": 4,
   "metadata": {},
   "outputs": [
    {
     "name": "stdout",
     "output_type": "stream",
     "text": [
      "36.6\n",
      "97.88\n",
      "309.75\n"
     ]
    }
   ],
   "source": [
    "class Temperature:\n",
    "    def __init__(self, value):\n",
    "        print(value)\n",
    "        \n",
    "        \n",
    "celsius = Temperature(36.6)\n",
    "fahrenheit = Temperature(97.88)\n",
    "kelvin = Temperature(309.75)"
   ]
  },
  {
   "cell_type": "markdown",
   "metadata": {},
   "source": [
    "## OOP Init Model\n",
    "\n",
    "1. Użyj danych z sekcji \"Input\" (patrz poniżej)\n",
    "1. Zamodeluj dane za pomocą klas\n",
    "1. Stwórz instancje dla każdego wpisu\n",
    "1. Wartości mają być podawane przy inicjalizacji\n",
    "1. Twórz instancje pierwszej klasy używając argumentów pozycyjnych\n",
    "1. Twórz instancje drugiej klasy używając argumentów nazwanych\n",
    "1. Za pomocą ``__dict__`` wypisz wszystkie pola każdej z instancji\n",
    "1. Nie używaj ``@dataclass``\n",
    "\n",
    "Input:\n",
    "```\n",
    "Jan Twardowski, Poland, 1961-04-12\n",
    "Mark Watney, USA, 1969-07-21\n",
    "European Space Agency, Europe, 1975-05-30\n",
    "National Aeronautics and Space Administration, USA, 1958-07-29\n",
    "Polish Space Agency, Poland, 2014-09-26\n",
    "```"
   ]
  },
  {
   "cell_type": "code",
   "execution_count": 11,
   "metadata": {},
   "outputs": [
    {
     "data": {
      "text/plain": [
       "{'name': 'European Space Agency', 'lokacja': 'Europe', 'data': '1975-05-30'}"
      ]
     },
     "execution_count": 11,
     "metadata": {},
     "output_type": "execute_result"
    }
   ],
   "source": [
    "class Astronaut:\n",
    "    def __init__(self, name, lokacja, data):\n",
    "        self.name = name\n",
    "        self.lokacja = lokacja\n",
    "        self.data = data\n",
    "\n",
    "\n",
    "class SpaceAgency:\n",
    "    def __init__(self, name, lokacja, data):\n",
    "        self.name = name\n",
    "        self.lokacja = lokacja\n",
    "        self.data = data\n",
    "\n",
    "\n",
    "watney = Astronaut('Mark Watney', 'USA', '1969-07-21')\n",
    "twardowski = Astronaut('Jan Twardowski', 'Poland', '1961-04-12')\n",
    "\n",
    "nasa = SpaceAgency(\n",
    "    name = 'National Aeronautics and Space Administration',\n",
    "    lokacja = 'USA',\n",
    "    data = '1958-07-29')\n",
    "\n",
    "polsa = SpaceAgency(\n",
    "    name = 'Polish Space Agency',\n",
    "    lokacja = 'Poland',\n",
    "    data = '2014-09-26')\n",
    "\n",
    "esa = SpaceAgency(\n",
    "    name = 'European Space Agency',\n",
    "    lokacja = 'Europe',\n",
    "    data = '1975-05-30')\n",
    "\n",
    "\n",
    "watney.__dict__\n",
    "esa.__dict__"
   ]
  },
  {
   "cell_type": "code",
   "execution_count": null,
   "metadata": {},
   "outputs": [],
   "source": []
  }
 ],
 "metadata": {
  "kernelspec": {
   "display_name": "Python 3",
   "language": "python",
   "name": "python3"
  },
  "language_info": {
   "codemirror_mode": {
    "name": "ipython",
    "version": 3
   },
   "file_extension": ".py",
   "mimetype": "text/x-python",
   "name": "python",
   "nbconvert_exporter": "python",
   "pygments_lexer": "ipython3",
   "version": "3.8.3"
  }
 },
 "nbformat": 4,
 "nbformat_minor": 4
}
