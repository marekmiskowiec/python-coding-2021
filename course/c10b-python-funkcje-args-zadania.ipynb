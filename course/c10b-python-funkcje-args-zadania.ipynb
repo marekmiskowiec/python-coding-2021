{
 "cells": [
  {
   "cell_type": "markdown",
   "metadata": {},
   "source": [
    "## Python: Funckcje - zadania"
   ]
  },
  {
   "cell_type": "markdown",
   "metadata": {},
   "source": [
    "## Function Parameters Sequence\n",
    "\n",
    "1. Zdefiniuj funkcję ``add``\n",
    "1. Parametrem do funkcji ma być sekwencja liczb całkowitych\n",
    "1. Wypisz sumę wszystkich wartości sekwencji"
   ]
  },
  {
   "cell_type": "code",
   "execution_count": null,
   "metadata": {},
   "outputs": [],
   "source": []
  },
  {
   "cell_type": "markdown",
   "metadata": {},
   "source": [
    "## Function Parameters Echo\n",
    "\n",
    "1. Zdefiniuj funkcję ``echo`` z dwoma parametrami\n",
    "1. Parametr ``a`` jest wymagany\n",
    "1. Parametr ``b`` jest wymagany\n",
    "1. Wypisz ``a`` i ``b``\n",
    "1. Porównaj wyniki z sekcją \"Output\" (patrz poniżej)\n",
    "\n",
    "Output:\n",
    "```python\n",
    ">>> echo(1, 2)\n",
    "a=1 b=2\n",
    "\n",
    ">>> echo(3, 4)\n",
    "a=3 b=4\n",
    "```"
   ]
  },
  {
   "cell_type": "code",
   "execution_count": null,
   "metadata": {},
   "outputs": [],
   "source": []
  },
  {
   "cell_type": "markdown",
   "metadata": {},
   "source": [
    "## Function Parameters Default\n",
    "\n",
    "1. Zdefiniuj funkcję ``default`` z dwoma parametrami\n",
    "1. Parametr ``a`` jest wymagany\n",
    "1. Parametr ``b`` jest opcjonalny i ma domyślną wartość ``None``\n",
    "1. Jeżeli tylko jeden argument był podany, przyjmij drugi równy pierwszemu\n",
    "1. Wypisz ``a`` i ``b``\n",
    "1. Porównaj wyniki z sekcją \"Output\" (patrz poniżej)\n",
    "\n",
    "Output:\n",
    "```python\n",
    ">>> default(1)\n",
    "a=1 b=1\n",
    "\n",
    ">>> default(2, 3)\n",
    "a=2 b=3\n",
    "```"
   ]
  },
  {
   "cell_type": "code",
   "execution_count": null,
   "metadata": {},
   "outputs": [],
   "source": []
  },
  {
   "cell_type": "markdown",
   "metadata": {},
   "source": [
    "## Function Arguments Sequence\n",
    "\n",
    "1. Zdefiniuj funkcję biorącą sekwencję liczb całkowitych jako argument\n",
    "1. Zsumuj tylko parzyste liczby\n",
    "1. Wypisz zwróconą wartość"
   ]
  },
  {
   "cell_type": "code",
   "execution_count": null,
   "metadata": {},
   "outputs": [],
   "source": []
  },
  {
   "cell_type": "markdown",
   "metadata": {},
   "source": [
    "## Function Arguments Divide\n",
    "\n",
    "1. Zdefiniuj funkcję ``divide``\n",
    "1. Funkcja przyjmuje dwa argumenty\n",
    "1. Funkcja dzieli oba argumenty przez siebie i zwraca wynik dzielenia\n",
    "1. Wywołaj funkcję z ``divide(4, 2)``\n",
    "1. Wywołaj funkcję z ``divide(4, 0)``\n",
    "1. Wypisz zwracane wartości\n",
    "1. Co zrobić w przypadku błędu?\n",
    "\n",
    "Output:\n",
    "```python\n",
    ">>> divide(4, 2)\n",
    "2\n",
    "\n",
    ">>> divide(4, 0)\n",
    "None\n",
    "```"
   ]
  },
  {
   "cell_type": "code",
   "execution_count": null,
   "metadata": {},
   "outputs": [],
   "source": []
  },
  {
   "cell_type": "markdown",
   "metadata": {},
   "source": [
    "## Function Arguments Power\n",
    "\n",
    "1. Zdefiniuj funkcję ``power``\n",
    "1. Funkcja przyjmuje dwa argumenty\n",
    "1. Drugi argument jest opcjonalny\n",
    "1. Funkcja zwraca wynik pierwszego argumentu do potęgi drugiego\n",
    "1. Jeżeli tylko jeden argument był podany, przyjmij drugi równy pierwszemu\n",
    "1. Wypisz zwracane wartości\n",
    "1. Porównaj wyniki z sekcją \"Output\" (patrz poniżej)\n",
    "\n",
    "Output:\n",
    "```python\n",
    ">>> power(4, 3)\n",
    "64\n",
    "\n",
    ">>> power(3)\n",
    "27\n",
    "```"
   ]
  },
  {
   "cell_type": "code",
   "execution_count": null,
   "metadata": {},
   "outputs": [],
   "source": []
  },
  {
   "cell_type": "markdown",
   "metadata": {},
   "source": [
    "## Function Arguments Translate\n",
    "\n",
    "1. Użyj danych z sekcji \"Input\" (patrz poniżej)\n",
    "1. Zdefiniuj funkcję ``translate`` przyjmującą parametr ``text``\n",
    "1. Użyj ``str.join()`` z wyrażeniem generatorowym do iteracji po ``text``\n",
    "1. Jeżeli litera jest w ``PL`` to użyj przekonwertowanej wartości jako litera, w przeciwnym przypadku to weź literę\n",
    "1. Zwróć z funkcji przetłumaczony ``text``\n",
    "1. Uruchom ``translate('zażółć')``\n",
    "1. Uruchom ``translate('gęślą')``\n",
    "1. Uruchom ``translate('jaźń')``\n",
    "1. Porównaj wyniki wartościami oczekiwanymi (test porównania powinien wyjść ``True``)"
   ]
  },
  {
   "cell_type": "code",
   "execution_count": null,
   "metadata": {},
   "outputs": [],
   "source": [
    "PL = {'ą': 'a', 'ć': 'c', 'ę': 'e',\n",
    "      'ł': 'l', 'ń': 'n', 'ó': 'o',\n",
    "      'ś': 's', 'ż': 'z', 'ź': 'z'}"
   ]
  },
  {
   "cell_type": "code",
   "execution_count": null,
   "metadata": {},
   "outputs": [],
   "source": [
    "def translate(text):    \n",
    "    ..."
   ]
  },
  {
   "cell_type": "code",
   "execution_count": null,
   "metadata": {},
   "outputs": [],
   "source": [
    "translate('zażółć') == 'zazolc'"
   ]
  },
  {
   "cell_type": "code",
   "execution_count": null,
   "metadata": {},
   "outputs": [],
   "source": [
    "translate('gęślą') == 'gesla'"
   ]
  },
  {
   "cell_type": "code",
   "execution_count": null,
   "metadata": {},
   "outputs": [],
   "source": [
    "translate('jaźń') == 'jazn'"
   ]
  },
  {
   "cell_type": "markdown",
   "metadata": {},
   "source": [
    "## Function Arguments Clean\n",
    "\n",
    "1. Użyj danych z sekcji \"Input\" (patrz poniżej)\n",
    "1. Napisz jedną funkcję czyszczącą dane ``clean()``\n",
    "1. Funkcja przyjmuje jeden argument typu ``str``\n",
    "1. Funkcja zwraca oczyszczony tekst i powinna działać dla wszystkich przypadków\n",
    "1. Porównaj wyniki wartościami oczekiwanymi (test porównania powinien wyjść ``True``)"
   ]
  },
  {
   "cell_type": "code",
   "execution_count": null,
   "metadata": {},
   "outputs": [],
   "source": [
    "def clean(asd):\n",
    "    ..."
   ]
  },
  {
   "cell_type": "code",
   "execution_count": null,
   "metadata": {},
   "outputs": [],
   "source": [
    "clean('ul.Mieszka II') == 'Mieszka II'"
   ]
  },
  {
   "cell_type": "code",
   "execution_count": null,
   "metadata": {},
   "outputs": [],
   "source": [
    "clean('UL. Zygmunta III WaZY') == 'Zygmunta III Wazy'"
   ]
  },
  {
   "cell_type": "code",
   "execution_count": null,
   "metadata": {},
   "outputs": [],
   "source": [
    "clean('  bolesława chrobrego ') == 'Bolesława Chrobrego'"
   ]
  },
  {
   "cell_type": "code",
   "execution_count": null,
   "metadata": {},
   "outputs": [],
   "source": [
    "clean('ul Jana III SobIESkiego') == 'Jana III Sobieskiego'"
   ]
  },
  {
   "cell_type": "code",
   "execution_count": null,
   "metadata": {},
   "outputs": [],
   "source": [
    "clean('\\tul. Jana trzeciego Sobieskiego') == 'Jana III Sobieskiego'"
   ]
  },
  {
   "cell_type": "code",
   "execution_count": null,
   "metadata": {},
   "outputs": [],
   "source": [
    "clean('ulicaJana III Sobieskiego') == 'Jana III Sobieskiego'"
   ]
  },
  {
   "cell_type": "code",
   "execution_count": null,
   "metadata": {},
   "outputs": [],
   "source": [
    "clean('UL. JA    NA 3 SOBIES  KIEGO') == 'Jana III Sobieskiego'"
   ]
  },
  {
   "cell_type": "code",
   "execution_count": null,
   "metadata": {},
   "outputs": [],
   "source": [
    "clean('ULICA JANA III SOBIESKIEGO  ') == 'Jana III Sobieskiego'"
   ]
  },
  {
   "cell_type": "code",
   "execution_count": null,
   "metadata": {},
   "outputs": [],
   "source": [
    "clean('ULICA. JANA III SOBIeskieGO') == 'Jana III Sobieskiego'"
   ]
  },
  {
   "cell_type": "code",
   "execution_count": null,
   "metadata": {},
   "outputs": [],
   "source": [
    "clean(' Jana 3 Sobieskiego  ') == 'Jana III Sobieskiego'"
   ]
  },
  {
   "cell_type": "code",
   "execution_count": null,
   "metadata": {},
   "outputs": [],
   "source": [
    "clean('Jana III Sobi  eskiego ') == 'Jana III Sobieskiego'"
   ]
  },
  {
   "cell_type": "markdown",
   "metadata": {},
   "source": [
    "## Function Arguments Numbers to Str\n",
    "\n",
    "1. Użyj danych z sekcji \"Input\" (patrz poniżej)\n",
    "1. Dany jest alfabet pilotów dla numerów\n",
    "1. Przekonwertuj ``DATA: Dict[int, str]`` na ``CONVERT: Dict[str, str]`` (klucze jako ``str``)\n",
    "1. Dla danych wejściowych (patrz sekcja input poniżej)\n",
    "1. Zdefiniuj funkcję konwertującą ``int`` lub ``float`` na formę tekstową w mowie pilotów\n",
    "1. Możesz modyfikować ``CONVERT``\n",
    "1. Nie możesz zmieniać ``DATA``\n",
    "1. Porównaj wyniki wartościami oczekiwanymi (test porównania powinien wyjść ``True``)"
   ]
  },
  {
   "cell_type": "code",
   "execution_count": null,
   "metadata": {},
   "outputs": [],
   "source": [
    "DATA = {\n",
    "    0: 'zero',\n",
    "    1: 'one',\n",
    "    2: 'two',\n",
    "    3: 'tree',\n",
    "    4: 'fower',\n",
    "    5: 'fife',\n",
    "    6: 'six',\n",
    "    7: 'seven',\n",
    "    8: 'ait',\n",
    "    9: 'niner',\n",
    "}\n",
    "\n",
    "def pilot_say(number):\n",
    "    ..."
   ]
  },
  {
   "cell_type": "code",
   "execution_count": null,
   "metadata": {},
   "outputs": [],
   "source": [
    "pilot_say(1969) == 'one niner six niner'"
   ]
  },
  {
   "cell_type": "code",
   "execution_count": null,
   "metadata": {},
   "outputs": [],
   "source": [
    "pilot_say(31337) == 'tree one tree tree seven'"
   ]
  },
  {
   "cell_type": "code",
   "execution_count": null,
   "metadata": {},
   "outputs": [],
   "source": [
    "pilot_say(13.37) == 'one tree and tree seven'"
   ]
  },
  {
   "cell_type": "code",
   "execution_count": null,
   "metadata": {},
   "outputs": [],
   "source": [
    "pilot_say(31.337) == 'tree one and tree tree seven'"
   ]
  },
  {
   "cell_type": "code",
   "execution_count": null,
   "metadata": {},
   "outputs": [],
   "source": [
    "pilot_say(-1969) == 'minus one niner six niner'"
   ]
  },
  {
   "cell_type": "code",
   "execution_count": null,
   "metadata": {},
   "outputs": [],
   "source": [
    "pilot_say(-31.337) == 'minus tree one and tree tree seven'"
   ]
  },
  {
   "cell_type": "code",
   "execution_count": null,
   "metadata": {},
   "outputs": [],
   "source": [
    "pilot_say(-49.35) == 'minus fower niner and tree fife'"
   ]
  }
 ],
 "metadata": {
  "kernelspec": {
   "display_name": "Python 3",
   "language": "python",
   "name": "python3"
  },
  "language_info": {
   "codemirror_mode": {
    "name": "ipython",
    "version": 3
   },
   "file_extension": ".py",
   "mimetype": "text/x-python",
   "name": "python",
   "nbconvert_exporter": "python",
   "pygments_lexer": "ipython3",
   "version": "3.8.3"
  }
 },
 "nbformat": 4,
 "nbformat_minor": 4
}
