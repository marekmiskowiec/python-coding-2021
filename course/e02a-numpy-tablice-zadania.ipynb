{
 "cells": [
  {
   "cell_type": "markdown",
   "metadata": {},
   "source": [
    "# NumPy - tablice część 1 - zadania"
   ]
  },
  {
   "cell_type": "markdown",
   "metadata": {},
   "source": [
    "## Numpy Create Arange\n",
    "\n",
    "1. Stwórz ``a: ndarray`` z liczbami parzystymi od 0 do 100 (bez 100)\n",
    "1. Liczby muszą być typu ``float``"
   ]
  },
  {
   "cell_type": "code",
   "execution_count": null,
   "metadata": {},
   "outputs": [],
   "source": []
  },
  {
   "cell_type": "markdown",
   "metadata": {},
   "source": [
    "## Numpy Dtype Astype\n",
    "\n",
    "1. Użyj danych z sekcji \"Input\" (patrz poniżej)\n",
    "1. Dany ``a: ndarray`` (patrz sekcja input)\n",
    "1. Przekonwertuj do typu ``int``\n",
    "1. Rezultat rzutuj na typ ``bool``\n",
    "1. Co się stało w każdym z tych kroków?"
   ]
  },
  {
   "cell_type": "code",
   "execution_count": null,
   "metadata": {},
   "outputs": [],
   "source": [
    "a = np.array([[-1.1, 0.0, 1.1],\n",
    "              [ 2.2, 3.3, 4.4]])"
   ]
  },
  {
   "cell_type": "markdown",
   "metadata": {},
   "source": [
    "## Numpy Attributes\n",
    "\n",
    "1. Użyj danych z sekcji \"Input\" (patrz poniżej)\n",
    "1. Wypisz:\n",
    "\n",
    "    * liczbę wymiarów,\n",
    "    * liczbę elementów,\n",
    "    * typ danych,\n",
    "    * rozmiar elementu,\n",
    "    * kształt,\n",
    "    * przeskoki (strides)."
   ]
  },
  {
   "cell_type": "code",
   "execution_count": null,
   "metadata": {},
   "outputs": [],
   "source": [
    "a = np.array([[-1.1, 0.0, 1.1],\n",
    "              [ 2.2, 3.3, 4.4]])"
   ]
  },
  {
   "cell_type": "markdown",
   "metadata": {},
   "source": [
    "## Numpy Shape\n",
    "\n",
    "1. Użyj danych z sekcji \"Input\" (patrz poniżej)\n",
    "1. Dany ``a: ndarray`` (patrz sekcja input)\n",
    "1. Spłaszcz używając metody ``.ravel()``\n",
    "1. Wypisz ``a``\n",
    "1. Zmień kształt na powrót na 3x3\n",
    "1. Wypisz ``a``"
   ]
  },
  {
   "cell_type": "code",
   "execution_count": null,
   "metadata": {},
   "outputs": [],
   "source": [
    "a = np.array([[1, 2, 3],\n",
    "              [4, 5, 6],\n",
    "              [7, 8, 9]])"
   ]
  }
 ],
 "metadata": {
  "kernelspec": {
   "display_name": "Python 3",
   "language": "python",
   "name": "python3"
  },
  "language_info": {
   "codemirror_mode": {
    "name": "ipython",
    "version": 3
   },
   "file_extension": ".py",
   "mimetype": "text/x-python",
   "name": "python",
   "nbconvert_exporter": "python",
   "pygments_lexer": "ipython3",
   "version": "3.8.3"
  }
 },
 "nbformat": 4,
 "nbformat_minor": 4
}
