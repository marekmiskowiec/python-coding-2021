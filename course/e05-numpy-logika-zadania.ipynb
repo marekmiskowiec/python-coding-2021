{
 "cells": [
  {
   "cell_type": "markdown",
   "metadata": {},
   "source": [
    "# NumPy - Logika - zadania"
   ]
  },
  {
   "cell_type": "code",
   "execution_count": 1,
   "metadata": {},
   "outputs": [],
   "source": [
    "import numpy as np"
   ]
  },
  {
   "cell_type": "markdown",
   "metadata": {},
   "source": [
    "## Numpy Logic\n",
    "\n",
    "1. Ustaw ziarno losowości na zero\n",
    "1. Wygeneruj ``a: ndarray`` z 9 losowymi liczbami całkowitymi od 0 do 100 (rozłącznie)\n",
    "1. Sprawdź parzyste elementy, które są mniejsze od 50\n",
    "1. Sprawdź czy wszystkie liczby spełniają ten warunek\n",
    "1. Sprawdź czy jakakolwiek liczba spełnia ten warunek"
   ]
  },
  {
   "cell_type": "code",
   "execution_count": null,
   "metadata": {},
   "outputs": [],
   "source": []
  },
  {
   "cell_type": "markdown",
   "metadata": {},
   "source": [
    "## Numpy Isin\n",
    "\n",
    "1. Ustaw ziarno losowości na zero\n",
    "1. Wygeneruj ``a: ndarray`` z 50 losowymi liczbami całkowitymi od 0 do 100 (rozłącznie)\n",
    "1. Wygeneruj ``b: ndarray`` z kolejnymi potęgami liczby 2, wykładnik od 0 do 6 (włącznie)\n",
    "1. Sprawdź, które elementy z ``a`` są obecne w ``b``"
   ]
  },
  {
   "cell_type": "code",
   "execution_count": null,
   "metadata": {},
   "outputs": [],
   "source": []
  }
 ],
 "metadata": {
  "kernelspec": {
   "display_name": "Python 3",
   "language": "python",
   "name": "python3"
  },
  "language_info": {
   "codemirror_mode": {
    "name": "ipython",
    "version": 3
   },
   "file_extension": ".py",
   "mimetype": "text/x-python",
   "name": "python",
   "nbconvert_exporter": "python",
   "pygments_lexer": "ipython3",
   "version": "3.8.3"
  }
 },
 "nbformat": 4,
 "nbformat_minor": 4
}
