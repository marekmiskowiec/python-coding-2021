{
 "cells": [
  {
   "cell_type": "markdown",
   "metadata": {},
   "source": [
    "# Python Biblioteka Standardowa - daty i czas - zadania"
   ]
  },
  {
   "cell_type": "markdown",
   "metadata": {},
   "source": [
    "## Datetime Create Custom\n",
    "\n",
    "1. Stwórz obiekt ``date`` z datą Twojego urodzenia\n",
    "1. Stwórz obiekt ``time`` z czasem Twojego urodzenia\n",
    "1. Stwórz obiekt ``datetime`` z datą i czasem Twojego urodzenia"
   ]
  },
  {
   "cell_type": "code",
   "execution_count": null,
   "metadata": {},
   "outputs": [],
   "source": []
  },
  {
   "cell_type": "markdown",
   "metadata": {},
   "source": [
    "## Datetime Create Current\n",
    "\n",
    "1. Stwórz obiekt ``date`` z obecną datą\n",
    "1. Stwórz obiekt ``datetime`` z obecną datą i czasem\n",
    "1. Stwórz obiekt ``time`` z obecnym czasem\n",
    "1. Data i czas ma być pobierana z systemu, nie zapisana w kodzie"
   ]
  },
  {
   "cell_type": "code",
   "execution_count": null,
   "metadata": {},
   "outputs": [],
   "source": []
  },
  {
   "cell_type": "markdown",
   "metadata": {},
   "source": [
    "## Datetime Parse ISO\n",
    "\n",
    "1. Użyj danych z sekcji \"Input\" (patrz poniżej)\n",
    "1. Dana jest data w formacie ISO\n",
    "1. Przedstaw datę jako obiekt ``datetime``"
   ]
  },
  {
   "cell_type": "code",
   "execution_count": null,
   "metadata": {},
   "outputs": [],
   "source": [
    "DATA = '1969-07-21T02:56:15.123Z'"
   ]
  },
  {
   "cell_type": "markdown",
   "metadata": {},
   "source": [
    "## Datetime Parse Local\n",
    "\n",
    "1. Użyj danych z sekcji \"Input\" (patrz poniżej)\n",
    "1. Podaną datę przekonwertuj do obiektu ``datetime``\n",
    "1. Używając parametrów formatujących wyświetl datę i czas w formacie ISO\n",
    "1. Porównaj wyniki z sekcją \"Output\" (patrz poniżej)\n",
    "\n",
    "Output:\n",
    "```python\n",
    "data: datetime\n",
    "# datetime.datetime(1961, 4, 12, 6, 7)\n",
    "```\n",
    "\n",
    "Hint:\n",
    "* Dodaj ``local time`` do ciągu formatowania"
   ]
  },
  {
   "cell_type": "code",
   "execution_count": null,
   "metadata": {},
   "outputs": [],
   "source": [
    "DATA = 'April 12, 1961 6:07 local time'"
   ]
  },
  {
   "cell_type": "markdown",
   "metadata": {},
   "source": [
    "## Datetime Parse US\n",
    "\n",
    "1. Użyj danych z sekcji \"Input\" (patrz poniżej)\n",
    "1. Używając podaną poniżej datę i czas (skopiuj z cudzysłowami)\n",
    "1. Parsując stwórz obiekt ``datetime``\n",
    "1. Używając parametrów formatowania wyświetl datę w formacie amerykańskim krótkim\n",
    "1. Upewnij się, że godzina jest bez wiodącego zera\n",
    "1. Porównaj wyniki z sekcją \"Output\" (patrz poniżej)\n",
    "\n",
    "Output:\n",
    "```python\n",
    "data: datetime\n",
    "# datetime.datetime(1969, 7, 21, 2, 56)\n",
    "\n",
    "print(result)\n",
    "# 7/21/69 2:56 AM\n",
    "```\n",
    "\n",
    "Hint:\n",
    "* Dodaj znak ``\"`` do ciągu formatowania w ``.strptime()``\n",
    "* Użyj ``%-I`` lub ``%_I`` na \\*nix (macOS, BSD, Linux) do usunięcia wiodącego zera\n",
    "* Użyj ``%#I`` na Windows do usunięcia wiodącego zera"
   ]
  },
  {
   "cell_type": "code",
   "execution_count": null,
   "metadata": {},
   "outputs": [],
   "source": [
    "DATA = '\"July 21st, 1969 2:56:15 AM UTC\"'"
   ]
  },
  {
   "cell_type": "markdown",
   "metadata": {},
   "source": [
    "## Datetime Parse Logs\n",
    "\n",
    "1. Użyj danych z sekcji \"Input\" (patrz poniżej)\n",
    "1. Zapisz dane wejściowe do pliku ``apollo11-timeline.log``\n",
    "1. Wyciągnij obiekt ``datetime``, poziom logowania oraz wiadomość z każdej linii\n",
    "1. Zbierz dane do ``result: List[dict]``\n",
    "1. Wyświetl ``result``\n",
    "1. Porównaj wyniki z sekcją \"Output\" (patrz poniżej)\n",
    "\n",
    "Źródło:\n",
    "* Apollo 11 timeline https://history.nasa.gov/SP-4029/Apollo_11i_Timeline.htm\n",
    "\n",
    "Output:\n",
    "```python\n",
    "result: List[dict] = [\n",
    "\n",
    "     {'date': datetime.datetime(1969, 7, 14, 21, 0),\n",
    "      'level': 'INFO',\n",
    "      'message': 'Terminal countdown started'},\n",
    "\n",
    "     {'date': datetime.datetime(1969, 7, 16, 13, 31, 53),\n",
    "      'level': 'WARNING',\n",
    "      'message': 'S-IC engine ignition (#5)'},\n",
    "\n",
    "     {'date': datetime.datetime(1969, 7, 16, 13, 33, 23),\n",
    "      'level': 'DEBUG',\n",
    "      'message': 'Maximum dynamic pressure (735.17 lb/ft^2)'},\n",
    "\n",
    "...]\n",
    "```"
   ]
  },
  {
   "cell_type": "code",
   "execution_count": null,
   "metadata": {},
   "outputs": [],
   "source": [
    "DATA = \"\"\"\n",
    "    1969-07-14, 21:00:00, INFO, Terminal countdown started\n",
    "    1969-07-16, 13:31:53, WARNING, S-IC engine ignition (#5)\n",
    "    1969-07-16, 13:33:23, DEBUG, Maximum dynamic pressure (735.17 lb/ft^2)\n",
    "    1969-07-16, 13:34:44, WARNING, S-II ignition\n",
    "    1969-07-16, 13:35:17, DEBUG, Launch escape tower jettisoned\n",
    "    1969-07-16, 13:39:40, DEBUG, S-II center engine cutoff\n",
    "    1969-07-16, 16:22:13, INFO, Translunar injection\n",
    "    1969-07-16, 16:56:03, INFO, CSM docked with LM/S-IVB\n",
    "    1969-07-16, 17:21:50, INFO, Lunar orbit insertion ignition\n",
    "    1969-07-16, 21:43:36, INFO, Lunar orbit circularization ignition\n",
    "    1969-07-20, 17:44:00, INFO, CSM/LM undocked\n",
    "    1969-07-20, 20:05:05, WARNING, LM powered descent engine ignition\n",
    "    1969-07-20, 20:10:22, ERROR, LM 1202 alarm\n",
    "    1969-07-20, 20:14:18, ERROR, LM 1201 alarm\n",
    "    1969-07-20, 20:17:39, WARNING, LM lunar landing\n",
    "    1969-07-21, 02:39:33, DEBUG, EVA started (hatch open)\n",
    "    1969-07-21, 02:56:15, WARNING, 1st step taken lunar surface (CDR)\n",
    "    1969-07-21, 02:56:15, WARNING, That's one small step for [a] man... one giant leap for mankind\n",
    "    1969-07-21, 03:05:58, DEBUG, Contingency sample collection started (CDR)\n",
    "    1969-07-21, 03:15:16, INFO, LMP on lunar surface\n",
    "    1969-07-21, 05:11:13, DEBUG, EVA ended (hatch closed)\n",
    "    1969-07-21, 17:54:00, WARNING, LM lunar liftoff ignition (LM APS)\n",
    "    1969-07-21, 21:35:00, INFO, CSM/LM docked\n",
    "    1969-07-22, 04:55:42, WARNING, Transearth injection ignition (SPS)\n",
    "    1969-07-24, 16:21:12, INFO, CM/SM separation\n",
    "    1969-07-24, 16:35:05, WARNING, Entry\n",
    "    1969-07-24, 16:50:35, WARNING, Splashdown (went to apex-down)\n",
    "    1969-07-24, 17:29, INFO, Crew egress\n",
    "\"\"\""
   ]
  },
  {
   "cell_type": "markdown",
   "metadata": {},
   "source": [
    "## Datetime Timedelta Period\n",
    "\n",
    "1. Użyj danych z sekcji \"Input\" (patrz poniżej)\n",
    "1. Podany jest czas, który upłynął między startem Gagarina a pierwszym krokiem Armstronga na Księżycu\n",
    "1. Uwzględnij założenie:\n",
    "\n",
    "    * rok = 365.2425 dni\n",
    "    * miesiąc = 30.436875 dni\n",
    "\n",
    "1. Od obecnej chwili odejmij ten czas\n",
    "1. Wyświetl wyliczoną datę\n",
    "1. Ile miałeś wtedy lat?\n",
    "\n",
    "Input:\n",
    "* 8 years\n",
    "* 3 months\n",
    "* 8 days\n",
    "* 20 hours\n",
    "* 49 minutes\n",
    "* 15 seconds"
   ]
  },
  {
   "cell_type": "code",
   "execution_count": null,
   "metadata": {},
   "outputs": [],
   "source": []
  },
  {
   "cell_type": "markdown",
   "metadata": {},
   "source": [
    "## Datetime Timestamp Limits\n",
    "\n",
    "1. Użyj danych z sekcji \"Input\" (patrz poniżej)\n",
    "1. Przekonwertuj podane daty do obiektów ``datetime``\n",
    "1. Wypisz timestamp każdej daty\n",
    "1. Co to za daty?"
   ]
  },
  {
   "cell_type": "code",
   "execution_count": null,
   "metadata": {},
   "outputs": [],
   "source": [
    "a = '1902-12-13 20:45:53 UTC'\n",
    "b = '1970-01-01 00:00:00 UTC'\n",
    "c = '2038-01-19 03:14:07 UTC'"
   ]
  },
  {
   "cell_type": "markdown",
   "metadata": {},
   "source": [
    "## Datetime Timezone Convert\n",
    "\n",
    "1. Użyj danych z sekcji \"Input\" (patrz poniżej)\n",
    "1. Przekonwertuj podaną datę do obiektu ``datetime``\n",
    "1. Wyświetl datę jaka była w:\n",
    "\n",
    "    * London, Wielka Brytania\n",
    "    * Moscow, Rosja\n",
    "    * Warsaw, Polska\n",
    "    * Tokyo, Japan\n",
    "    * Sydney, Australia\n",
    "    * Auckland, Nowa Zelandia\n",
    "\n",
    "1. Dla chętnych:\n",
    "    \n",
    "    * Kosmodrom Bajkonur, Kazachstan\n",
    "    * Cape Canaveral, FL, USA\n",
    "    * Houston, TX, USA\n",
    "    * New York, USA\n",
    "    * South Pole\n",
    "    * North Pole"
   ]
  },
  {
   "cell_type": "code",
   "execution_count": null,
   "metadata": {},
   "outputs": [],
   "source": [
    "DATA = '1969-07-21 02:56:15 UTC'"
   ]
  }
 ],
 "metadata": {
  "kernelspec": {
   "display_name": "Python 3",
   "language": "python",
   "name": "python3"
  },
  "language_info": {
   "codemirror_mode": {
    "name": "ipython",
    "version": 3
   },
   "file_extension": ".py",
   "mimetype": "text/x-python",
   "name": "python",
   "nbconvert_exporter": "python",
   "pygments_lexer": "ipython3",
   "version": "3.8.3"
  }
 },
 "nbformat": 4,
 "nbformat_minor": 4
}
