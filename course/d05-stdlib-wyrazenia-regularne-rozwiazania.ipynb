{
 "cells": [
  {
   "cell_type": "markdown",
   "metadata": {},
   "source": [
    "## Python - biblioteka standardowa - wyrażenia regularne - zadania"
   ]
  },
  {
   "cell_type": "code",
   "execution_count": 10,
   "metadata": {},
   "outputs": [],
   "source": [
    "import re\n",
    "from doctest import testmod"
   ]
  },
  {
   "cell_type": "markdown",
   "metadata": {},
   "source": [
    "## Regexp Match Phones\n",
    "\n",
    "\n",
    "1. Użyj danych z sekcji \"Input\" (patrz poniżej)\n",
    "1. Użyj wyrażeń regularnych do walidacji numeru telefonu\n",
    "1. Sprawdź wszystkie podane numery (patrz sekcja input)\n",
    "1. Poprawne formaty numeru:\n",
    "\n",
    "    * Wersja łatwa: ``+## ### ### ###``\n",
    "    * Wersja trudniejsza: ``+## ### ### ###`` lub ``+## ## ### ####``\n",
    "\n",
    "1. Porównaj wyniki z sekcją \"Output\" (patrz poniżej)"
   ]
  },
  {
   "cell_type": "code",
   "execution_count": 17,
   "metadata": {},
   "outputs": [
    {
     "data": {
      "text/plain": [
       "TestResults(failed=0, attempted=13)"
      ]
     },
     "execution_count": 17,
     "metadata": {},
     "output_type": "execute_result"
    }
   ],
   "source": [
    "cell = r'^\\+\\d{2} \\d{3} \\d{3} \\d{3}$'\n",
    "work = r'^\\+\\d{2} \\d{2} \\d{3} \\d{4}$'\n",
    "PATTERN = f'^({cell})|({work})$'\n",
    "\n",
    "\n",
    "def is_valid_phone(number):\n",
    "    \"\"\"\n",
    "    >>> is_valid_phone('+48 (12) 355 5678')\n",
    "    False\n",
    "    >>> is_valid_phone('+48 123 555 678')\n",
    "    True\n",
    "    >>> is_valid_phone('123 555 678')\n",
    "    False\n",
    "    >>> is_valid_phone('+48 12 355 5678')\n",
    "    True\n",
    "    >>> is_valid_phone('+48 123-555-678')\n",
    "    False\n",
    "    >>> is_valid_phone('+48 123 555 6789')\n",
    "    False\n",
    "    >>> is_valid_phone('+1 (123) 555-6789')\n",
    "    False\n",
    "    >>> is_valid_phone('+1 (123).555.6789')\n",
    "    False\n",
    "    >>> is_valid_phone('+1 800-python')\n",
    "    False\n",
    "    >>> is_valid_phone('+48123555678')\n",
    "    False\n",
    "    >>> is_valid_phone('+48 123 555 678 wew. 1')\n",
    "    False\n",
    "    >>> is_valid_phone('+48 123555678,1')\n",
    "    False\n",
    "    >>> is_valid_phone('+48 123555678,1,2,3')\n",
    "    False\n",
    "    \"\"\"\n",
    "    if re.match(PATTERN, number):\n",
    "        return True\n",
    "    else:\n",
    "        return False\n",
    "\n",
    "    \n",
    "testmod()"
   ]
  },
  {
   "cell_type": "markdown",
   "metadata": {},
   "source": [
    "## Regexp Search Astronauts\n",
    "\n",
    "1. Użyj danych z sekcji \"Input\" (patrz poniżej)\n",
    "1. Użyj ``re.search()`` do sprawdzenia czy imiona i nazwiska Astronautów występują w tekście\n",
    "1. Astronauci do znalezienia:\n",
    "\n",
    "    * Neil Armstrong\n",
    "    * Buzz Aldrin\n",
    "    * Michael Collins\n",
    "    * Jan Twardowski\n",
    "    * Mark Watney"
   ]
  },
  {
   "cell_type": "code",
   "execution_count": 19,
   "metadata": {},
   "outputs": [],
   "source": [
    "DATA = \"\"\"Apollo 11 was the spaceflight that first landed humans on the Moon.\n",
    "Commander Neil Armstrong and lunar module pilot Buzz Aldrin formed the American\n",
    "crew that landed the Apollo Lunar Module Eagle on July 20, 1969, at 20:17 UTC.\n",
    "Armstrong became the first person to step onto the lunar surface six hours and\n",
    "39 minutes later on July 21 at 02:56 UTC; Aldrin joined him 19 minutes later.\n",
    "They spent about two and a quarter hours together outside the spacecraft,\n",
    "and they collected 47.5 pounds (21.5 kg) of lunar material to bring back to Earth.\n",
    "Command module pilot Michael Collins flew the command module Columbia alone\n",
    "in lunar orbit while they were on the Moon's surface. Armstrong and Aldrin spent\n",
    "21 hours, 36 minutes on the lunar surface at a site they named Tranquility Base\n",
    "before lifting off to rejoin Columbia in lunar orbit.\"\"\"\n",
    "\n",
    "def find(name):\n",
    "    if re.search(name, DATA):\n",
    "        return True\n",
    "    else:\n",
    "        return False"
   ]
  },
  {
   "cell_type": "code",
   "execution_count": 20,
   "metadata": {
    "scrolled": true
   },
   "outputs": [
    {
     "data": {
      "text/plain": [
       "True"
      ]
     },
     "execution_count": 20,
     "metadata": {},
     "output_type": "execute_result"
    }
   ],
   "source": [
    "find('Neil Armstrong')"
   ]
  },
  {
   "cell_type": "code",
   "execution_count": 21,
   "metadata": {},
   "outputs": [
    {
     "data": {
      "text/plain": [
       "True"
      ]
     },
     "execution_count": 21,
     "metadata": {},
     "output_type": "execute_result"
    }
   ],
   "source": [
    "find('Buzz Aldrin')"
   ]
  },
  {
   "cell_type": "code",
   "execution_count": 22,
   "metadata": {},
   "outputs": [
    {
     "data": {
      "text/plain": [
       "True"
      ]
     },
     "execution_count": 22,
     "metadata": {},
     "output_type": "execute_result"
    }
   ],
   "source": [
    "find('Michael Collins')"
   ]
  },
  {
   "cell_type": "code",
   "execution_count": 23,
   "metadata": {},
   "outputs": [
    {
     "data": {
      "text/plain": [
       "False"
      ]
     },
     "execution_count": 23,
     "metadata": {},
     "output_type": "execute_result"
    }
   ],
   "source": [
    "find('Jan Twardowski')"
   ]
  },
  {
   "cell_type": "code",
   "execution_count": 24,
   "metadata": {},
   "outputs": [
    {
     "data": {
      "text/plain": [
       "False"
      ]
     },
     "execution_count": 24,
     "metadata": {},
     "output_type": "execute_result"
    }
   ],
   "source": [
    "find('Mark Watney')"
   ]
  },
  {
   "cell_type": "markdown",
   "metadata": {},
   "source": [
    "## Regexp Search Moon Speech\n",
    "\n",
    "1. Użyj danych z sekcji \"Input\" (patrz poniżej)\n",
    "1. Zapisz jako ``moon_speech.html``\n",
    "1. Za pomocą ``re.search()`` podziel tekst na paragrafy\n",
    "1. Wyświetl paragraf zaczynający się od słów \"We choose to go to the moon\""
   ]
  },
  {
   "cell_type": "code",
   "execution_count": 31,
   "metadata": {},
   "outputs": [],
   "source": [
    "DATA = \"\"\"<html><body> <bgsound src=\"jfktalk.wav\" loop=\"2\"><p></p><center><h3>John F. Kennedy Moon Speech - Rice Stadium</h3><img src=\"jfkrice.jpg\"><h3>September 12, 1962</h3></center><p></p><hr><p></p><center>Movie clips of JFK speaking at Rice University: <a href=\"JFKatRice.mov\">(.mov)</a> or <a href=\"jfkrice.avi\">(.avi)</a> (833K)</center><p><a href=\"jfkru56k.asf\">See and hear</a> the entire speech for 56K modem download [8.7 megabytes in a .asf movie format which requires Windows Media Player 7 (speech lasts about 33 minutes)].<br><a href=\"jfkru100.asf\">See and hear</a> the entire speech for higher speed access [25.3 megabytes in .asf movie format which requires Windows Media Player 7].<br><a href=\"jfkslide.asf\">See and hear</a> a five minute audio version of the speech with accompanying slides and music. This is a most inspirational presentation of, perhaps, the most famous space speech ever given. The file is a streaming video Windows Media Player 7 format. [11 megabytes in .asf movie format which requires Windows Media Player 7]. <br><a href=\"jfk_rice_speech.mpg\">See and hear</a> the 17 minute 48 second speech in the .mpg format. This is a very large file of 189 megabytes and only suggested for those with DSL, ASDL, or cable modem access as the download time on a 28.8K or 56K modem would be many hours duration.</p><p></p><hr><p></p><center><h4>TEXT OF PRESIDENT JOHN KENNEDY'S RICE STADIUM MOON SPEECH</h4></center><p>President Pitzer, Mr. Vice President, Governor, CongressmanThomas, Senator Wiley, and Congressman Miller, Mr. Webb, Mr.Bell, scientists, distinguished guests, and ladies and gentlemen:</p><p>We choose to go to the moon. We choose to go to the moon in this decade and do the other things, not because they are easy, but because they are hard, because that goal will serve to organize and measure the best of our energies and skills,because that challenge is one that we are willing to accept, one we are unwilling to postpone, and one which we intend to win,and the others, too.</p><p>It is for these reasons that I regard the decision last year to shift our efforts in space from low to high gear as among the most important decisions that will be made during my incumbency in the office of the Presidency.</p><p>In the last 24 hours we have seen facilities now being created for the greatest and most complex exploration in man's history.We have felt the ground shake and the air shattered by the testing of a Saturn C-1 booster rocket, many times as powerful as the Atlas which launched John Glenn, generating power equivalent to 10,000 automobiles with their accelerators on the floor.We have seen the site where the F-1 rocket engines, each one as powerful as all eight engines of the Saturn combined, will be clustered together to make the advanced Saturn missile, assembled in a new building to be built at Cape Canaveral as tall as a48 story structure, as wide as a city block, and as long as two lengths of this field.</p><p></p><hr><p></p><center><a href=\"movies.html\">Return to Space Movies Cinema</a></center></body></html>\"\"\""
   ]
  },
  {
   "cell_type": "code",
   "execution_count": 32,
   "metadata": {},
   "outputs": [],
   "source": [
    "with open(r'moon_speech.html', mode='w') as file:\n",
    "    file.write(DATA)"
   ]
  },
  {
   "cell_type": "code",
   "execution_count": 33,
   "metadata": {},
   "outputs": [],
   "source": [
    "with open(r'moon_speech.html') as file:\n",
    "    content = file.read()"
   ]
  },
  {
   "cell_type": "code",
   "execution_count": 34,
   "metadata": {},
   "outputs": [
    {
     "data": {
      "text/plain": [
       "'<html><body> <bgsound src=\"jfktalk.wav\" loop=\"2\"><p></p><center><h3>John F. Kennedy Moon Speech - Rice Stadium</h3><img src=\"jfkrice.jpg\"><h3>September 12, 1962</h3></center><p></p><hr><p></p><center>Movie clips of JFK speaking at Rice University: <a href=\"JFKatRice.mov\">(.mov)</a> or <a href=\"jfkrice.avi\">(.avi)</a> (833K)</center><p><a href=\"jfkru56k.asf\">See and hear</a> the entire speech for 56K modem download [8.7 megabytes in a .asf movie format which requires Windows Media Player 7 (speech lasts about 33 minutes)].<br><a href=\"jfkru100.asf\">See and hear</a> the entire speech for higher speed access [25.3 megabytes in .asf movie format which requires Windows Media Player 7].<br><a href=\"jfkslide.asf\">See and hear</a> a five minute audio version of the speech with accompanying slides and music. This is a most inspirational presentation of, perhaps, the most famous space speech ever given. The file is a streaming video Windows Media Player 7 format. [11 megabytes in .asf movie format which requires Windows Media Player 7]. <br><a href=\"jfk_rice_speech.mpg\">See and hear</a> the 17 minute 48 second speech in the .mpg format. This is a very large file of 189 megabytes and only suggested for those with DSL, ASDL, or cable modem access as the download time on a 28.8K or 56K modem would be many hours duration.</p><p></p><hr><p></p><center><h4>TEXT OF PRESIDENT JOHN KENNEDY\\'S RICE STADIUM MOON SPEECH</h4></center><p>President Pitzer, Mr. Vice President, Governor, CongressmanThomas, Senator Wiley, and Congressman Miller, Mr. Webb, Mr.Bell, scientists, distinguished guests, and ladies and gentlemen:</p><p>We choose to go to the moon. We choose to go to the moon in this decade and do the other things, not because they are easy, but because they are hard, because that goal will serve to organize and measure the best of our energies and skills,because that challenge is one that we are willing to accept, one we are unwilling to postpone, and one which we intend to win,and the others, too.</p><p>It is for these reasons that I regard the decision last year to shift our efforts in space from low to high gear as among the most important decisions that will be made during my incumbency in the office of the Presidency.</p><p>In the last 24 hours we have seen facilities now being created for the greatest and most complex exploration in man\\'s history.We have felt the ground shake and the air shattered by the testing of a Saturn C-1 booster rocket, many times as powerful as the Atlas which launched John Glenn, generating power equivalent to 10,000 automobiles with their accelerators on the floor.We have seen the site where the F-1 rocket engines, each one as powerful as all eight engines of the Saturn combined, will be clustered together to make the advanced Saturn missile, assembled in a new building to be built at Cape Canaveral as tall as a48 story structure, as wide as a city block, and as long as two lengths of this field.</p><p></p><hr><p></p><center><a href=\"movies.html\">Return to Space Movies Cinema</a></center></body></html>'"
      ]
     },
     "execution_count": 34,
     "metadata": {},
     "output_type": "execute_result"
    }
   ],
   "source": [
    "content"
   ]
  },
  {
   "cell_type": "code",
   "execution_count": 49,
   "metadata": {},
   "outputs": [
    {
     "data": {
      "text/plain": [
       "'We choose to go to the moon. We choose to go to the moon in this decade and do the other things, not because they are easy, but because they are hard, because that goal will serve to organize and measure the best of our energies and skills,because that challenge is one that we are willing to accept, one we are unwilling to postpone, and one which we intend to win,and the others, too.'"
      ]
     },
     "execution_count": 49,
     "metadata": {},
     "output_type": "execute_result"
    }
   ],
   "source": [
    "result = re.search(r'<p>(We choose to go to the moon.*?)</p>', content)\n",
    "result.group(1)"
   ]
  },
  {
   "cell_type": "markdown",
   "metadata": {},
   "source": [
    "## Regexp Search Time\n",
    "\n",
    "1. Użyj danych z sekcji \"Input\" (patrz poniżej)\n",
    "1. Użyj wyrażeń regularnych do sprawdzenia czy tekst zawiera godzinę w UTC (format: ``%H:%M UTC``)\n",
    "1. Użyj uproszczonego sprawdzania: ``##:## UTC``, gdzie ``#`` to dowolna cyfra\n",
    "1. Print found time"
   ]
  },
  {
   "cell_type": "code",
   "execution_count": 54,
   "metadata": {},
   "outputs": [
    {
     "data": {
      "text/plain": [
       "['20:17 UTC', '02:56 UTC']"
      ]
     },
     "execution_count": 54,
     "metadata": {},
     "output_type": "execute_result"
    }
   ],
   "source": [
    "DATA = \"\"\"Apollo 11 was the spaceflight that first landed humans on the Moon.\n",
    "Commander Neil Armstrong and lunar module pilot Buzz Aldrin formed the American\n",
    "crew that landed the Apollo Lunar Module Eagle on July 20, 1969, at 20:17 UTC.\n",
    "Armstrong became the first person to step onto the lunar surface six hours and\n",
    "39 minutes later on July 21 at 02:56 UTC; Aldrin joined him 19 minutes later.\n",
    "They spent about two and a quarter hours together outside the spacecraft,\n",
    "and they collected 47.5 pounds (21.5 kg) of lunar material to bring back to Earth.\n",
    "Command module pilot Michael Collins flew the command module Columbia alone\n",
    "in lunar orbit while they were on the Moon's surface. Armstrong and Aldrin spent\n",
    "21 hours, 36 minutes on the lunar surface at a site they named Tranquility Base\n",
    "before lifting off to rejoin Columbia in lunar orbit.\"\"\"\n",
    "\n",
    "pattern = r'\\d\\d:\\d\\d UTC'\n",
    "\n",
    "re.findall(pattern, DATA)"
   ]
  },
  {
   "cell_type": "markdown",
   "metadata": {},
   "source": [
    "## Regexp Search Datetime\n",
    "\n",
    "1. Użyj danych z sekcji \"Input\" (patrz poniżej)\n",
    "1. Użyj wyrażeń regularnych do sprawdzenia czy tekst zawiera godzinę w UTC (format: ``%H:%M UTC``)\n",
    "1. Zwróć uwagę, że to lekko zmodyfikowany tekst niż poprzednio\n",
    "1. Sprawdź czy tekst zawiera godzinę w UTC (format: ``%H:%M UTC``)\n",
    "1. Znalezisko musi być poprawnym czasem\n",
    "1. Wyświetl znaleziony czas\n",
    "\n",
    "Źródło:\n",
    "* (zmodyfikowany) Pierwszy paragraf z Apollo 11 na Wikipedia"
   ]
  },
  {
   "cell_type": "code",
   "execution_count": 69,
   "metadata": {},
   "outputs": [
    {
     "data": {
      "text/plain": [
       "\"Apollo 11 was the spaceflight that first landed humans on the Moon. Commander Neil Armstrong and lunar module pilot Buzz Aldrin formed the American crew that landed the Apollo Lunar Module Eagle on July 20, 1969, at 20:67 UTC. Armstrong became the first person to step onto the lunar surface six hours and 39 minutes later on July 21 at 02:56 UTC; Aldrin joined him 19 minutes later. They spent about two and a quarter hours together outside the spacecraft, and they collected 47.5 pounds (21.5 kg) of lunar material to bring back to Earth. Command module pilot Michael Collins flew the command module Columbia alone in lunar orbit while they were on the Moon's surface. Armstrong and Aldrin spent 21 hours, 36 minutes on the lunar surface at a site they named Tranquility Base before lifting off to rejoin Columbia in lunar orbit.\""
      ]
     },
     "execution_count": 69,
     "metadata": {},
     "output_type": "execute_result"
    }
   ],
   "source": [
    "DATA = \"\"\"Apollo 11 was the spaceflight that first landed humans on the Moon. Commander Neil Armstrong and lunar module pilot Buzz Aldrin formed the American crew that landed the Apollo Lunar Module Eagle on July 20, 1969, at 20:67 UTC. Armstrong became the first person to step onto the lunar surface six hours and 39 minutes later on July 21 at 02:56 UTC; Aldrin joined him 19 minutes later. They spent about two and a quarter hours together outside the spacecraft, and they collected 47.5 pounds (21.5 kg) of lunar material to bring back to Earth. Command module pilot Michael Collins flew the command module Columbia alone in lunar orbit while they were on the Moon's surface. Armstrong and Aldrin spent 21 hours, 36 minutes on the lunar surface at a site they named Tranquility Base before lifting off to rejoin Columbia in lunar orbit.\"\"\"\n",
    "DATA"
   ]
  },
  {
   "cell_type": "code",
   "execution_count": 57,
   "metadata": {},
   "outputs": [
    {
     "data": {
      "text/plain": [
       "['02:56 UTC']"
      ]
     },
     "execution_count": 57,
     "metadata": {},
     "output_type": "execute_result"
    }
   ],
   "source": [
    "pattern = r'[012][0-9]:[0-5][0-9] UTC'\n",
    "\n",
    "re.findall(pattern, DATA)"
   ]
  },
  {
   "cell_type": "code",
   "execution_count": 99,
   "metadata": {},
   "outputs": [
    {
     "name": "stdout",
     "output_type": "stream",
     "text": [
      "02:56 UTC\n"
     ]
    }
   ],
   "source": [
    "h1 = r'(0[0-9])'\n",
    "h2 = r'(1[0-9])'\n",
    "h3 = r'(2[0-3])'\n",
    "\n",
    "hour = f'({h1}|{h2}|{h3})'\n",
    "\n",
    "miute = r'[0-5][0-9]'\n",
    "tz = r'UTC'\n",
    "pattern = f'({hour}:{miute} {tz})'\n",
    "\n",
    "print(re.search(pattern, DATA).group())"
   ]
  },
  {
   "cell_type": "markdown",
   "metadata": {},
   "source": [
    "## Regexp Find Dates\n",
    "\n",
    "1. Użyj danych z sekcji \"Input\" (patrz poniżej)\n",
    "1. Używając wyrażeń regularnych wyszukaj dat w formacie US (przykład: \"April 12, 1961\")\n",
    "1. Wyświetl wszystkie daty\n",
    "1. Porównaj wyniki z sekcją \"Output\" (patrz poniżej)\n",
    "\n",
    "Output:\n",
    "```python\n",
    "result: List[str]\n",
    "# ['October 4, 1957',\n",
    "#  'April 12, 1961',\n",
    "#  'May 5, 1961',\n",
    "#  'May 25, 1961',\n",
    "#  'September 12, 1962',\n",
    "#  'September 12, 1962']\n",
    "```"
   ]
  },
  {
   "cell_type": "code",
   "execution_count": 102,
   "metadata": {},
   "outputs": [
    {
     "data": {
      "text/plain": [
       "['October 4, 1957',\n",
       " 'April 12, 1961',\n",
       " 'May 5, 1961',\n",
       " 'May 25, 1961',\n",
       " 'September 12, 1962',\n",
       " 'September 12, 1962']"
      ]
     },
     "execution_count": 102,
     "metadata": {},
     "output_type": "execute_result"
    }
   ],
   "source": [
    "DATA = \"\"\"\n",
    "In the late 1950s and early 1960s, the United States was engaged in the Cold War, a geopolitical rivalry with the Soviet Union.[14] On October 4, 1957, the Soviet Union launched Sputnik 1, the first artificial satellite. This surprise success fired fears and imaginations around the world. It demonstrated that the Soviet Union had the capability to deliver nuclear weapons over intercontinental distances, and challenged American claims of military, economic and technological superiority.[15] This precipitated the Sputnik crisis, and triggered the Space Race.[16] President Dwight D. Eisenhower responded to the Sputnik challenge by creating the National Aeronautics and Space Administration (NASA), and initiating Project Mercury,[17] which aimed to launch a man into Earth orbit.[18] But on April 12, 1961, Soviet cosmonaut Yuri Gagarin became the first person in space, and the first to orbit the Earth.[19] Nearly a month later, on May 5, 1961, Alan Shepard became the first American in space, completing a 15-minute suborbital journey. After being recovered from the Atlantic Ocean, he received a congratulatory telephone call from Eisenhower's successor, John F. Kennedy.[20]\n",
    "\n",
    "Since the Soviet Union had higher lift capacity launch vehicles, Kennedy chose, from among options presented by NASA, a challenge beyond the capacity of the existing generation of rocketry, so that the US and Soviet Union would be starting from a position of equality. A crewed mission to the Moon would serve this purpose.[21]\n",
    "\n",
    "On May 25, 1961, Kennedy addressed the United States Congress on \"Urgent National Needs\" and declared:\n",
    "\n",
    "I believe that this nation should commit itself to achieving the goal, before this decade [1960s] is out, of landing a man on the Moon and returning him safely to the Earth. No single space project in this period will be more impressive to mankind, or more important for the long-range exploration of space; and none will be so difficult or expensive to accomplish. We propose to accelerate the development of the appropriate lunar space craft. We propose to develop alternate liquid and solid fuel boosters, much larger than any now being developed, until certain which is superior. We propose additional funds for other engine development and for unmanned explorations—explorations which are particularly important for one purpose which this nation will never overlook: the survival of the man who first makes this daring flight. But in a very real sense, it will not be one man going to the Moon—if we make this judgment affirmatively, it will be an entire nation. For all of us must work to put him there. — Kennedy's speech to Congress[22]\n",
    "\n",
    "On September 12, 1962, Kennedy delivered another speech before a crowd of about 40,000 people in the Rice University football stadium in Houston, Texas.[23][24] A widely quoted refrain from the middle portion of the speech reads as follows:\n",
    "\n",
    "Kennedy, in a blue suit and tie, speaks at a wooden podium bearing the seal of the President of the United States. Vice President Lyndon Johnson and other dignitaries stand behind him.\n",
    "President John F. Kennedy speaking at Rice University on September 12, 1962\n",
    "There is no strife, no prejudice, no national conflict in outer space as yet. Its hazards are hostile to us all. Its conquest deserves the best of all mankind, and its opportunity for peaceful cooperation may never come again. But why, some say, the Moon? Why choose this as our goal? And they may well ask, why climb the highest mountain? Why, 35 years ago, fly the Atlantic? Why does Rice play Texas?\n",
    "\n",
    "We choose to go to the Moon! We choose to go to the Moon ... We choose to go to the Moon in this decade and do the other things, not because they are easy, but because they are hard; because that goal will serve to organize and measure the best of our energies and skills, because that challenge is one that we are willing to accept, one we are unwilling to postpone, and one we intend to win, and the others, too.\"\"\"\n",
    "\n",
    "result = re.findall(r'[A-Z][a-z]+ \\d{1,2}, \\d{4}', DATA)\n",
    "result"
   ]
  },
  {
   "cell_type": "code",
   "execution_count": 145,
   "metadata": {},
   "outputs": [
    {
     "data": {
      "text/plain": [
       "TestResults(failed=0, attempted=16)"
      ]
     },
     "execution_count": 145,
     "metadata": {},
     "output_type": "execute_result"
    }
   ],
   "source": [
    "valid_months = ['styczeń', 'luty', 'sierpień', 'listopad']\n",
    "pattern = r'(\\d{1,2} \\w+ \\d{4})'\n",
    "\n",
    "def data(text):\n",
    "    \"\"\"\n",
    "    >>> data('akjldlasjdkas 11 askd 1888 salkd 11 listopad 2020 asdlkasjd lasd')\n",
    "    ['11 listopad 2020']\n",
    "    >>> data('15 sierpień 1980')\n",
    "    ['15 sierpień 1980']\n",
    "    >>> data('5 luty 1999')\n",
    "    ['5 luty 1999']\n",
    "    \"\"\"\n",
    "    return [date\n",
    "            for date in re.findall(pattern, text)\n",
    "            if (monthname := date.split()[1])\n",
    "            and monthname in valid_months]\n",
    "\n",
    "testmod()"
   ]
  },
  {
   "cell_type": "code",
   "execution_count": 136,
   "metadata": {},
   "outputs": [
    {
     "data": {
      "text/plain": [
       "TestResults(failed=0, attempted=16)"
      ]
     },
     "execution_count": 136,
     "metadata": {},
     "output_type": "execute_result"
    }
   ],
   "source": [
    "months = r'(styczeń|luty|marzec|sierpień|listopad|grudzień)'\n",
    "\n",
    "pattern = r'(\\d{1,2} (styczeń|luty|marzec|sierpień|listopad|grudzień) \\d{4})'\n",
    "\n",
    "def data(text):\n",
    "    \"\"\"\n",
    "    >>> data('akjldlasjdkas 11 askd 1888 salkd 11 listopad 2020 asdlkasjd lasd')\n",
    "    '11 listopad 2020'\n",
    "    >>> data('15 sierpień 1980')\n",
    "    '15 sierpień 1980'\n",
    "    >>> data('5 luty 1999')\n",
    "    '5 luty 1999'\n",
    "    \"\"\"\n",
    "    return re.search(pattern, text).group()\n",
    "\n",
    "testmod()"
   ]
  },
  {
   "cell_type": "markdown",
   "metadata": {},
   "source": [
    "## Regexp Split Moon Speech\n",
    "\n",
    "1. Użyj danych z sekcji \"Input\" (patrz poniżej)\n",
    "1. Za pomocą ``re.split()`` podziel tekst na paragrafy\n",
    "1. Wyświetl paragraf zaczynający się od słów \"We choose to go to the moon\""
   ]
  },
  {
   "cell_type": "code",
   "execution_count": 146,
   "metadata": {},
   "outputs": [],
   "source": [
    "DATA = \"\"\"<html><body> <bgsound src=\"jfktalk.wav\" loop=\"2\"><p></p><center><h3>John F. Kennedy Moon Speech - Rice Stadium</h3><img src=\"jfkrice.jpg\"><h3>September 12, 1962</h3></center><p></p><hr><p></p><center>Movie clips of JFK speaking at Rice University: <a href=\"JFKatRice.mov\">(.mov)</a> or <a href=\"jfkrice.avi\">(.avi)</a> (833K)</center><p><a href=\"jfkru56k.asf\">See and hear</a> the entire speech for 56K modem download [8.7 megabytes in a .asf movie format which requires Windows Media Player 7 (speech lasts about 33 minutes)].<br><a href=\"jfkru100.asf\">See and hear</a> the entire speech for higher speed access [25.3 megabytes in .asf movie format which requires Windows Media Player 7].<br><a href=\"jfkslide.asf\">See and hear</a> a five minute audio version of the speech with accompanying slides and music. This is a most inspirational presentation of, perhaps, the most famous space speech ever given. The file is a streaming video Windows Media Player 7 format. [11 megabytes in .asf movie format which requires Windows Media Player 7]. <br><a href=\"jfk_rice_speech.mpg\">See and hear</a> the 17 minute 48 second speech in the .mpg format. This is a very large file of 189 megabytes and only suggested for those with DSL, ASDL, or cable modem access as the download time on a 28.8K or 56K modem would be many hours duration.</p><p></p><hr><p></p><center><h4>TEXT OF PRESIDENT JOHN KENNEDY'S RICE STADIUM MOON SPEECH</h4></center><p>President Pitzer, Mr. Vice President, Governor, CongressmanThomas, Senator Wiley, and Congressman Miller, Mr. Webb, Mr.Bell, scientists, distinguished guests, and ladies and gentlemen:</p><p>We choose to go to the moon. We choose to go to the moon in this decade and do the other things, not because they are easy, but because they are hard, because that goal will serve to organize and measure the best of our energies and skills,because that challenge is one that we are willing to accept, one we are unwilling to postpone, and one which we intend to win,and the others, too.</p><p>It is for these reasons that I regard the decision last year to shift our efforts in space from low to high gear as among the most important decisions that will be made during my incumbency in the office of the Presidency.</p><p>In the last 24 hours we have seen facilities now being created for the greatest and most complex exploration in man's history.We have felt the ground shake and the air shattered by the testing of a Saturn C-1 booster rocket, many times as powerful as the Atlas which launched John Glenn, generating power equivalent to 10,000 automobiles with their accelerators on the floor.We have seen the site where the F-1 rocket engines, each one as powerful as all eight engines of the Saturn combined, will be clustered together to make the advanced Saturn missile, assembled in a new building to be built at Cape Canaveral as tall as a48 story structure, as wide as a city block, and as long as two lengths of this field.</p><p></p><hr><p></p><center><a href=\"movies.html\">Return to Space Movies Cinema</a></center></body></html>\"\"\""
   ]
  },
  {
   "cell_type": "code",
   "execution_count": 150,
   "metadata": {},
   "outputs": [
    {
     "name": "stdout",
     "output_type": "stream",
     "text": [
      "<html><body> <bgsound src=\"jfktalk.wav\" loop=\"2\"><p></p><center><h3>John F. Kennedy Moon Speech - Rice Stadium</h3><img src=\"jfkrice.jpg\"><h3>September 12, 1962</h3></center><p></p><hr><p></p><center>Movie clips of JFK speaking at Rice University: <a href=\"JFKatRice.mov\">(.mov)</a> or <a href=\"jfkrice.avi\">(.avi)</a> (833K)</center><p><a href=\"jfkru56k.asf\">See and hear</a> the entire speech for 56K modem download [8.7 megabytes in a .asf movie format which requires Windows Media Player 7 (speech lasts about 33 minutes)].<br><a href=\"jfkru100.asf\">See and hear</a> the entire speech for higher speed access [25.3 megabytes in .asf movie format which requires Windows Media Player 7].<br><a href=\"jfkslide.asf\">See and hear</a> a five minute audio version of the speech with accompanying slides and music. This is a most inspirational presentation of, perhaps, the most famous space speech ever given. The file is a streaming video Windows Media Player 7 format. [11 megabytes in .asf movie format which requires Windows Media Player 7]. <br><a href=\"jfk_rice_speech.mpg\">See and hear</a> the 17 minute 48 second speech in the .mpg format. This is a very large file of 189 megabytes and only suggested for those with DSL, ASDL, or cable modem access as the download time on a 28.8K or 56K modem would be many hours duration.</p><p></p><hr><p></p><center><h4>TEXT OF PRESIDENT JOHN KENNEDY'S RICE STADIUM MOON SPEECH</h4></center><p>President Pitzer, Mr. Vice President, Governor, CongressmanThomas, Senator Wiley, and Congressman Miller, Mr. Webb, Mr.Bell, scientists, distinguished guests, and ladies and gentlemen:</p>\n",
      ". We choose to go to the moon in this decade and do the other things, not because they are easy, but because they are hard, because that goal will serve to organize and measure the best of our energies and skills,because that challenge is one that we are willing to accept, one we are unwilling to postpone, and one which we intend to win,and the others, too.</p><p>It is for these reasons that I regard the decision last year to shift our efforts in space from low to high gear as among the most important decisions that will be made during my incumbency in the office of the Presidency.</p><p>In the last 24 hours we have seen facilities now being created for the greatest and most complex exploration in man's history.We have felt the ground shake and the air shattered by the testing of a Saturn C-1 booster rocket, many times as powerful as the Atlas which launched John Glenn, generating power equivalent to 10,000 automobiles with their accelerators on the floor.We have seen the site where the F-1 rocket engines, each one as powerful as all eight engines of the Saturn combined, will be clustered together to make the advanced Saturn missile, assembled in a new building to be built at Cape Canaveral as tall as a48 story structure, as wide as a city block, and as long as two lengths of this field.</p><p></p><hr><p></p><center><a href=\"movies.html\">Return to Space Movies Cinema</a></center></body></html>\n"
     ]
    }
   ],
   "source": [
    "for p in re.split(r'<p>', DATA):\n",
    "    if p.startswith('We choose to go to the moon'):\n",
    "        print(p)"
   ]
  },
  {
   "cell_type": "markdown",
   "metadata": {},
   "source": [
    "## Regexp Greedy Moon Speech\n",
    "\n",
    "1. Użyj danych z sekcji \"Input\" (patrz poniżej)\n",
    "1. Za pomocą ``re.findall()`` i non-greedy qualifier podziel tekst na paragrafy\n",
    "1. Wyświetl paragraf zaczynający się od słów \"We choose to go to the moon\""
   ]
  },
  {
   "cell_type": "code",
   "execution_count": 151,
   "metadata": {},
   "outputs": [],
   "source": [
    "DATA = \"\"\"<html><body> <bgsound src=\"jfktalk.wav\" loop=\"2\"><p></p><center><h3>John F. Kennedy Moon Speech - Rice Stadium</h3><img src=\"jfkrice.jpg\"><h3>September 12, 1962</h3></center><p></p><hr><p></p><center>Movie clips of JFK speaking at Rice University: <a href=\"JFKatRice.mov\">(.mov)</a> or <a href=\"jfkrice.avi\">(.avi)</a> (833K)</center><p><a href=\"jfkru56k.asf\">See and hear</a> the entire speech for 56K modem download [8.7 megabytes in a .asf movie format which requires Windows Media Player 7 (speech lasts about 33 minutes)].<br><a href=\"jfkru100.asf\">See and hear</a> the entire speech for higher speed access [25.3 megabytes in .asf movie format which requires Windows Media Player 7].<br><a href=\"jfkslide.asf\">See and hear</a> a five minute audio version of the speech with accompanying slides and music. This is a most inspirational presentation of, perhaps, the most famous space speech ever given. The file is a streaming video Windows Media Player 7 format. [11 megabytes in .asf movie format which requires Windows Media Player 7]. <br><a href=\"jfk_rice_speech.mpg\">See and hear</a> the 17 minute 48 second speech in the .mpg format. This is a very large file of 189 megabytes and only suggested for those with DSL, ASDL, or cable modem access as the download time on a 28.8K or 56K modem would be many hours duration.</p><p></p><hr><p></p><center><h4>TEXT OF PRESIDENT JOHN KENNEDY'S RICE STADIUM MOON SPEECH</h4></center><p>President Pitzer, Mr. Vice President, Governor, CongressmanThomas, Senator Wiley, and Congressman Miller, Mr. Webb, Mr.Bell, scientists, distinguished guests, and ladies and gentlemen:</p><p>We choose to go to the moon. We choose to go to the moon in this decade and do the other things, not because they are easy, but because they are hard, because that goal will serve to organize and measure the best of our energies and skills,because that challenge is one that we are willing to accept, one we are unwilling to postpone, and one which we intend to win,and the others, too.</p><p>It is for these reasons that I regard the decision last year to shift our efforts in space from low to high gear as among the most important decisions that will be made during my incumbency in the office of the Presidency.</p><p>In the last 24 hours we have seen facilities now being created for the greatest and most complex exploration in man's history.We have felt the ground shake and the air shattered by the testing of a Saturn C-1 booster rocket, many times as powerful as the Atlas which launched John Glenn, generating power equivalent to 10,000 automobiles with their accelerators on the floor.We have seen the site where the F-1 rocket engines, each one as powerful as all eight engines of the Saturn combined, will be clustered together to make the advanced Saturn missile, assembled in a new building to be built at Cape Canaveral as tall as a48 story structure, as wide as a city block, and as long as two lengths of this field.</p><p></p><hr><p></p><center><a href=\"movies.html\">Return to Space Movies Cinema</a></center></body></html>\"\"\""
   ]
  },
  {
   "cell_type": "code",
   "execution_count": 161,
   "metadata": {},
   "outputs": [
    {
     "name": "stdout",
     "output_type": "stream",
     "text": [
      "We choose to go to the moon. We choose to go to the moon in this decade and do the other things, not because they are easy, but because they are hard, because that goal will serve to organize and measure the best of our energies and skills,because that challenge is one that we are willing to accept, one we are unwilling to postpone, and one which we intend to win,and the others, too.\n"
     ]
    }
   ],
   "source": [
    "for p in re.findall(r'<p>(.*?)</p>', DATA):\n",
    "    if p.startswith('We choose'):\n",
    "        print(p)"
   ]
  },
  {
   "cell_type": "markdown",
   "metadata": {},
   "source": [
    "## Regexp Standards PESEL\n",
    "\n",
    "1. Przeprowadź eksperyment myślowy (**tylko dyskusja**)\n",
    "1. Jak sprawdzić za pomocą wyrażeń regularnych czy:\n",
    "\n",
    "    * czy pesel jest poprawny?\n",
    "    * jaka jest data urodzenia? (podaj obiekt ``datetime.date``)\n",
    "    * płeć użytkownika który podał PESEL\n",
    "\n",
    "1. Mając PESEL \"69072101234\"\n",
    "\n",
    "    * Jakie wyrażenie może być na pierwszym miejscu w PESEL?\n",
    "    * Jakie wyrażenie może być na drugim miejscu w PESEL?\n",
    "    * Jakie wyrażenie może być na trzecim miejscu w PESEL?\n",
    "    * Jakie wyrażenie może być na czwartym miejscu w PESEL?\n",
    "    * Jakie wyrażenie może być na piątym miejscu w PESEL?\n",
    "    * Jakie wyrażenie może być na szóstym miejscu w PESEL?\n",
    "\n",
    "1. Mając PESEL \"18220801234\"\n",
    "\n",
    "    * Jakie wyrażenie może być na pierwszym miejscu w PESEL?\n",
    "    * Jakie wyrażenie może być na drugim miejscu w PESEL?\n",
    "    * Jakie wyrażenie może być na trzecim miejscu w PESEL?\n",
    "    * Jakie wyrażenie może być na czwartym miejscu w PESEL?\n",
    "    * Jakie wyrażenie może być na piątym miejscu w PESEL?\n",
    "    * Jakie wyrażenie może być na szóstym miejscu w PESEL?\n",
    "\n",
    "1. Sprawdź sumę kontrolną"
   ]
  },
  {
   "cell_type": "code",
   "execution_count": null,
   "metadata": {},
   "outputs": [],
   "source": [
    "\\d\n",
    "\\d\\d[0-3][0-9][0-3][0-9]\\d{5}"
   ]
  }
 ],
 "metadata": {
  "kernelspec": {
   "display_name": "Python 3",
   "language": "python",
   "name": "python3"
  },
  "language_info": {
   "codemirror_mode": {
    "name": "ipython",
    "version": 3
   },
   "file_extension": ".py",
   "mimetype": "text/x-python",
   "name": "python",
   "nbconvert_exporter": "python",
   "pygments_lexer": "ipython3",
   "version": "3.8.5"
  }
 },
 "nbformat": 4,
 "nbformat_minor": 4
}
