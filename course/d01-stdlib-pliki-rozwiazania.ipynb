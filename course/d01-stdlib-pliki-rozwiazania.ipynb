{
 "cells": [
  {
   "cell_type": "markdown",
   "metadata": {},
   "source": [
    "# Python - pliki - zadania"
   ]
  },
  {
   "cell_type": "code",
   "execution_count": 11,
   "metadata": {},
   "outputs": [],
   "source": [
    "from pathlib import Path"
   ]
  },
  {
   "cell_type": "markdown",
   "metadata": {},
   "source": [
    "## File Access Error\n",
    "\n",
    "1. Używając ``input()`` zapytaj użytkownika o ścieżkę do pliku\n",
    "1. Wypisz zawartość pliku\n",
    "1. Obsłuż wyjątek dla nieistniejącego pliku\n",
    "1. Obsłuż wyjątek dla braku wystarczających uprawnień"
   ]
  },
  {
   "cell_type": "code",
   "execution_count": 8,
   "metadata": {},
   "outputs": [
    {
     "name": "stdout",
     "output_type": "stream",
     "text": [
      "Podaj ścieżkę: myfile.txt\n",
      "hello\n",
      "\n"
     ]
    }
   ],
   "source": [
    "path = input('Podaj ścieżkę: ').strip()\n",
    "\n",
    "try:\n",
    "    with open(path) as file:\n",
    "        print(file.read())\n",
    "except FileNotFoundError:\n",
    "    print('Nie znaleziono pliku')\n",
    "except PermissionError:\n",
    "    print('Brak uprawnień do czytania pliku')"
   ]
  },
  {
   "cell_type": "code",
   "execution_count": 3,
   "metadata": {},
   "outputs": [],
   "source": [
    "!echo \"hello\" > myfile.txt"
   ]
  },
  {
   "cell_type": "code",
   "execution_count": 7,
   "metadata": {},
   "outputs": [],
   "source": [
    "!chmod +r myfile.txt"
   ]
  },
  {
   "cell_type": "markdown",
   "metadata": {},
   "source": [
    "## File Path Abspath\n",
    "1. Używając ``input()`` zapytaj użytkownika o ścieżkę do pliku\n",
    "1. Przekonwertuj ścieżkę do bezwzględnej\n",
    "1. Wypisz czy ścieżka istnieje i czy prowadzi do pliku czy katalogu"
   ]
  },
  {
   "cell_type": "code",
   "execution_count": 9,
   "metadata": {},
   "outputs": [
    {
     "name": "stdout",
     "output_type": "stream",
     "text": [
      "Podaj ścieżkę: myfile.txt\n"
     ]
    }
   ],
   "source": [
    "path = input('Podaj ścieżkę: ').strip()"
   ]
  },
  {
   "cell_type": "code",
   "execution_count": 14,
   "metadata": {},
   "outputs": [
    {
     "data": {
      "text/plain": [
       "PosixPath('/Volumes/GoogleDrive/My Drive/e-Learning/Python w analizie numerycznej/Tydzień 4 - Biblioteka standardowa Python/d01-stdlib-pliki/myfile.txt')"
      ]
     },
     "execution_count": 14,
     "metadata": {},
     "output_type": "execute_result"
    }
   ],
   "source": [
    "path = Path(Path.cwd(), path)\n",
    "path"
   ]
  },
  {
   "cell_type": "code",
   "execution_count": 18,
   "metadata": {},
   "outputs": [
    {
     "data": {
      "text/plain": [
       "True"
      ]
     },
     "execution_count": 18,
     "metadata": {},
     "output_type": "execute_result"
    }
   ],
   "source": [
    "path.exists()"
   ]
  },
  {
   "cell_type": "code",
   "execution_count": 16,
   "metadata": {},
   "outputs": [
    {
     "data": {
      "text/plain": [
       "True"
      ]
     },
     "execution_count": 16,
     "metadata": {},
     "output_type": "execute_result"
    }
   ],
   "source": [
    "path.is_file()"
   ]
  },
  {
   "cell_type": "code",
   "execution_count": 17,
   "metadata": {},
   "outputs": [
    {
     "data": {
      "text/plain": [
       "False"
      ]
     },
     "execution_count": 17,
     "metadata": {},
     "output_type": "execute_result"
    }
   ],
   "source": [
    "path.is_dir()"
   ]
  },
  {
   "cell_type": "markdown",
   "metadata": {},
   "source": [
    "## File Write Str\n",
    "\n",
    "1. Użyj danych z sekcji \"Input\" (patrz poniżej)\n",
    "1. Zapisz ``DATA`` do pliku ``FILE``\n",
    "1. Sprawdź w systemie operacyjnym czy dane zapisały się poprawnie\n",
    "1. Porównaj wyniki z sekcją \"Output\" (patrz poniżej)"
   ]
  },
  {
   "cell_type": "code",
   "execution_count": 19,
   "metadata": {},
   "outputs": [],
   "source": [
    "FILE = r'file_write_hello.txt'\n",
    "DATA = 'hello'\n",
    "\n",
    "with open(FILE, mode='wt') as file:\n",
    "    file.write(DATA)"
   ]
  },
  {
   "cell_type": "code",
   "execution_count": 20,
   "metadata": {},
   "outputs": [
    {
     "name": "stdout",
     "output_type": "stream",
     "text": [
      "hello"
     ]
    }
   ],
   "source": [
    "!cat $FILE"
   ]
  },
  {
   "cell_type": "markdown",
   "metadata": {},
   "source": [
    "## File Write Multiline\n",
    "\n",
    "1. Użyj danych z sekcji \"Input\" (patrz poniżej)\n",
    "1. Zapisz ``DATA`` do pliku ``FILE``\n",
    "1. Sprawdź w systemie operacyjnym czy dane zapisały się poprawnie\n",
    "1. Porównaj wyniki z sekcją \"Output\" (patrz poniżej)"
   ]
  },
  {
   "cell_type": "code",
   "execution_count": 21,
   "metadata": {},
   "outputs": [],
   "source": [
    "FILE = r'file_write_multiline.txt'\n",
    "DATA = \"\"\"127.0.0.1       localhostt\n",
    "10.13.37.1      nasa.gov esa.int roscosmos.ru\n",
    "255.255.255.255 broadcasthost\n",
    "::1             localhost\n",
    "\"\"\"\n",
    "\n",
    "with open(FILE, mode='wt') as file:\n",
    "    file.write(DATA)"
   ]
  },
  {
   "cell_type": "code",
   "execution_count": 22,
   "metadata": {},
   "outputs": [
    {
     "name": "stdout",
     "output_type": "stream",
     "text": [
      "127.0.0.1       localhostt\r\n",
      "10.13.37.1      nasa.gov esa.int roscosmos.ru\r\n",
      "255.255.255.255 broadcasthost\r\n",
      "::1             localhost\r\n"
     ]
    }
   ],
   "source": [
    "!cat $FILE"
   ]
  },
  {
   "cell_type": "markdown",
   "metadata": {},
   "source": [
    "## File Write List\n",
    "\n",
    "1. Użyj danych z sekcji \"Input\" (patrz poniżej)\n",
    "1. Zapisz ``DATA`` do pliku ``FILE``\n",
    "1. Sprawdź w systemie operacyjnym czy dane zapisały się poprawnie\n",
    "1. Porównaj wyniki z sekcją \"Output\" (patrz poniżej)"
   ]
  },
  {
   "cell_type": "code",
   "execution_count": 25,
   "metadata": {},
   "outputs": [],
   "source": [
    "FILE = r'file_write_newline.txt'\n",
    "DATA = ['hello', 'world']\n",
    "data = ','.join(DATA)\n",
    "\n",
    "with open(FILE, mode='wt') as file:\n",
    "    file.write(data)"
   ]
  },
  {
   "cell_type": "code",
   "execution_count": 26,
   "metadata": {},
   "outputs": [
    {
     "name": "stdout",
     "output_type": "stream",
     "text": [
      "hello,world"
     ]
    }
   ],
   "source": [
    "!cat $FILE"
   ]
  },
  {
   "cell_type": "markdown",
   "metadata": {},
   "source": [
    "## File Write Non-Str\n",
    "\n",
    "1. Użyj danych z sekcji \"Input\" (patrz poniżej)\n",
    "1. Zapisz ``DATA`` do pliku ``FILE``\n",
    "1. Sprawdź w systemie operacyjnym czy dane zapisały się poprawnie\n",
    "1. Porównaj wyniki z sekcją \"Output\" (patrz poniżej)"
   ]
  },
  {
   "cell_type": "code",
   "execution_count": 27,
   "metadata": {},
   "outputs": [],
   "source": [
    "FILE = r'file_write_nonstr.txt'\n",
    "DATA = (5.1, 3.5, 1.4, 0.2, 'setosa')\n",
    "data = ','.join(str(x) for x in DATA)\n",
    "\n",
    "with open(FILE, mode='wt') as file:\n",
    "    file.write(data)"
   ]
  },
  {
   "cell_type": "code",
   "execution_count": 29,
   "metadata": {},
   "outputs": [
    {
     "name": "stdout",
     "output_type": "stream",
     "text": [
      "5.1,3.5,1.4,0.2,setosa\n"
     ]
    }
   ],
   "source": [
    "with open(FILE) as file:\n",
    "    print(file.read())"
   ]
  },
  {
   "cell_type": "markdown",
   "metadata": {},
   "source": [
    "## File Write Iris\n",
    "\n",
    "1. Użyj danych z sekcji \"Input\" (patrz poniżej)\n",
    "1. Zapisz ``DATA`` do pliku ``FILE``\n",
    "1. Sprawdź w systemie operacyjnym czy dane zapisały się poprawnie\n",
    "1. Porównaj wyniki z sekcją \"Output\" (patrz poniżej)"
   ]
  },
  {
   "cell_type": "code",
   "execution_count": 41,
   "metadata": {},
   "outputs": [
    {
     "name": "stdout",
     "output_type": "stream",
     "text": [
      "5.8,2.7,5.1,1.9,virginica\n",
      "5.1,3.5,1.4,0.2,setosa\n",
      "5.7,2.8,4.1,1.3,versicolor\n"
     ]
    }
   ],
   "source": [
    "FILE = r'file_write_iris.txt'\n",
    "DATA = [\n",
    "    (5.8, 2.7, 5.1, 1.9, 'virginica'),\n",
    "    (5.1, 3.5, 1.4, 0.2, 'setosa'),\n",
    "    (5.7, 2.8, 4.1, 1.3, 'versicolor')]\n",
    "\n",
    "\n",
    "result = '\\n'.join(','.join(data)\n",
    "                   for row in DATA\n",
    "                   if (data := map(str, row)))\n",
    "\n",
    "\n",
    "with open(FILE, mode='wt') as file:\n",
    "    file.write(result)\n",
    "    \n",
    "with open(FILE) as file:\n",
    "    print(file.read())"
   ]
  },
  {
   "cell_type": "markdown",
   "metadata": {},
   "source": [
    "## File Write CSV\n",
    "\n",
    "1. Użyj danych z sekcji \"Input\" (patrz poniżej)\n",
    "1. Odseparuj nagłówek od danych\n",
    "1. Zapisz dane do pliku: ``FILE``\n",
    "1. Pierwsza linia w pliku musi być nagłówkiem (pierwsza linia ``DATA``)\n",
    "1. Dla każdego wiersza przekonwertuj jego wartości do ``str``\n",
    "1. Użyj przecinka (``,``) jako separatora wartości\n",
    "1. Użyj ``\\n`` jako koniec linii w każdym wierszu\n",
    "1. Zapisz do pliku wartości z wiersza\n",
    "\n",
    "Hint:\n",
    "* ``[str(x) for x in ...]``"
   ]
  },
  {
   "cell_type": "code",
   "execution_count": 44,
   "metadata": {},
   "outputs": [
    {
     "name": "stdout",
     "output_type": "stream",
     "text": [
      "Sepal length,Sepal width,Petal length,Petal width,Species\n",
      "5.8,2.7,5.1,1.9,virginica\n",
      "5.1,3.5,1.4,0.2,setosa\n",
      "5.7,2.8,4.1,1.3,versicolor\n",
      "6.3,2.9,5.6,1.8,virginica\n",
      "6.4,3.2,4.5,1.5,versicolor\n",
      "4.7,3.2,1.3,0.2,setosa\n",
      "7.0,3.2,4.7,1.4,versicolor\n",
      "7.6,3.0,6.6,2.1,virginica\n",
      "4.9,3.0,1.4,0.2,setosa\n",
      "4.9,2.5,4.5,1.7,virginica\n",
      "7.1,3.0,5.9,2.1,virginica\n",
      "4.6,3.4,1.4,0.3,setosa\n",
      "5.4,3.9,1.7,0.4,setosa\n",
      "5.7,2.8,4.5,1.3,versicolor\n",
      "5.0,3.6,1.4,0.3,setosa\n",
      "5.5,2.3,4.0,1.3,versicolor\n",
      "6.5,3.0,5.8,2.2,virginica\n",
      "6.5,2.8,4.6,1.5,versicolor\n",
      "6.3,3.3,6.0,2.5,virginica\n",
      "6.9,3.1,4.9,1.5,versicolor\n",
      "4.6,3.1,1.5,0.2,setosa\n"
     ]
    }
   ],
   "source": [
    "FILE = r'file_write_csv.csv'\n",
    "DATA = [\n",
    "    ('Sepal length', 'Sepal width', 'Petal length', 'Petal width', 'Species'),\n",
    "    (5.8, 2.7, 5.1, 1.9, 'virginica'),\n",
    "    (5.1, 3.5, 1.4, 0.2, 'setosa'),\n",
    "    (5.7, 2.8, 4.1, 1.3, 'versicolor'),\n",
    "    (6.3, 2.9, 5.6, 1.8, 'virginica'),\n",
    "    (6.4, 3.2, 4.5, 1.5, 'versicolor'),\n",
    "    (4.7, 3.2, 1.3, 0.2, 'setosa'),\n",
    "    (7.0, 3.2, 4.7, 1.4, 'versicolor'),\n",
    "    (7.6, 3.0, 6.6, 2.1, 'virginica'),\n",
    "    (4.9, 3.0, 1.4, 0.2, 'setosa'),\n",
    "    (4.9, 2.5, 4.5, 1.7, 'virginica'),\n",
    "    (7.1, 3.0, 5.9, 2.1, 'virginica'),\n",
    "    (4.6, 3.4, 1.4, 0.3, 'setosa'),\n",
    "    (5.4, 3.9, 1.7, 0.4, 'setosa'),\n",
    "    (5.7, 2.8, 4.5, 1.3, 'versicolor'),\n",
    "    (5.0, 3.6, 1.4, 0.3, 'setosa'),\n",
    "    (5.5, 2.3, 4.0, 1.3, 'versicolor'),\n",
    "    (6.5, 3.0, 5.8, 2.2, 'virginica'),\n",
    "    (6.5, 2.8, 4.6, 1.5, 'versicolor'),\n",
    "    (6.3, 3.3, 6.0, 2.5, 'virginica'),\n",
    "    (6.9, 3.1, 4.9, 1.5, 'versicolor'),\n",
    "    (4.6, 3.1, 1.5, 0.2, 'setosa'),\n",
    "]\n",
    "\n",
    "result = '\\n'.join(','.join(data)\n",
    "                   for row in DATA\n",
    "                   if (data := map(str, row)))\n",
    "\n",
    "\n",
    "with open(FILE, mode='wt') as file:\n",
    "    file.write(result)\n",
    "    \n",
    "with open(FILE) as file:\n",
    "    print(file.read())"
   ]
  },
  {
   "cell_type": "markdown",
   "metadata": {},
   "source": [
    "## File Read Str\n",
    "\n",
    "1. Użyj danych z sekcji \"Input\" (patrz poniżej)\n",
    "1. Zapisz ``DATA`` do pliku ``FILE``\n",
    "1. Wczytaj ``FILE`` do ``result: str``\n",
    "1. Wypisz ``result``\n",
    "1. Porównaj wyniki z sekcją \"Output\" (patrz poniżej)\n",
    "\n",
    "Output:\n",
    "```python\n",
    "result: str\n",
    "# hello\n",
    "```"
   ]
  },
  {
   "cell_type": "code",
   "execution_count": 46,
   "metadata": {},
   "outputs": [
    {
     "name": "stdout",
     "output_type": "stream",
     "text": [
      "hello\n"
     ]
    }
   ],
   "source": [
    "FILE = r'file_write_hello.txt'\n",
    "DATA = 'hello'\n",
    "\n",
    "with open(FILE, mode='wt') as file:\n",
    "    file.write(DATA)\n",
    "    \n",
    "\n",
    "with open(FILE) as file:\n",
    "    print(file.read())"
   ]
  },
  {
   "cell_type": "markdown",
   "metadata": {},
   "source": [
    "## File Read Multiline\n",
    "\n",
    "1. Użyj danych z sekcji \"Input\" (patrz poniżej)\n",
    "1. Zapisz ``DATA`` do pliku ``FILE``\n",
    "1. Wczytaj ``FILE`` do ``result: List[str]``\n",
    "1. Wypisz ``result``\n",
    "1. Porównaj wyniki z sekcją \"Output\" (patrz poniżej)\n",
    "\n",
    "Output:\n",
    "```python\n",
    "result: List[str]\n",
    "# ['hello', 'world']\n",
    "```"
   ]
  },
  {
   "cell_type": "code",
   "execution_count": 51,
   "metadata": {},
   "outputs": [
    {
     "data": {
      "text/plain": [
       "['hello', 'world']"
      ]
     },
     "execution_count": 51,
     "metadata": {},
     "output_type": "execute_result"
    }
   ],
   "source": [
    "FILE = r'file_write_hello.txt'\n",
    "DATA = 'hello\\nworld\\n'\n",
    "\n",
    "with open(FILE, mode='wt') as file:\n",
    "    file.write(DATA)\n",
    "    \n",
    "\n",
    "with open(FILE) as file:\n",
    "    result = file.read().splitlines()\n",
    "    \n",
    "result"
   ]
  },
  {
   "cell_type": "markdown",
   "metadata": {},
   "source": [
    "## File Read CSV\n",
    "\n",
    "1. Użyj danych z sekcji \"Input\" (patrz poniżej)\n",
    "1. Zapisz ``DATA`` do pliku ``FILE``\n",
    "1. Wczytaj ``FILE``\n",
    "1. Odseparuj nagłówek od danych\n",
    "1. Zapisz nagłówek (pierwsza linia) do ``header``\n",
    "1. Zaczytaj plik i dla każdej linii:\n",
    "\n",
    "    * Usuń białe znaki z początku i końca linii\n",
    "    * Podziel linię po przecinku ``,``\n",
    "    * Przekonwertuj pomiary do ``Tuple[float]``\n",
    "    * Dodaj pomiary do ``features``\n",
    "    * Dodaj gatunek do ``labels``\n",
    "\n",
    "1. Wyświetl ``header``, ``features`` i ``labels``\n",
    "1. Porównaj wyniki z sekcją \"Output\" (patrz poniżej)\n",
    "\n",
    "Output:\n",
    "```python\n",
    "header: List[str]\n",
    "# ['sepal_length', 'sepal_width', 'petal_length', 'petal_width', 'species']\n",
    "\n",
    "features: List[Tuple[float]]\n",
    "# [(5.4, 3.9, 1.3, 0.4), (5.9, 3.0, 5.1, 1.8), (6.0, 3.4, 4.5, 1.6),\n",
    "#  (7.3, 2.9, 6.3, 1.8), (5.6, 2.5, 3.9, 1.1), (5.4, 3.9, 1.3, 0.4),\n",
    "#  (5.5, 2.6, 4.4, 1.2), (5.7, 2.9, 4.2, 1.3), (4.9, 3.1, 1.5, 0.1), ...]\n",
    "\n",
    "labels: List[str]\n",
    "# ['setosa', 'virginica', 'versicolor', 'virginica', 'versicolor',\n",
    "#  'setosa', 'versicolor', 'versicolor', 'setosa', 'virginica',\n",
    "#  'virginica', 'setosa', 'setosa', ...]\n",
    "```\n",
    "\n",
    "Hint:\n",
    "* ``[float(x) for x in X]``"
   ]
  },
  {
   "cell_type": "code",
   "execution_count": 78,
   "metadata": {},
   "outputs": [
    {
     "data": {
      "text/plain": [
       "[(5.4, 3.9, 1.3, 0.4),\n",
       " (5.9, 3.0, 5.1, 1.8),\n",
       " (6.0, 3.4, 4.5, 1.6),\n",
       " (7.3, 2.9, 6.3, 1.8),\n",
       " (5.6, 2.5, 3.9, 1.1),\n",
       " (5.4, 3.9, 1.3, 0.4),\n",
       " (5.5, 2.6, 4.4, 1.2),\n",
       " (5.7, 2.9, 4.2, 1.3),\n",
       " (4.9, 3.1, 1.5, 0.1),\n",
       " (6.7, 2.5, 5.8, 1.8),\n",
       " (6.5, 3.0, 5.2, 2.0),\n",
       " (5.1, 3.3, 1.7, 0.5)]"
      ]
     },
     "execution_count": 78,
     "metadata": {},
     "output_type": "execute_result"
    }
   ],
   "source": [
    "FILE = r'file_read_csv.csv'\n",
    "DATA = \"\"\"sepal_length,sepal_width,petal_length,petal_width,species\n",
    "5.4,3.9,1.3,0.4,setosa\n",
    "5.9,3.0,5.1,1.8,virginica\n",
    "6.0,3.4,4.5,1.6,versicolor\n",
    "7.3,2.9,6.3,1.8,virginica\n",
    "5.6,2.5,3.9,1.1,versicolor\n",
    "5.4,3.9,1.3,0.4,setosa\n",
    "5.5,2.6,4.4,1.2,versicolor\n",
    "5.7,2.9,4.2,1.3,versicolor\n",
    "4.9,3.1,1.5,0.1,setosa\n",
    "6.7,2.5,5.8,1.8,virginica\n",
    "6.5,3.0,5.2,2.0,virginica\n",
    "5.1,3.3,1.7,0.5,setosa\n",
    "\"\"\"\n",
    "\n",
    "header = []\n",
    "features = []\n",
    "labels = []\n",
    "\n",
    "\n",
    "with open(FILE, mode='wt') as file:\n",
    "    file.write(DATA)\n",
    "    \n",
    "\n",
    "with open(FILE) as file:\n",
    "    result = file.read().splitlines()\n",
    "    \n",
    "header, *data = result\n",
    "header = header.split(',')\n",
    "# data = [x.split(',') for x in data]\n",
    "# data\n",
    "\n",
    "\n",
    "for line in data:\n",
    "    *X,y = line.split(',')\n",
    "    X = (float(x) for x in X)\n",
    "    features.append(tuple(X))\n",
    "    labels.append(y)\n",
    "\n",
    "features"
   ]
  },
  {
   "cell_type": "markdown",
   "metadata": {},
   "source": [
    "## File Read Parsing Dict\n",
    "\n",
    "1. Użyj danych z sekcji \"Input\" (patrz poniżej)\n",
    "1. Zapisz ``DATA`` do pliku ``FILE``\n",
    "1. Wczytaj ``FILE`` i dla każdej lini:\n",
    "\n",
    "    * Usuń białe znaki na początku i końcu linii\n",
    "    * Podziel linię po białych znakach\n",
    "    * Odseparuj adres IP i nazwy hostów\n",
    "    * Dodaj adres IP i nazwy hostów do ``result``\n",
    "\n",
    "1. Scal nazwy hostów dla tego samego IP\n",
    "1. Porównaj wyniki z sekcją \"Output\" (patrz poniżej)\n",
    "\n",
    "Output:\n",
    "```python\n",
    "result: dict\n",
    "# {'127.0.0.1': ['localhost'],\n",
    "#  '10.13.37.1': ['nasa.gov', 'esa.int', 'roscosmos.ru'],\n",
    "#  '255.255.255.255': ['broadcasthost'],\n",
    "#  '::1': ['localhost']}\n",
    "```\n",
    "\n",
    "Hint:\n",
    "* ``str.isspace()``\n",
    "* ``str.split()``"
   ]
  },
  {
   "cell_type": "code",
   "execution_count": 85,
   "metadata": {},
   "outputs": [
    {
     "data": {
      "text/plain": [
       "{'127.0.0.1': ['localhost'],\n",
       " '10.13.37.1': ['nasa.gov', 'esa.int', 'roscosmos.ru'],\n",
       " '255.255.255.255': ['broadcasthost'],\n",
       " '::1': ['localhost']}"
      ]
     },
     "execution_count": 85,
     "metadata": {},
     "output_type": "execute_result"
    }
   ],
   "source": [
    "FILE = r'file_read_parsing_dict.txt'\n",
    "DATA = \"\"\"127.0.0.1       localhost\n",
    "10.13.37.1      nasa.gov esa.int roscosmos.ru\n",
    "255.255.255.255 broadcasthost\n",
    "::1             localhost\"\"\"\n",
    "\n",
    "result = {}\n",
    "\n",
    "with open(FILE, mode='wt') as file:\n",
    "    file.write(DATA)\n",
    "    \n",
    "\n",
    "with open(FILE) as file:\n",
    "    for line in file:\n",
    "        ip, *hosts = line.strip().split()\n",
    "        \n",
    "        if ip in result:\n",
    "            result[ip] += hosts\n",
    "        else:\n",
    "            result[ip] = hosts\n",
    "            \n",
    "result"
   ]
  },
  {
   "cell_type": "markdown",
   "metadata": {},
   "source": [
    "## File Read Parsing List of Dicts\n",
    "\n",
    "1. Użyj danych z sekcji \"Input\" (patrz poniżej)\n",
    "1. Używając ``file.write()`` zapisz dane wejściowe z listingu poniżej do pliku ``hosts-advanced.txt``\n",
    "1. Przeczytaj plik i dla każdej lini:\n",
    "\n",
    "    * Pomiń linię jeżeli jest pusta, jest białym znakiem lub zaczyna się od komentarza ``#``\n",
    "    * Usuń białe znaki na początku i końcu linii\n",
    "    * Podziel linię po białych znakach\n",
    "    * Odseparuj adres IP i nazwy hostów\n",
    "    * Wykorzystaj jednolinikowego ``if`` do sprawdzenia czy jest kropka ``.`` w adresie IP\n",
    "    * Jeżeli jest obecna to protokół  jest IPv4, w przeciwnym przypadku IPv6\n",
    "    * Dodaj adres IP i nazwy hostów do ``result``\n",
    "\n",
    "1. Scal nazwy hostów dla tego samego IP\n",
    "1. ``result`` ma być listą dictów (``List[dict]``)\n",
    "1. Porównaj wyniki z sekcją \"Output\" (patrz poniżej)\n",
    "\n",
    "Output:\n",
    "```python\n",
    "result: List[dict]\n",
    "# [{'ip': '127.0.0.1', 'protocol': 'ipv4', 'hostnames': {'localhost', 'astromatt'}},\n",
    "#  {'ip': '10.13.37.1', 'protocol': 'ipv4', 'hostnames': {'nasa.gov', 'esa.int', 'roscosmos.ru'}},\n",
    "#  {'ip': '255.255.255.255', 'protocol': 'ipv4', 'hostnames': {'broadcasthost'}},\n",
    "#  {'ip': '::1', 'protocol': 'ipv6', 'hostnames': {'localhost'}}]\n",
    "```\n",
    "\n",
    "Hints:\n",
    "* ``str.split()``\n",
    "* ``str.isspace()``\n",
    "* ``value = True if ... else False``"
   ]
  },
  {
   "cell_type": "code",
   "execution_count": 96,
   "metadata": {},
   "outputs": [
    {
     "data": {
      "text/plain": [
       "[{'ip': '127.0.0.1', 'hosts': {'astromatt', 'localhost'}, 'protocol': 'ipv4'},\n",
       " {'ip': '10.13.37.1',\n",
       "  'hosts': {'esa.int', 'nasa.gov', 'roscosmos.ru'},\n",
       "  'protocol': 'ipv4'},\n",
       " {'ip': '255.255.255.255', 'hosts': {'broadcasthost'}, 'protocol': 'ipv4'},\n",
       " {'ip': '::1', 'hosts': {'localhost'}, 'protocol': 'ipv6'}]"
      ]
     },
     "execution_count": 96,
     "metadata": {},
     "output_type": "execute_result"
    }
   ],
   "source": [
    "DATA = \"\"\"\n",
    "##\n",
    "# ``/etc/hosts`` structure:\n",
    "#   - IPv4 or IPv6\n",
    "#   - Hostnames\n",
    " ##\n",
    "\n",
    "127.0.0.1       localhost\n",
    "127.0.0.1       astromatt\n",
    "10.13.37.1      nasa.gov esa.int roscosmos.ru\n",
    "255.255.255.255 broadcasthost\n",
    "::1             localhost\n",
    "\"\"\"\n",
    "\n",
    "\n",
    "result = []\n",
    "\n",
    "with open(FILE, mode='wt') as file:\n",
    "    file.write(DATA)\n",
    "    \n",
    "\n",
    "with open(FILE) as file:\n",
    "    for line in file:\n",
    "        line = line.strip()\n",
    "        \n",
    "        if len(line) == 0 or line.startswith('#'):\n",
    "            continue\n",
    "        \n",
    "        ip, *hosts = line.split()\n",
    "        \n",
    "        for record in result:\n",
    "            if record['ip'] == ip:\n",
    "                record['hosts'].update(hosts)\n",
    "                break\n",
    "        else:\n",
    "            result.append({\n",
    "                'ip': ip,\n",
    "                'hosts': set(hosts),\n",
    "                'protocol': 'ipv4' if '.' in ip else 'ipv6'\n",
    "            })\n",
    "            \n",
    "            \n",
    "result"
   ]
  },
  {
   "cell_type": "code",
   "execution_count": null,
   "metadata": {},
   "outputs": [],
   "source": [
    "if ... else\n",
    "try ... else\n",
    "for ... else\n",
    "while ... else"
   ]
  }
 ],
 "metadata": {
  "kernelspec": {
   "display_name": "Python 3",
   "language": "python",
   "name": "python3"
  },
  "language_info": {
   "codemirror_mode": {
    "name": "ipython",
    "version": 3
   },
   "file_extension": ".py",
   "mimetype": "text/x-python",
   "name": "python",
   "nbconvert_exporter": "python",
   "pygments_lexer": "ipython3",
   "version": "3.8.3"
  }
 },
 "nbformat": 4,
 "nbformat_minor": 4
}
