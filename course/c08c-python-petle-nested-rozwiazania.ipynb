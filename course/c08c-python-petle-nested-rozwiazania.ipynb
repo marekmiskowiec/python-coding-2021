{
 "cells": [
  {
   "cell_type": "markdown",
   "metadata": {},
   "source": [
    "# Python: Pętle zagnieżdżone - Zadania"
   ]
  },
  {
   "cell_type": "markdown",
   "metadata": {},
   "source": [
    "## Loop Nested Mean\n",
    "\n",
    "1. Użyj danych z sekcji \"Input\" (patrz poniżej)\n",
    "1. Odseparuj nagłówek od danych\n",
    "1. Wylicz średnią wartość `Sepal length`\n",
    "\n",
    "Output:\n",
    "```python\n",
    "result: float\n",
    "# 5.911111111111111\n",
    "```"
   ]
  },
  {
   "cell_type": "code",
   "execution_count": 1,
   "metadata": {},
   "outputs": [],
   "source": [
    "DATA = [\n",
    "    ('Sepal length', 'Sepal width', 'Petal length', 'Petal width', 'Species'),\n",
    "    (5.8, 2.7, 5.1, 1.9, 'virginica'),\n",
    "    (5.1, 3.5, 1.4, 0.2, 'setosa'),\n",
    "    (5.7, 2.8, 4.1, 1.3, 'versicolor'),\n",
    "    (6.3, 2.9, 5.6, 1.8, 'virginica'),\n",
    "    (6.4, 3.2, 4.5, 1.5, 'versicolor'),\n",
    "    (4.7, 3.2, 1.3, 0.2, 'setosa'),\n",
    "    (7.0, 3.2, 4.7, 1.4, 'versicolor'),\n",
    "    (7.6, 3.0, 6.6, 2.1, 'virginica'),\n",
    "    (4.6, 3.1, 1.5, 0.2, 'setosa'),\n",
    "]"
   ]
  },
  {
   "cell_type": "code",
   "execution_count": 5,
   "metadata": {},
   "outputs": [
    {
     "data": {
      "text/plain": [
       "5.911111111111111"
      ]
     },
     "execution_count": 5,
     "metadata": {},
     "output_type": "execute_result"
    }
   ],
   "source": [
    "header, *data = DATA\n",
    "\n",
    "result = []\n",
    "\n",
    "for sepal_length, *_ in data:\n",
    "    result.append(sepal_length)\n",
    "    \n",
    "result = sum(result) / len(result)\n",
    "result"
   ]
  },
  {
   "cell_type": "markdown",
   "metadata": {},
   "source": [
    "## Loop Nested Unique Keys\n",
    "\n",
    "1. Użyj danych z sekcji \"Input\" (patrz poniżej)\n",
    "1. Zbierz klucze z wszystkich wierszy w jednej sekwencji ``result``\n",
    "1. Posortuj ``result``\n",
    "1. Wypisz unikalne klucze\n",
    "1. Porównaj wyniki z sekcją \"Output\" (patrz poniżej)\n",
    "\n",
    "Output:\n",
    "```python\n",
    "Petal length\n",
    "Petal width\n",
    "Sepal length\n",
    "Sepal width\n",
    "Species\n",
    "```\n",
    "\n",
    "Podpowiedź:\n",
    "* ``row.keys()``"
   ]
  },
  {
   "cell_type": "code",
   "execution_count": 6,
   "metadata": {},
   "outputs": [],
   "source": [
    "DATA = [\n",
    "    {'Sepal length': 5.1, 'Sepal width': 3.5, 'Species': 'setosa'},\n",
    "    {'Petal length': 4.1, 'Petal width': 1.3, 'Species': 'versicolor'},\n",
    "    {'Sepal length': 6.3, 'Petal width': 1.8, 'Species': 'virginica'},\n",
    "    {'Sepal length': 5.0, 'Petal width': 0.2, 'Species': 'setosa'},\n",
    "    {'Sepal width': 2.8, 'Petal length': 4.1, 'Species': 'versicolor'},\n",
    "    {'Sepal width': 2.9, 'Petal width': 1.8, 'Species': 'virginica'},\n",
    "]"
   ]
  },
  {
   "cell_type": "code",
   "execution_count": 12,
   "metadata": {},
   "outputs": [
    {
     "name": "stdout",
     "output_type": "stream",
     "text": [
      "5.68 µs ± 219 ns per loop (mean ± std. dev. of 10 runs, 100000 loops each)\n"
     ]
    }
   ],
   "source": [
    "%%timeit -r 10 -n 100_000\n",
    "\n",
    "result = set()\n",
    "\n",
    "for row in DATA:\n",
    "    result.update(row.keys())\n",
    "    \n",
    "result"
   ]
  },
  {
   "cell_type": "code",
   "execution_count": 13,
   "metadata": {},
   "outputs": [
    {
     "name": "stdout",
     "output_type": "stream",
     "text": [
      "5.76 µs ± 216 ns per loop (mean ± std. dev. of 10 runs, 100000 loops each)\n"
     ]
    }
   ],
   "source": [
    "%%timeit -r 10 -n 100_000\n",
    "\n",
    "result = set()\n",
    "\n",
    "for row in DATA:\n",
    "    for key in row.keys():\n",
    "        result.add(key)\n",
    "    \n",
    "result"
   ]
  },
  {
   "cell_type": "code",
   "execution_count": 14,
   "metadata": {},
   "outputs": [
    {
     "name": "stdout",
     "output_type": "stream",
     "text": [
      "6.05 µs ± 66.6 ns per loop (mean ± std. dev. of 10 runs, 100000 loops each)\n"
     ]
    }
   ],
   "source": [
    "%%timeit -r 10 -n 100_000\n",
    "\n",
    "result = list()\n",
    "\n",
    "\n",
    "for row in DATA:\n",
    "    for key in row.keys():\n",
    "        if key not in result:\n",
    "            result.append(key)\n",
    "            \n",
    "result"
   ]
  },
  {
   "cell_type": "code",
   "execution_count": 15,
   "metadata": {},
   "outputs": [
    {
     "name": "stdout",
     "output_type": "stream",
     "text": [
      "6.74 µs ± 125 ns per loop (mean ± std. dev. of 10 runs, 100000 loops each)\n"
     ]
    }
   ],
   "source": [
    "%%timeit -r 10 -n 100_000\n",
    "\n",
    "result = list()\n",
    "\n",
    "\n",
    "for row in DATA:\n",
    "    for key in row.keys():\n",
    "        result.append(key)\n",
    "            \n",
    "set(result)"
   ]
  },
  {
   "cell_type": "markdown",
   "metadata": {},
   "source": [
    "## Loop Unpacking Endswith\n",
    "\n",
    "1. Użyj danych z sekcji \"Input\" (patrz poniżej)\n",
    "1. Odseparuj nagłówek od danych\n",
    "1. Iterując po danych rozpakuj wiersz do ``*features`` oraz ``label``\n",
    "1. Wypisz nazwy gatunków kończące się na \"ca\" lub \"osa\"\n",
    "\n",
    "Podpowiedź:\n",
    "* ``str.endswith()``\n",
    "* ``set.pop()``\n",
    "* ``isinstance`` or ``type``"
   ]
  },
  {
   "cell_type": "code",
   "execution_count": 17,
   "metadata": {},
   "outputs": [],
   "source": [
    "DATA = [\n",
    "    ('Sepal length', 'Sepal width', 'Petal length', 'Petal width', 'Species'),\n",
    "    (5.8, 2.7, 5.1, 1.9, {'virginica'}),\n",
    "    (5.1, 3.5, 1.4, 0.2, {'setosa'}),\n",
    "    (5.7, 2.8, 4.1, 1.3, {'versicolor'}),\n",
    "    (6.3, 2.9, 5.6, 1.8, {'virginica'}),\n",
    "    (6.4, 3.2, 4.5, 1.5, {'versicolor'}),\n",
    "    (4.7, 3.2, 1.3, 0.2, {'setosa'}),\n",
    "    (7.0, 3.2, 4.7, 1.4, {'versicolor'}),\n",
    "    (7.6, 3.0, 6.6, 2.1, {'virginica'}),\n",
    "    (4.6, 3.1, 1.5, 0.2, {'setosa'}),\n",
    "]"
   ]
  },
  {
   "cell_type": "code",
   "execution_count": 18,
   "metadata": {},
   "outputs": [
    {
     "name": "stdout",
     "output_type": "stream",
     "text": [
      "virginica\n",
      "setosa\n",
      "virginica\n",
      "setosa\n",
      "virginica\n",
      "setosa\n"
     ]
    }
   ],
   "source": [
    "header, *data = DATA\n",
    "\n",
    "for *features, label in data:\n",
    "    gatunek = label.pop()\n",
    "    \n",
    "    if gatunek.endswith(('ca', 'osa')):\n",
    "        print(gatunek)"
   ]
  },
  {
   "cell_type": "markdown",
   "metadata": {},
   "source": [
    "## Loop Dict from Dict to Dict\n",
    "\n",
    "1. Użyj danych z sekcji \"Input\" (patrz poniżej)\n",
    "1. Przekonwertuj do ``result: Dict[str, str]``\n",
    "1. Porównaj wyniki z sekcją \"Output\" (patrz poniżej)\n",
    "\n",
    "Output:\n",
    "```python\n",
    "result: Dict[str, str]\n",
    "# {'Doctorate': '6',\n",
    "#  'Prof-school': '6',\n",
    "#  'Masters': '5',\n",
    "#  'Bachelor': '5',\n",
    "#  'Engineer': '5',\n",
    "#  'HS-grad': '4',\n",
    "#  'Junior High': '3',\n",
    "#  'Primary School': '2',\n",
    "#  'Kindergarten': '1'}\n",
    "```"
   ]
  },
  {
   "cell_type": "code",
   "execution_count": 24,
   "metadata": {},
   "outputs": [],
   "source": [
    "DATA = {\n",
    "    6: ['Doctorate', 'Prof-school'],\n",
    "    5: ['Masters', 'Bachelor', 'Engineer'],\n",
    "    4: ['HS-grad'],\n",
    "    3: ['Junior High'],\n",
    "    2: ['Primary School'],\n",
    "    1: ['Kindergarten'],\n",
    "}"
   ]
  },
  {
   "cell_type": "code",
   "execution_count": 26,
   "metadata": {},
   "outputs": [
    {
     "data": {
      "text/plain": [
       "{'Doctorate': '6',\n",
       " 'Prof-school': '6',\n",
       " 'Masters': '5',\n",
       " 'Bachelor': '5',\n",
       " 'Engineer': '5',\n",
       " 'HS-grad': '4',\n",
       " 'Junior High': '3',\n",
       " 'Primary School': '2',\n",
       " 'Kindergarten': '1'}"
      ]
     },
     "execution_count": 26,
     "metadata": {},
     "output_type": "execute_result"
    }
   ],
   "source": [
    "result = {}\n",
    "\n",
    "for idx, titles in DATA.items():\n",
    "    for title in titles:\n",
    "        result[title] = str(idx)\n",
    "        \n",
    "result"
   ]
  },
  {
   "cell_type": "markdown",
   "metadata": {},
   "source": [
    "## Loop Dict from List to Dict\n",
    "\n",
    "1. Użyj danych z sekcji \"Input\" (patrz poniżej)\n",
    "1. Odseparuj nagłówek od danych\n",
    "1. Wypisz ``List[dict]``:\n",
    "\n",
    "    * klucz: nazwa z nagłówka\n",
    "    * wartość: wyniki pomiarów lub gatunek\n",
    "\n",
    "1. Porównaj wyniki z sekcją \"Output\" (patrz poniżej)\n",
    "\n",
    "Output:\n",
    "```python\n",
    "result: List[dict]\n",
    "# [{'Sepal length': 5.8,\n",
    "#   'Sepal width': 2.7,\n",
    "#   'Petal length': 5.1,\n",
    "#   'Petal width': 1.9,\n",
    "#   'Species': 'virginica'},\n",
    "#  {'Sepal length': 5.1,\n",
    "#   'Sepal width': 3.5,\n",
    "#   'Petal length': 1.4,\n",
    "#   'Petal width': 0.2,\n",
    "#   'Species': 'setosa'},\n",
    "#  ...]\n",
    "```"
   ]
  },
  {
   "cell_type": "code",
   "execution_count": 27,
   "metadata": {},
   "outputs": [],
   "source": [
    "DATA = [\n",
    "    ('Sepal length', 'Sepal width', 'Petal length', 'Petal width', 'Species'),\n",
    "    (5.8, 2.7, 5.1, 1.9, 'virginica'),\n",
    "    (5.1, 3.5, 1.4, 0.2, 'setosa'),\n",
    "    (5.7, 2.8, 4.1, 1.3, 'versicolor'),\n",
    "    (6.3, 2.9, 5.6, 1.8, 'virginica'),\n",
    "    (6.4, 3.2, 4.5, 1.5, 'versicolor'),\n",
    "    (4.7, 3.2, 1.3, 0.2, 'setosa'),\n",
    "    (7.0, 3.2, 4.7, 1.4, 'versicolor'),\n",
    "    (7.6, 3.0, 6.6, 2.1, 'virginica'),\n",
    "    (4.9, 3.0, 1.4, 0.2, 'setosa'),\n",
    "    (4.9, 2.5, 4.5, 1.7, 'virginica'),\n",
    "    (7.1, 3.0, 5.9, 2.1, 'virginica'),\n",
    "    (4.6, 3.4, 1.4, 0.3, 'setosa'),\n",
    "    (5.4, 3.9, 1.7, 0.4, 'setosa'),\n",
    "    (5.7, 2.8, 4.5, 1.3, 'versicolor'),\n",
    "    (5.0, 3.6, 1.4, 0.3, 'setosa'),\n",
    "    (5.5, 2.3, 4.0, 1.3, 'versicolor'),\n",
    "    (6.5, 3.0, 5.8, 2.2, 'virginica'),\n",
    "    (6.5, 2.8, 4.6, 1.5, 'versicolor'),\n",
    "    (6.3, 3.3, 6.0, 2.5, 'virginica'),\n",
    "    (6.9, 3.1, 4.9, 1.5, 'versicolor'),\n",
    "    (4.6, 3.1, 1.5, 0.2, 'setosa'),\n",
    "]"
   ]
  },
  {
   "cell_type": "code",
   "execution_count": 29,
   "metadata": {},
   "outputs": [
    {
     "data": {
      "text/plain": [
       "[{'Sepal length': 5.8,\n",
       "  'Sepal width': 2.7,\n",
       "  'Petal length': 5.1,\n",
       "  'Petal width': 1.9,\n",
       "  'Species': 'virginica'},\n",
       " {'Sepal length': 5.1,\n",
       "  'Sepal width': 3.5,\n",
       "  'Petal length': 1.4,\n",
       "  'Petal width': 0.2,\n",
       "  'Species': 'setosa'},\n",
       " {'Sepal length': 5.7,\n",
       "  'Sepal width': 2.8,\n",
       "  'Petal length': 4.1,\n",
       "  'Petal width': 1.3,\n",
       "  'Species': 'versicolor'},\n",
       " {'Sepal length': 6.3,\n",
       "  'Sepal width': 2.9,\n",
       "  'Petal length': 5.6,\n",
       "  'Petal width': 1.8,\n",
       "  'Species': 'virginica'},\n",
       " {'Sepal length': 6.4,\n",
       "  'Sepal width': 3.2,\n",
       "  'Petal length': 4.5,\n",
       "  'Petal width': 1.5,\n",
       "  'Species': 'versicolor'},\n",
       " {'Sepal length': 4.7,\n",
       "  'Sepal width': 3.2,\n",
       "  'Petal length': 1.3,\n",
       "  'Petal width': 0.2,\n",
       "  'Species': 'setosa'},\n",
       " {'Sepal length': 7.0,\n",
       "  'Sepal width': 3.2,\n",
       "  'Petal length': 4.7,\n",
       "  'Petal width': 1.4,\n",
       "  'Species': 'versicolor'},\n",
       " {'Sepal length': 7.6,\n",
       "  'Sepal width': 3.0,\n",
       "  'Petal length': 6.6,\n",
       "  'Petal width': 2.1,\n",
       "  'Species': 'virginica'},\n",
       " {'Sepal length': 4.9,\n",
       "  'Sepal width': 3.0,\n",
       "  'Petal length': 1.4,\n",
       "  'Petal width': 0.2,\n",
       "  'Species': 'setosa'},\n",
       " {'Sepal length': 4.9,\n",
       "  'Sepal width': 2.5,\n",
       "  'Petal length': 4.5,\n",
       "  'Petal width': 1.7,\n",
       "  'Species': 'virginica'},\n",
       " {'Sepal length': 7.1,\n",
       "  'Sepal width': 3.0,\n",
       "  'Petal length': 5.9,\n",
       "  'Petal width': 2.1,\n",
       "  'Species': 'virginica'},\n",
       " {'Sepal length': 4.6,\n",
       "  'Sepal width': 3.4,\n",
       "  'Petal length': 1.4,\n",
       "  'Petal width': 0.3,\n",
       "  'Species': 'setosa'},\n",
       " {'Sepal length': 5.4,\n",
       "  'Sepal width': 3.9,\n",
       "  'Petal length': 1.7,\n",
       "  'Petal width': 0.4,\n",
       "  'Species': 'setosa'},\n",
       " {'Sepal length': 5.7,\n",
       "  'Sepal width': 2.8,\n",
       "  'Petal length': 4.5,\n",
       "  'Petal width': 1.3,\n",
       "  'Species': 'versicolor'},\n",
       " {'Sepal length': 5.0,\n",
       "  'Sepal width': 3.6,\n",
       "  'Petal length': 1.4,\n",
       "  'Petal width': 0.3,\n",
       "  'Species': 'setosa'},\n",
       " {'Sepal length': 5.5,\n",
       "  'Sepal width': 2.3,\n",
       "  'Petal length': 4.0,\n",
       "  'Petal width': 1.3,\n",
       "  'Species': 'versicolor'},\n",
       " {'Sepal length': 6.5,\n",
       "  'Sepal width': 3.0,\n",
       "  'Petal length': 5.8,\n",
       "  'Petal width': 2.2,\n",
       "  'Species': 'virginica'},\n",
       " {'Sepal length': 6.5,\n",
       "  'Sepal width': 2.8,\n",
       "  'Petal length': 4.6,\n",
       "  'Petal width': 1.5,\n",
       "  'Species': 'versicolor'},\n",
       " {'Sepal length': 6.3,\n",
       "  'Sepal width': 3.3,\n",
       "  'Petal length': 6.0,\n",
       "  'Petal width': 2.5,\n",
       "  'Species': 'virginica'},\n",
       " {'Sepal length': 6.9,\n",
       "  'Sepal width': 3.1,\n",
       "  'Petal length': 4.9,\n",
       "  'Petal width': 1.5,\n",
       "  'Species': 'versicolor'},\n",
       " {'Sepal length': 4.6,\n",
       "  'Sepal width': 3.1,\n",
       "  'Petal length': 1.5,\n",
       "  'Petal width': 0.2,\n",
       "  'Species': 'setosa'}]"
      ]
     },
     "execution_count": 29,
     "metadata": {},
     "output_type": "execute_result"
    }
   ],
   "source": [
    "header, *data = DATA\n",
    "result = []\n",
    "\n",
    "for row in data:\n",
    "    pary = zip(header, row)\n",
    "    result.append(dict(pary))\n",
    "    \n",
    "result"
   ]
  },
  {
   "cell_type": "markdown",
   "metadata": {},
   "source": [
    "## Loop Dict Label Encoder\n",
    "\n",
    "1. Użyj danych z sekcji \"Input\" (patrz poniżej)\n",
    "1. Zdefiniuj:\n",
    "\n",
    "    * ``features: List[tuple]`` - pomiary\n",
    "    * ``labels: List[int]`` - gatunki\n",
    "    * ``label_encoder: Dict[int, str]`` - słownik zakodowanych (jako cyfry) nazw gatunków\n",
    "\n",
    "1. Odseparuj nagłówek od danych\n",
    "1. Aby móc zakodować i odkodować ``labels`` (gatunki) potrzebny jest ``label_encoder: Dict[int, str]``:\n",
    "\n",
    "    * key - identyfikator (kolejna liczba rzeczywista)\n",
    "    * value - nazwa gatunku\n",
    "\n",
    "1. ``label_encoder`` musi być wygenerowany z ``DATA``\n",
    "1. Dla każdego wiersza dodawaj odpowiednie dane do ``feature``, ``labels`` i ``label_encoder``\n",
    "1. Wypisz ``feature``, ``labels`` i ``label_encoder``\n",
    "1. Porównaj wyniki z sekcją \"Output\" (patrz poniżej)\n",
    "\n",
    "Output:\n",
    "```python\n",
    "features: List[tuple]\n",
    "# [(5.8, 2.7, 5.1, 1.9),\n",
    "#  (5.1, 3.5, 1.4, 0.2),\n",
    "#  (5.7, 2.8, 4.1, 1.3),\n",
    "#  (6.3, 2.9, 5.6, 1.8),\n",
    "#  (6.4, 3.2, 4.5, 1.5),\n",
    "#  (4.7, 3.2, 1.3, 0.2), ...]\n",
    "\n",
    "labels: List[int]\n",
    "# [0, 1, 2, 0, 2, 1, 2, 0, 1, 0, 0, 1, 1, 2, 1, 2, 0, 2, 0, 2, 1]\n",
    "\n",
    "label_encoder: Dict[int, str]\n",
    "# {0: 'virginica',\n",
    "#  1: 'setosa',\n",
    "#  2: 'versicolor'}\n",
    "```"
   ]
  },
  {
   "cell_type": "code",
   "execution_count": 30,
   "metadata": {},
   "outputs": [],
   "source": [
    "DATA = [\n",
    "    ('Sepal length', 'Sepal width', 'Petal length', 'Petal width', 'Species'),\n",
    "    (5.8, 2.7, 5.1, 1.9, 'virginica'),\n",
    "    (5.1, 3.5, 1.4, 0.2, 'setosa'),\n",
    "    (5.7, 2.8, 4.1, 1.3, 'versicolor'),\n",
    "    (6.3, 2.9, 5.6, 1.8, 'virginica'),\n",
    "    (6.4, 3.2, 4.5, 1.5, 'versicolor'),\n",
    "    (4.7, 3.2, 1.3, 0.2, 'setosa'),\n",
    "    (7.0, 3.2, 4.7, 1.4, 'versicolor'),\n",
    "    (7.6, 3.0, 6.6, 2.1, 'virginica'),\n",
    "    (4.9, 3.0, 1.4, 0.2, 'setosa'),\n",
    "    (4.9, 2.5, 4.5, 1.7, 'virginica'),\n",
    "    (7.1, 3.0, 5.9, 2.1, 'virginica'),\n",
    "    (4.6, 3.4, 1.4, 0.3, 'setosa'),\n",
    "    (5.4, 3.9, 1.7, 0.4, 'setosa'),\n",
    "    (5.7, 2.8, 4.5, 1.3, 'versicolor'),\n",
    "    (5.0, 3.6, 1.4, 0.3, 'setosa'),\n",
    "    (5.5, 2.3, 4.0, 1.3, 'versicolor'),\n",
    "    (6.5, 3.0, 5.8, 2.2, 'virginica'),\n",
    "    (6.5, 2.8, 4.6, 1.5, 'versicolor'),\n",
    "    (6.3, 3.3, 6.0, 2.5, 'virginica'),\n",
    "    (6.9, 3.1, 4.9, 1.5, 'versicolor'),\n",
    "    (4.6, 3.1, 1.5, 0.2, 'setosa'),\n",
    "]"
   ]
  },
  {
   "cell_type": "code",
   "execution_count": 53,
   "metadata": {},
   "outputs": [
    {
     "data": {
      "text/plain": [
       "[0, 1, 2, 0, 2, 1, 2, 0, 1, 0, 0, 1, 1, 2, 1, 2, 0, 2, 0, 2, 1]"
      ]
     },
     "execution_count": 53,
     "metadata": {},
     "output_type": "execute_result"
    }
   ],
   "source": [
    "header, *data = DATA\n",
    "\n",
    "features = []\n",
    "labels = []\n",
    "label_encoder = {}\n",
    "tmp = {}\n",
    "i = 0\n",
    "\n",
    "for *X,y in data:\n",
    "    if y not in tmp:\n",
    "        tmp[y] = i\n",
    "        i += 1\n",
    "    \n",
    "    labels.append(tmp[y])\n",
    "    features.append(tuple(X))\n",
    "\n",
    "    \n",
    "for key, value in tmp.items():\n",
    "    label_encoder[value] = key"
   ]
  },
  {
   "cell_type": "code",
   "execution_count": 61,
   "metadata": {},
   "outputs": [],
   "source": [
    "header, *data = DATA\n",
    "\n",
    "features = []\n",
    "labels = []\n",
    "label_encoder = {}\n",
    "\n",
    "\n",
    "for *X,y in data:\n",
    "    if y not in label_encoder:\n",
    "        label_encoder[y] = len(label_encoder)\n",
    "    \n",
    "    labels.append(label_encoder[y])\n",
    "    features.append(tuple(X))\n",
    "\n",
    "    \n",
    "label_encoder = {v:k for k,v in label_encoder.items()}"
   ]
  },
  {
   "cell_type": "code",
   "execution_count": 62,
   "metadata": {},
   "outputs": [
    {
     "data": {
      "text/plain": [
       "[(5.8, 2.7, 5.1, 1.9),\n",
       " (5.1, 3.5, 1.4, 0.2),\n",
       " (5.7, 2.8, 4.1, 1.3),\n",
       " (6.3, 2.9, 5.6, 1.8),\n",
       " (6.4, 3.2, 4.5, 1.5),\n",
       " (4.7, 3.2, 1.3, 0.2),\n",
       " (7.0, 3.2, 4.7, 1.4),\n",
       " (7.6, 3.0, 6.6, 2.1),\n",
       " (4.9, 3.0, 1.4, 0.2),\n",
       " (4.9, 2.5, 4.5, 1.7),\n",
       " (7.1, 3.0, 5.9, 2.1),\n",
       " (4.6, 3.4, 1.4, 0.3),\n",
       " (5.4, 3.9, 1.7, 0.4),\n",
       " (5.7, 2.8, 4.5, 1.3),\n",
       " (5.0, 3.6, 1.4, 0.3),\n",
       " (5.5, 2.3, 4.0, 1.3),\n",
       " (6.5, 3.0, 5.8, 2.2),\n",
       " (6.5, 2.8, 4.6, 1.5),\n",
       " (6.3, 3.3, 6.0, 2.5),\n",
       " (6.9, 3.1, 4.9, 1.5),\n",
       " (4.6, 3.1, 1.5, 0.2)]"
      ]
     },
     "execution_count": 62,
     "metadata": {},
     "output_type": "execute_result"
    }
   ],
   "source": [
    "features"
   ]
  },
  {
   "cell_type": "code",
   "execution_count": 63,
   "metadata": {},
   "outputs": [
    {
     "data": {
      "text/plain": [
       "[0, 1, 2, 0, 2, 1, 2, 0, 1, 0, 0, 1, 1, 2, 1, 2, 0, 2, 0, 2, 1]"
      ]
     },
     "execution_count": 63,
     "metadata": {},
     "output_type": "execute_result"
    }
   ],
   "source": [
    "labels"
   ]
  },
  {
   "cell_type": "code",
   "execution_count": 64,
   "metadata": {},
   "outputs": [
    {
     "data": {
      "text/plain": [
       "{0: 'virginica', 1: 'setosa', 2: 'versicolor'}"
      ]
     },
     "execution_count": 64,
     "metadata": {},
     "output_type": "execute_result"
    }
   ],
   "source": [
    "label_encoder"
   ]
  },
  {
   "cell_type": "code",
   "execution_count": null,
   "metadata": {},
   "outputs": [],
   "source": []
  }
 ],
 "metadata": {
  "kernelspec": {
   "display_name": "Python 3",
   "language": "python",
   "name": "python3"
  },
  "language_info": {
   "codemirror_mode": {
    "name": "ipython",
    "version": 3
   },
   "file_extension": ".py",
   "mimetype": "text/x-python",
   "name": "python",
   "nbconvert_exporter": "python",
   "pygments_lexer": "ipython3",
   "version": "3.8.3"
  }
 },
 "nbformat": 4,
 "nbformat_minor": 4
}
