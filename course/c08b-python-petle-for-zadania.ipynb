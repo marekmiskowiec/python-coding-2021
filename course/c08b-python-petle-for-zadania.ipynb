{
 "cells": [
  {
   "cell_type": "markdown",
   "metadata": {},
   "source": [
    "# Python: Pętle `for` - Zadania"
   ]
  },
  {
   "cell_type": "markdown",
   "metadata": {},
   "source": [
    "## Loop For Count\n",
    "\n",
    "1. Użyj danych z sekcji \"Input\" (patrz poniżej)\n",
    "1. Zlicz wystąpienia każdego z kolorów\n",
    "1. Porównaj wynik z sekcją \"Output\" poniżej\n",
    "\n",
    "Output:\n",
    "* red: 3\n",
    "* green: 2\n",
    "* blue: 2"
   ]
  },
  {
   "cell_type": "code",
   "execution_count": null,
   "metadata": {},
   "outputs": [],
   "source": [
    "DATA = ['red', 'green', 'blue', 'red', 'green', 'red', 'blue']"
   ]
  },
  {
   "cell_type": "code",
   "execution_count": null,
   "metadata": {},
   "outputs": [],
   "source": []
  },
  {
   "cell_type": "markdown",
   "metadata": {},
   "source": [
    "## Loop For Counter\n",
    "\n",
    "1. Użyj danych z sekcji \"Input\" (patrz poniżej)\n",
    "1. Iteruj po ``DATA``\n",
    "1. Policz wystąpienia każdej z cyfr\n",
    "1. Stwórz pusty ``result: Dict[int, int]``:\n",
    "\n",
    "    * klucz - cyfra\n",
    "    * wartość - liczba wystąpień\n",
    "\n",
    "1. Iterując po cyfrach sprawdź czy cyfra znajduje się już w ``result``\n",
    "\n",
    "    * Jeżeli pierwsze wystąpienie, to dodaj ją do ``result`` z wartością 1\n",
    "    * Jeżeli istnieje, to zwiększ w wartość o 1\n",
    "\n",
    "1. Porównaj wynik z sekcją \"Output\" poniżej\n",
    "\n",
    "Output:\n",
    "```python\n",
    "result: Dict[int, int]\n",
    "# {1: 7, 4: 8, 6: 4, 7: 4, 5: 4, 0: 7, 9: 5, 8: 6, 2: 2, 3: 3}\n",
    "```"
   ]
  },
  {
   "cell_type": "code",
   "execution_count": null,
   "metadata": {},
   "outputs": [],
   "source": [
    "DATA = [1, 4, 6, 7, 4, 4, 4, 5, 1, 7, 0,\n",
    "        0, 6, 5, 0, 0, 9, 7, 0, 4, 4, 8,\n",
    "        2, 4, 0, 0, 1, 9, 1, 7, 8, 8, 9,\n",
    "        1, 3, 5, 6, 8, 2, 8, 1, 3, 9, 5,\n",
    "        4, 8, 1, 9, 6, 3]"
   ]
  },
  {
   "cell_type": "code",
   "execution_count": null,
   "metadata": {},
   "outputs": [],
   "source": []
  },
  {
   "cell_type": "markdown",
   "metadata": {},
   "source": [
    "## Loop For Segmentation\n",
    "\n",
    "1. Użyj danych z sekcji \"Input\" (patrz poniżej)\n",
    "1. Policz wystąpienia każdej z group\n",
    "1. Zdefiniuj grupy\n",
    "\n",
    "    * ``small`` - liczby z przedziału <0-3)\n",
    "    * ``medium`` - liczby z przedziału <3-7)\n",
    "    * ``large`` - liczby z przedziału <7-9>\n",
    "\n",
    "1. Wypisz ``result: Dict[str, int]``:\n",
    "\n",
    "    * klucz - grupa\n",
    "    * wartość - liczba wystąpień\n",
    "\n",
    "1. Porównaj wynik z sekcją \"Output\" poniżej\n",
    "\n",
    "Output:\n",
    "```python\n",
    "result: Dict[str, int]\n",
    "# {'small': 16, 'medium': 19, 'large': 15}\n",
    "```"
   ]
  },
  {
   "cell_type": "code",
   "execution_count": null,
   "metadata": {},
   "outputs": [],
   "source": [
    "DATA = [1, 4, 6, 7, 4, 4, 4, 5, 1, 7, 0,\n",
    "        0, 6, 5, 0, 0, 9, 7, 0, 4, 4, 8,\n",
    "        2, 4, 0, 0, 1, 9, 1, 7, 8, 8, 9,\n",
    "        1, 3, 5, 6, 8, 2, 8, 1, 3, 9, 5,\n",
    "        4, 8, 1, 9, 6, 3]"
   ]
  },
  {
   "cell_type": "code",
   "execution_count": null,
   "metadata": {},
   "outputs": [],
   "source": []
  },
  {
   "cell_type": "markdown",
   "metadata": {},
   "source": [
    "## Loop For Newline\n",
    "\n",
    "1. Użyj danych z sekcji \"Input\" (patrz poniżej)\n",
    "1. Zdefiniuj ``result: str``\n",
    "1. Użyj ``for`` do iterowania po ``DATA``\n",
    "1. Połącz linie tekstu znakiem końca linii (``\\n``)\n",
    "1. Nie używaj ``str.join()``\n",
    "1. Porównaj wyniki z sekcją \"Output\" (patrz poniżej)\n",
    "\n",
    "Output:\n",
    "```python\n",
    "result: str\n",
    "# 'We choose to go to the Moon.\\nWe choose to go to the Moon in this decade and do the other things.\\nNot because they are easy, but because they are hard.'\n",
    "```"
   ]
  },
  {
   "cell_type": "code",
   "execution_count": null,
   "metadata": {},
   "outputs": [],
   "source": [
    "DATA = [\n",
    "    'We choose to go to the Moon.',\n",
    "    'We choose to go to the Moon in this decade and do the other things.',\n",
    "    'Not because they are easy, but because they are hard.']"
   ]
  },
  {
   "cell_type": "code",
   "execution_count": null,
   "metadata": {},
   "outputs": [],
   "source": []
  },
  {
   "cell_type": "markdown",
   "metadata": {},
   "source": [
    "## Loop For Translate\n",
    "\n",
    "1. Użyj danych z sekcji \"Input\" (patrz poniżej)\n",
    "1. Użyj ``for`` do iteracji po ``DATA``\n",
    "1. Jeżeli litera jest w ``PL`` to użyj przekonwertowanej wartości jako litera\n",
    "1. Dodaj literę do ``result``\n",
    "1. Porównaj wyniki z sekcją \"Output\" (patrz poniżej)\n",
    "\n",
    "Output:\n",
    "```python\n",
    "result: str\n",
    "# 'zazolc gesla jazn'\n",
    "```"
   ]
  },
  {
   "cell_type": "code",
   "execution_count": null,
   "metadata": {},
   "outputs": [],
   "source": [
    "PL = {'ą': 'a', 'ć': 'c', 'ę': 'e',\n",
    "      'ł': 'l', 'ń': 'n', 'ó': 'o',\n",
    "      'ś': 's', 'ż': 'z', 'ź': 'z'}\n",
    "\n",
    "DATA = 'zażółć gęślą jaźń'"
   ]
  },
  {
   "cell_type": "code",
   "execution_count": null,
   "metadata": {},
   "outputs": [],
   "source": []
  },
  {
   "cell_type": "markdown",
   "metadata": {},
   "source": [
    "## Loop For Text\n",
    "\n",
    "1. Użyj danych z sekcji \"Input\" (patrz poniżej)\n",
    "1. Dany jest tekst przemówienia \"Moon Speech\" wygłoszonej przez John F. Kennedy'ego\n",
    "1. Zdania oddzielone są kropkami (``.``)\n",
    "1. Każde zdanie oczyść z białych znaków na początku i końcu\n",
    "1. Słowa oddzielone są spacjami\n",
    "1. Wypisz także ile jest łącznie w całym tekście:\n",
    "\n",
    "    * przysłówków (słów zakończonych na \"ly\")\n",
    "    * zdań\n",
    "    * słów\n",
    "    * liter\n",
    "    * znaków (łącznie ze spacjami wewnątrz zdań, ale bez kropek ``.``)\n",
    "    * przecinków (``,``)\n",
    "\n",
    "1. Porównaj wynik z sekcją \"Output\" poniżej\n",
    "\n",
    "Output:\n",
    "* Sentences: 7\n",
    "* Words: 71\n",
    "* Characters: 347\n",
    "* Letters: 283\n",
    "* Commas: 1\n",
    "* Adverbs: 0"
   ]
  },
  {
   "cell_type": "code",
   "execution_count": null,
   "metadata": {},
   "outputs": [],
   "source": [
    "TEXT = \"\"\"\n",
    "    We choose to go to the Moon.\n",
    "    We choose to go to the Moon in this decade and do the other things.\n",
    "    Not because they are easy, but because they are hard.\n",
    "    Because that goal will serve to organize and measure the best of our energies a skills.\n",
    "    Because that challenge is one that we are willing to accept.\n",
    "    One we are unwilling to postpone.\n",
    "    And one we intend to win\n",
    "\"\"\""
   ]
  },
  {
   "cell_type": "code",
   "execution_count": null,
   "metadata": {},
   "outputs": [],
   "source": []
  }
 ],
 "metadata": {
  "kernelspec": {
   "display_name": "Python 3",
   "language": "python",
   "name": "python3"
  },
  "language_info": {
   "codemirror_mode": {
    "name": "ipython",
    "version": 3
   },
   "file_extension": ".py",
   "mimetype": "text/x-python",
   "name": "python",
   "nbconvert_exporter": "python",
   "pygments_lexer": "ipython3",
   "version": "3.8.3"
  }
 },
 "nbformat": 4,
 "nbformat_minor": 4
}
