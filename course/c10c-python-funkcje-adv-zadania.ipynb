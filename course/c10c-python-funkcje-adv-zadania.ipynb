{
 "cells": [
  {
   "cell_type": "markdown",
   "metadata": {},
   "source": [
    "## Python: Funckcje: zaawansowane - zadania"
   ]
  },
  {
   "cell_type": "markdown",
   "metadata": {},
   "source": [
    "## Function Scope Filter\n",
    "\n",
    "1. Użyj danych z sekcji \"Input\" (patrz poniżej)\n",
    "1. Odseparuj nagłówek od danych\n",
    "1. Zdefiniuj w przestrzeni globalnej ``SELECT: Set[str]`` z wartościami 'setosa' oraz 'versicolor'\n",
    "1. Iterując po danych rozdziel wiersz na ``features`` i ``label`` (ostatni)\n",
    "1. Zdefiniuj funkcję ``sum_if(features, label)``\n",
    "1. Funkcja sumuje ``features``, tylko gdy ``label`` jest w ``SELECT``\n",
    "1. Gdy ``label`` nie występuje w ``select`` zwróć ``0`` (zero)\n",
    "1. Wypisz sumę\n",
    "1. Porównaj wyniki z sekcją \"Output\" (patrz poniżej)\n",
    "\n",
    "Output:\n",
    "```python\n",
    "result: float\n",
    "# 74.9\n",
    "```"
   ]
  },
  {
   "cell_type": "code",
   "execution_count": null,
   "metadata": {},
   "outputs": [],
   "source": [
    "DATA = [\n",
    "    ('Sepal length', 'Sepal width', 'Petal length', 'Petal width', 'Species'),\n",
    "    (5.8, 2.7, 5.1, 1.9, 'virginica'),\n",
    "    (5.1, 3.5, 1.4, 0.2, 'setosa'),\n",
    "    (5.7, 2.8, 4.1, 1.3, 'versicolor'),\n",
    "    (6.3, 2.9, 5.6, 1.8, 'virginica'),\n",
    "    (6.4, 3.2, 4.5, 1.5, 'versicolor'),\n",
    "    (4.7, 3.2, 1.3, 0.2, 'setosa'),\n",
    "    (7.0, 3.2, 4.7, 1.4, 'versicolor'),\n",
    "    (7.6, 3.0, 6.6, 2.1, 'virginica'),\n",
    "    (4.9, 3.0, 1.4, 0.2, 'setosa'),\n",
    "]"
   ]
  },
  {
   "cell_type": "markdown",
   "metadata": {},
   "source": [
    "## Function Doctest Temperature\n",
    "\n",
    "1. Użyj danych z sekcji \"Input\" (patrz poniżej)\n",
    "1. Napisz implementację funkcji ``celsius_to_kelvin``\n",
    "1. Wszystkie testy muszą przechodzić"
   ]
  },
  {
   "cell_type": "code",
   "execution_count": null,
   "metadata": {},
   "outputs": [],
   "source": [
    "def celsius_to_kelvin(degrees):\n",
    "    \"\"\"\n",
    "    >>> celsius_to_kelvin(0)\n",
    "    273.15\n",
    "    \n",
    "    >>> celsius_to_kelvin(1)\n",
    "    274.15\n",
    "    \n",
    "    >>> celsius_to_kelvin(-1)\n",
    "    272.15\n",
    "    \n",
    "    >>> celsius_to_kelvin('a')\n",
    "    Traceback (most recent call last):\n",
    "        ...\n",
    "    TypeError: Invalid argument\n",
    "    \n",
    "    >>> celsius_to_kelvin([0, 1])\n",
    "    [273.15, 274.15]\n",
    "    \n",
    "    >>> celsius_to_kelvin((0, 1))\n",
    "    (273.15, 274.15)\n",
    "    \n",
    "    >>> celsius_to_kelvin({0, 1})\n",
    "    {273.15, 274.15}\n",
    "    \"\"\"\n",
    "    ...\n",
    "\n",
    "\n",
    "import doctest\n",
    "doctest.testmod()"
   ]
  },
  {
   "cell_type": "markdown",
   "metadata": {},
   "source": [
    "## Function Doctest Distance\n",
    "\n",
    "1. Napisz funkcję, która przeliczy dystans podany w kilometrach na metry\n",
    "1. 1 km = 1000 m\n",
    "1. Dystans nie może być ujemny\n",
    "1. Zwracany dystans musi być float\n",
    "1. Napisz doctesty\n",
    "1. Wszystkie testy muszą przechodzić"
   ]
  },
  {
   "cell_type": "code",
   "execution_count": null,
   "metadata": {},
   "outputs": [],
   "source": [
    "def distance(km):\n",
    "    ...\n",
    "    \n",
    "\n",
    "import doctest\n",
    "doctest.testmod()"
   ]
  },
  {
   "cell_type": "markdown",
   "metadata": {},
   "source": [
    "## Function Generator Chain\n",
    "\n",
    "1. Użyj wyrażenia generatorowego do stworzenia ``numbers: List[int]``\n",
    "1. W generatorze użyj ``range()`` aby otrzymać liczby od 1 do 33 (włącznie) podzielne przez 3\n",
    "1. Użyj ``filter()`` aby otrzymać liczby nieparzyste z ``numbers``\n",
    "1. Użyj ``map()`` aby podnieść wszystkie liczby w ``numbers`` do sześcianu\n",
    "1. Stwórz ``result: float`` ze średnią arytmetyczną z ``numbers``\n",
    "1. Porównaj wyniki z sekcją \"Output\" (patrz poniżej)\n",
    "\n",
    "Output:\n",
    "```python\n",
    "result: float\n",
    "# 11502.0\n",
    "```\n",
    "\n",
    "Podpowiedź:\n",
    "* ``mean = sum(...) / len(...)``\n",
    "* type cast to ``list()`` before calculating mean to expand generator"
   ]
  },
  {
   "cell_type": "code",
   "execution_count": null,
   "metadata": {},
   "outputs": [],
   "source": []
  },
  {
   "cell_type": "markdown",
   "metadata": {},
   "source": [
    "## Function Lambda Chain\n",
    "\n",
    "1. Użyj danych z sekcji \"Input\" (patrz poniżej)\n",
    "1. Wciel kod ``odd()`` i ``cube()`` wykorzystując wyrażenia ``lambda``\n",
    "1. Porównaj wyniki z sekcją \"Output\" (patrz poniżej)\n",
    "\n",
    "Output:\n",
    "```python\n",
    "result: float\n",
    "# 11502.0\n",
    "```\n",
    "\n",
    "Podpowiedź:\n",
    "* ``mean = sum(...) / len(...)``\n",
    "* type cast to ``list()`` before calculating mean to expand generator"
   ]
  },
  {
   "cell_type": "code",
   "execution_count": null,
   "metadata": {},
   "outputs": [],
   "source": [
    "def odd(x):\n",
    "    return x % 2 != 0\n",
    "\n",
    "def cube(x):\n",
    "    return x ** 3\n",
    "\n",
    "\n",
    "numbers = (x for x in range(1, 34) if x % 3 == 0)\n",
    "numbers = filter(odd, numbers)\n",
    "numbers = map(cube, numbers)\n",
    "numbers = list(numbers)\n",
    "result = sum(numbers) / len(numbers)\n",
    "\n",
    "print(result)"
   ]
  }
 ],
 "metadata": {
  "kernelspec": {
   "display_name": "Python 3",
   "language": "python",
   "name": "python3"
  },
  "language_info": {
   "codemirror_mode": {
    "name": "ipython",
    "version": 3
   },
   "file_extension": ".py",
   "mimetype": "text/x-python",
   "name": "python",
   "nbconvert_exporter": "python",
   "pygments_lexer": "ipython3",
   "version": "3.8.3"
  }
 },
 "nbformat": 4,
 "nbformat_minor": 4
}
