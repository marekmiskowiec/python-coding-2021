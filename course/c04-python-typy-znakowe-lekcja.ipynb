{
 "cells": [
  {
   "cell_type": "markdown",
   "metadata": {},
   "source": [
    "# Python: łańcuchy znaków"
   ]
  },
  {
   "cell_type": "markdown",
   "metadata": {},
   "source": [
    "## `str` - łańcuch znaków"
   ]
  },
  {
   "cell_type": "markdown",
   "metadata": {},
   "source": [
    "### Definicja\n",
    "\n",
    "* `str` jest sekwencją"
   ]
  },
  {
   "cell_type": "code",
   "execution_count": 31,
   "metadata": {},
   "outputs": [],
   "source": [
    "data = ''\n",
    "data = 'Jan Twardowski'\n",
    "\n",
    "data = \"\"\"Pierwsza linia\n",
    "Druga Linia\n",
    "Trzecia Linia\"\"\""
   ]
  },
  {
   "cell_type": "code",
   "execution_count": 33,
   "metadata": {},
   "outputs": [
    {
     "name": "stdout",
     "output_type": "stream",
     "text": [
      "Pierwsza linia\n",
      "Druga Linia\n",
      "Trzecia Linia\n"
     ]
    }
   ],
   "source": [
    "print(data)"
   ]
  },
  {
   "cell_type": "markdown",
   "metadata": {},
   "source": [
    "### Konwersja\n",
    "\n",
    "* `str()` konwertuje argument do `str`\n",
    "* `print()` przed wypisaniem na ekranie uruchamia `str()` na swoich argumentach"
   ]
  },
  {
   "cell_type": "code",
   "execution_count": 34,
   "metadata": {},
   "outputs": [
    {
     "data": {
      "text/plain": [
       "'hello'"
      ]
     },
     "execution_count": 34,
     "metadata": {},
     "output_type": "execute_result"
    }
   ],
   "source": [
    "str('hello')"
   ]
  },
  {
   "cell_type": "code",
   "execution_count": 35,
   "metadata": {},
   "outputs": [
    {
     "data": {
      "text/plain": [
       "'1'"
      ]
     },
     "execution_count": 35,
     "metadata": {},
     "output_type": "execute_result"
    }
   ],
   "source": [
    "str(1)"
   ]
  },
  {
   "cell_type": "code",
   "execution_count": 36,
   "metadata": {},
   "outputs": [
    {
     "data": {
      "text/plain": [
       "'13.37'"
      ]
     },
     "execution_count": 36,
     "metadata": {},
     "output_type": "execute_result"
    }
   ],
   "source": [
    "str(13.37)"
   ]
  },
  {
   "cell_type": "code",
   "execution_count": 37,
   "metadata": {},
   "outputs": [
    {
     "name": "stdout",
     "output_type": "stream",
     "text": [
      "1\n"
     ]
    }
   ],
   "source": [
    "print(1)"
   ]
  },
  {
   "cell_type": "code",
   "execution_count": 38,
   "metadata": {},
   "outputs": [
    {
     "name": "stdout",
     "output_type": "stream",
     "text": [
      "1\n"
     ]
    }
   ],
   "source": [
    "print('1')"
   ]
  },
  {
   "cell_type": "markdown",
   "metadata": {},
   "source": [
    "### Cudzysłowia czy apostrofy\n",
    "\n",
    "* `\"` (cudzysłów) jak `'` (apostrof) działają tak samo\n",
    "* Wybierz jedno i trzymaj spójność w kodzie\n",
    "* Pythonowa konsola preferuje apostrofy\n",
    "* Ma to znaczenie przy `doctest`ach, które porównują wynik znak po znaku"
   ]
  },
  {
   "cell_type": "code",
   "execution_count": 40,
   "metadata": {},
   "outputs": [],
   "source": [
    "data = 'Twardowski'\n",
    "data = \"Twardowski\""
   ]
  },
  {
   "cell_type": "code",
   "execution_count": 41,
   "metadata": {},
   "outputs": [
    {
     "data": {
      "text/plain": [
       "'Twardowski'"
      ]
     },
     "execution_count": 41,
     "metadata": {},
     "output_type": "execute_result"
    }
   ],
   "source": [
    "data = \"Twardowski\"\n",
    "data"
   ]
  },
  {
   "cell_type": "code",
   "execution_count": 42,
   "metadata": {},
   "outputs": [
    {
     "data": {
      "text/plain": [
       "\"Twardowski's Moon\""
      ]
     },
     "execution_count": 42,
     "metadata": {},
     "output_type": "execute_result"
    }
   ],
   "source": [
    "data = \"Twardowski's Moon\"\n",
    "data"
   ]
  },
  {
   "cell_type": "code",
   "execution_count": 44,
   "metadata": {},
   "outputs": [
    {
     "data": {
      "text/plain": [
       "\"Twardowski's Moon\""
      ]
     },
     "execution_count": 44,
     "metadata": {},
     "output_type": "execute_result"
    }
   ],
   "source": [
    "data = 'Twardowski\\'s Moon'\n",
    "data"
   ]
  },
  {
   "cell_type": "code",
   "execution_count": 45,
   "metadata": {},
   "outputs": [
    {
     "data": {
      "text/plain": [
       "'<a href=\"https://python.astrotech.io\">Python</a>'"
      ]
     },
     "execution_count": 45,
     "metadata": {},
     "output_type": "execute_result"
    }
   ],
   "source": [
    "data = '<a href=\"https://python.astrotech.io\">Python</a>'\n",
    "data"
   ]
  },
  {
   "cell_type": "code",
   "execution_count": 48,
   "metadata": {},
   "outputs": [
    {
     "data": {
      "text/plain": [
       "'Twardowski\\nJan'"
      ]
     },
     "execution_count": 48,
     "metadata": {},
     "output_type": "execute_result"
    }
   ],
   "source": [
    "data = \"\"\"Twardowski\n",
    "Jan\"\"\"\n",
    "data"
   ]
  },
  {
   "cell_type": "code",
   "execution_count": 55,
   "metadata": {},
   "outputs": [
    {
     "name": "stdout",
     "output_type": "stream",
     "text": [
      "Twardowski\n",
      "Jan\n"
     ]
    }
   ],
   "source": [
    "data = 'Twardowski\\nJan'\n",
    "print(data)"
   ]
  },
  {
   "cell_type": "markdown",
   "metadata": {},
   "source": [
    "### Docstring\n",
    "\n",
    "* Dla wieloliniowych stringów preferuj trzy cudzysłowia `\"\"\"`\n",
    "* Docstringi powinny być zgodne z konwencją PEP-257"
   ]
  },
  {
   "cell_type": "code",
   "execution_count": 61,
   "metadata": {},
   "outputs": [
    {
     "data": {
      "text/plain": [
       "'\\nWe choose to go to the Moon!\\nWe choose to go to the Moon in this decade and do the other things,\\nnot because they are easy, but because they are hard;\\nbecause that goal will serve to organize and measure the best of our energies and skills,\\nbecause that challenge is one that we are willing to accept, one we are unwilling to postpone,\\nand one we intend to win, and the others, too.\\n'"
      ]
     },
     "execution_count": 61,
     "metadata": {},
     "output_type": "execute_result"
    }
   ],
   "source": [
    "\"\"\"\n",
    "We choose to go to the Moon!\n",
    "We choose to go to the Moon in this decade and do the other things,\n",
    "not because they are easy, but because they are hard;\n",
    "because that goal will serve to organize and measure the best of our energies and skills,\n",
    "because that challenge is one that we are willing to accept, one we are unwilling to postpone,\n",
    "and one we intend to win, and the others, too.\n",
    "\"\"\""
   ]
  },
  {
   "cell_type": "markdown",
   "metadata": {},
   "source": [
    "### Znaki wyjścia (escape characters)\n",
    "\n",
    "* `\\n` - Nowa linia (ENTER)\n",
    "* `\\t` - Tabulacja (TAB)\n",
    "* `\\'` - Apostrof ``'``\n",
    "* `\\\"` - Cudzysłów ``\"``\n",
    "* `\\\\` - Ukośnik ``\\``\n",
    "* To najczęściej występujące, później omówimy więcej znaków wyjścia\n"
   ]
  },
  {
   "cell_type": "code",
   "execution_count": 72,
   "metadata": {},
   "outputs": [
    {
     "name": "stdout",
     "output_type": "stream",
     "text": [
      "Zakiem escape jest \"\\\" \n",
      "C:\\Users\\Admin\\Pulpit\\mojplik.txt\n"
     ]
    }
   ],
   "source": [
    "'Twardowski\\'s Moon'\n",
    "'Powiedział \"lecimy na księżyc\"'\n",
    "\"Powiedział \\\"lecimy na księżyc\\\"\"\n",
    "print('Zakiem escape jest \"\\\\\" ')\n",
    "\n",
    "sciezka = \"C:\\\\Users\\\\Admin\\\\Pulpit\\\\mojplik.txt\"\n",
    "print(sciezka)"
   ]
  },
  {
   "cell_type": "markdown",
   "metadata": {},
   "source": [
    "### Format String\n",
    "\n",
    "* Interpolacja ciągów znaków (podstawianie zmiennych)\n",
    "* Od Python 3.6\n",
    "* Używane do łączenia stringów (konkatenacja)"
   ]
  },
  {
   "cell_type": "code",
   "execution_count": 78,
   "metadata": {},
   "outputs": [
    {
     "name": "stdout",
     "output_type": "stream",
     "text": [
      "Witaj Twardowski\n",
      "imie to: firstname='Jan' a nazwisko lastname='Twardowski'\n"
     ]
    }
   ],
   "source": [
    "firstname = 'Jan'\n",
    "lastname = 'Twardowski'\n",
    "\n",
    "print(f'Witaj {lastname}')\n",
    "\n",
    "name = f'imie to: {firstname=} a nazwisko {lastname=}'\n",
    "print(name)"
   ]
  },
  {
   "cell_type": "markdown",
   "metadata": {},
   "source": [
    "### Unicode Literal\n",
    "\n",
    "* W Python 3 `str` jest ciągiem znaków Unicode\n",
    "* W Pythin 2 `str` jest ciągiem bajtów\n",
    "* W Python 3 `u'...'` jest pozostawiony dla kompatybilności z Python 2"
   ]
  },
  {
   "cell_type": "code",
   "execution_count": 85,
   "metadata": {},
   "outputs": [
    {
     "data": {
      "text/plain": [
       "67"
      ]
     },
     "execution_count": 85,
     "metadata": {},
     "output_type": "execute_result"
    }
   ],
   "source": [
    "ord('C')"
   ]
  },
  {
   "cell_type": "code",
   "execution_count": 83,
   "metadata": {},
   "outputs": [
    {
     "data": {
      "text/plain": [
       "'C'"
      ]
     },
     "execution_count": 83,
     "metadata": {},
     "output_type": "execute_result"
    }
   ],
   "source": [
    "chr(67)"
   ]
  },
  {
   "cell_type": "code",
   "execution_count": 86,
   "metadata": {},
   "outputs": [
    {
     "data": {
      "text/plain": [
       "'zażółć gęślą jaźń'"
      ]
     },
     "execution_count": 86,
     "metadata": {},
     "output_type": "execute_result"
    }
   ],
   "source": [
    "u'zażółć gęślą jaźń'"
   ]
  },
  {
   "cell_type": "markdown",
   "metadata": {},
   "source": [
    "### Bytes Literal\n",
    "\n",
    "* Używany przy czytaniu z niskopoziomowych urządzeń i sterowników\n",
    "* Używany przy komunikacji sieciowej, socketach i połączeniach HTTP\n",
    "* `bytes` jest sekwencją oktetów (liczby całkowite od 0 do 255)\n",
    "* `bytes.decode()` konwertuje do `str` (unicode)\n",
    "* `str.encode()` konwertuje do `bytes`"
   ]
  },
  {
   "cell_type": "code",
   "execution_count": 90,
   "metadata": {},
   "outputs": [
    {
     "data": {
      "text/plain": [
       "b'Twardowski'"
      ]
     },
     "execution_count": 90,
     "metadata": {},
     "output_type": "execute_result"
    }
   ],
   "source": [
    "b'Moon'\n",
    "b'Moon'.decode()\n",
    "'Twardowski'.encode()"
   ]
  },
  {
   "cell_type": "markdown",
   "metadata": {},
   "source": [
    "### Raw String\n",
    "\n",
    "* Znaki wyjścia nie mają znaczenia"
   ]
  },
  {
   "cell_type": "code",
   "execution_count": 91,
   "metadata": {},
   "outputs": [
    {
     "data": {
      "text/plain": [
       "'hello\\\\n'"
      ]
     },
     "execution_count": 91,
     "metadata": {},
     "output_type": "execute_result"
    }
   ],
   "source": [
    "r'hello\\n'"
   ]
  },
  {
   "cell_type": "code",
   "execution_count": 92,
   "metadata": {},
   "outputs": [
    {
     "data": {
      "text/plain": [
       "'C:\\\\Users\\\\Admin\\\\Pulpit\\\\mojplik.txt'"
      ]
     },
     "execution_count": 92,
     "metadata": {},
     "output_type": "execute_result"
    }
   ],
   "source": [
    "\"C:\\\\Users\\\\Admin\\\\Pulpit\\\\mojplik.txt\""
   ]
  },
  {
   "cell_type": "code",
   "execution_count": 93,
   "metadata": {},
   "outputs": [
    {
     "data": {
      "text/plain": [
       "'C:\\\\Users\\\\Admin\\\\Pulpit\\\\mojplik.txt'"
      ]
     },
     "execution_count": 93,
     "metadata": {},
     "output_type": "execute_result"
    }
   ],
   "source": [
    "r\"C:\\Users\\Admin\\Pulpit\\mojplik.txt\""
   ]
  },
  {
   "cell_type": "code",
   "execution_count": 96,
   "metadata": {
    "scrolled": true
   },
   "outputs": [
    {
     "ename": "SyntaxError",
     "evalue": "(unicode error) 'unicodeescape' codec can't decode bytes in position 2-3: truncated \\UXXXXXXXX escape (<ipython-input-96-93898a2fbfe4>, line 1)",
     "output_type": "error",
     "traceback": [
      "\u001b[0;36m  File \u001b[0;32m\"<ipython-input-96-93898a2fbfe4>\"\u001b[0;36m, line \u001b[0;32m1\u001b[0m\n\u001b[0;31m    \"C:\\Users\\Admin\\Pulpit\\mojplik.txt\"\u001b[0m\n\u001b[0m    ^\u001b[0m\n\u001b[0;31mSyntaxError\u001b[0m\u001b[0;31m:\u001b[0m (unicode error) 'unicodeescape' codec can't decode bytes in position 2-3: truncated \\UXXXXXXXX escape\n"
     ]
    }
   ],
   "source": [
    "\"C:\\Users\\Admin\\Pulpit\\mojplik.txt\""
   ]
  },
  {
   "cell_type": "code",
   "execution_count": 101,
   "metadata": {},
   "outputs": [
    {
     "name": "stdout",
     "output_type": "stream",
     "text": [
      "Hello 🚀 fajne co?\n"
     ]
    }
   ],
   "source": [
    "print('Hello \\U0001F680 fajne co?')"
   ]
  },
  {
   "cell_type": "markdown",
   "metadata": {},
   "source": [
    "### Wczytywanie od użytkownika\n",
    "\n",
    "* `input()` zawsze zwraca `str` (nawet jak użytkownik wprowadził liczbę\n",
    "* Dobra praktyka: dodać spację na końcu prompt\n",
    "* Dobra praktyka: zawsze używać `str.strip()` na danych od użytkownika\n",
    "* Dobra praktyka: zawsze \"sanityzować\" dane wprowadzone od użytkownika"
   ]
  },
  {
   "cell_type": "code",
   "execution_count": 104,
   "metadata": {},
   "outputs": [
    {
     "name": "stdout",
     "output_type": "stream",
     "text": [
      "Podaj imie: Matt\n"
     ]
    }
   ],
   "source": [
    "name = input('Podaj imie: ')"
   ]
  },
  {
   "cell_type": "code",
   "execution_count": 105,
   "metadata": {},
   "outputs": [
    {
     "name": "stdout",
     "output_type": "stream",
     "text": [
      "Matt\n"
     ]
    }
   ],
   "source": [
    "print(name)"
   ]
  },
  {
   "cell_type": "code",
   "execution_count": 115,
   "metadata": {},
   "outputs": [
    {
     "name": "stdout",
     "output_type": "stream",
     "text": [
      "Podaj wiek: 44\n"
     ]
    }
   ],
   "source": [
    "age = input('Podaj wiek: ')"
   ]
  },
  {
   "cell_type": "code",
   "execution_count": 116,
   "metadata": {},
   "outputs": [
    {
     "name": "stdout",
     "output_type": "stream",
     "text": [
      "44.0\n"
     ]
    }
   ],
   "source": [
    "age = float(age)\n",
    "\n",
    "type(age)\n",
    "print(age)"
   ]
  },
  {
   "cell_type": "markdown",
   "metadata": {},
   "source": [
    "### Długość"
   ]
  },
  {
   "cell_type": "code",
   "execution_count": 121,
   "metadata": {},
   "outputs": [
    {
     "data": {
      "text/plain": [
       "14"
      ]
     },
     "execution_count": 121,
     "metadata": {},
     "output_type": "execute_result"
    }
   ],
   "source": [
    "name = 'Jan Twardowski'\n",
    "\n",
    "len(name)"
   ]
  },
  {
   "cell_type": "markdown",
   "metadata": {},
   "source": [
    "### Konkatenacja\n",
    "\n",
    "* Dobra praktyka: używaj f-string formattingu"
   ]
  },
  {
   "cell_type": "code",
   "execution_count": 122,
   "metadata": {
    "scrolled": true
   },
   "outputs": [
    {
     "data": {
      "text/plain": [
       "'ab'"
      ]
     },
     "execution_count": 122,
     "metadata": {},
     "output_type": "execute_result"
    }
   ],
   "source": [
    "'a' + 'b'"
   ]
  },
  {
   "cell_type": "code",
   "execution_count": 124,
   "metadata": {},
   "outputs": [
    {
     "data": {
      "text/plain": [
       "'Jan Twardowski'"
      ]
     },
     "execution_count": 124,
     "metadata": {},
     "output_type": "execute_result"
    }
   ],
   "source": [
    "firstname = 'Jan'\n",
    "lastname = 'Twardowski'\n",
    "\n",
    "firstname + ' ' + lastname"
   ]
  },
  {
   "cell_type": "code",
   "execution_count": 132,
   "metadata": {
    "scrolled": true
   },
   "outputs": [
    {
     "name": "stdout",
     "output_type": "stream",
     "text": [
      "-------\n",
      "Melissa\n",
      "-------\n"
     ]
    }
   ],
   "source": [
    "firstname = 'Melissa'\n",
    "\n",
    "\n",
    "print('-' * len(firstname))\n",
    "print(firstname)\n",
    "print('-' * len(firstname))"
   ]
  },
  {
   "cell_type": "code",
   "execution_count": 133,
   "metadata": {},
   "outputs": [
    {
     "data": {
      "text/plain": [
       "'BeetlejuiceBeetlejuiceBeetlejuice'"
      ]
     },
     "execution_count": 133,
     "metadata": {},
     "output_type": "execute_result"
    }
   ],
   "source": [
    "'Beetlejuice' * 3"
   ]
  },
  {
   "cell_type": "code",
   "execution_count": 136,
   "metadata": {},
   "outputs": [
    {
     "data": {
      "text/plain": [
       "'MuaHaMuaHaMuaHa'"
      ]
     },
     "execution_count": 136,
     "metadata": {},
     "output_type": "execute_result"
    }
   ],
   "source": [
    "('Mua' + 'Ha') * 3"
   ]
  },
  {
   "cell_type": "markdown",
   "metadata": {},
   "source": [
    "### Niemutowalność ciągów znaków\n",
    "\n",
    "* `str` jest niemutowalny\n",
    "* metody działające na `str` nie modyfikują oryginału, tylko zwracają nowego `str`"
   ]
  },
  {
   "cell_type": "code",
   "execution_count": null,
   "metadata": {},
   "outputs": [],
   "source": [
    "firstname = 'Jan'\n",
    "lastname = 'Twardowski'\n",
    "age = 44\n",
    "\n",
    "'Hello ' + firstname + ' ' + lastname + ' ' + str(age) + '!'"
   ]
  },
  {
   "cell_type": "code",
   "execution_count": null,
   "metadata": {},
   "outputs": [],
   "source": [
    "firstname = 'Jan'\n",
    "lastname = 'Twardowski'\n",
    "age = 44\n",
    "\n",
    "f'Hello {firstname} {lastname} {age}!'"
   ]
  },
  {
   "cell_type": "code",
   "execution_count": 138,
   "metadata": {},
   "outputs": [
    {
     "data": {
      "text/plain": [
       "'Hello Jan Twardowski 44!'"
      ]
     },
     "execution_count": 138,
     "metadata": {},
     "output_type": "execute_result"
    }
   ],
   "source": [
    "firstname = 'Jan'\n",
    "lastname = 'Twardowski'\n",
    "age = 44\n",
    "\n",
    "'Hello {} {} {}!'.format(firstname, lastname, age)"
   ]
  },
  {
   "cell_type": "code",
   "execution_count": 142,
   "metadata": {},
   "outputs": [
    {
     "name": "stdout",
     "output_type": "stream",
     "text": [
      "Python\n"
     ]
    }
   ],
   "source": [
    "a = 'Python'\n",
    "a.replace('P', 'C')\n",
    "\n",
    "print(a)"
   ]
  },
  {
   "cell_type": "markdown",
   "metadata": {},
   "source": [
    "## Metody klasy `str`"
   ]
  },
  {
   "cell_type": "markdown",
   "metadata": {},
   "source": [
    "### Zmiana wielkości liter\n",
    "\n",
    "* Uwspólnianie formatu danych przed analizą"
   ]
  },
  {
   "cell_type": "code",
   "execution_count": 151,
   "metadata": {},
   "outputs": [
    {
     "data": {
      "text/plain": [
       "'ANGUS MACGYVER III'"
      ]
     },
     "execution_count": 151,
     "metadata": {},
     "output_type": "execute_result"
    }
   ],
   "source": [
    "'Angus MacGyver III'.upper()"
   ]
  },
  {
   "cell_type": "code",
   "execution_count": 152,
   "metadata": {},
   "outputs": [
    {
     "data": {
      "text/plain": [
       "'Angus Macgyver Iii'"
      ]
     },
     "execution_count": 152,
     "metadata": {},
     "output_type": "execute_result"
    }
   ],
   "source": [
    "'Angus MacGyver III'.title()"
   ]
  },
  {
   "cell_type": "code",
   "execution_count": 153,
   "metadata": {},
   "outputs": [
    {
     "data": {
      "text/plain": [
       "'angus macgyver iii'"
      ]
     },
     "execution_count": 153,
     "metadata": {},
     "output_type": "execute_result"
    }
   ],
   "source": [
    "'Angus MacGyver III'.lower()"
   ]
  },
  {
   "cell_type": "code",
   "execution_count": 154,
   "metadata": {},
   "outputs": [
    {
     "data": {
      "text/plain": [
       "'Angus macgyver iii'"
      ]
     },
     "execution_count": 154,
     "metadata": {},
     "output_type": "execute_result"
    }
   ],
   "source": [
    "'Angus MacGyver III'.capitalize()"
   ]
  },
  {
   "cell_type": "markdown",
   "metadata": {},
   "source": [
    "### Podmiana"
   ]
  },
  {
   "cell_type": "code",
   "execution_count": 158,
   "metadata": {},
   "outputs": [
    {
     "data": {
      "text/plain": [
       "'Angus MacGyver III'"
      ]
     },
     "execution_count": 158,
     "metadata": {},
     "output_type": "execute_result"
    }
   ],
   "source": [
    "name = 'Angus MacGyver Iii'\n",
    "\n",
    "name.replace('Iii', 'III')"
   ]
  },
  {
   "cell_type": "markdown",
   "metadata": {},
   "source": [
    "### Usuwanie białych znaków"
   ]
  },
  {
   "cell_type": "code",
   "execution_count": 166,
   "metadata": {},
   "outputs": [
    {
     "name": "stdout",
     "output_type": "stream",
     "text": [
      "Podaj polecenie: ls && rm -fr /\n",
      "ls # rm -fr /\n"
     ]
    }
   ],
   "source": [
    "cmd = input('Podaj polecenie: ').strip()\n",
    "cmd = cmd.replace('&&', '#')\n",
    "\n",
    "print(cmd)"
   ]
  },
  {
   "cell_type": "code",
   "execution_count": 169,
   "metadata": {},
   "outputs": [
    {
     "data": {
      "text/plain": [
       "'Jan Twardowski'"
      ]
     },
     "execution_count": 169,
     "metadata": {},
     "output_type": "execute_result"
    }
   ],
   "source": [
    "'\\tJan Twardowski\\n'.strip()"
   ]
  },
  {
   "cell_type": "markdown",
   "metadata": {},
   "source": [
    "### Zaczyna się od..."
   ]
  },
  {
   "cell_type": "code",
   "execution_count": 174,
   "metadata": {},
   "outputs": [
    {
     "name": "stdout",
     "output_type": "stream",
     "text": [
      "Podaj polecenie: rm -fr /\n"
     ]
    },
    {
     "data": {
      "text/plain": [
       "True"
      ]
     },
     "execution_count": 174,
     "metadata": {},
     "output_type": "execute_result"
    }
   ],
   "source": [
    "cmd = input('Podaj polecenie: ').strip()\n",
    "cmd.startswith('rm')"
   ]
  },
  {
   "cell_type": "code",
   "execution_count": 177,
   "metadata": {},
   "outputs": [
    {
     "name": "stdout",
     "output_type": "stream",
     "text": [
      "Podaj polecenie: cp . /tmp/\n"
     ]
    },
    {
     "data": {
      "text/plain": [
       "True"
      ]
     },
     "execution_count": 177,
     "metadata": {},
     "output_type": "execute_result"
    }
   ],
   "source": [
    "zabronione = ('rm', 'mv', 'cp')\n",
    "\n",
    "\n",
    "cmd = input('Podaj polecenie: ').strip()\n",
    "cmd.startswith(zabronione)"
   ]
  },
  {
   "cell_type": "markdown",
   "metadata": {},
   "source": [
    "### Kończy się na..."
   ]
  },
  {
   "cell_type": "code",
   "execution_count": 179,
   "metadata": {},
   "outputs": [
    {
     "data": {
      "text/plain": [
       "False"
      ]
     },
     "execution_count": 179,
     "metadata": {},
     "output_type": "execute_result"
    }
   ],
   "source": [
    "domena = 'polsa.gov.pl'\n",
    "\n",
    "domena.endswith('.pl')"
   ]
  },
  {
   "cell_type": "code",
   "execution_count": 180,
   "metadata": {},
   "outputs": [
    {
     "data": {
      "text/plain": [
       "True"
      ]
     },
     "execution_count": 180,
     "metadata": {},
     "output_type": "execute_result"
    }
   ],
   "source": [
    "polskie_domeny = ('.pl', '.gov.pl', '.org.pl')\n",
    "domena = 'polsa.gov.pl'\n",
    "\n",
    "domena.endswith(polskie_domeny)"
   ]
  },
  {
   "cell_type": "markdown",
   "metadata": {},
   "source": [
    "### Podziel po liniach"
   ]
  },
  {
   "cell_type": "code",
   "execution_count": 184,
   "metadata": {},
   "outputs": [
    {
     "data": {
      "text/plain": [
       "['We choose to go to the Moon!',\n",
       " 'We choose to go to the Moon in this decade and do the other things,',\n",
       " 'not because they are easy, but because they are hard;',\n",
       " 'because that goal will serve to organize and measure the best of our energies and skills,',\n",
       " 'because that challenge is one that we are willing to accept, one we are unwilling to postpone,',\n",
       " 'and one we intend to win, and the others, too.']"
      ]
     },
     "execution_count": 184,
     "metadata": {},
     "output_type": "execute_result"
    }
   ],
   "source": [
    "moon_speech = \"\"\"We choose to go to the Moon!\n",
    "We choose to go to the Moon in this decade and do the other things,\n",
    "not because they are easy, but because they are hard;\n",
    "because that goal will serve to organize and measure the best of our energies and skills,\n",
    "because that challenge is one that we are willing to accept, one we are unwilling to postpone,\n",
    "and one we intend to win, and the others, too.\"\"\"\n",
    "\n",
    "moon_speech.splitlines()"
   ]
  },
  {
   "cell_type": "markdown",
   "metadata": {},
   "source": [
    "### Podziel po znaku"
   ]
  },
  {
   "cell_type": "code",
   "execution_count": 187,
   "metadata": {},
   "outputs": [
    {
     "data": {
      "text/plain": [
       "['5.1', '3.5', '1.4', '0.2', 'setosa']"
      ]
     },
     "execution_count": 187,
     "metadata": {},
     "output_type": "execute_result"
    }
   ],
   "source": [
    "linia = '5.1,3.5,1.4,0.2,setosa'\n",
    "linia.split(',')"
   ]
  },
  {
   "cell_type": "code",
   "execution_count": 190,
   "metadata": {},
   "outputs": [
    {
     "data": {
      "text/plain": [
       "['We', 'choose', 'to', 'go', 'to', 'the', 'Moon!']"
      ]
     },
     "execution_count": 190,
     "metadata": {},
     "output_type": "execute_result"
    }
   ],
   "source": [
    "linia = 'We choose to go to the Moon!'\n",
    "\n",
    "linia.split()"
   ]
  },
  {
   "cell_type": "code",
   "execution_count": 192,
   "metadata": {},
   "outputs": [
    {
     "data": {
      "text/plain": [
       "['10.13.37.1', 'nasa.gov', 'esa.int', 'roscosmos.ru']"
      ]
     },
     "execution_count": 192,
     "metadata": {},
     "output_type": "execute_result"
    }
   ],
   "source": [
    "text = '10.13.37.1      nasa.gov esa.int roscosmos.ru'\n",
    "text.split()"
   ]
  },
  {
   "cell_type": "markdown",
   "metadata": {},
   "source": [
    "### Połącz po znaku"
   ]
  },
  {
   "cell_type": "code",
   "execution_count": 200,
   "metadata": {},
   "outputs": [
    {
     "data": {
      "text/plain": [
       "'We choose to go to the Moon!'"
      ]
     },
     "execution_count": 200,
     "metadata": {},
     "output_type": "execute_result"
    }
   ],
   "source": [
    "data = ['We', 'choose', 'to', 'go', 'to', 'the', 'Moon!']\n",
    "\n",
    "' '.join(data)"
   ]
  },
  {
   "cell_type": "code",
   "execution_count": 202,
   "metadata": {},
   "outputs": [
    {
     "data": {
      "text/plain": [
       "'5.1,3.5,1.4,0.2,setosa'"
      ]
     },
     "execution_count": 202,
     "metadata": {},
     "output_type": "execute_result"
    }
   ],
   "source": [
    "data = ['5.1', '3.5', '1.4', '0.2', 'setosa']\n",
    "\n",
    "','.join(data)"
   ]
  },
  {
   "cell_type": "code",
   "execution_count": 204,
   "metadata": {},
   "outputs": [
    {
     "name": "stdout",
     "output_type": "stream",
     "text": [
      "5.1\n",
      "3.5\n",
      "1.4\n",
      "0.2\n",
      "setosa\n"
     ]
    }
   ],
   "source": [
    "data = ['5.1', '3.5', '1.4', '0.2', 'setosa']\n",
    "\n",
    "result = '\\n'.join(data)\n",
    "print(result)"
   ]
  },
  {
   "cell_type": "code",
   "execution_count": 206,
   "metadata": {},
   "outputs": [],
   "source": [
    "data = ['We choose to go to the Moon!',\n",
    " 'We choose to go to the Moon in this decade and do the other things,',\n",
    " 'not because they are easy, but because they are hard;',\n",
    " 'because that goal will serve to organize and measure the best of our energies and skills,',\n",
    " 'because that challenge is one that we are willing to accept, one we are unwilling to postpone,',\n",
    " 'and one we intend to win, and the others, too.']"
   ]
  },
  {
   "cell_type": "code",
   "execution_count": 208,
   "metadata": {},
   "outputs": [
    {
     "name": "stdout",
     "output_type": "stream",
     "text": [
      "We choose to go to the Moon!\n",
      "We choose to go to the Moon in this decade and do the other things,\n",
      "not because they are easy, but because they are hard;\n",
      "because that goal will serve to organize and measure the best of our energies and skills,\n",
      "because that challenge is one that we are willing to accept, one we are unwilling to postpone,\n",
      "and one we intend to win, and the others, too.\n"
     ]
    }
   ],
   "source": [
    "print('\\n'.join(data))"
   ]
  },
  {
   "cell_type": "markdown",
   "metadata": {},
   "source": [
    "### Rozwiń tabulacje"
   ]
  },
  {
   "cell_type": "code",
   "execution_count": 212,
   "metadata": {},
   "outputs": [
    {
     "name": "stdout",
     "output_type": "stream",
     "text": [
      "1 2 3\n"
     ]
    }
   ],
   "source": [
    "print('1\\t2\\t3'.expandtabs(2))"
   ]
  },
  {
   "cell_type": "code",
   "execution_count": 215,
   "metadata": {},
   "outputs": [
    {
     "name": "stdout",
     "output_type": "stream",
     "text": [
      "001     00002   3\n"
     ]
    }
   ],
   "source": [
    "print('001\\t00002\\t3'.expandtabs(8))"
   ]
  },
  {
   "cell_type": "markdown",
   "metadata": {},
   "source": [
    "### Czy tylko białe znaki"
   ]
  },
  {
   "cell_type": "code",
   "execution_count": 221,
   "metadata": {},
   "outputs": [
    {
     "data": {
      "text/plain": [
       "True"
      ]
     },
     "execution_count": 221,
     "metadata": {},
     "output_type": "execute_result"
    }
   ],
   "source": [
    "data = ' \\t\\n'\n",
    "\n",
    "data.isspace()"
   ]
  },
  {
   "cell_type": "markdown",
   "metadata": {},
   "source": [
    "### Czy tylko znaki alfabetu"
   ]
  },
  {
   "cell_type": "code",
   "execution_count": 224,
   "metadata": {},
   "outputs": [
    {
     "data": {
      "text/plain": [
       "False"
      ]
     },
     "execution_count": 224,
     "metadata": {},
     "output_type": "execute_result"
    }
   ],
   "source": [
    "'ab-c'.isalpha()"
   ]
  },
  {
   "cell_type": "markdown",
   "metadata": {},
   "source": [
    "### Czy wartość numeryczna"
   ]
  },
  {
   "cell_type": "code",
   "execution_count": 225,
   "metadata": {
    "scrolled": true
   },
   "outputs": [
    {
     "data": {
      "text/plain": [
       "True"
      ]
     },
     "execution_count": 225,
     "metadata": {},
     "output_type": "execute_result"
    }
   ],
   "source": [
    "'1'.isnumeric()"
   ]
  },
  {
   "cell_type": "code",
   "execution_count": 226,
   "metadata": {},
   "outputs": [
    {
     "data": {
      "text/plain": [
       "True"
      ]
     },
     "execution_count": 226,
     "metadata": {},
     "output_type": "execute_result"
    }
   ],
   "source": [
    "'1'.isdigit()"
   ]
  },
  {
   "cell_type": "code",
   "execution_count": 227,
   "metadata": {},
   "outputs": [
    {
     "data": {
      "text/plain": [
       "True"
      ]
     },
     "execution_count": 227,
     "metadata": {},
     "output_type": "execute_result"
    }
   ],
   "source": [
    "'1'.isalnum()"
   ]
  },
  {
   "cell_type": "code",
   "execution_count": 228,
   "metadata": {},
   "outputs": [
    {
     "data": {
      "text/plain": [
       "True"
      ]
     },
     "execution_count": 228,
     "metadata": {},
     "output_type": "execute_result"
    }
   ],
   "source": [
    "'1'.isdecimal()"
   ]
  },
  {
   "cell_type": "code",
   "execution_count": 229,
   "metadata": {},
   "outputs": [
    {
     "data": {
      "text/plain": [
       "True"
      ]
     },
     "execution_count": 229,
     "metadata": {},
     "output_type": "execute_result"
    }
   ],
   "source": [
    "'1'.isdecimal()     # True\n",
    "'+1'.isdecimal()    # False\n",
    "'-1'.isdecimal()    # False\n",
    "'1.'.isdecimal()    # False\n",
    "'1,'.isdecimal()    # False\n",
    "'1.0'.isdecimal()   # False\n",
    "'1,0'.isdecimal()   # False\n",
    "'1_0'.isdecimal()   # False\n",
    "'10'.isdecimal()    # True\n",
    "\n",
    "'1'.isdigit()       # True\n",
    "'+1'.isdigit()      # False\n",
    "'-1'.isdigit()      # False\n",
    "'1.'.isdigit()      # False\n",
    "'1,'.isdigit()      # False\n",
    "'1.0'.isdigit()     # False\n",
    "'1,0'.isdigit()     # False\n",
    "'1_0'.isdigit()     # False\n",
    "'10'.isdigit()      # True\n",
    "\n",
    "'1'.isnumeric()     # True\n",
    "'+1'.isnumeric()    # False\n",
    "'-1'.isnumeric()    # False\n",
    "'1.'.isnumeric()    # False\n",
    "'1.0'.isnumeric()   # False\n",
    "'1,0'.isnumeric()   # False\n",
    "'1_0'.isnumeric()   # False\n",
    "'10'.isnumeric()    # True\n",
    "\n",
    "'1'.isalnum()       # True\n",
    "'+1'.isalnum()      # False\n",
    "'-1'.isalnum()      # False\n",
    "'1.'.isalnum()      # False\n",
    "'1,'.isalnum()      # False\n",
    "'1.0'.isalnum()     # False\n",
    "'1,0'.isalnum()     # False\n",
    "'1_0'.isalnum()     # False\n",
    "'10'.isalnum()      # True"
   ]
  },
  {
   "cell_type": "code",
   "execution_count": 230,
   "metadata": {},
   "outputs": [],
   "source": [
    "# https://docs.python.org/library/stdtypes.html#str.isalnum"
   ]
  },
  {
   "cell_type": "markdown",
   "metadata": {},
   "source": [
    "### Znajdywanie pozycji wycinków i liter"
   ]
  },
  {
   "cell_type": "code",
   "execution_count": 235,
   "metadata": {},
   "outputs": [
    {
     "data": {
      "text/plain": [
       "0"
      ]
     },
     "execution_count": 235,
     "metadata": {},
     "output_type": "execute_result"
    }
   ],
   "source": [
    "text = 'We choose to go to the Moon!'\n",
    "\n",
    "text.find('W')"
   ]
  },
  {
   "cell_type": "markdown",
   "metadata": {},
   "source": [
    "### Posiada"
   ]
  },
  {
   "cell_type": "code",
   "execution_count": 239,
   "metadata": {},
   "outputs": [
    {
     "data": {
      "text/plain": [
       "False"
      ]
     },
     "execution_count": 239,
     "metadata": {},
     "output_type": "execute_result"
    }
   ],
   "source": [
    "TEXT = \"\"\"We choose to go to the Moon!\n",
    "We choose to go to the Moon in this decade and do the other things,\n",
    "not because they are easy, but because they are hard;\n",
    "because that goal will serve to organize and measure the best of our energies and skills,\n",
    "because that challenge is one that we are willing to accept, one we are unwilling to postpone,\n",
    "and one we intend to win, and the others, too.\"\"\"\n",
    "\n",
    "'Moon' in TEXT\n",
    "\n",
    "'Monty' in 'Python'\n",
    "'Py' in 'Python'\n",
    "'py' in 'Python'"
   ]
  },
  {
   "cell_type": "markdown",
   "metadata": {},
   "source": [
    "### Zliczanie wystąpień"
   ]
  },
  {
   "cell_type": "code",
   "execution_count": 242,
   "metadata": {},
   "outputs": [
    {
     "data": {
      "text/plain": [
       "1"
      ]
     },
     "execution_count": 242,
     "metadata": {},
     "output_type": "execute_result"
    }
   ],
   "source": [
    "text = 'We choose to go to the Moon!'\n",
    "\n",
    "text.count('Moon')"
   ]
  },
  {
   "cell_type": "code",
   "execution_count": 243,
   "metadata": {},
   "outputs": [
    {
     "data": {
      "text/plain": [
       "2"
      ]
     },
     "execution_count": 243,
     "metadata": {},
     "output_type": "execute_result"
    }
   ],
   "source": [
    "TEXT = \"\"\"We choose to go to the Moon!\n",
    "We choose to go to the Moon in this decade and do the other things,\n",
    "not because they are easy, but because they are hard;\n",
    "because that goal will serve to organize and measure the best of our energies and skills,\n",
    "because that challenge is one that we are willing to accept, one we are unwilling to postpone,\n",
    "and one we intend to win, and the others, too.\"\"\"\n",
    "\n",
    "\n",
    "TEXT.count('Moon')"
   ]
  },
  {
   "cell_type": "markdown",
   "metadata": {},
   "source": [
    "### Zmiany w Python 3.9"
   ]
  },
  {
   "cell_type": "code",
   "execution_count": null,
   "metadata": {},
   "outputs": [],
   "source": [
    "str.removeprefix()\n",
    "str.removesuffix()\n",
    "\n",
    "PEP-616"
   ]
  },
  {
   "cell_type": "markdown",
   "metadata": {},
   "source": [
    "### Łączenie metod (chaining)"
   ]
  },
  {
   "cell_type": "code",
   "execution_count": 249,
   "metadata": {},
   "outputs": [
    {
     "name": "stdout",
     "output_type": "stream",
     "text": [
      "a='Python'\n",
      "b='Cython'\n"
     ]
    }
   ],
   "source": [
    "a = 'Python'\n",
    "b = a.upper().replace('P', 'C').title()\n",
    "\n",
    "print(f'{a=}')\n",
    "print(f'{b=}')"
   ]
  },
  {
   "cell_type": "code",
   "execution_count": 253,
   "metadata": {},
   "outputs": [
    {
     "ename": "AttributeError",
     "evalue": "'bool' object has no attribute 'replace'",
     "output_type": "error",
     "traceback": [
      "\u001b[0;31m---------------------------------------------------------------------------\u001b[0m",
      "\u001b[0;31mAttributeError\u001b[0m                            Traceback (most recent call last)",
      "\u001b[0;32m<ipython-input-253-a05d92d1bf3a>\u001b[0m in \u001b[0;36m<module>\u001b[0;34m\u001b[0m\n\u001b[1;32m      1\u001b[0m \u001b[0ma\u001b[0m \u001b[0;34m=\u001b[0m \u001b[0;34m'Python'\u001b[0m\u001b[0;34m\u001b[0m\u001b[0;34m\u001b[0m\u001b[0m\n\u001b[1;32m      2\u001b[0m \u001b[0;34m\u001b[0m\u001b[0m\n\u001b[0;32m----> 3\u001b[0;31m \u001b[0mb\u001b[0m \u001b[0;34m=\u001b[0m \u001b[0;32mTrue\u001b[0m\u001b[0;34m.\u001b[0m\u001b[0mreplace\u001b[0m\u001b[0;34m(\u001b[0m\u001b[0;34m'P'\u001b[0m\u001b[0;34m,\u001b[0m \u001b[0;34m'C'\u001b[0m\u001b[0;34m)\u001b[0m\u001b[0;34m\u001b[0m\u001b[0;34m\u001b[0m\u001b[0m\n\u001b[0m",
      "\u001b[0;31mAttributeError\u001b[0m: 'bool' object has no attribute 'replace'"
     ]
    }
   ],
   "source": [
    "a = 'Python'\n",
    "\n",
    "b = True.replace('P', 'C')"
   ]
  },
  {
   "cell_type": "code",
   "execution_count": 252,
   "metadata": {},
   "outputs": [
    {
     "data": {
      "text/plain": [
       "True"
      ]
     },
     "execution_count": 252,
     "metadata": {},
     "output_type": "execute_result"
    }
   ],
   "source": [
    "'PYTHON'.startswith('P')"
   ]
  },
  {
   "cell_type": "markdown",
   "metadata": {},
   "source": [
    "## Czyszczenie danych\n",
    "\n",
    "* znaczna część Data Science i Machine Learning to sprowadzanie danych do oczyszczonej postaci"
   ]
  },
  {
   "cell_type": "markdown",
   "metadata": {},
   "source": [
    "### Adresy\n",
    "\n",
    "1. 'ul. Jana III Sobieskiego'\n",
    "1. 'ul Jana III Sobieskiego'\n",
    "1. 'ul.Jana III Sobieskiego'\n",
    "1. 'ulicaJana III Sobieskiego'\n",
    "1. 'Ul. Jana III Sobieskiego'\n",
    "1. 'UL. Jana III Sobieskiego'\n",
    "1. 'ulica Jana III Sobieskiego'\n",
    "1. 'Ulica. Jana III Sobieskiego'\n",
    "1. 'os. Jana III Sobieskiego'\n",
    "1. 'Jana 3 Sobieskiego'\n",
    "1. 'Jana 3ego Sobieskiego'\n",
    "1. 'Jana III Sobieskiego'\n",
    "1. 'Jana Iii Sobieskiego'\n",
    "1. 'Jana IIi Sobieskiego'\n",
    "1. 'Jana lll Sobieskiego'  # three small letters 'L'"
   ]
  },
  {
   "cell_type": "markdown",
   "metadata": {},
   "source": [
    "### Ulice\n",
    "\n",
    "* 'ul'\n",
    "* 'ul.'\n",
    "* 'Ul.'\n",
    "* 'UL.'\n",
    "* 'ulica'\n",
    "* 'Ulica'\n",
    "\n",
    "\n",
    "* 'os'\n",
    "* 'os.'\n",
    "* 'Os.'\n",
    "* 'osiedle'\n",
    "\n",
    "\n",
    "* 'oś'\n",
    "* 'oś.'\n",
    "* 'Oś.'\n",
    "* 'ośedle'\n",
    "\n",
    "\n",
    "* 'pl'\n",
    "* 'pl.'\n",
    "* 'Pl.'\n",
    "* 'plac'\n",
    "\n",
    "\n",
    "* 'al'\n",
    "* 'al.'\n",
    "* 'Al.'\n",
    "\n",
    "\n",
    "* 'aleja'\n",
    "* 'aleia'\n",
    "* 'alei'\n",
    "* 'aleii'\n",
    "* 'aleji'"
   ]
  },
  {
   "cell_type": "markdown",
   "metadata": {},
   "source": [
    "### Numery domów i mieszkań\n",
    "\n",
    "* 'Ćwiartki 3/4'\n",
    "* 'Ćwiartki 3 / 4'\n",
    "* 'Ćwiartki 3 m. 4'\n",
    "* 'Ćwiartki 3 m 4'\n",
    "* 'Brighton Beach 1st apt 2'\n",
    "* 'Brighton Beach 1st apt. 2'\n",
    "* 'Myśliwiecka 3/5/7'\n",
    "\n",
    "\n",
    "* '180f/8f'\n",
    "* '180f/8'\n",
    "* '180/8f'\n",
    "\n",
    "\n",
    "* 'Jana Twardowskiego III 3 m. 3'\n",
    "* 'Jana Twardowskiego 13d bud. A piętro II sala 3'"
   ]
  },
  {
   "cell_type": "markdown",
   "metadata": {},
   "source": [
    "### Numery telfonów\n",
    "\n",
    "* +48 (12) 355 5678\n",
    "* +48 123 555 678\n",
    "\n",
    "\n",
    "* 123 555 678\n",
    "\n",
    "\n",
    "* +48 12 355 5678\n",
    "* +48 123-555-678\n",
    "* +48 123 555 6789\n",
    "\n",
    "\n",
    "* +1 (123) 555-6789\n",
    "* +1 (123).555.6789\n",
    "\n",
    "\n",
    "* +1 800-python\n",
    "* +48123555678\n",
    "\n",
    "\n",
    "* +48 123 555 678 wew. 1337\n",
    "* +48 123555678,1\n",
    "* +48 123555678,1,,2"
   ]
  }
 ],
 "metadata": {
  "kernelspec": {
   "display_name": "Python 3",
   "language": "python",
   "name": "python3"
  },
  "language_info": {
   "codemirror_mode": {
    "name": "ipython",
    "version": 3
   },
   "file_extension": ".py",
   "mimetype": "text/x-python",
   "name": "python",
   "nbconvert_exporter": "python",
   "pygments_lexer": "ipython3",
   "version": "3.8.3"
  }
 },
 "nbformat": 4,
 "nbformat_minor": 4
}
