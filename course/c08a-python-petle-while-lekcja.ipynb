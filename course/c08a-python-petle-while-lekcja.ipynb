{
 "cells": [
  {
   "cell_type": "markdown",
   "metadata": {},
   "source": [
    "# Python: Pętle `while`"
   ]
  },
  {
   "cell_type": "markdown",
   "metadata": {},
   "source": [
    "## Pętla `while`\n",
    "\n",
    "* składnia\n",
    "* konwencje\n",
    "* przykłady użycia\n",
    "* wyjście z pętli (`break`)\n",
    "* pominięcie iteracji (`continue`)"
   ]
  },
  {
   "cell_type": "code",
   "execution_count": 1,
   "metadata": {},
   "outputs": [
    {
     "name": "stdout",
     "output_type": "stream",
     "text": [
      "0\n",
      "1\n",
      "2\n",
      "3\n"
     ]
    }
   ],
   "source": [
    "i = 0\n",
    "\n",
    "while i <= 3:\n",
    "    print(i)\n",
    "    i += 1"
   ]
  },
  {
   "cell_type": "code",
   "execution_count": 2,
   "metadata": {
    "scrolled": true
   },
   "outputs": [
    {
     "name": "stdout",
     "output_type": "stream",
     "text": [
      "0\n",
      "1\n",
      "2\n",
      "3\n"
     ]
    }
   ],
   "source": [
    "i = 0\n",
    "\n",
    "while i <= 3:\n",
    "    print(i)\n",
    "    i += 1"
   ]
  },
  {
   "cell_type": "code",
   "execution_count": 3,
   "metadata": {},
   "outputs": [
    {
     "name": "stdout",
     "output_type": "stream",
     "text": [
      "1\n",
      "4\n",
      "9\n",
      "16\n"
     ]
    }
   ],
   "source": [
    "data = [1, 2, 3, 4]\n",
    "i = 0\n",
    "\n",
    "while i < len(data):\n",
    "    cyfra = data[i]\n",
    "    print(cyfra ** 2)\n",
    "    i += 1"
   ]
  },
  {
   "cell_type": "code",
   "execution_count": 4,
   "metadata": {},
   "outputs": [
    {
     "name": "stdout",
     "output_type": "stream",
     "text": [
      "Start rakiety za 10 sekund...\n",
      "Start rakiety za 9 sekund...\n",
      "Start rakiety za 8 sekund...\n",
      "Wykryto wyciek paliwa\n",
      "Przerywamy start!\n"
     ]
    }
   ],
   "source": [
    "abort = False\n",
    "i = 10\n",
    "\n",
    "while not abort:\n",
    "    print(f'Start rakiety za {i} sekund...')\n",
    "    i -= 1\n",
    "    \n",
    "    if i == 7:\n",
    "        print('Wykryto wyciek paliwa')\n",
    "        print('Przerywamy start!')\n",
    "        abort = True"
   ]
  },
  {
   "cell_type": "code",
   "execution_count": 5,
   "metadata": {},
   "outputs": [],
   "source": [
    "running = True\n",
    "i = 10\n",
    "\n",
    "while running:\n",
    "    running = False"
   ]
  },
  {
   "cell_type": "code",
   "execution_count": 6,
   "metadata": {},
   "outputs": [
    {
     "name": "stdout",
     "output_type": "stream",
     "text": [
      "kliknięcie samego entera (bez wpisywania cyfry) zamyka program\n",
      "Wprowadź cyfrę: 1\n",
      "Udało się: 1\n",
      "Wprowadź cyfrę: \n",
      "nic nie wprowadziłeś/aś wychodzę\n"
     ]
    }
   ],
   "source": [
    "print('kliknięcie samego entera (bez wpisywania cyfry) zamyka program')\n",
    "\n",
    "\n",
    "while True:\n",
    "    cyfra = input('Wprowadź cyfrę: ').strip()\n",
    "    \n",
    "    if not cyfra:\n",
    "        print('nic nie wprowadziłeś/aś wychodzę')\n",
    "        break\n",
    "    \n",
    "    try:\n",
    "        cyfra = int(cyfra)\n",
    "    except ValueError:\n",
    "        print('nie wprowadzono liczby')\n",
    "        print('spróbuj ponownie')\n",
    "        continue\n",
    "        \n",
    "    print(f'Udało się: {cyfra}')"
   ]
  }
 ],
 "metadata": {
  "kernelspec": {
   "display_name": "Python 3",
   "language": "python",
   "name": "python3"
  },
  "language_info": {
   "codemirror_mode": {
    "name": "ipython",
    "version": 3
   },
   "file_extension": ".py",
   "mimetype": "text/x-python",
   "name": "python",
   "nbconvert_exporter": "python",
   "pygments_lexer": "ipython3",
   "version": "3.8.3"
  }
 },
 "nbformat": 4,
 "nbformat_minor": 4
}
