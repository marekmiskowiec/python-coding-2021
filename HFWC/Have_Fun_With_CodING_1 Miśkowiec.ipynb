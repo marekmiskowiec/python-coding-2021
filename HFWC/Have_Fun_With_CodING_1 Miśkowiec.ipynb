{
 "cells": [
  {
   "cell_type": "markdown",
   "metadata": {},
   "source": [
    "# Have Fun With CodING #1\n",
    "##### "
   ]
  },
  {
   "cell_type": "markdown",
   "metadata": {},
   "source": [
    "# 1. Typy znakowe i operacje na nich\n",
    "## Zadanie 1.1\n",
    "\n",
    "1. Policz długość poniższego stringa\n",
    "1. Wyświetl pierwsze 6 znaków oraz zakres znaków od indeksu 208 do 248 w jednym `print()`\n",
    "1. Zwróć co dziesiąty wyraz tekstu (wyraz to ciąg znaków oddzielony spacjami) zaczynając od indeksu 1\n",
    "1. Wyświetl tekst odwrotnie: zamiast 'abcd' -> 'dcba'\n",
    "1. Policz ile raz w tekście pojawia się słowo 'Python' (nie bierzemy pod uwagę słów takich jak CLPython, czy CPython)\n",
    "1. Wyświetl osobno akapit 1, 2 oraz 3\n",
    "1. Zamień litery zgodnie z poniższą zasadą:\n",
    "    * pierwszy akapit: wszystkie wyrazy zaczynające się z wielkiej litery (reszta małe)\n",
    "    * drugi akapit: wszystkie wyrazy zapisane małymi literami\n",
    "    * trzeci akapit: wszystkie wyrazy zapisane dużymi literami\n",
    "    * Połącz ze sobą wszystkie akapity w jeden string i przypisz do zmiennej: nowy_tekst\n",
    "1. Zamień wszystkie w tekście wszystie \"i\" na \"oraz\". Nie zamień przy okazji wyrazów zawierających i w środku np. programowania na programowanoraza :)  \n",
    "  "
   ]
  },
  {
   "cell_type": "code",
   "execution_count": 2,
   "metadata": {},
   "outputs": [],
   "source": [
    "tekst = '''Python – język programowania wysokiego poziomu ogólnego przeznaczenia,\n",
    "o rozbudowanym pakiecie bibliotek standardowych[5], którego ideą przewodnią jest czytelność \n",
    "i klarowność kodu źródłowego. Jego składnia cechuje się przejrzystością i zwięzłością. \n",
    "\n",
    "Python wspiera różne paradygmaty programowania: obiektowy, \n",
    "imperatywny oraz w mniejszym stopniu funkcyjny. \n",
    "Posiada w pełni dynamiczny system typów i automatyczne zarządzanie pamięcią, \n",
    "będąc w tym podobnym do języków Perl, Ruby, Schefme czy Tcl. \n",
    "Podobnie jak inne języki dynamiczne jest często używany jako język skryptowy. \n",
    "Interpretery Pythona są dostępne na wiele systemów operacyajnych. \n",
    "\n",
    "Python rozwijany jest jako projekt Open Source zarządzany przez Python Software Foundation, \n",
    "która jest organizacją non-profit. Standardową implementacją języka jest CPython (napisany w C), \n",
    "ale istnieją też inne, np. Jython (napisany w Javie), CLPython napisany w Common Lisp, \n",
    "IronPython (na platformę .NET) i PyPy (napisany w Pythonie, zob. bootstrap).'''"
   ]
  },
  {
   "cell_type": "code",
   "execution_count": 3,
   "metadata": {},
   "outputs": [
    {
     "data": {
      "text/plain": [
       "1004"
      ]
     },
     "execution_count": 3,
     "metadata": {},
     "output_type": "execute_result"
    }
   ],
   "source": [
    "#1\n",
    "len(tekst)"
   ]
  },
  {
   "cell_type": "code",
   "execution_count": 4,
   "metadata": {},
   "outputs": [
    {
     "name": "stdout",
     "output_type": "stream",
     "text": [
      "Python cechuje się przejrzystością i zwięzłością\n"
     ]
    }
   ],
   "source": [
    "#2\n",
    "print(tekst[0:6],tekst[208:249])"
   ]
  },
  {
   "cell_type": "code",
   "execution_count": 5,
   "metadata": {},
   "outputs": [
    {
     "name": "stdout",
     "output_type": "stream",
     "text": [
      "['Python', 'bibliotek', 'źródłowego.', 'różne', '\\nPosiada', '\\nbędąc', 'Tcl.', 'język', '\\n\\nPython', 'Software', 'CPython', '(napisany', 'platformę']\n"
     ]
    }
   ],
   "source": [
    "podzielony = tekst.split(' ')\n",
    "print(podzielony[::10])"
   ]
  },
  {
   "cell_type": "code",
   "execution_count": 8,
   "metadata": {},
   "outputs": [
    {
     "name": "stdout",
     "output_type": "stream",
     "text": [
      ".)partstoob .boz ,einohtyP w ynasipan( yPyP i )TEN. ęmroftalp an( nohtyPnorI\n",
      " ,psiL nommoC w ynasipan nohtyPLC ,)eivaJ w ynasipan( nohtyJ .pn ,enni żet ąjeintsi ela\n",
      " ,)C w ynasipan( nohtyPC tsej akyzęj ąjcatnemelpmi ąwodradnatS .tiforp-non ąjcazinagro tsej arótk\n",
      " ,noitadnuoF erawtfoS nohtyP zezrp ynazdązraz ecruoS nepO tkejorp okaj tsej ynajiwzor nohtyP\n",
      "\n",
      " .hcynjaycarepo wómetsys eleiw an enpętsod ąs anohtyP yreterpretnI\n",
      " .ywotpyrks kyzęj okaj ynawyżu otsęzc tsej enzcimanyd ikyzęj enni kaj einbodoP\n",
      " .lcT yzc emfehcS ,ybuR ,lreP wókyzęj od mynbodop myt w cądęb\n",
      " ,ąicęimap einazdązraz enzcytamotua i wópyt metsys ynzcimanyd inłep w adaisoP\n",
      " .ynjycknuf uinpots myzsjeinm w zaro ynwytarepmi\n",
      " ,ywotkeibo :ainawomargorp ytamgydarap enżór areipsw nohtyP\n",
      "\n",
      " .ąicśołzęiwz i ąicśotsyzrjezrp ęis ejuhcec aindałks ogeJ .ogewołdórź udok ćśonworalk i\n",
      " ćśonletyzc tsej ąindowezrp ąedi ogerótk ,]5[hcywodradnats ketoilbib eiceikap mynawodubzor o\n",
      ",ainezcanzezrp ogenlógo umoizop ogeikosyw ainawomargorp kyzęj – nohtyP\n"
     ]
    }
   ],
   "source": [
    "#4\n",
    "print(tekst[::-1])"
   ]
  },
  {
   "cell_type": "code",
   "execution_count": 12,
   "metadata": {},
   "outputs": [
    {
     "name": "stdout",
     "output_type": "stream",
     "text": [
      "6\n"
     ]
    }
   ],
   "source": [
    "#5\n",
    "import re\n",
    "print(len(re.compile(r\"\\b[Pp]ython\").findall(tekst)))"
   ]
  },
  {
   "cell_type": "code",
   "execution_count": 17,
   "metadata": {},
   "outputs": [
    {
     "name": "stdout",
     "output_type": "stream",
     "text": [
      "Akapit 1\n",
      "Python – język programowania wysokiego poziomu ogólnego przeznaczenia,\n",
      "o rozbudowanym pakiecie bibliotek standardowych[5], którego ideą przewodnią jest czytelność \n",
      "i klarowność kodu źródłowego. Jego składnia cechuje się przejrzystością i zwięzłością. \n",
      "\n",
      "Akapit 2\n",
      "Python wspiera różne paradygmaty programowania: obiektowy, \n",
      "imperatywny oraz w mniejszym stopniu funkcyjny. \n",
      "Posiada w pełni dynamiczny system typów i automatyczne zarządzanie pamięcią, \n",
      "będąc w tym podobnym do języków Perl, Ruby, Schefme czy Tcl. \n",
      "Podobnie jak inne języki dynamiczne jest często używany jako język skryptowy. \n",
      "Interpretery Pythona są dostępne na wiele systemów operacyajnych. \n",
      "\n",
      "Akapit 3\n",
      "Python rozwijany jest jako projekt Open Source zarządzany przez Python Software Foundation, \n",
      "która jest organizacją non-profit. Standardową implementacją języka jest CPython (napisany w C), \n",
      "ale istnieją też inne, np. Jython (napisany w Javie), CLPython napisany w Common Lisp, \n",
      "IronPython (na platformę .NET) i PyPy (napisany w Pythonie, zob. bootstrap).\n"
     ]
    }
   ],
   "source": [
    "#6\n",
    "akapit1 = tekst.split('\\n\\n')[0]\n",
    "akapit2 = tekst.split('\\n\\n')[1]\n",
    "akapit3 = tekst.split('\\n\\n')[2]\n",
    "print(f'Akapit 1\\n{akapit1}\\n\\nAkapit 2\\n{akapit2}\\n\\nAkapit 3\\n{akapit3}')"
   ]
  },
  {
   "cell_type": "code",
   "execution_count": 18,
   "metadata": {},
   "outputs": [
    {
     "name": "stdout",
     "output_type": "stream",
     "text": [
      "Python – Język Programowania Wysokiego Poziomu Ogólnego Przeznaczenia,\n",
      "O Rozbudowanym Pakiecie Bibliotek Standardowych[5], Którego Ideą Przewodnią Jest Czytelność \n",
      "I Klarowność Kodu Źródłowego. Jego Składnia Cechuje Się Przejrzystością I Zwięzłością. python wspiera różne paradygmaty programowania: obiektowy, \n",
      "imperatywny oraz w mniejszym stopniu funkcyjny. \n",
      "posiada w pełni dynamiczny system typów i automatyczne zarządzanie pamięcią, \n",
      "będąc w tym podobnym do języków perl, ruby, schefme czy tcl. \n",
      "podobnie jak inne języki dynamiczne jest często używany jako język skryptowy. \n",
      "interpretery pythona są dostępne na wiele systemów operacyajnych. PYTHON ROZWIJANY JEST JAKO PROJEKT OPEN SOURCE ZARZĄDZANY PRZEZ PYTHON SOFTWARE FOUNDATION, \n",
      "KTÓRA JEST ORGANIZACJĄ NON-PROFIT. STANDARDOWĄ IMPLEMENTACJĄ JĘZYKA JEST CPYTHON (NAPISANY W C), \n",
      "ALE ISTNIEJĄ TEŻ INNE, NP. JYTHON (NAPISANY W JAVIE), CLPYTHON NAPISANY W COMMON LISP, \n",
      "IRONPYTHON (NA PLATFORMĘ .NET) I PYPY (NAPISANY W PYTHONIE, ZOB. BOOTSTRAP).\n"
     ]
    }
   ],
   "source": [
    "#7a\n",
    "title = akapit1.title()\n",
    "#7b\n",
    "male = akapit2.lower()\n",
    "#7c\n",
    "duze = akapit3.upper()\n",
    "#7d\n",
    "nowy_tekst = title + male + duze\n",
    "print(nowy_tekst)"
   ]
  },
  {
   "cell_type": "code",
   "execution_count": 36,
   "metadata": {},
   "outputs": [
    {
     "name": "stdout",
     "output_type": "stream",
     "text": [
      "Python – język programowania wysokiego poziomu ogólnego przeznaczenia,\n",
      "o rozbudowanym pakiecie bibliotek standardowych[5], którego ideą przewodnią jest czytelność \n",
      "oraz klarowność kodu źródłowego. Jego składnia cechuje się przejrzystością oraz zwięzłością. \n",
      "\n",
      "Python wspiera różne paradygmaty programowania: obiektowy, \n",
      "imperatywny oraz w mniejszym stopniu funkcyjny. \n",
      "Posiada w pełni dynamiczny system typów oraz automatyczne zarządzanie pamięcią, \n",
      "będąc w tym podobnym do języków Perl, Ruby, Schefme czy Tcl. \n",
      "Podobnie jak inne języki dynamiczne jest często używany jako język skryptowy. \n",
      "Interpretery Pythona są dostępne na wiele systemów operacyajnych. \n",
      "\n",
      "Python rozwijany jest jako projekt Open Source zarządzany przez Python Software Foundation, \n",
      "która jest organizacją non-profit. Standardową implementacją języka jest CPython (napisany w C), \n",
      "ale istnieją też inne, np. Jython (napisany w Javie), CLPython napisany w Common Lisp, \n",
      "IronPython (na platformę .NET) oraz PyPy (napisany w Pythonie, zob. bootstrap).\n"
     ]
    }
   ],
   "source": [
    "#8\n",
    "nowy_tekst2 = tekst.replace(' i ', ' oraz ')\n",
    "nowy_tekst2 = nowy_tekst2.replace('\\ni ', '\\noraz ')\n",
    "print(nowy_tekst2)"
   ]
  },
  {
   "cell_type": "markdown",
   "metadata": {},
   "source": [
    "# 2. Zagnieżdżenia\n",
    "## Zadanie 2.1\n",
    "1. Wypisz za pomocą print():'znajdź mnie' ze słowników: slownik_1, slownik_2\n",
    "1. Podaj indeks 'ok' w liście, odnosząc się do słowników"
   ]
  },
  {
   "cell_type": "code",
   "execution_count": 38,
   "metadata": {},
   "outputs": [],
   "source": [
    "slownik_1 = {\n",
    "    'pierwsza struktura':{1:'znajdź mnie'},\n",
    "    'coś innego':[1,2,3,4,1233,32,1,2,13,44,6,2,3,45,7,5,3,4,'ok',4,24,0,6,42,4,6,4,2,9,7,5,5,42,5]\n",
    "}\n",
    "\n",
    "slownik_2 = {\n",
    "    1: {'element_1':[(1,2),(2,4),('znajdź mnie',2)], 'element_2':[(1,2),(2,4),(0,2)]},\n",
    "    2: {1:'coś', 2:'coś innego'},\n",
    "    3: {1.3:[24,46,'ok',4,3], 1.4:[0,2]}\n",
    "}"
   ]
  },
  {
   "cell_type": "code",
   "execution_count": 39,
   "metadata": {},
   "outputs": [
    {
     "name": "stdout",
     "output_type": "stream",
     "text": [
      "znajdź mnie\n"
     ]
    }
   ],
   "source": [
    "print(slownik_1['pierwsza struktura'][1])"
   ]
  },
  {
   "cell_type": "code",
   "execution_count": 40,
   "metadata": {},
   "outputs": [
    {
     "name": "stdout",
     "output_type": "stream",
     "text": [
      "znajdź mnie\n"
     ]
    }
   ],
   "source": [
    "print(slownik_2[1]['element_1'][2][0])"
   ]
  },
  {
   "cell_type": "code",
   "execution_count": 41,
   "metadata": {},
   "outputs": [
    {
     "name": "stdout",
     "output_type": "stream",
     "text": [
      "18\n"
     ]
    }
   ],
   "source": [
    "print(slownik_1['coś innego'].index('ok'))"
   ]
  },
  {
   "cell_type": "code",
   "execution_count": 42,
   "metadata": {},
   "outputs": [
    {
     "name": "stdout",
     "output_type": "stream",
     "text": [
      "2\n"
     ]
    }
   ],
   "source": [
    "print(slownik_2[3][1.3].index('ok'))"
   ]
  },
  {
   "cell_type": "markdown",
   "metadata": {},
   "source": [
    "## Zadanie 2.2\n",
    "Mając zagnieżdżoną sekwencję ```list_``` rozszerz ją, dodając listę ```sub_list```, żeby w wyniku otrzymać ```expected_list```"
   ]
  },
  {
   "cell_type": "code",
   "execution_count": 43,
   "metadata": {},
   "outputs": [],
   "source": [
    "# Lista na wejściu:\n",
    "list_ = [\"PEP8\", \"Zmienne\", [[\"Typ_int\", \"Typ_float\"], \"Typ_logiczny\"], \"String\",\n",
    "         [[\"Lista\"], \"Slowniki\"]]"
   ]
  },
  {
   "cell_type": "code",
   "execution_count": 44,
   "metadata": {},
   "outputs": [],
   "source": [
    "# Lista która powinna być dodana do wejściowej listy:\n",
    "sub_list = [\"Krotka\", \"Set\"]"
   ]
  },
  {
   "cell_type": "code",
   "execution_count": 45,
   "metadata": {},
   "outputs": [],
   "source": [
    "# Oczekiwany wynik:\n",
    "expected_list = [\"PEP8\", \"Zmienne\", [[\"Typ_int\", \"Typ_float\"], \"Typ_logiczny\"], \"String\",\n",
    "         [[\"Lista\", \"Krotka\", \"Set\"], \"Slowniki\"]]"
   ]
  },
  {
   "cell_type": "code",
   "execution_count": 46,
   "metadata": {},
   "outputs": [],
   "source": [
    "my_list = list_\n",
    "my_list[4][0].extend(sub_list)"
   ]
  },
  {
   "cell_type": "code",
   "execution_count": 47,
   "metadata": {},
   "outputs": [
    {
     "name": "stdout",
     "output_type": "stream",
     "text": [
      "Listy są takie same\n"
     ]
    }
   ],
   "source": [
    "# Sprawdź czy my_list = expected_list\n",
    "if my_list == expected_list:\n",
    "    print(\"Listy są takie same\" )\n",
    "else:\n",
    "    print(\"Listy nie są takie same\")"
   ]
  },
  {
   "cell_type": "code",
   "execution_count": 96,
   "metadata": {},
   "outputs": [
    {
     "data": {
      "text/plain": [
       "True"
      ]
     },
     "execution_count": 96,
     "metadata": {},
     "output_type": "execute_result"
    }
   ],
   "source": [
    "my_list == expected_list"
   ]
  },
  {
   "cell_type": "markdown",
   "metadata": {},
   "source": [
    "# 3. Relacje między słownikami\n",
    "\n",
    "W Akademii wyniki egzaminów końcowych przechowujemy w specjalnej strukturze składającej się z dwóch słowników (poniżej fragmenty):\n",
    "- słownik studenci ma postać (klucz to numer pesel):\n",
    "```python\n",
    "{99887766543:\n",
    "    {\"imie\":\"Jan\",\n",
    "    \"nazwisko\":\"Nowak\"},\n",
    "12345678901:\n",
    "    {\"imie\":\"Anna\",\n",
    "    \"nazwisko\":\"Kowalska\"}}\n",
    "```\n",
    "  \n",
    "- słownik wyniki ma postać (klucz to nazwa grupy, a wewnątrz klucz to pesel, a wartość to ilość zdobytych punktów)\n",
    "```python\n",
    "{\"grupa_a\":\n",
    "    {\"99887766543\":25,\n",
    "    \"00000000000\":32},\n",
    "\"grupa_b\":\n",
    "    {\"99887766554\":33,\n",
    "    \"12345678901\":52}\n",
    "}\n",
    "```\n",
    "\n",
    "Jak widzicie te słowniki pozostają ze sobą w relacji - łączy je PESEL. W zmiennych ```studenci``` i ```wyniki``` znajduje się cała nasza baza."
   ]
  },
  {
   "cell_type": "code",
   "execution_count": 16,
   "metadata": {},
   "outputs": [],
   "source": [
    "studenci={60101374286: {'imie': 'Bronisław', 'nazwisko': 'Mróz'}, 74090834726: {'imie': 'Kajetan', 'nazwisko': 'Krupa'}, 99092773462: {'imie': 'Miron', 'nazwisko': 'Zawadzki'}, 69071955945: {'imie': 'Marcel', 'nazwisko': 'Dąbrowski'}, 65031061536: {'imie': 'Ksawery', 'nazwisko': 'Witkowski'}, 62062359557: {'imie': 'Ignacy', 'nazwisko': 'Walczak'}, 83122543884: {'imie': 'Mariusz', 'nazwisko': 'Chmielewski'}, 48090662812: {'imie': 'Antoni', 'nazwisko': 'Czerwiński'}, 75072922653: {'imie': 'Krystian', 'nazwisko': 'Szewczyk'}, 54040148912: {'imie': 'Borys', 'nazwisko': 'Piotrowski'}, 81082875854: {'imie': 'Kornel', 'nazwisko': 'Tomaszewski'}, 80022651222: {'imie': 'Aleks', 'nazwisko': 'Górecki'}, 45090651497: {'imie': 'Amadeusz', 'nazwisko': 'Andrzejewski'}, 71031134545: {'imie': 'Allan', 'nazwisko': 'Mróz'}, 76112114575: {'imie': 'Remigiusz', 'nazwisko': 'Kowalczyk'}, 92030672294: {'imie': 'Anatol', 'nazwisko': 'Witkowski'}, 99112553214: {'imie': 'Gustaw', 'nazwisko': 'Czarnecki'}, 45121867952: {'imie': 'Mikołaj', 'nazwisko': 'Krupa'}, 74083059666: {'imie': 'Jarosław', 'nazwisko': 'Pietrzak'}, 53012967195: {'imie': 'Dariusz', 'nazwisko': 'Szulc'}, 97030648258: {'imie': 'Alex', 'nazwisko': 'Bąk'}, 90061815918: {'imie': 'Leonardo', 'nazwisko': 'Malinowski'}, 50102597722: {'imie': 'Bruno', 'nazwisko': 'Pawlak'}, 76033084683: {'imie': 'Przemysław', 'nazwisko': 'Maciejewski'}, 80121669654: {'imie': 'Olaf', 'nazwisko': 'Błaszczyk'}, 64032373893: {'imie': 'Jerzy', 'nazwisko': 'Bąk'}, 80070664782: {'imie': 'Maciej', 'nazwisko': 'Wiśniewski'}, 78041878748: {'imie': 'Oktawian', 'nazwisko': 'Sokołowski'}, 70120589983: {'imie': 'Damian', 'nazwisko': 'Nowak'}, 99072213474: {'imie': 'Ludwik', 'nazwisko': 'Lewandowski'}, 92092646668: {'imie': 'Aureliusz', 'nazwisko': 'Kowalczyk'}, 32914356321: {'imie': 'Amadeusz', 'nazwisko': 'Witkowski'}, 66053098454: {'imie': 'Miłosz', 'nazwisko': 'Wasilewska'}, 61092339991: {'imie': 'Emanuel', 'nazwisko': 'Gajewska'}, 22122628361: {'imie': 'Bartosz', 'nazwisko': 'Wysocki'}, 75081143786: {'imie': 'Cyprian', 'nazwisko': 'Kołodziej'}, 69110678378: {'imie': 'Olgierd', 'nazwisko': 'Włodarczyk'}, 90031312542: {'imie': 'Gabriel', 'nazwisko': 'Czerwiński'}, 54022326334: {'imie': 'Adrian', 'nazwisko': 'Kaźmierczak'}, 48022099541: {'imie': 'Hubert', 'nazwisko': 'Gajewska'}, 66042797421: {'imie': 'Lucjan', 'nazwisko': 'Borkowski'}, 13208275864: {'imie': 'Adrian', 'nazwisko': 'Głowacka'}, 12619622827: {'imie': 'Ariel', 'nazwisko': 'Baran'}, 48051151238: {'imie': 'Florian', 'nazwisko': 'Górski'}, 58010213484: {'imie': 'Bruno', 'nazwisko': 'Baranowski'}, 50021092999: {'imie': 'Jędrzej', 'nazwisko': 'Górecki'}, 42724171511: {'imie': 'Robert', 'nazwisko': 'Ostrowski'}, 62013189686: {'imie': 'Kuba', 'nazwisko': 'Wojciechowski'}, 45072018694: {'imie': 'Ludwik', 'nazwisko': 'Bąk'}, 82101961741: {'imie': 'Ryszard', 'nazwisko': 'Zieliński'}, 46081985557: {'imie': 'Bronisław', 'nazwisko': 'Górski'}, 56051577622: {'imie': 'Alfred', 'nazwisko': 'Borkowski'}, 99123115421: {'imie': 'Julian', 'nazwisko': 'Borkowski'}, 94031881422: {'imie': 'Eustachy', 'nazwisko': 'Wróblewski'}, 74113058234: {'imie': 'Ryszard', 'nazwisko': 'Dąbrowski'}, 77012285158: {'imie': 'Olgierd', 'nazwisko': 'Urbańska'}, 65112524372: {'imie': 'Adrian', 'nazwisko': 'Wiśniewski'}, 53110419192: {'imie': 'Klaudiusz', 'nazwisko': 'Marciniak'}, 82030659975: {'imie': 'Albert', 'nazwisko': 'Marciniak'}, 66062848334: {'imie': 'Marcin', 'nazwisko': 'Krajewska'}, 96053075551: {'imie': 'Denis', 'nazwisko': 'Tomaszewski'}, 68070876659: {'imie': 'Przemysław', 'nazwisko': 'Kamiński'}, 86021674972: {'imie': 'Kacper', 'nazwisko': 'Rutkowski'}, 85102594264: {'imie': 'Eustachy', 'nazwisko': 'Wójcik'}, 90041659147: {'imie': 'Dominik', 'nazwisko': 'Urbańska'}, 62082424316: {'imie': 'Przemysław', 'nazwisko': 'Cieślak'}, 99050348727: {'imie': 'Jacek', 'nazwisko': 'Krajewska'}, 88112887113: {'imie': 'Dawid', 'nazwisko': 'Sikora'}, 50042098781: {'imie': 'Ignacy', 'nazwisko': 'Lis'}, 88080579155: {'imie': 'Ernest', 'nazwisko': 'Gajewska'}, 65040528439: {'imie': 'Roman', 'nazwisko': 'Jaworski'}, 87111482114: {'imie': 'Krzysztof', 'nazwisko': 'Szczepański'}, 71110353621: {'imie': 'Ignacy', 'nazwisko': 'Jakubowski'}, 85040824168: {'imie': 'Rafał', 'nazwisko': 'Walczak'}, 91110745657: {'imie': 'Bartłomiej', 'nazwisko': 'Borkowski'}, 90062797688: {'imie': 'Marcin', 'nazwisko': 'Głowacka'}, 50081784337: {'imie': 'Jarosław', 'nazwisko': 'Sikora'}, 93100628537: {'imie': 'Dariusz', 'nazwisko': 'Gajewska'}, 74112451328: {'imie': 'Bronisław', 'nazwisko': 'Krupa'}, 58102636832: {'imie': 'Martin', 'nazwisko': 'Kamiński'}, 66030534564: {'imie': 'Przemysław', 'nazwisko': 'Górski'}, 93041535752: {'imie': 'Oskar', 'nazwisko': 'Zawadzki'}, 47112891964: {'imie': 'Alek', 'nazwisko': 'Sadowska'}, 93080721754: {'imie': 'Florian', 'nazwisko': 'Mróz'}, 55032147526: {'imie': 'Mateusz', 'nazwisko': 'Ziółkowska'}, 74110583786: {'imie': 'Ignacy', 'nazwisko': 'Maciejewski'}, 48092615252: {'imie': 'Olaf', 'nazwisko': 'Górecki'}, 75011115447: {'imie': 'Hubert', 'nazwisko': 'Piotrowski'}, 23122094775: {'imie': 'Kacper', 'nazwisko': 'Stępień'}, 32812582612: {'imie': 'Przemysław', 'nazwisko': 'Zawadzki'}, 71080779984: {'imie': 'Kacper', 'nazwisko': 'Jasiński'}, 64091497262: {'imie': 'Jędrzej', 'nazwisko': 'Wróblewski'}, 48041861697: {'imie': 'Janusz', 'nazwisko': 'Kowalczyk'}, 53021466887: {'imie': 'Aleksander', 'nazwisko': 'Wysocki'}, 88121517878: {'imie': 'Bruno', 'nazwisko': 'Jankowski'}, 77120155431: {'imie': 'Janusz', 'nazwisko': 'Kaźmierczak'}, 60022394235: {'imie': 'Łukasz', 'nazwisko': 'Baran'}, 80021643963: {'imie': 'Anastazy', 'nazwisko': 'Mazurek'}, 63010391289: {'imie': 'Olaf', 'nazwisko': 'Brzeziński'}, 50080241482: {'imie': 'Aureliusz', 'nazwisko': 'Witkowski'}, 33130127754: {'imie': 'Emilia', 'nazwisko': 'Duda'}, 12606169564: {'imie': 'Oksana', 'nazwisko': 'Ostrowska'}, 80031393579: {'imie': 'Emilia', 'nazwisko': 'Wiśniewska'}, 99082474881: {'imie': 'Bogumiła', 'nazwisko': 'Baranowska'}, 28173318478: {'imie': 'Alana', 'nazwisko': 'Kaźmierczak'}, 50081857253: {'imie': 'Agata', 'nazwisko': 'Sikora'}, 94110393776: {'imie': 'Liliana', 'nazwisko': 'Walczak'}, 92032034665: {'imie': 'Luiza', 'nazwisko': 'Lis'}, 62021555226: {'imie': 'Aniela', 'nazwisko': 'Pawlak'}, 46080192484: {'imie': 'Berenika', 'nazwisko': 'Zawadzka'}, 47112318221: {'imie': 'Alana', 'nazwisko': 'Górecka'}, 60102561757: {'imie': 'Dorota', 'nazwisko': 'Szymańska'}, 46111743739: {'imie': 'Ewa', 'nazwisko': 'Wiśniewska'}, 53061922255: {'imie': 'Teresa', 'nazwisko': 'Sobczak'}, 46070693663: {'imie': 'Kornelia', 'nazwisko': 'Kalinowska'}, 89062826885: {'imie': 'Klaudia', 'nazwisko': 'Baran'}, 54090328571: {'imie': 'Eleonora', 'nazwisko': 'Walczak'}, 83041842488: {'imie': 'Paulina', 'nazwisko': 'Dąbrowska'}, 76031412574: {'imie': 'Izabela', 'nazwisko': 'Głowacka'}, 45031291289: {'imie': 'Dominika', 'nazwisko': 'Zawadzka'}, 22617394524: {'imie': 'Adrianna', 'nazwisko': 'Michalak'}, 78042632639: {'imie': 'Oliwia', 'nazwisko': 'Szewczyk'}, 97022798721: {'imie': 'Felicja', 'nazwisko': 'Jakubowska'}, 87101951422: {'imie': 'Marysia', 'nazwisko': 'Wójcik'}, 98030831969: {'imie': 'Justyna', 'nazwisko': 'Zalewska'}, 87070742827: {'imie': 'Amelia', 'nazwisko': 'Sobczak'}, 97102793314: {'imie': 'Angelika', 'nazwisko': 'Włodarczyk'}, 54091923119: {'imie': 'Dominika', 'nazwisko': 'Kucharska'}, 50012292724: {'imie': 'Kornelia', 'nazwisko': 'Piotrowska'}, 73040575917: {'imie': 'Anastazja', 'nazwisko': 'Wojciechowska'}, 99071283261: {'imie': 'Marysia', 'nazwisko': 'Pietrzak'}, 94052476519: {'imie': 'Franciszka', 'nazwisko': 'Gajewska'}, 57112344959: {'imie': 'Róża', 'nazwisko': 'Górska'}, 75111972762: {'imie': 'Anastazja', 'nazwisko': 'Przybylska'}, 92040165344: {'imie': 'Hortensja', 'nazwisko': 'Mróz'}, 73082896511: {'imie': 'Bernadetta', 'nazwisko': 'Krawczyk'}, 51010474624: {'imie': 'Gabriela', 'nazwisko': 'Lis'}, 66072929825: {'imie': 'Florentyna', 'nazwisko': 'Jaworska'}, 45072567723: {'imie': 'Oksana', 'nazwisko': 'Dąbrowska'}, 58032247333: {'imie': 'Patrycja', 'nazwisko': 'Zielińska'}, 87090288655: {'imie': 'Weronika', 'nazwisko': 'Głowacka'}, 33224492144: {'imie': 'Monika', 'nazwisko': 'Kołodziej'}, 77021651384: {'imie': 'Patrycja', 'nazwisko': 'Ziółkowska'}, 53062997137: {'imie': 'Asia', 'nazwisko': 'Witkowska'}, 99031314325: {'imie': 'Andrea', 'nazwisko': 'Malinowska'}, 88111847983: {'imie': 'Elżbieta', 'nazwisko': 'Sikorska'}, 52021466552: {'imie': 'Kaja', 'nazwisko': 'Borkowska'}, 83032971917: {'imie': 'Ewelina', 'nazwisko': 'Ziółkowska'}, 46080156851: {'imie': 'Jolanta', 'nazwisko': 'Piotrowska'}, 89010646228: {'imie': 'Elżbieta', 'nazwisko': 'Czerwińska'}, 69072887641: {'imie': 'Maja', 'nazwisko': 'Ostrowska'}, 60051414263: {'imie': 'Weronika', 'nazwisko': 'Sikorska'}, 81050141233: {'imie': 'Malwina', 'nazwisko': 'Marciniak'}, 33129481449: {'imie': 'Marlena', 'nazwisko': 'Błaszczyk'}, 55090657164: {'imie': 'Anna', 'nazwisko': 'Szymańska'}, 51010316447: {'imie': 'Amelia', 'nazwisko': 'Mazurek'}, 49082828777: {'imie': 'Anita', 'nazwisko': 'Mazurek'}, 12632574946: {'imie': 'Urszula', 'nazwisko': 'Wasilewska'}, 71120956498: {'imie': 'Zofia', 'nazwisko': 'Andrzejewska'}, 23410235231: {'imie': 'Paula', 'nazwisko': 'Zalewska'}, 85111149992: {'imie': 'Wanda', 'nazwisko': 'Piotrowska'}, 64111658758: {'imie': 'Marta', 'nazwisko': 'Zalewska'}, 12125474952: {'imie': 'Amanda', 'nazwisko': 'Jankowska'}, 71050188196: {'imie': 'Felicja', 'nazwisko': 'Brzezińska'}, 76042669136: {'imie': 'Elwira', 'nazwisko': 'Kowalska'}, 91062734523: {'imie': 'Dagmara', 'nazwisko': 'Zielińska'}, 91011711476: {'imie': 'Gabriela', 'nazwisko': 'Przybylska'}, 87040397727: {'imie': 'Bianka', 'nazwisko': 'Kubiak'}, 70041539252: {'imie': 'Zuzanna', 'nazwisko': 'Wysocka'}, 98052016252: {'imie': 'Klara', 'nazwisko': 'Wojciechowska'}, 86092628298: {'imie': 'Amelia', 'nazwisko': 'Wiśniewska'}, 74072577917: {'imie': 'Franciszka', 'nazwisko': 'Sadowska'}, 64030244333: {'imie': 'Florentyna', 'nazwisko': 'Krupa'}, 45070751669: {'imie': 'Alice', 'nazwisko': 'Kubiak'}, 72010173245: {'imie': 'Klara', 'nazwisko': 'Mazur'}, 51082161578: {'imie': 'Amelia', 'nazwisko': 'Krawczyk'}, 75032953871: {'imie': 'Lara', 'nazwisko': 'Lis'}, 67070652665: {'imie': 'Florencja', 'nazwisko': 'Krajewska'}, 54052679626: {'imie': 'Józefa', 'nazwisko': 'Kamińska'}, 47093011852: {'imie': 'Bogumiła', 'nazwisko': 'Jasińska'}, 63061964258: {'imie': 'Danuta', 'nazwisko': 'Szewczyk'}, 79053029478: {'imie': 'Blanka', 'nazwisko': 'Sadowska'}, 91031479428: {'imie': 'Zuza', 'nazwisko': 'Szulc'}, 42343187385: {'imie': 'Oksana', 'nazwisko': 'Brzezińska'}, 95112993766: {'imie': 'Mirosława', 'nazwisko': 'Sobczak'}, 12728877577: {'imie': 'Urszula', 'nazwisko': 'Górska'}, 78060691814: {'imie': 'Honorata', 'nazwisko': 'Czarnecka'}, 50093021589: {'imie': 'Stanisława', 'nazwisko': 'Górecka'}, 96111137566: {'imie': 'Jagoda', 'nazwisko': 'Zielińska'}, 96082017955: {'imie': 'Jolanta', 'nazwisko': 'Szczepańska'}, 90071637562: {'imie': 'Bogna', 'nazwisko': 'Górska'}, 96031577961: {'imie': 'Iza', 'nazwisko': 'Jakubowska'}, 96020958155: {'imie': 'Maria', 'nazwisko': 'Baran'}, 61091369236: {'imie': 'Anatolia', 'nazwisko': 'Szczepańska'}, 73042449487: {'imie': 'Lara', 'nazwisko': 'Zalewska'}, 91052584639: {'imie': 'Luiza', 'nazwisko': 'Witkowska'}, 80062647137: {'imie': 'Izyda', 'nazwisko': 'Maciejewska'}, 61010181493: {'imie': 'Klara', 'nazwisko': 'Stępień'}, 47011445581: {'imie': 'Marysia', 'nazwisko': 'Woźniak'}, 49091867985: {'imie': 'Klaudia', 'nazwisko': 'Kołodziej'}}\n",
    "wyniki={'grupa_a': {'60101374286': 61, '65031061536': 86, '75072922653': 87, '45090651497': 83, '99112553214': 40, '97030648258': 98, '80121669654': 12, '70120589983': 26, '66053098454': 86, '69110678378': 87, '66042797421': 67, '58010213484': 11, '45072018694': 0, '99123115421': 12, '65112524372': 51, '96053075551': 39, '90041659147': 25, '50042098781': 26, '71110353621': 70, '50081784337': 39, '66030534564': 45, '55032147526': 72, '23122094775': 12, '48041861697': 55, '60022394235': 12, '33130127754': 22, '28173318478': 12, '62021555226': 37, '46111743739': 92, '54090328571': 74, '22617394524': 8, '98030831969': 8, '50012292724': 71, '57112344959': 24, '51010474624': 73, '87090288655': 25, '99031314325': 56, '46080156851': 81, '81050141233': 92, '49082828777': 86, '85111149992': 92, '76042669136': 66, '70041539252': 35, '64030244333': 42, '75032953871': 35, '63061964258': 76, '95112993766': 40, '96111137566': 28, '96020958155': 46, '80062647137': 59}, 'grupa_b': {'74090834726': 13, '62062359557': 38, '54040148912': 81, '71031134545': 32, '45121867952': 42, '90061815918': 71, '64032373893': 92, '99072213474': 55, '61092339991': 59, '90031312542': 6, '13208275864': 20, '50021092999': 9, '82101961741': 60, '94031881422': 13, '53110419192': 13, '68070876659': 17, '62082424316': 41, '88080579155': 82, '85040824168': 11, '93100628537': 75, '93041535752': 83, '74110583786': 94, '32812582612': 74, '53021466887': 80, '80021643963': 29, '12606169564': 69, '50081857253': 70, '46080192484': 73, '53061922255': 48, '83041842488': 93, '78042632639': 43, '87070742827': 7, '73040575917': 94, '75111972762': 53, '66072929825': 52, '33224492144': 3, '88111847983': 51, '89010646228': 50, '33129481449': 73, '12632574946': 99, '64111658758': 91, '91062734523': 65, '98052016252': 73, '45070751669': 73, '67070652665': 23, '79053029478': 93, '12728877577': 69, '96082017955': 81, '61091369236': 3, '61010181493': 63}, 'grupa_c': {'99092773462': 6, '83122543884': 44, '81082875854': 48, '76112114575': 98, '74083059666': 57, '50102597722': 48, '80070664782': 99, '92092646668': 61, '22122628361': 67, '54022326334': 51, '12619622827': 75, '42724171511': 6, '46081985557': 77, '74113058234': 26, '82030659975': 0, '86021674972': 31, '99050348727': 30, '65040528439': 89, '91110745657': 25, '74112451328': 30, '47112891964': 47, '48092615252': 53, '71080779984': 18, '88121517878': 8, '63010391289': 41, '80031393579': 13, '94110393776': 77, '47112318221': 20, '46070693663': 55, '76031412574': 69, '97022798721': 89, '97102793314': 86, '99071283261': 62, '92040165344': 100, '45072567723': 94, '77021651384': 34, '52021466552': 9, '69072887641': 9, '55090657164': 71, '71120956498': 41, '12125474952': 36, '91011711476': 88, '86092628298': 96, '72010173245': 63, '54052679626': 1, '91031479428': 36, '78060691814': 92, '90071637562': 12, '73042449487': 59, '47011445581': 70}, 'grupa_d': {'69071955945': 5, '48090662812': 98, '80022651222': 44, '92030672294': 4, '53012967195': 20, '76033084683': 23, '78041878748': 55, '32914356321': 15, '75081143786': 3, '48022099541': 59, '48051151238': 2, '62013189686': 27, '56051577622': 57, '77012285158': 15, '66062848334': 3, '85102594264': 13, '88112887113': 60, '87111482114': 77, '90062797688': 82, '58102636832': 13, '93080721754': 28, '75011115447': 15, '64091497262': 27, '77120155431': 3, '50080241482': 91, '99082474881': 97, '92032034665': 13, '60102561757': 24, '89062826885': 2, '45031291289': 13, '87101951422': 94, '54091923119': 54, '94052476519': 70, '73082896511': 7, '58032247333': 73, '53062997137': 54, '83032971917': 32, '60051414263': 78, '51010316447': 44, '23410235231': 96, '71050188196': 9, '87040397727': 74, '74072577917': 25, '51082161578': 93, '47093011852': 50, '42343187385': 46, '50093021589': 80, '96031577961': 18, '91052584639': 79, '49091867985': 78}}"
   ]
  },
  {
   "cell_type": "markdown",
   "metadata": {},
   "source": [
    "## Zadanie 3.1\n",
    "Napisz fragmenty kodu, które wyciągną informacje:\n",
    "* jak ma na imię student(ka) o numerze pesel 87101951422?\n",
    "* czy jest w grupie a?\n",
    "* czy jest w grupie b?\n",
    "* czy jest w grupie c?\n",
    "* czy jest w grupie d?\n",
    "* ile punktów dostał(a)?\n",
    "* ile punktów w sumie dostali studenci grupy B?"
   ]
  },
  {
   "cell_type": "code",
   "execution_count": 48,
   "metadata": {},
   "outputs": [
    {
     "name": "stdout",
     "output_type": "stream",
     "text": [
      "Studentka ma na imię Marysia i jest w grupie d.\n",
      "Uzyskała 94 punktów.\n",
      "W sumie studenci grupy B dostali 2702 punktów.\n"
     ]
    }
   ],
   "source": [
    "# TUTAJ ROZWIĄZUJ\n",
    "\n",
    "imie = studenci[87101951422]['imie']\n",
    "czy_jest_w_grupie_a = str(87101951422) in wyniki[\"grupa_a\"]\n",
    "czy_jest_w_grupie_b = str(87101951422) in wyniki[\"grupa_b\"]\n",
    "czy_jest_w_grupie_c = str(87101951422) in wyniki[\"grupa_c\"]\n",
    "czy_jest_w_grupie_d = str(87101951422) in wyniki[\"grupa_d\"]\n",
    "punkty_studenta = wyniki[\"grupa_d\"][str(87101951422)]\n",
    "punkty_grupy_b = sum(wyniki[\"grupa_b\"].values())\n",
    "\n",
    "if czy_jest_w_grupie_a == True:\n",
    "    print(f'Studentka ma na imię {imie} i jest w grupie d.\\nUzyskała {punkty_studenta} punktów.\\nW sumie studenci grupy B dostali {punkty_grupy_b} punktów.')\n",
    "    \n",
    "if czy_jest_w_grupie_b == True:\n",
    "    print(f'Studentka ma na imię {imie} i jest w grupie d.\\nUzyskała {punkty_studenta} punktów.\\nW sumie studenci grupy B dostali {punkty_grupy_b} punktów.')\n",
    "    \n",
    "if czy_jest_w_grupie_c == True:\n",
    "    print(f'Studentka ma na imię {imie} i jest w grupie d.\\nUzyskała {punkty_studenta} punktów.\\nW sumie studenci grupy B dostali {punkty_grupy_b} punktów.')\n",
    "    \n",
    "if czy_jest_w_grupie_d == True:\n",
    "    print(f'Studentka ma na imię {imie} i jest w grupie d.\\nUzyskała {punkty_studenta} punktów.\\nW sumie studenci grupy B dostali {punkty_grupy_b} punktów.')\n",
    "   \n",
    "    "
   ]
  },
  {
   "cell_type": "markdown",
   "metadata": {},
   "source": [
    "## Zadanie 3.2\n",
    "Chcemy ocenić trenerów prowadzących zajęcia w akademii. Trener, którego grupa ma najsłabsze wyniki zostanie ukarany i w ramach pokuty będzie musiał przez 2 tygodnie pisać kod wyłącznie w JavaScript. Stawka jest wysoka, więc powinniśmy dokonać oceny w sposób rzetelny. Aby obiektywnie ocenić postępy poszczególnych grup oblicz minimalną, średnią i maksymalną liczbę punktów w każdej grupie. Zapisz dane w postaci słownika {nazwa_grupy:[min, srednia, max]} do zmiennej o nazwie groups_min_avg_max."
   ]
  },
  {
   "cell_type": "code",
   "execution_count": 78,
   "metadata": {},
   "outputs": [
    {
     "name": "stdout",
     "output_type": "stream",
     "text": [
      "Grupa A:\n",
      "\tMinimalna ilość punktów wynosi 0\n",
      "\tŚrednia ilość punktów wynosi 49.64\n",
      "\tMaksymalna ilośc punktów wynosi 98\n",
      "Grupa B:\n",
      "\tMinimalna ilość punktów wynosi 3\n",
      "\tŚrednia ilość punktów wynosi 54.04\n",
      "\tMaksymalna ilośc punktów wynosi 99\n",
      "Grupa C:\n",
      "\tMinimalna ilość punktów wynosi 0\n",
      "\tŚrednia ilość punktów wynosi 50.34\n",
      "\tMaksymalna ilośc punktów wynosi 100\n",
      "Grupa D:\n",
      "\tMinimalna ilość punktów wynosi 2\n",
      "\tŚrednia ilość punktów wynosi 42.84\n",
      "\tMaksymalna ilośc punktów wynosi 98\n"
     ]
    }
   ],
   "source": [
    "groups_min_avg_max = {\n",
    "    'grupa_a': [min(wyniki[\"grupa_a\"].values()),\n",
    "               sum(wyniki[\"grupa_a\"].values()) / len(wyniki[\"grupa_a\"]),\n",
    "               max(wyniki[\"grupa_a\"].values())],\n",
    "    \n",
    "    'grupa_b': [min(wyniki[\"grupa_b\"].values()),\n",
    "               sum(wyniki[\"grupa_b\"].values()) / len(wyniki[\"grupa_b\"]),\n",
    "               max(wyniki[\"grupa_b\"].values())],\n",
    "    \n",
    "    'grupa_c': [min(wyniki[\"grupa_c\"].values()),\n",
    "               sum(wyniki[\"grupa_c\"].values()) / len(wyniki[\"grupa_c\"]),\n",
    "               max(wyniki[\"grupa_c\"].values())],\n",
    "    \n",
    "    'grupa_d': [min(wyniki[\"grupa_d\"].values()),\n",
    "               sum(wyniki[\"grupa_d\"].values()) / len(wyniki[\"grupa_d\"]),\n",
    "               max(wyniki[\"grupa_d\"].values())],\n",
    "}\n",
    "\n",
    "print(f\"Grupa A:\\n\\tMinimalna ilość punktów wynosi {groups_min_avg_max['grupa_a'][0]}\\n\\tŚrednia ilość punktów wynosi {groups_min_avg_max['grupa_a'][1]}\\n\\tMaksymalna ilośc punktów wynosi {groups_min_avg_max['grupa_a'][2]}\")\n",
    "print(f\"Grupa B:\\n\\tMinimalna ilość punktów wynosi {groups_min_avg_max['grupa_b'][0]}\\n\\tŚrednia ilość punktów wynosi {groups_min_avg_max['grupa_b'][1]}\\n\\tMaksymalna ilośc punktów wynosi {groups_min_avg_max['grupa_b'][2]}\")\n",
    "print(f\"Grupa C:\\n\\tMinimalna ilość punktów wynosi {groups_min_avg_max['grupa_c'][0]}\\n\\tŚrednia ilość punktów wynosi {groups_min_avg_max['grupa_c'][1]}\\n\\tMaksymalna ilośc punktów wynosi {groups_min_avg_max['grupa_c'][2]}\")\n",
    "print(f\"Grupa D:\\n\\tMinimalna ilość punktów wynosi {groups_min_avg_max['grupa_d'][0]}\\n\\tŚrednia ilość punktów wynosi {groups_min_avg_max['grupa_d'][1]}\\n\\tMaksymalna ilośc punktów wynosi {groups_min_avg_max['grupa_d'][2]}\")"
   ]
  }
 ],
 "metadata": {
  "kernelspec": {
   "display_name": "Python 3",
   "language": "python",
   "name": "python3"
  },
  "language_info": {
   "codemirror_mode": {
    "name": "ipython",
    "version": 3
   },
   "file_extension": ".py",
   "mimetype": "text/x-python",
   "name": "python",
   "nbconvert_exporter": "python",
   "pygments_lexer": "ipython3",
   "version": "3.8.5"
  }
 },
 "nbformat": 4,
 "nbformat_minor": 4
}
