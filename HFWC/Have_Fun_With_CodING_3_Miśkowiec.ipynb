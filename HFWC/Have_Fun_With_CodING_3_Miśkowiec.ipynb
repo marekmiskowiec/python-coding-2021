{
 "cells": [
  {
   "cell_type": "markdown",
   "metadata": {},
   "source": [
    "# Have Fun With CodING #3\n",
    "##### "
   ]
  },
  {
   "cell_type": "markdown",
   "metadata": {},
   "source": [
    "# Have fun with codING - zadanie 1 (50 pkt.)\n",
    "## Sprawdzenie hasła\n",
    "\n",
    "### Wersja łatwiejsza (10 pkt.)\n",
    "Stwórz funkcję, która zwraca czy ustawione hasło przez użytkownika jest bezpieczne. \n",
    "Hasło jest bezpieczne jeżeli zawiera 2 duże litery, znak specjalny w środku (do pomocy może służyć string.punctuation). Hasło nie może zaczynać się ani kończyć się znakim specjalnym. Powinno zawierać conajmniej 2 cyfry.\n",
    "\n",
    "### Wersja trudniejsza (40 pkt.)\n",
    "Zaprojektuj klasę, która będzie zajmowała się weryfikacją poziomu skomplikowania haseł. Tworząc instancję klasy dajemy 0, 1 lub wiele parametrów, które posłużą do sprawdzenia hasła. \n",
    "\n",
    "Możliwe parametry:\n",
    "- upper - minimalna ilość wielkich liter\n",
    "- lower - minimalna ilość małych liter\n",
    "- length - minimalna długość hasła\n",
    "- special - minimalna ilość znaków specjalnych\n",
    "- digit - minimalna ilość cyfr\n",
    "\n",
    "Gdy nie podamy żadnych warunków, należy tylko sprawdzić czy hasło nie jest puste.\n",
    "\n",
    "Poniżej przykłady użycia:  \n",
    "```python\n",
    "chk1 = PasswordChecker(upper=2, lower=3, length=10, special=4, digit=1)\n",
    "chk1.is_password_valid('aaaAA#$%^1')\n",
    "# should return True\n",
    "chk1.is_password_valid('aAAA#$%^1')\n",
    "# should return False\n",
    "\n",
    "chk2 = PasswordChecker(upper=2)\n",
    "chk2.is_password_valid('hdgsBsksK')\n",
    "# should return True\n",
    "chk2.is_password_valid('hdgsBsks1')\n",
    "# should return False\n",
    "                       \n",
    "chk3 = PasswordChecker()\n",
    "chk3.is_password_valid('a')\n",
    "# should return True\n",
    "chk3.is_password_valid('')\n",
    "# should return False\n",
    "```"
   ]
  },
  {
   "cell_type": "code",
   "execution_count": 87,
   "metadata": {},
   "outputs": [],
   "source": [
    "import sys\n",
    "from string import punctuation"
   ]
  },
  {
   "cell_type": "code",
   "execution_count": 90,
   "metadata": {},
   "outputs": [
    {
     "name": "stdout",
     "output_type": "stream",
     "text": [
      "Hasło jest bezpieczne\n"
     ]
    }
   ],
   "source": [
    "def check_password(password):\n",
    "    if sum(c.isdigit() for c in password) >=2 and sum(c.isupper() for c in password) >=2 and password[0] not in punctuation and password[-1] not in punctuation and sum([True for x in password[1:-1] if x in punctuation]) >0:\n",
    "        print(\"Hasło jest bezpieczne\")\n",
    "    else:\n",
    "        print(\"Hasło nie jest bezpieczne\")\n",
    "        \n",
    "check_password('DDdf;s12')\n"
   ]
  },
  {
   "cell_type": "code",
   "execution_count": 93,
   "metadata": {},
   "outputs": [],
   "source": [
    "class PasswordChecker():\n",
    "    def __init__(self, upper=None, lower=None, length = None, special=None, digit=None,):\n",
    "        self.upper = upper\n",
    "        self.lower = lower\n",
    "        self.length = length\n",
    "        self.special = special\n",
    "        self.digit = digit\n",
    "    \n",
    "    def is_password_valid(self, password, check=2):\n",
    "        if not password:\n",
    "            return False\n",
    "        else:\n",
    "            if password:\n",
    "                check = 1\n",
    "            if isinstance(self.upper, int):\n",
    "                pass_upper = sum(c.isupper() for c in password)\n",
    "                if pass_upper >= self.upper:\n",
    "                    check = 1\n",
    "                else:\n",
    "                    return False\n",
    "                    \n",
    "            if isinstance(self.lower, int):\n",
    "                pass_lower = sum(c.islower() for c in password)\n",
    "                if pass_lower >= self.lower:\n",
    "                    check = 1\n",
    "                else:\n",
    "                    return False\n",
    "                    \n",
    "            if isinstance(self.length, int):\n",
    "                pass_length = len(password)\n",
    "                if pass_length >= self.length:\n",
    "                    check = 1\n",
    "                else:\n",
    "                    return False\n",
    "                \n",
    "            if isinstance(self.special, int):\n",
    "                pass_special = sum([True for x in password if x in punctuation])\n",
    "                if pass_special >= self.special:\n",
    "                    check = 1\n",
    "                else:\n",
    "                    return False\n",
    "                \n",
    "            if isinstance(self.digit, int):\n",
    "                pass_digit = sum(c.isdigit() for c in password)\n",
    "                if pass_digit >= self.digit:\n",
    "                    check = 1\n",
    "                else:\n",
    "                    return False\n",
    "\n",
    "            if check == 1:\n",
    "                return True\n"
   ]
  },
  {
   "cell_type": "markdown",
   "metadata": {},
   "source": [
    "# Have fun with codING - zadanie 2 (60 pkt.)\n",
    "## Integrated Computerized Banking System v2.0\n",
    "\n",
    "Pewna instytucja finansowa postanowiła zlecić przepisanie swojego systemu transakcyjnego grupie wysoko wykwalifikowanych studentów.  \n",
    "\n",
    "Studenci (w zamian za obietnicę obfitego posiłku i możliwości zorganizowania w siedzibie firmy całonocnej imprezy zakrapianej oranżadą) postanowili sprostać zadaniu i natychmiast wzięli się do pracy.\n",
    "\n",
    "Okazało się, że taki system w banku jest bardzo prosty w implementacji i wymaga jedynie 33 linii kodu w pythonie.  \n",
    "\n",
    "Po godzinie kod było gotowy do podegrania na produkcję, co też uczyniono ..."
   ]
  },
  {
   "cell_type": "code",
   "execution_count": 57,
   "metadata": {},
   "outputs": [],
   "source": [
    "class Customer:\n",
    "    def __init__(self, name, surname):\n",
    "        self.name = name\n",
    "        self.surname = surname\n",
    "\n",
    "    def __str__(self):\n",
    "        return f'Customer {self.name} {self.surname}'\n",
    "\n",
    "\n",
    "class Account:\n",
    "    def __init__(self, amount, iban_number, owner):\n",
    "        self.amount = amount\n",
    "        self.iban_number = iban_number\n",
    "        self.owner = owner \n",
    "        self.transactions_list = []\n",
    "\n",
    "    def __str__(self):\n",
    "        return f'Account number {self.iban_number} owned by {self.owner}'\n",
    "\n",
    "    \n",
    "    def cash_transaction(self, transaction_type, amount):\n",
    "        print(f'Amount before transaction is {self.amount}')\n",
    "        if amount >= 0:\n",
    "            if transaction_type == 'WITHDRAW':\n",
    "                if self.amount - amount > 0:\n",
    "                    print(f'Withdrawing {amount} from account number {self.iban_number}')\n",
    "                    self.amount -= amount\n",
    "                    x = (self.iban_number, transaction_type, amount)\n",
    "                    self.transactions_list.append(x)\n",
    "                else:\n",
    "                    print(\"Błąd! Nie masz wystarczającej liczby pieniędzy na koncie!\")\n",
    "            elif transaction_type == 'DEPOSIT':\n",
    "                print(f'Depositing {amount} to account number {self.iban_number}')\n",
    "                self.amount += amount\n",
    "                x = (self.iban_number, transaction_type, amount)\n",
    "                self.transactions_list.append(x)\n",
    "            else:\n",
    "                print('Niedozwolona transakcja')\n",
    "            print(f'New amount is {self.amount}\\n')\n",
    "        else:\n",
    "            print(\"Kwota wpłacana lub wypacana musi być większa od 0\")\n",
    "        \n",
    "    def print_transactions_list(self):\n",
    "        for x in self.transactions_list:\n",
    "            print(x) \n",
    "            \n",
    "    def print_account_balance(self):\n",
    "        print(f'Account balance for account {self.iban_number} is {self.amount}\\n')"
   ]
  },
  {
   "cell_type": "markdown",
   "metadata": {},
   "source": [
    "### Jak widac poniżej, kod działa całkiem nieźle.\n",
    "Umożliwia tworzenie kont dla klientów i wpłacanie i wypłacanie gotówki (wpłatomaty / bankomaty). Zwraca też stan konta każdego klienta."
   ]
  },
  {
   "cell_type": "code",
   "execution_count": 58,
   "metadata": {},
   "outputs": [
    {
     "name": "stdout",
     "output_type": "stream",
     "text": [
      "Amount before transaction is 100\n",
      "Depositing 300 to account number PL40109024025249592124718384\n",
      "New amount is 400\n",
      "\n",
      "Amount before transaction is 400\n",
      "Withdrawing 200 from account number PL40109024025249592124718384\n",
      "New amount is 200\n",
      "\n",
      "Amount before transaction is 200\n",
      "Depositing 150 to account number PL40109024025249592124718384\n",
      "New amount is 350\n",
      "\n",
      "Account balance for account PL40109024025249592124718384 is 350\n",
      "\n",
      "###########################################\n",
      "\n",
      "Amount before transaction is 500\n",
      "Depositing 300 to account number PL05109024021887523769458146\n",
      "New amount is 800\n",
      "\n",
      "Amount before transaction is 800\n",
      "Depositing 300 to account number PL05109024021887523769458146\n",
      "New amount is 1100\n",
      "\n",
      "Account balance for account PL05109024021887523769458146 is 1100\n",
      "\n"
     ]
    }
   ],
   "source": [
    "customer1 = Customer('Jan', 'Kowalski')\n",
    "account1 = Account(100, 'PL40109024025249592124718384', customer1)\n",
    "\n",
    "account1.cash_transaction('DEPOSIT', 300)\n",
    "account1.cash_transaction('WITHDRAW', 200)\n",
    "account1.cash_transaction('DEPOSIT', 150)\n",
    "account1.print_account_balance()\n",
    "\n",
    "print('###########################################\\n')\n",
    "\n",
    "customer2 = Customer('Adam', 'Nowak')\n",
    "account2 = Account(500, 'PL05109024021887523769458146', customer2)\n",
    "\n",
    "account2.cash_transaction('DEPOSIT', 300)\n",
    "account2.cash_transaction('DEPOSIT', 300)\n",
    "account2.print_account_balance()"
   ]
  },
  {
   "cell_type": "markdown",
   "metadata": {},
   "source": [
    "### Niestety nie zawsze :-)\n",
    "Do wspomnianej wcześniej instytucji zaczęły spływać liczne zgłoszenia błędów zarówno od zdziwionych klientów jak i specjalistów od bezpieczeństwa."
   ]
  },
  {
   "cell_type": "markdown",
   "metadata": {},
   "source": [
    "#### Bug #1 (10 pkt.)\n",
    "W przypadku niektórych bankomatów wykryliśmy, że gdy klient wypłaca pieniądze, to na rachunku ... przybywa środków. Podejrzewamy, że coś jest nietak ze sposobem w jaki bankomat wywołuje metodę `cash_transaction`.  \n",
    "\n",
    "**Zabezpiecz metodę cash_transaction przed taką podatnością. W przypadku, gdy coś się nie zgadza powinna rzucić wyjątek i nie wykonywać takiej transakcji.**  \n",
    "\n",
    "hint #1: Poniżej przykład błędnego i poprawnego wywołania (nie wolno go ruszać).  \n",
    "hint #2: Podobno wspomniany poniżej błąd występuje w bankomatach, które wcześniej pracowały w Grecji."
   ]
  },
  {
   "cell_type": "code",
   "execution_count": 59,
   "metadata": {
    "scrolled": true
   },
   "outputs": [
    {
     "name": "stdout",
     "output_type": "stream",
     "text": [
      "Amount before transaction is 1100\n",
      "Niedozwolona transakcja\n",
      "New amount is 1100\n",
      "\n",
      "Amount before transaction is 1100\n",
      "Withdrawing 200 from account number PL05109024021887523769458146\n",
      "New amount is 900\n",
      "\n"
     ]
    }
   ],
   "source": [
    "# Popsuty bankomat wywołuje metodę w taki sposób:\n",
    "account2.cash_transaction('WITΗDRAW', 200)\n",
    "\n",
    "# Sprawny bankomat wywołuje metodę w taki sposób:\n",
    "account2.cash_transaction('WITHDRAW', 200)"
   ]
  },
  {
   "cell_type": "markdown",
   "metadata": {},
   "source": [
    "#### Bug #2 (10 pkt.)\n",
    "Gdy wywoła się ww. metodę z wartością ujemną dzieją się dziwne rzeczy. Trzeba to jakoś naprawić. Nie powinno być możliwości wpłacania i wypłacania wartości ujemnych!  \n",
    "**Metoda powinna rzucić wyjątek i nie wykonać transakcji.**"
   ]
  },
  {
   "cell_type": "code",
   "execution_count": 60,
   "metadata": {
    "scrolled": true
   },
   "outputs": [
    {
     "name": "stdout",
     "output_type": "stream",
     "text": [
      "Account balance for account PL40109024025249592124718384 is 350\n",
      "\n",
      "Amount before transaction is 350\n",
      "Kwota wpłacana lub wypacana musi być większa od 0\n",
      "Account balance for account PL40109024025249592124718384 is 350\n",
      "\n"
     ]
    }
   ],
   "source": [
    "account1.print_account_balance()\n",
    "account1.cash_transaction('DEPOSIT', -100)\n",
    "account1.print_account_balance()"
   ]
  },
  {
   "cell_type": "markdown",
   "metadata": {},
   "source": [
    "#### Bug #3 (10 pkt.)\n",
    "Zaimplementowany mechanizm zupełnie nie sprawdza czy klient ma wystarczającą ilość środków na koncie i pozwala na nieograniczone wypłaty.  \n",
    "**W przypadku braku środków na koncie aplikacja powinna rzucić wyjątek i zwrócić stosowny komunikat**"
   ]
  },
  {
   "cell_type": "code",
   "execution_count": 61,
   "metadata": {},
   "outputs": [
    {
     "name": "stdout",
     "output_type": "stream",
     "text": [
      "Account balance for account PL40109024025249592124718384 is 350\n",
      "\n",
      "Amount before transaction is 350\n",
      "Błąd! Nie masz wystarczającej liczby pieniędzy na koncie!\n",
      "New amount is 350\n",
      "\n",
      "Account balance for account PL40109024025249592124718384 is 350\n",
      "\n"
     ]
    }
   ],
   "source": [
    "account1.print_account_balance()\n",
    "account1.cash_transaction('WITHDRAW', 100000)\n",
    "account1.print_account_balance()"
   ]
  },
  {
   "cell_type": "markdown",
   "metadata": {},
   "source": [
    "#### Rozwój #1 (15 pkt.)\n",
    "Aplikacja nie została dokończona: brakuje funkcjonalności zwracania listy transakcji dla konta. W chwili obecnej metoda rzuca wyjątek `NotImplementedError`.\n",
    "**Zaimplementuj wymaganą funkcjonalność.**"
   ]
  },
  {
   "cell_type": "code",
   "execution_count": 64,
   "metadata": {
    "scrolled": true
   },
   "outputs": [
    {
     "name": "stdout",
     "output_type": "stream",
     "text": [
      "('PL40109024025249592124718384', 'DEPOSIT', 300)\n",
      "('PL40109024025249592124718384', 'WITHDRAW', 200)\n",
      "('PL40109024025249592124718384', 'DEPOSIT', 150)\n"
     ]
    }
   ],
   "source": [
    "account1.print_transactions_list()"
   ]
  },
  {
   "cell_type": "markdown",
   "metadata": {},
   "source": [
    "#### Rozwój #2 (15 pkt.)\n",
    "Potrzebujemy dodatkowych funkcjonalności:\n",
    "- importu listy klientów z odpowiedniego słownika\n",
    "- importu listy kont z odpowiedniego słownika\n",
    "- wykonywania transakcji między kontami klientów\n",
    "- zwracania listy transakcji dla określonego konta\n",
    "- zwracania listy transakcji dla wszystkich kont\n",
    "\n",
    "Chcemy, aby zarządzała tym wszystkim nowa klasa o nazwie `Bank`, której szkielet znajduje się poniżej.\n",
    "\n",
    "**Zaimplementuj brakujące funkcjonalności.**"
   ]
  },
  {
   "cell_type": "code",
   "execution_count": 67,
   "metadata": {},
   "outputs": [],
   "source": [
    "class Transaction:\n",
    "    def __init__(self, from_account, to_account, amount):\n",
    "        self.from_account = from_account\n",
    "        self.to_account = to_account\n",
    "        self.amount = amount\n",
    "\n",
    "\n",
    "class Bank(Transaction):\n",
    "    def __init__(self):\n",
    "        pass\n",
    "    \n",
    "    def import_clients(self, clients_dict):\n",
    "        pass\n",
    "    \n",
    "    def import_accounts(self, accounts_dict):\n",
    "        pass\n",
    "\n",
    "    def money_transfer_transaction(self, amount, from_account, to_account):\n",
    "        pass\n",
    "    \n",
    "    def print_transaction_list_for_account(self, iban):\n",
    "        pass\n",
    "\n",
    "    def print_transaction_list_for_all_accounts(self):\n",
    "        pass"
   ]
  },
  {
   "cell_type": "markdown",
   "metadata": {},
   "source": [
    "# Have fun with codING - zadanie 3 (60 pkt.)\n",
    "## Funkcje rekurencyjne"
   ]
  },
  {
   "cell_type": "markdown",
   "metadata": {},
   "source": [
    "### Nawiasy (10+10 pkt.)\n",
    "Ciąg znaków jest dostarczany do funkcji jako argument wejściowy, funkcja powinna dodać nawiasy otwierające i zamykające między znakami w następujący sposób: \n",
    "- input: \"example\" -> output: \"e (x (a (m) p) l) e\"\n",
    "- input: \"hfwc\" -> output: \"h(fw)c\"\n",
    "\n",
    "Jeśli rozwiążesz zadanie za pomoca rekurencji, dostajesz +10 punktów"
   ]
  },
  {
   "cell_type": "code",
   "execution_count": 69,
   "metadata": {},
   "outputs": [
    {
     "data": {
      "text/plain": [
       "'1(23)4'"
      ]
     },
     "execution_count": 69,
     "metadata": {},
     "output_type": "execute_result"
    }
   ],
   "source": [
    "def f_nawiasy(str_):\n",
    "    i = 0\n",
    "    zmienna = ''\n",
    "    dlugosc_stringa = len(str_)\n",
    "    if dlugosc_stringa % 2 == 0:\n",
    "        prawy = dlugosc_stringa/2\n",
    "        prawy = int(prawy)\n",
    "        lewy = int(prawy-1) \n",
    "        while i < len(str_):\n",
    "            if i >= prawy:\n",
    "                zmienna = zmienna + str_[i]+')'\n",
    "            elif i == lewy:\n",
    "                zmienna = zmienna + str_[i]\n",
    "            else:\n",
    "                zmienna = zmienna + str_[i]+'('\n",
    "            i+=1\n",
    "            \n",
    "    else:\n",
    "        srodek = (len(str_)/2)- 0.5\n",
    "        srodek = int(srodek)\n",
    "        while i < len(str_):\n",
    "            if i >= srodek:\n",
    "                zmienna = zmienna + str_[i]+')'\n",
    "            elif i == srodek:\n",
    "                zmienna = zmienna + str_[i]\n",
    "            else:\n",
    "                zmienna = zmienna + str_[i]+'('\n",
    "            i+=1\n",
    "    zmienna = zmienna[0:-1]\n",
    "    return zmienna\n",
    "\n",
    "\n",
    "f_nawiasy(\"example\")"
   ]
  },
  {
   "cell_type": "markdown",
   "metadata": {},
   "source": [
    "### Wzorki\n",
    "Master Yoda zastanawia się czym przyzdobić pisanki. Wesprzyj go! Za pomocą rekurencji narysuj poniższe kształty:  \n",
    "[Jeśli rozwiążesz zadanie za pomoca rekurencji, za każde dostaniesz +10 punktów]\n",
    "\n",
    "- trójkąt (10 + 10 pkt.)\n",
    "\n",
    "```\n",
    "-o-\n",
    "-o-o-o-\n",
    "-o-o-o-o-o-\n",
    "-o-o-o-o-o-o-o-\n",
    "-o-o-o-o-o-o-o-o-o-\n",
    "-o-o-o-o-o-o-o-o-o-o-o-\n",
    "-o-o-o-o-o-o-o-o-o-o-o-o-o-\n",
    "-o-o-o-o-o-o-o-o-o-o-o-o-o-o-o-\n",
    "-o-o-o-o-o-o-o-o-o-o-o-o-o-o-o-o-o-\n",
    "-o-o-o-o-o-o-o-o-o-o-o-o-o-o-o-o-o-o-o-`\n",
    "```\n",
    "\n",
    "- wzór (10 + 10 pkt)\n",
    "```    \n",
    "/\\/\\/\\/\\/\\/\\/\\/\\/\\/\\\n",
    "\\/\\/\\/\\/\\/\\/\\/\\/\\/\\/\n",
    "/\\/\\/\\/\\/\\/\\/\\/\\/\\/\\\n",
    "\\/\\/\\/\\/\\/\\/\\/\\/\\/\\/\n",
    "/\\/\\/\\/\\/\\/\\/\\/\\/\\/\\\n",
    "\\/\\/\\/\\/\\/\\/\\/\\/\\/\\/\n",
    "/\\/\\/\\/\\/\\/\\/\\/\\/\\/\\\n",
    "\\/\\/\\/\\/\\/\\/\\/\\/\\/\\/\n",
    "/\\/\\/\\/\\/\\/\\/\\/\\/\\/\\\n",
    "\\/\\/\\/\\/\\/\\/\\/\\/\\/\\/\n",
    "```"
   ]
  },
  {
   "cell_type": "code",
   "execution_count": 70,
   "metadata": {},
   "outputs": [
    {
     "name": "stdout",
     "output_type": "stream",
     "text": [
      "-o-\n",
      "-o-o-\n",
      "-o-o-o-\n",
      "-o-o-o-o-\n",
      "-o-o-o-o-o-\n",
      "-o-o-o-o-o-o-\n",
      "-o-o-o-o-o-o-o-\n"
     ]
    }
   ],
   "source": [
    "def trojkat(wysokosc):\n",
    "    if wysokosc>0:\n",
    "            drzewko = 0\n",
    "            while(wysokosc != drzewko):\n",
    "                print(\"-o\"*(drzewko+1) + \"-\")\n",
    "                drzewko+=1\n",
    "    else:\n",
    "        print(\"Wysokość drzewka musi być większa od 0!\")\n",
    "\n",
    "trojkat(7)"
   ]
  },
  {
   "cell_type": "code",
   "execution_count": 71,
   "metadata": {},
   "outputs": [
    {
     "name": "stdout",
     "output_type": "stream",
     "text": [
      "-o-\n",
      "-o-o-\n",
      "-o-o-o-\n"
     ]
    }
   ],
   "source": [
    "#rekurencja\n",
    "\n",
    "def trojkat(wysokosc, drzewko=0):\n",
    "    if wysokosc>0:\n",
    "        drzewko = wysokosc - 1\n",
    "        trojkat(wysokosc-1, drzewko-1)\n",
    "        print('-o' * wysokosc + '-')\n",
    "        \n",
    "trojkat(3)"
   ]
  },
  {
   "cell_type": "code",
   "execution_count": 72,
   "metadata": {},
   "outputs": [
    {
     "name": "stdout",
     "output_type": "stream",
     "text": [
      "/\\/\\/\\/\\/\\/\\/\\/\\/\\/\\\n",
      "\\/\\/\\/\\/\\/\\/\\/\\/\\/\\/\n",
      "/\\/\\/\\/\\/\\/\\/\\/\\/\\/\\\n",
      "\\/\\/\\/\\/\\/\\/\\/\\/\\/\\/\n"
     ]
    }
   ],
   "source": [
    "def wzor(wysokosc, szerokosc):\n",
    "    if wysokosc>0 and szerokosc>0:\n",
    "            drzewko = 0\n",
    "            while(wysokosc != drzewko):\n",
    "                if drzewko % 2 ==0:\n",
    "                    print(\"/\\\\\"*szerokosc)\n",
    "                else:\n",
    "                    print(\"\\\\/\"*szerokosc)\n",
    "                drzewko+=1\n",
    "    else:\n",
    "        print(\"Wysokość drzewka musi być większa od 0!\")\n",
    "\n",
    "wzor(4,10)"
   ]
  },
  {
   "cell_type": "code",
   "execution_count": 73,
   "metadata": {},
   "outputs": [
    {
     "name": "stdout",
     "output_type": "stream",
     "text": [
      "/\\/\\/\\/\\/\\/\\/\\/\\/\\/\\\n",
      "\\/\\/\\/\\/\\/\\/\\/\\/\\/\\/\n",
      "/\\/\\/\\/\\/\\/\\/\\/\\/\\/\\\n",
      "\\/\\/\\/\\/\\/\\/\\/\\/\\/\\/\n"
     ]
    }
   ],
   "source": [
    "#rekurencja\n",
    "\n",
    "def wzor(wysokosc, szerokosc):\n",
    "    if wysokosc>0 and szerokosc>0:\n",
    "        wzor(wysokosc-1, szerokosc)\n",
    "        if wysokosc % 2 ==0:\n",
    "            print(\"\\\\/\"*szerokosc)\n",
    "        else:\n",
    "            print(\"/\\\\\"*szerokosc)\n",
    "        \n",
    "wzor(4,10)\n"
   ]
  },
  {
   "cell_type": "markdown",
   "metadata": {},
   "source": [
    "# Have fun with codING - zadanie 4 (20 pkt.)\n",
    "## Najczęściej występujące słowa\n",
    "\n",
    "Master Yoda zajęty przygotowaniami do świętowania nie ma czasu na czytanie, a jak wiadomo - czytać lubi. Funkcja pokazująca najczęściej występujące wyrazy w tekście mogłaby pomóc wybrać odpowiedni materiał do lektury (oczywiście bierzemy pod uwagę wyłącznie teksty w języku angielskim).\n",
    "Napisz funkcję, która zwróci 10 najczęściej występujących wyrazów w tekście w poniższym formacie (liczba wystąpień, słowo): <br>\n",
    "`[(21, 'java'),\n",
    " (20, 'python'),\n",
    " (18, 'language'),\n",
    " (14, 'program'),\n",
    " (14, 'develop'),\n",
    " (9, 'development'),\n",
    " (8, 'programming'),\n",
    " (7, 'run'),\n",
    " (7, 'game'),\n",
    " (6, 'languages')]`\n",
    "\n",
    "<br>\n",
    "Z tekstu usuń stop_words (zajdują się w liście poniżej), czyli wyrazy które występują bardzo często ale nie wnoszą niczego, gdy szukamy słów kluczowych.\n",
    "Poniżej znajdziesz 3 teksty, na których możesz sprawdzić swoją funkcję :)\n",
    "\n",
    "Wskazówka: Warto zamienić wszystkie litery na małe. Nie warto brać pod uwagę słów, których długość jest mniejsza niż 3 znaki. Nie trzeba przejmować się odmianą wyrazów. Można usunąć kropki i przecinki z tekstu."
   ]
  },
  {
   "cell_type": "code",
   "execution_count": 75,
   "metadata": {},
   "outputs": [],
   "source": [
    "stop_words =  [\"a\", \"about\", \"above\", \"above\", \"across\", \"after\", \"afterwards\", \"again\", \"against\", \"all\", \"almost\", \"alone\", \"along\", \"already\", \"also\",\"although\",\"always\",\"am\",\"among\", \"amongst\", \"amoungst\", \"amount\",  \"an\", \"and\", \"another\", \"any\",\"anyhow\",\"anyone\",\"anything\",\"anyway\", \"anywhere\", \"are\", \"around\", \"as\",  \"at\", \"back\",\"be\",\"became\", \"because\",\"become\",\"becomes\", \"becoming\", \"been\", \"before\", \"beforehand\", \"behind\", \"being\", \"below\", \"beside\", \"besides\", \"between\", \"beyond\", \"bill\", \"both\", \"bottom\",\"but\", \"by\", \"call\", \"can\", \"cannot\", \"cant\", \"co\", \"con\", \"could\", \"couldnt\", \"cry\", \"de\", \"describe\", \"detail\", \"do\", \"done\", \"down\", \"due\", \"during\", \"each\", \"eg\", \"eight\", \"either\", \"eleven\",\"else\", \"elsewhere\", \"empty\", \"enough\", \"etc\", \"even\", \"ever\", \"every\", \"everyone\", \"everything\", \"everywhere\", \"except\", \"few\", \"fifteen\", \"fify\", \"fill\", \"find\", \"fire\", \"first\", \"five\", \"for\", \"former\", \"formerly\", \"forty\", \"found\", \"four\", \"from\", \"front\", \"full\", \"further\", \"get\", \"give\", \"go\", \"had\", \"has\", \"hasnt\", \"have\", \"he\", \"hence\", \"her\", \"here\", \"hereafter\", \"hereby\", \"herein\", \"hereupon\", \"hers\", \"herself\", \"him\", \"himself\", \"his\", \"how\", \"however\", \"hundred\", \"ie\", \"if\", \"in\", \"inc\", \"indeed\", \"interest\", \"into\", \"is\", \"it\", \"its\", \"itself\", \"keep\", \"last\", \"latter\", \"latterly\", \"least\", \"less\", \"ltd\", \"made\", \"many\", \"may\", \"me\", \"meanwhile\", \"might\", \"mill\", \"mine\", \"more\", \"moreover\", \"most\", \"mostly\", \"move\", \"much\", \"must\", \"my\", \"myself\", \"name\", \"namely\", \"neither\", \"never\", \"nevertheless\", \"next\", \"nine\", \"no\", \"nobody\", \"none\", \"noone\", \"nor\", \"not\", \"nothing\", \"now\", \"nowhere\", \"of\", \"off\", \"often\", \"on\", \"once\", \"one\", \"only\", \"onto\", \"or\", \"other\", \"others\", \"otherwise\", \"our\", \"ours\", \"ourselves\", \"out\", \"over\", \"own\",\"part\", \"per\", \"perhaps\", \"please\", \"put\", \"rather\", \"re\", \"same\", \"see\", \"seem\", \"seemed\", \"seeming\", \"seems\", \"serious\", \"several\", \"she\", \"should\", \"show\", \"side\", \"since\", \"sincere\", \"six\", \"sixty\", \"so\", \"some\", \"somehow\", \"someone\", \"something\", \"sometime\", \"sometimes\", \"somewhere\", \"still\", \"such\", \"system\", \"take\", \"ten\", \"than\", \"that\", \"the\", \"their\", \"them\", \"themselves\", \"then\", \"thence\", \"there\", \"thereafter\", \"thereby\", \"therefore\", \"therein\", \"thereupon\", \"these\", \"they\", \"thick\", \"thin\", \"third\", \"this\", \"those\", \"though\", \"three\", \"through\", \"throughout\", \"thru\", \"thus\", \"to\", \"together\", \"too\", \"top\", \"toward\", \"towards\", \"twelve\", \"twenty\", \"two\", \"un\", \"under\", \"until\", \"up\", \"upon\", \"us\", \"very\", \"via\", \"was\", \"we\", \"well\", \"were\", \"what\", \"whatever\", \"when\", \"whence\", \"whenever\", \"where\", \"whereafter\", \"whereas\", \"whereby\", \"wherein\", \"whereupon\", \"wherever\", \"whether\", \"which\", \"while\", \"whither\", \"who\", \"whoever\", \"whole\", \"whom\", \"whose\", \"why\", \"will\", \"with\", \"within\", \"without\", \"would\", \"yet\", \"you\", \"your\", \"yours\", \"yourself\", \"yourselves\", \"the\"]"
   ]
  },
  {
   "cell_type": "code",
   "execution_count": 76,
   "metadata": {},
   "outputs": [],
   "source": [
    "text_1 = '''Python vs Java – Which Programming Language is Ruling in 2020\n",
    "Programming Languages are an essential piece of computer science; they are elementary tools in a programmer’s toolkit and vital to nearly every programming activity. Do you know there are even websites which can help you with your assignments? Find a good programmer and get your job done! In this plenitude of programming languages reigning the IT globe, there are two hottest names that are combating against each other and are experiencing serious comparison – Python vs Java! Yes! So, which programming language will continue to be in demand in 2020 and beyond? This scenario is a brief comparison making your selection smooth and easy. Let us go through the intricate details of both, to understand them better.\n",
    "\n",
    "\n",
    "\n",
    "Java vs Python\n",
    "Java is a high-level programming language that is analogous to C++, but it is strongly a program-oriented language. It is dynamically linked, which enables new code to be downloaded and run, but not dynamically typed. Python is a multi-purpose, dynamic programming language which is readable and efficacious with automated memory management. It has even amazing real world applications.\n",
    "\n",
    "Below are the parameters to consider for a comparison between Java and Python.\n",
    "\n",
    "Popularity\n",
    "Popularity has consistently been a top game between these two languages. Java was in the first position for a long duration until the company introduced JavaScript. In Stackoverflow’s 2018 survey of developers, Python was crowned as the quickest-growing programming language. Java was addressed as a popular choice by several developers, albeit the gap between both languages has declined considerably.\n",
    "\n",
    "\n",
    "Syntax\n",
    "Python is an immensely dynamic language. Whilst typing, the developer doesn’t need to input the variables. These are entered during the runtime which makes Python an easy and simple language. Another aspect is that it does not use indentation rules or enclosing braces. This case drives the code basic and plain to read. Java is directly opposite in this context. It has very severe syntax rules, where you require to type in all the variables, and if there is an error or anomaly in the code, the program won’t run.\n",
    "\n",
    "Speed\n",
    "As Python is checked generally during the runtime, a single issue with the program can have the entire application on hold. Each and every variable altogether has resulted in decreased efficacy and speed of the language. Java is quicker than Python since it is a compiled language. It needs much shorter time to perform a code.\n",
    "\n",
    "Machine Learning\n",
    "Python started the adaptation of machine learning by several entities. It is just because of its enormous library and resources that are being acquiesced and advanced further more. Java is also studied as an alternative by several people. With features like simple debugging and usage, it is executed for wide-scale operations and corporate-level programs. Amongst the libraries, you could apply in that areas are Weka, Mallet, DeepLearning4, and MOA.\n",
    "\n",
    "Game Development\n",
    "JMonkeyEngine is a famous open access game development engine with Java, albeit it’s not on the same level with Unreal and Unity but it is definitely a mighty engine that will assist you to build few fantastic games. If you want to test with computer graphics from scratch or develop your own engine, OpenGL also renders bindings for the Java language. On the contrary, Python is not way too beneficial to run games on it, but there are several engines such as Panda3d, Cocos, Pygame, and so on that run on Python only. Python isn’t a language that is entirely shut out of game development, and it can be utilized as a tool.\n",
    "\n",
    "Web Development\n",
    "Both languages are applied in backend web development. Backend web development is the division of web development focused on building the software that will run on the server. The two most famous engines for Python are ‘Django’ and ‘Flask’. Referring to Java, ‘Spring’ is probably the most widely-known Java backend framework with a vast ecosystem and an enormous community surrounding it. While it’s not as trending as Django currently but it is a strong option for building enterprise-level applications.\n",
    "\n",
    "IS THE FUTURE WITH JAVA (coffee) OR PYTHON (snake)?\n",
    "Having taken into account both languages against many parameters, Python has a slight edge over Java and wins the combat in most of the aspects. But all goes down on what you plan to concoct and where you wish to reach with your new expertise. Java may be a more prevailing option, but Python is broadly used. Python has been trending high for the upcoming years too and exhibits plenty of potentials to beat Java in the Numero-uno race. However, if you are newbie to foray into development, it’d be better to stick with Python. Java is also competent enough to restore its position and manage its supremacy through its Java app development services. Let’s see! It will be interesting to witness who surpasses whom! Whoever it is, the developers are definitely in for a treat!\n",
    "\n",
    "'''"
   ]
  },
  {
   "cell_type": "code",
   "execution_count": 77,
   "metadata": {},
   "outputs": [],
   "source": [
    "text_2 = '''Star Wars is an American epic space opera[1] media franchise created by George Lucas, which began with the eponymous 1977 film and quickly became a worldwide pop-culture phenomenon. The franchise has been expanded into various films and other media, including television series, video games, novels, comic books, theme park attractions, and themed areas, comprising an all-encompassing fictional universe.[b] The franchise holds a Guinness World Records title for the \"Most successful film merchandising franchise.\"[3] In 2020, the Star Wars franchise's total value was estimated at US$70 billion, and it is currently the fifth-highest-grossing media franchise of all time.\n",
    "\n",
    "The original film, retroactively subtitled Episode IV: A New Hope, was followed by the sequels Episode V: The Empire Strikes Back (1980) and Episode VI: Return of the Jedi (1983), forming the original Star Wars trilogy. A prequel trilogy was later released, consisting of Episode I: The Phantom Menace (1999), Episode II: Attack of the Clones (2002), and Episode III: Revenge of the Sith (2005). In 2012, Lucas sold his production company to Disney, relinquishing his ownership of the franchise. The subsequently produced sequel trilogy consists of Episode VII: The Force Awakens (2015), Episode VIII: The Last Jedi (2017), and Episode IX: The Rise of Skywalker (2019). Together, the three trilogies form what has been referred to as the \"Skywalker saga\". All nine films were nominated for Academy Awards (with wins going to the first two released) and were commercially successful. Together with the theatrical spin-off films Rogue One (2016) and Solo: A Star Wars Story (2018), the combined box office revenue of the films equates to over US$10 billion,[4] and it is currently the second-highest-grossing film franchise.[5]\n",
    "\n",
    "\n",
    "The lightsaber and the blaster are iconic elements of the franchise.\n",
    "The Star Wars franchise depicts the adventures of characters \"A long time ago in a galaxy far, far away\",[6] in which humans and many species of aliens (often humanoid) co-exist with robots, or 'droids', who may assist them in their daily routines; space travel between planets is common due to lightspeed hyperspace technology.[7][8][9] Spacecraft range from small starfighters, to huge capital ships such as the Star Destroyers, to space stations such as the moon-sized Death Stars. Telecommunication includes two-way audio and audiovisual screens, and holographic projections.\n",
    "\n",
    "A mystical power known as the Force is described in the original film as \"an energy field created by all living things ... [that] binds the galaxy together\".[10] Through training and meditation, those whom \"the Force is strong with\" are able to perform various superpowers (such as telekinesis, precognition, telepathy, and manipulation of physical energy).[11] The Force is wielded by two major knighthood orders at conflict with each other: the Jedi, peacekeepers of the Galactic Republic who act on the light side of the Force through non-attachment and arbitration, and the Sith, who use the dark side by manipulating fear and aggression. While Jedi Knights can be numerous, the Dark Lords of the Sith (or 'Darths') are intended to be limited to two: a master and their apprentice.[12]\n",
    "\n",
    "Force-wielders are very limited in numbers in comparison to the average population. The Jedi and Sith prefer the use of a weapon called a lightsaber, a blade of energy that can cut through virtually any surface and deflect energy bolts. The rest of the population, as well as renegades and soldiers, use laser-powered blaster firearms. In the outer reaches of the galaxy, crime syndicates such as the Hutt cartel are dominant. Bounty hunters are often employed by both gangsters and governments. Illicit activities include smuggling and slavery.\n",
    "\n",
    "Fictional timeline\n",
    "The Star Wars canon fictional universe spans multiple eras, including three focused around each of the film trilogies:[13]\n",
    "\n",
    "The Age of Republic: The era of the prequel trilogy,[c] in which the democratic Galactic Republic is corrupted by its ruler, Palpatine—secretly the Sith lord Darth Sidious. After orchestrating the Clone Wars between the Republic and a Separatist confederation, Palpatine overthrows the Republic and establishes the totalitarian Galactic Empire.[15][16]\n",
    "The Age of Rebellion: The era of the original trilogy,[d] in which the Empire is fought by the Rebel Alliance in a Galactic Civil War that spans several years, climaxing with the death of the Emperor[18] and eventually resulting in the fall of the Empire.[19]\n",
    "The Age of Resistance: The era of the sequel trilogy,[e] in which the remnants of the Empire reform as the First Order.[21] Heroes of the former Rebellion, aided by the New Republic, lead the Resistance against the oppressive regime and its rulers, the mysterious being known as Snoke and his puppet master, the revived Palpatine.[22]\n",
    "The Expanded Universe of spin-off media depicts different levels of continuity, which were deemed non-canonical and rebranded as 'Legends' on April 25, 2014, to make most subsequent works align to the episodic films and The Clone Wars film and television series.[2]\n",
    "\n",
    "Film\n",
    "Main article: List of Star Wars films\n",
    "The Star Wars film series centers around three sets of trilogies, which are collectively referred to as the \"Skywalker saga\".[23] They were produced non-chronologically, with Episodes IV–VI (the original trilogy) being released between 1977 and 1983, Episodes I–III (the prequel trilogy) being released between 1999 and 2005, and Episodes VII–IX (the sequel trilogy), being released between 2015 and 2019. Each trilogy focuses on a generation of the Force-sensitive Skywalker family. The original trilogy depicts the heroic development of Luke Skywalker, the prequels tell the backstory of his father Anakin, while the sequels star Luke's nephew, Kylo Ren.\n",
    "\n",
    "An anthology series set between the main episodes entered development in parallel to the production of the sequel trilogy,[24] described by Disney chief financial officer Jay Rasulo as origin stories.[25] The first entry, Rogue One (2016), tells the story of the rebels who steal the Death Star plans just before Episode IV.[26][27] Solo: A Star Wars Story (2018) focuses on Han Solo's backstory, also featuring original trilogy co-protagonists Chewbacca and Lando Calrissian and involving prequel trilogy villain Darth Maul.\n",
    "\n",
    "Lucasfilm has a number of Star Wars movies in development, including a trilogy which will be written by The Last Jedi writer/director Rian Johnson[28] and be independent from the Skywalker saga.[29] Additionally, a film based on the Knights of the Old Republic video games was reported to be in development with Laeta Kalogridis writing the script.[30] In September 2019, it was announced that Kennedy and Kevin Feige will collaborate to develop a Star Wars film.[31] In January 2020, a film set in the era of The High Republic was reported to be in development.[32] In February 2020, a film was announced to be in development from director J. D. Dillard and writer Matt Owens.[33] In May 2020, Lucasfilm announced that Taika Waititi had been hired to direct a Star Wars film from a script he is co-writing with Krysty Wilson-Cairns.[34]'''"
   ]
  },
  {
   "cell_type": "code",
   "execution_count": 78,
   "metadata": {},
   "outputs": [],
   "source": [
    "text_3 = '''Apple Toffee Crunch Cake – fresh apple cake with crunchy pecans, cinnamon buttercream and a toffee sauce drip. A new layer cake recipe by our contributor, Tessa Huff.\n",
    "\n",
    "Apple Toffee Crunch Cake - fresh apple cake with crunchy pecans, cinnamon buttercream and a toffee sauce drip | by Tessa Huff for TheCakeBlog.com\n",
    "\n",
    "\n",
    "I’ve resisted all-things apple, pumpkin, and spice for too long, but now it is definitely time to dive into fall baking head on! I’m kicking off my favorite season with this Apple Toffee Crunch Cake, and I can’t wait to share it with you all. So bundle up in your boots, scarves, and favorite flannels, and let’s get to it!\n",
    "\n",
    "Apple Toffee Crunch Cake - fresh apple cake with crunchy pecans, cinnamon buttercream and a toffee sauce drip | by Tessa Huff for TheCakeBlog.com\n",
    "\n",
    "\n",
    "This cake is everything you could ever want from an autumn apple cake. It is moist and flavorful with a bit of crunch and touch of spice. It plays off our favorite fall flavors, a variety of textures, and even showcases a spectacular toffee drip! Trust me, your apple-picking haul is destined for this recipe.\n",
    "\n",
    "Chocolate Marbled Eggs\n",
    "×\n",
    "Apple Toffee Crunch Cake - fresh apple cake with crunchy pecans, cinnamon buttercream and a toffee sauce drip | by Tessa Huff for TheCakeBlog.com\n",
    "\n",
    "Apple Toffee Crunch Cake - fresh apple cake with crunchy pecans, cinnamon buttercream and a toffee sauce drip | by Tessa Huff for TheCakeBlog.com\n",
    "\n",
    "The cake itself is packed full of apples – each piece melting into the crumb to keep it extra moist. I like to use a variety of baking apples, some sweet and some tart, to keep the flavor balanced. All the apple bits and pecan pieces make this cake slightly denser than your typical sponge cake, but the butter keeps it rich and tender. The cake tends to get bit crumbly when sliced, but trust me, it’s worth it (I considered revising the recipe a bit, but the flavors were just so much stronger in this version that I decided to stick with it!).\n",
    "\n",
    "Apple Toffee Crunch Cake - fresh apple cake with crunchy pecans, cinnamon buttercream and a toffee sauce drip | by Tessa Huff for TheCakeBlog.com\n",
    "\n",
    "The subtle spice in the frosting is heavenly. A little bit of cinnamon can go a long way, but feel free to adjust to your personal taste. The silkiness of the buttercream pairs beautifully with the pecan crunch. As opposed to caramel sauce that starts with cooked sugar before being mixed with cream and a touch of butter, this toffee sauce uses brown sugar and much more butter to keep it sweet, smooth, and all-around amazing. Mix a bit of extra sauce with any remaining buttercream and dress it up with frilly piped details. Be sure to serve at room temperature for maximum flavor and superior texture since everything seems to firm up a bit once chilled.\n",
    "\n",
    "Apple Toffee Crunch Cake - fresh apple cake with crunchy pecans, cinnamon buttercream and a toffee sauce drip | by Tessa Huff for TheCakeBlog.com\n",
    "\n",
    "\n",
    "Print\n",
    "APPLE TOFFEE CRUNCH CAKE\n",
    "Apple Toffee Crunch Cake - fresh apple cake with crunchy pecans, cinnamon buttercream and a toffee sauce drip | by Tessa Huff for TheCakeBlog.com\n",
    "★★★★★ 4.7 from 11 reviews\n",
    "Apple Toffee Crunch Cake – fresh apple cake with crunchy pecans, cinnamon buttercream and a toffee sauce drip.\n",
    "\n",
    "Author: Tessa Huff Yield: One 8\" Round Cake (4 layers) 1x Category: ✽ ✽ ✽ ✽ ✽\n",
    "SCALE\n",
    "1x\n",
    "2x\n",
    "3x\n",
    "INGREDIENTS\n",
    "For the Apple Cake:\n",
    "\n",
    "3 cups all-purpose flour, divided\n",
    "2 teaspoon baking powder\n",
    "1 teaspoon cinnamon\n",
    "½ teaspoon salt\n",
    "1 cup unsalted butter, softened\n",
    "2 cups granulated sugar\n",
    "2 teaspoons vanilla extract\n",
    "4 large eggs\n",
    "1 cup whole milk\n",
    "3 cups apples (peeled and diced into ½ inch cubes or smaller)\n",
    "½ cup chopped pecans\n",
    "For the Pecan Crunch:\n",
    "\n",
    "½ cup quick cooking oats\n",
    "¼ cup chopped pecans\n",
    "¼ cup brown sugar\n",
    "¼ cup all-purpose flour\n",
    "3 tablespoons unsalted butter, softened\n",
    "2 tablespoons honey\n",
    "pinch salt\n",
    "For the Cinnamon Buttercream:\n",
    "\n",
    "6 large egg whites\n",
    "2 cups granulated sugar\n",
    "3 cups unsalted butter, softened\n",
    "2 teaspoon vanilla extract\n",
    "¾ teaspoon cinnamon, or to taste\n",
    "For the Toffee Sauce:\n",
    "\n",
    "6 tablespoons unsalted butter\n",
    "¾ cup brown sugar\n",
    "1 tablespoon dark corn syrup (light corn syrup will work)\n",
    "⅓ cup heavy cream\n",
    "1 teaspoon vanilla\n",
    "2 teaspoons scotch or bourbon (optional)\n",
    "large pinch salt\n",
    "For the Assembly:\n",
    "\n",
    "Chopped pecans or leftover pecan crunch\n",
    "Toffee buttercream (recipe to follow)\n",
    "INSTRUCTIONS\n",
    "Make the Apple Cake:\n",
    "\n",
    "Pre-heat oven to 350 degrees. Grease the bottoms of two 8-inch pans. Line the bottoms with parchment, then grease and flour the parchment and sides of the pans. Set aside.\n",
    "Remove 1/3 cup flour and set aside.\n",
    "Sift together the remaining flour, baking powder, cinnamon, and salt. Set aside.\n",
    "Using an electric mixer, beat the butter until smooth. Add the sugar. With the mixer on medium speed, cream the sugar and butter together until light and fluffy. Add the vanilla extract.\n",
    "With the mixer on medium-low, mix in the eggs, one at a time. Stop the mixer and scrape down the sides of the bowl.\n",
    "Working in alternating batches, mix in half of the dry ingredients followed by the milk. Add in the second half of the dry ingredients and mix until just combined.\n",
    "Toss the diced apples with the reserved flour. Fold in the apples and pecans until evenly distributed.\n",
    "Divided the batter between the two pans. Bake for 32 to 35 minutes until golden on top and a thin knife inserted into the center of the cakes comes out clean. Cool on a wire rack for 15 to 20 minutes before removing the cakes from their pans.\n",
    "Make the Pecan Crunch:\n",
    "\n",
    "Raise the oven temperature to 375 degrees. Line a baking sheet with parchment or silicone baking mat and set aside.\n",
    "Combine all of the ingredients together in a medium bowl. Stir together with a wooden spoon.\n",
    "Spread the mixture out on the prepared pan. Bake for 8 to 10 minutes, stirring halfway, until the crumbles are golden brown. Let cool and break into small pieces before use.\n",
    "Make the Cinnamon Buttercream:\n",
    "\n",
    "Place egg whites and sugar into the bowl of an electric mixer. Whisk briefly by hand until combined.\n",
    "Fill a saucepan with a few inches of water and bring to a simmer over medium heat. Place the mixer bowl on top of the saucepan to create a double-boiler.\n",
    "Whisking constantly, heat the egg mixture until it registers 160 degrees on a candy thermometer. Once hot, carefully return the mixer bowl to the stand mixer.\n",
    "Using the whisk attachment, whip the egg white mixture on high speed for 8 to 10 minutes until the bowl is no longer warm to the touch and the meringue is fluffy, glossy and holds a stiff peak.\n",
    "Stop the mixer and swap out the whisk attachment for the paddle.\n",
    "With the mixer on low, add in the vanilla, cinnamon, and butter, a couple tablespoons at a time.\n",
    "Once all of the butter has been added, turn the mixer up to medium-high and mix until silky smooth. NOTE: If the mixture looks curdled, just keep mixing until it is smooth (this could take up to about 5 minutes). If it appears soupy, place the mixer bowl in the fridge for 10 to 15 minutes, then mix until smooth.\n",
    "Make the Toffee Sauce:\n",
    "\n",
    "Melt the butter in a saucepan over medium heat. Once melted, stir in the brown sugar and corn syrup. Turn the heat up to high. While stirring with a wooden spoon, bring the mixture up a boil and cook for about 5 minutes or until the sugar dissolves.\n",
    "Remove from the heat and carefully whisk in the cream. Reduce the heat to low. Place the sauce pan back on the stove and whisk, slowly but constantly. Simmer for about 8 minutes.\n",
    "Remove from the heat and add in the remaining ingredients. Place in a heat-safe container and allow to cool and thicken.\n",
    "Assemble the Cake:\n",
    "\n",
    "After the cakes have completely cooled, carefully slice them in half horizontally with a long serrated knife. Place one of the bottom layers on a cake board or cake pedestal. Spread on about 1 cup of the buttercream then sprinkle with ½ cup of the crumble. Top with the next layer of cake and repeat. Frost the stacked cake with the cinnamon buttercream and set in the refrigerator to chill for 15 to 20 minutes.\n",
    "After the toffee has cooled but still liquidy, carefully drip the sauce around the edges of the chilled cake. Pour into the center and use an offset spatula to smooth out. The toffee sauce is a bit thicker than regular caramel, so be careful not to pull and mix with the buttercream when spreading across the top.\n",
    "With any remaining buttercream, mix in a couple tablespoons of the leftover toffee sauce, or to taste, to create a toffee buttercream. Pipe on top of the cake using an open star tip and sprinkle with chopped pecans or leftover crunch.\n",
    "NOTES\n",
    "You may re-heat the toffee sauce as needed gently in the microwave to make it easier to pour if it has already set.\n",
    "Be sure to break the pecan crumbles into small pieces or the cake will be difficult to cut.\n",
    "Store in refrigerator. Best served at room temperature.\n",
    "Once assembled and chilled, the toffee sauce will lose its sheen.\n",
    "If you prefer, keep the cake as a two-layer cake. Alternatively, bake the batter in three 8-inch pans. Adjust bake time accordingly.\n",
    "'''"
   ]
  },
  {
   "cell_type": "code",
   "execution_count": 79,
   "metadata": {},
   "outputs": [
    {
     "data": {
      "text/plain": [
       "[(20, 'python'),\n",
       " (19, 'java'),\n",
       " (12, 'language'),\n",
       " (9, 'development'),\n",
       " (8, 'programming'),\n",
       " (6, 'languages'),\n",
       " (4, 'code'),\n",
       " (4, 'game'),\n",
       " (3, 'comparison'),\n",
       " (3, 'developers')]"
      ]
     },
     "execution_count": 79,
     "metadata": {},
     "output_type": "execute_result"
    }
   ],
   "source": [
    "from collections import Counter\n",
    "\n",
    "def teksty(text):\n",
    "    text = text.lower()\n",
    "    stopwords_deleted = []\n",
    "    \n",
    "    for word in text.split(' '):\n",
    "        if word not in stop_words:\n",
    "            stopwords_deleted.append(word)\n",
    "            \n",
    "    text = ' '.join(word for word in stopwords_deleted)\n",
    "    text = text.replace('.', '')\n",
    "    text = text.replace(',', '')\n",
    "    text = ' '.join(word for word in text.split() if len(word)>3)\n",
    "\n",
    "    split1 = text.split()\n",
    "    count = Counter(split1)\n",
    "\n",
    "    most_occur = count.most_common(10)\n",
    "    \n",
    "    i = 0\n",
    "    top10list = []\n",
    "    \n",
    "    while i < 10:\n",
    "        x = (most_occur[i][1], most_occur[i][0])\n",
    "        top10list.append(x)\n",
    "        i+=1\n",
    "    return top10list\n",
    "    \n",
    "    \n",
    "teksty(text_1)"
   ]
  }
 ],
 "metadata": {
  "kernelspec": {
   "display_name": "Python 3",
   "language": "python",
   "name": "python3"
  },
  "language_info": {
   "codemirror_mode": {
    "name": "ipython",
    "version": 3
   },
   "file_extension": ".py",
   "mimetype": "text/x-python",
   "name": "python",
   "nbconvert_exporter": "python",
   "pygments_lexer": "ipython3",
   "version": "3.8.5"
  }
 },
 "nbformat": 4,
 "nbformat_minor": 4
}
